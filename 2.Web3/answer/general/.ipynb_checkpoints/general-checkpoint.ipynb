{
 "cells": [
  {
   "cell_type": "markdown",
   "metadata": {},
   "source": [
    "# Chung"
   ]
  },
  {
   "cell_type": "code",
   "execution_count": 1,
   "metadata": {
    "pycharm": {
     "name": "#%%\n"
    }
   },
   "outputs": [],
   "source": [
    "from web3 import HTTPProvider\n",
    "from web3 import Web3\n",
    "from web3.middleware import geth_poa_middleware\n",
    "import json\n",
    "import operator"
   ]
  },
  {
   "cell_type": "code",
   "execution_count": 2,
   "metadata": {
    "pycharm": {
     "name": "#%%\n"
    }
   },
   "outputs": [
    {
     "name": "stdout",
     "output_type": "stream",
     "text": [
      "Success?: True\n"
     ]
    }
   ],
   "source": [
    "provider_url = \"https://bsc-dataseed4.binance.org/\"\n",
    "web3 = Web3(HTTPProvider(provider_url))\n",
    "web3.middleware_onion.inject(geth_poa_middleware, layer=0)\n",
    "\n",
    "print(f\"Success?: {web3.isConnected()}\")"
   ]
  },
  {
   "cell_type": "code",
   "execution_count": 3,
   "metadata": {
    "pycharm": {
     "name": "#%%\n"
    }
   },
   "outputs": [],
   "source": [
    "NUM_BLOCKS_1 = 100\n",
    "NUM_BLOCKS_2 = 1000"
   ]
  },
  {
   "cell_type": "markdown",
   "metadata": {
    "pycharm": {
     "name": "#%% md\n"
    }
   },
   "source": [
    "## 1. Số transaction trung bình 100 block"
   ]
  },
  {
   "cell_type": "code",
   "execution_count": 4,
   "metadata": {
    "pycharm": {
     "name": "#%%\n"
    }
   },
   "outputs": [
    {
     "name": "stdout",
     "output_type": "stream",
     "text": [
      "Block 0 done\n",
      "Block 10 done\n",
      "Block 20 done\n",
      "Block 30 done\n",
      "Block 40 done\n",
      "Block 50 done\n",
      "Block 60 done\n",
      "Block 70 done\n",
      "Block 80 done\n",
      "Block 90 done\n"
     ]
    }
   ],
   "source": [
    "latest_block = web3.eth.block_number\n",
    "num_txs = 0\n",
    "for i in range(NUM_BLOCKS_1):\n",
    "    block_txs = web3.eth.get_block_transaction_count(latest_block - i) \n",
    "    num_txs += block_txs\n",
    "    # print each 10th block to track the progress\n",
    "    if i % 10 == 0:\n",
    "        print(f\"Block {i} done\")\n",
    "avg_txs = num_txs / NUM_BLOCKS_1\n",
    "\n",
    "result = {\n",
    "    'fromBlock': latest_block - NUM_BLOCKS_1 + 1,\n",
    "    'toBlock': latest_block,\n",
    "    'averageTransactions': avg_txs\n",
    "}\n",
    "json_obj = json.dumps(result, indent=2)\n",
    "with open('./general1.json', 'w') as f:\n",
    "    f.write(json_obj)"
   ]
  },
  {
   "cell_type": "markdown",
   "metadata": {
    "pycharm": {
     "name": "#%% md\n"
    }
   },
   "source": [
    "## 2. Cho địa chỉ token"
   ]
  },
  {
   "cell_type": "code",
   "execution_count": 5,
   "metadata": {
    "pycharm": {
     "name": "#%%\n"
    }
   },
   "outputs": [
    {
     "name": "stdout",
     "output_type": "stream",
     "text": [
      "Start block: 21343718; End block: 21344717\n"
     ]
    }
   ],
   "source": [
    "token_addr = '0x7083609fCE4d1d8Dc0C979AAb8c869Ea2C873402' \n",
    "with open('./abi/erc_20.json', 'r') as f:\n",
    "    abi = json.load(f)\n",
    "erc20 = web3.eth.contract(address=token_addr, abi=abi)\n",
    "latest_block = web3.eth.blockNumber\n",
    "start_block = latest_block - NUM_BLOCKS_2 + 1\n",
    "end_block = latest_block\n",
    "blocks_info = {\n",
    "    'startBlock': start_block,\n",
    "    'endBlock': end_block\n",
    "}\n",
    "print(f\"Start block: {start_block}; End block: {end_block}\")"
   ]
  },
  {
   "cell_type": "code",
   "execution_count": 6,
   "metadata": {
    "pycharm": {
     "name": "#%%\n"
    }
   },
   "outputs": [
    {
     "data": {
      "text/plain": [
       "[{'args': {'from': '0xe2fc31F816A9b94326492132018C3aEcC4a93aE1',\n",
       "   'to': '0x2Fa7312f4A2C18D0D4E7AA956F7fE1F11f51f95D',\n",
       "   'value': 10189646650000000000},\n",
       "  'event': 'Transfer',\n",
       "  'logIndex': 6,\n",
       "  'transactionIndex': 6,\n",
       "  'transactionHash': '0x8585175fd5d8fb860e9c66054bb4693a3421a626616cd84c7c6b1d057690bc8d',\n",
       "  'address': '0x7083609fCE4d1d8Dc0C979AAb8c869Ea2C873402',\n",
       "  'blockHash': '0xe397475842074af208b491c07acc9a6ec188ff2ec59e9231f3e0fb12cdec1df1',\n",
       "  'blockNumber': 21343732},\n",
       " {'args': {'from': '0xcAa0Ee7652be620a8d54FF65C52cCE0e74006FCd',\n",
       "   'to': '0xDd5bAd8f8b360d76d12FdA230F8BAF42fe0022CF',\n",
       "   'value': 10000000000000000000},\n",
       "  'event': 'Transfer',\n",
       "  'logIndex': 196,\n",
       "  'transactionIndex': 66,\n",
       "  'transactionHash': '0xc37295b40249f855344a4902cb1e1317f118c00dc9d939d3accbc5b983c114b4',\n",
       "  'address': '0x7083609fCE4d1d8Dc0C979AAb8c869Ea2C873402',\n",
       "  'blockHash': '0xb20b6f7dc48c1c289abb5644cc08b7ccac8023042034629d64482019e0f8d361',\n",
       "  'blockNumber': 21343794}]"
      ]
     },
     "execution_count": 6,
     "metadata": {},
     "output_type": "execute_result"
    }
   ],
   "source": [
    "# a) Crawl event\n",
    "transfer_events = erc20.events.Transfer.createFilter(\n",
    "    fromBlock=start_block, toBlock=end_block).get_all_entries()\n",
    "transfers = list()\n",
    "for event in transfer_events:\n",
    "    transfers.append(json.loads(Web3.toJSON(event)))\n",
    "\n",
    "result = dict()\n",
    "result['blocksInfo'] = blocks_info\n",
    "result['transferEvents'] = transfers\n",
    "json_obj = json.dumps(result, indent=2)\n",
    "with open('./general2a.json', 'w') as f:\n",
    "    f.write(json_obj)\n",
    "\n",
    "transfers[:2]"
   ]
  },
  {
   "cell_type": "code",
   "execution_count": 7,
   "metadata": {
    "pycharm": {
     "name": "#%%\n"
    }
   },
   "outputs": [
    {
     "name": "stdout",
     "output_type": "stream",
     "text": [
      "Token decimals: 18\n"
     ]
    }
   ],
   "source": [
    "# b) decimals\n",
    "decimals = erc20.functions.decimals().call()\n",
    "print(f\"Token decimals: {decimals}\")\n",
    "\n",
    "result = {\n",
    "    'decimals': decimals,\n",
    "}\n",
    "json_obj = json.dumps(result, indent=2)\n",
    "with open('./general2b.json', 'w') as f:\n",
    "    f.write(json_obj)"
   ]
  },
  {
   "cell_type": "code",
   "execution_count": 8,
   "metadata": {
    "pycharm": {
     "name": "#%%\n"
    }
   },
   "outputs": [
    {
     "name": "stdout",
     "output_type": "stream",
     "text": [
      "Token supply: 15999999.991309563\n"
     ]
    }
   ],
   "source": [
    "# c) supply\n",
    "token_total_supply = erc20.functions.totalSupply().call() / 10**decimals\n",
    "print(f\"Token supply: {token_total_supply}\")\n",
    "\n",
    "result = {\n",
    "    'totalSupply': token_total_supply,\n",
    "}\n",
    "json_obj = json.dumps(result, indent=2)\n",
    "with open('./general2c.json', 'w') as f:\n",
    "    f.write(json_obj)"
   ]
  },
  {
   "cell_type": "code",
   "execution_count": 9,
   "metadata": {
    "pycharm": {
     "name": "#%%\n"
    }
   },
   "outputs": [
    {
     "name": "stdout",
     "output_type": "stream",
     "text": [
      "Most transactions from 0xAF1965202EdD913d729Bc4C5608d69F23eB66f26 with balance: 27038.460063948056\n"
     ]
    }
   ],
   "source": [
    "# d) user with the most transactions from\n",
    "from_wallet_transfers = dict()\n",
    "for transfer in transfers:\n",
    "    from_wallet = transfer['args']['from']\n",
    "    if from_wallet not in from_wallet_transfers:\n",
    "        from_wallet_transfers[from_wallet] = 1\n",
    "    else:\n",
    "        from_wallet_transfers[from_wallet] += 1\n",
    "# max from_wallet addr\n",
    "max_from_wallet, max_frequency = max(from_wallet_transfers.items(), key=operator.itemgetter(1))\n",
    "balance = erc20.functions.balanceOf(max_from_wallet).call() / 10**decimals\n",
    "\n",
    "print(f\"Most transactions from {max_from_wallet} with balance: {balance}\")\n",
    "\n",
    "result = dict()\n",
    "result['blocksInfo'] = blocks_info\n",
    "result.update({\n",
    "    'wallet': max_from_wallet,\n",
    "    'maxFrequency': max_frequency,\n",
    "    'balance': balance\n",
    "})\n",
    "json_obj = json.dumps(result, indent=2)\n",
    "with open('./general2d.json', 'w') as f:\n",
    "    f.write(json_obj)"
   ]
  },
  {
   "cell_type": "code",
   "execution_count": 10,
   "metadata": {
    "pycharm": {
     "name": "#%%\n"
    }
   },
   "outputs": [
    {
     "name": "stdout",
     "output_type": "stream",
     "text": [
      "Most transactions to 0xDd5bAd8f8b360d76d12FdA230F8BAF42fe0022CF with balance: 532978.7203801092\n"
     ]
    }
   ],
   "source": [
    "# e) user with the most transacitons to\n",
    "to_wallet_transfers = dict()\n",
    "for transfer in transfers:\n",
    "    to_wallet = transfer['args']['to']\n",
    "    if to_wallet not in to_wallet_transfers:\n",
    "        to_wallet_transfers[to_wallet] = 1\n",
    "    else:\n",
    "        to_wallet_transfers[to_wallet] += 1\n",
    "\n",
    "max_to_wallet, max_frequency = max(to_wallet_transfers.items(), key=operator.itemgetter(1))\n",
    "balance = erc20.functions.balanceOf(max_to_wallet).call() / 10**decimals\n",
    "\n",
    "print(f\"Most transactions to {max_to_wallet} with balance: {balance}\")\n",
    "\n",
    "result = dict()\n",
    "result['blocksInfo'] = blocks_info\n",
    "result.update({\n",
    "    'wallet': max_to_wallet,\n",
    "    'max_frequency': max_frequency,\n",
    "    'balance': balance,\n",
    "})\n",
    "json_obj = json.dumps(result, indent=2)\n",
    "with open('./general2e.json', 'w') as f:\n",
    "    f.write(json_obj)"
   ]
  },
  {
   "cell_type": "code",
   "execution_count": 11,
   "metadata": {
    "pycharm": {
     "name": "#%%\n"
    }
   },
   "outputs": [
    {
     "name": "stdout",
     "output_type": "stream",
     "text": [
      "Symbol: DOT; Name: Polkadot Token\n"
     ]
    }
   ],
   "source": [
    "# f) symbol + name\n",
    "symbol = erc20.functions.symbol().call()\n",
    "name = erc20.functions.name().call()\n",
    "print(f\"Symbol: {symbol}; Name: {name}\")\n",
    "\n",
    "result = {\n",
    "    'symbol': symbol,\n",
    "    'name': name\n",
    "}\n",
    "\n",
    "json_obj = json.dumps(result, indent=2)\n",
    "with open('./general2f.json', 'w') as f:\n",
    "    f.write(json_obj)"
   ]
  }
 ],
 "metadata": {
  "kernelspec": {
   "display_name": "Python 3.9.2 64-bit",
   "language": "python",
   "name": "python3"
  },
  "language_info": {
   "codemirror_mode": {
    "name": "ipython",
    "version": 3
   },
   "file_extension": ".py",
   "mimetype": "text/x-python",
   "name": "python",
   "nbconvert_exporter": "python",
   "pygments_lexer": "ipython3",
   "version": "3.9.2"
  },
  "orig_nbformat": 4,
  "vscode": {
   "interpreter": {
    "hash": "916dbcbb3f70747c44a77c7bcd40155683ae19c65e1c03b4aa3499c5328201f1"
   }
  }
 },
 "nbformat": 4,
 "nbformat_minor": 2
}
