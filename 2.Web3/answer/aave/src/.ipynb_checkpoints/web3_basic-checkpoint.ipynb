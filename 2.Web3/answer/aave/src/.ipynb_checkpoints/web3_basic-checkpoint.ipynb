{
 "cells": [
  {
   "cell_type": "markdown",
   "metadata": {},
   "source": [
    "# Web3 Python căn bản\n",
    "\n",
    "## Nội dung\n",
    "1. Những kiến thức cần tìm hiểu\n",
    "2. Kết nối Binance Smart Chain public node\n",
    "3. Thu thập dữ liệu smart contract\n",
    "4. Thực hành thu thập dữ liệu của Valas <br>\n",
    "    4.1. Lấy data từ functions của contract <br>\n",
    "    4.2. Lấy data từ events của contract <br>\n",
    "    4.3. Thu thập nhiều loại dữ liệu event một lúc\n",
    "\n",
    "## 1. Những kiến thức cần tìm hiểu trước khi thu thập dữ liệu trên blockchain\n",
    "\n",
    "- Ethereum Virtual Machine là gì? [link](https://ethereum.org/en/developers/docs/evm/)\n",
    "- Application Binary Interface là gì? [link](https://www.quicknode.com/guides/solidity/what-is-an-abi) và [link](https://docs.soliditylang.org/en/develop/abi-spec.html#abi-json)\n",
    "- Light, full and archive ethereum node là gì? [link](https://www.quicknode.com/guides/infrastructure/ethereum-full-node-vs-archive-node) và [link](https://link.springer.com/chapter/10.1007/978-1-4842-3492-1_2)\n",
    "- Các nguồn tham khảo\n",
    "    * [Ethereum docs](https://ethereum.org/en/developers/docs/)\n",
    "    * [Web3 python docs](https://web3py.readthedocs.io/en/stable/)\n",
    "    * [Ethereum JSON-RPC - Postman](https://documenter.getpostman.com/view/4117254/ethereum-json-rpc/RVu7CT5J)\n"
   ]
  },
  {
   "cell_type": "markdown",
   "metadata": {},
   "source": [
    "## 2. Kết nối binance smart chain public node\n",
    "- Đầu tiên, dữ liệu được lưu trên các blockchain nodes. Ta cần kết nối với các node này để lấy dữ liệu, sử dụng một provide URL\n",
    "    - Tìm kiếm \"rpc node\" của các mạng blockchain (eg. ethereum rpc, bsc rpc, ftm rpc, etc.) [link](https://rpc.info/)\n",
    "    - Tại chuỗi thực hành này, mình sử dụng provider url của binance smart chain ([bsc rpc](https://docs.bscscan.com/misc-tools-and-utilities/public-rpc-nodes))\n",
    "- Sau đó, ta sử dụng provider URL vừa lấy được để kết nối với một node của BSC chain  \n",
    "    - Kiểm tra kết nối với node của mainnet\n",
    "    - Lấy dữ liệu của block mới nhất"
   ]
  },
  {
   "cell_type": "code",
   "execution_count": 1,
   "metadata": {},
   "outputs": [
    {
     "name": "stdout",
     "output_type": "stream",
     "text": [
      "Successful Connection: True \n",
      "The latest blocknumber is: 21170063\n"
     ]
    }
   ],
   "source": [
    "from web3 import HTTPProvider\n",
    "from web3 import Web3\n",
    "from web3.middleware import geth_poa_middleware\n",
    "import time\n",
    "import json\n",
    "\n",
    "provider_url = \"https://bsc-dataseed4.binance.org/\" # rpc link\n",
    "web3 = Web3(HTTPProvider(provider_url))\n",
    "web3.middleware_onion.inject(geth_poa_middleware, layer=0)\n",
    "\n",
    "#check connect successfull\n",
    "isConnected = web3.isConnected()\n",
    "print(f\"Successful Connection: {isConnected} \")\n",
    "#check latest blocknumber\n",
    "blocknumber = web3.eth.blockNumber\n",
    "print(f\"The latest blocknumber is: {blocknumber}\")"
   ]
  },
  {
   "cell_type": "code",
   "execution_count": 2,
   "metadata": {},
   "outputs": [
    {
     "data": {
      "text/plain": [
       "AttributeDict({'difficulty': 2,\n",
       " 'proofOfAuthorityData': HexBytes('0xd68301010c846765746886676f312e3137856c696e757800000000005d43d2fd4b239c3e685f9cf2d9ae36b6b4db9a5e68a0078e1b19135136d90d3784133bd97fcb2d635a12694fd178f12c878f168eb2e424ed216150a5b1329380dfd033b501'),\n",
       " 'gasLimit': 100097655,\n",
       " 'gasUsed': 9230614,\n",
       " 'hash': HexBytes('0xea127a07fc64b471b61640ef1181ab5a444deaab27abb61fa36870abd4690d4d'),\n",
       " 'logsBloom': HexBytes('0x903e028090a1951044c072b1ac47484a2115a84c8457122e10500430047b3504186906205838126763a2899408860003591044089a05904242000192bcf43ab81e31a9845e6c22820929da19044910e220972a21d2741883e00c030dc8500440280c136dbe3a0c00cc22600600a4ba4e9a83c2dac4690e96a2a000368100a131ca401ab1466d82c0d892548019146ab04b25a4f53004202a2152fa705384ebf083452c5608411078005658a10e420d1941c6822125a1e03cc1b80a3a01186ac2900b175a10488a22eb010418c6ca10a3a876aa4a03b21690055641830ab8f8a00258162f088b704865690588c470014a018c2504e06d644dc0924c1d88c0b44b'),\n",
       " 'miner': '0x61Dd481A114A2E761c554B641742C973867899D3',\n",
       " 'mixHash': HexBytes('0x0000000000000000000000000000000000000000000000000000000000000000'),\n",
       " 'nonce': HexBytes('0x0000000000000000'),\n",
       " 'number': 21170063,\n",
       " 'parentHash': HexBytes('0xd4cd0d24493779d003ad2ae8b6508b8771c5441b06dee6204ba9de304588bc2d'),\n",
       " 'receiptsRoot': HexBytes('0xe9494871da3abf38711aeb8f7d10bdf439c2cfee6e0f31de32ded9c7933d4367'),\n",
       " 'sha3Uncles': HexBytes('0x1dcc4de8dec75d7aab85b567b6ccd41ad312451b948a7413f0a142fd40d49347'),\n",
       " 'size': 23767,\n",
       " 'stateRoot': HexBytes('0x7e75bd74ad7431d12b57a229273fc659ef8735e359cc453985f984ef88c2f36d'),\n",
       " 'timestamp': 1662692110,\n",
       " 'totalDifficulty': 42104844,\n",
       " 'transactions': [HexBytes('0x7b587e5ee61db54d9f4b9f2b3fb24f9df5cd969cde22351cd2c4d06134c8c9f4'),\n",
       "  HexBytes('0x6c3751a2dff39625c66c18ee6fc835d09ce1818c369631c452ed3d09e2622950'),\n",
       "  HexBytes('0xcc2a91d1c654b733e315b82c61f1a64f43a29e38416778bf1f557789d16e2033'),\n",
       "  HexBytes('0x2b891ecd2f4ecc838dd4e562ca8e464e4fb3513c280ca61a771a2ccb0f630e2e'),\n",
       "  HexBytes('0xa4393c9b6453af272ca715080602cb636391ef330c6370f23e920b25f9c8a786'),\n",
       "  HexBytes('0x0eb09023c1c7dc67072ee0cdd4307cb284da83277c6856fdf6c640e312eec0ad'),\n",
       "  HexBytes('0x9d09d376ad581b26cc0bd8b322e6452a99d60bc92e70826ddc4d6caaca4adc0a'),\n",
       "  HexBytes('0x2693ba947aadf9dcb6ca83a7638081b644a155376f5bffbe257573d6c8d78ef2'),\n",
       "  HexBytes('0x086b2c9b9007f1c5e5b30ed25a1ab5ef8ef5ccb259ab64cb5c37886e54caa99a'),\n",
       "  HexBytes('0x8a69da3ccb846de8d6d09edd7219c8bae9cbf757d31c58fc467e0a58d39b4cda'),\n",
       "  HexBytes('0xd1f3750cf7eee83b9b22cc5dffe10584ddc8eea7b139541227f08cd7a042590b'),\n",
       "  HexBytes('0x0c8ace08203fb1a60645e5e4123fc3bb1e97892056fa4270f0b9316518eb3ff0'),\n",
       "  HexBytes('0x551f1cc99512b144a1fb2a0105f6d1d8ebb9e78987453e18ba641e2533ee6996'),\n",
       "  HexBytes('0x80abef94b7b7b929367bc629b5a27ecba735ea33344f543bf35980d31190df94'),\n",
       "  HexBytes('0x4489e2a179d964e0a6797f0c0ada19da315167e304157759dd7b94b32c6dab85'),\n",
       "  HexBytes('0x89cc688a26ac86a37395794fd5e707f833b5d5c4d478b3d8f13d2af41a062fc6'),\n",
       "  HexBytes('0xa2a96dfb45980a679aebef6d19e4b5bbc7cbdfe29c8bc4c1133b5b4e9c87e552'),\n",
       "  HexBytes('0xfe1d43a2e04b906cba72dfd1dcaba585ebdfe6c638ca47168ff97a8963298fea'),\n",
       "  HexBytes('0x2d054251dae3a542285084c7dd870d40c4fcc6aa5fecb638b81b110380a538e5'),\n",
       "  HexBytes('0x548834cbf34ea76499ced884b0190922e6d161f652574bb4a44654dbb3647f3c'),\n",
       "  HexBytes('0x229d00206859a14e125cc08b50fc3d52b04bb964e000ce4b8d5fdcd05351b0a3'),\n",
       "  HexBytes('0xed16fd7b2bdbb3e3baff29b81033c63a499dff10f44dc0ed13f3dae66dd44191'),\n",
       "  HexBytes('0x6c1468cee3a44c93f2d13ba3cf8f642a37e6f942e8eb653c0760b62b01ccf030'),\n",
       "  HexBytes('0x9a359c36178de36e483e2489e398552180a68aff0c3b7386e437d2e1206a6fc2'),\n",
       "  HexBytes('0x07b7d916171430a1cc93f2f91d24c6af952a86b0f7234795a3073cd0fb9b1749'),\n",
       "  HexBytes('0x730c4e7fbaec5f1b0c324e0e2fedc1ce7fd29b5dd11cfee5d45b8d9ef7f5c2f5'),\n",
       "  HexBytes('0x5eeb0211eb73024bf8353a0e270e3f7c97d419fe16869658dbafdd1ac20b9c97'),\n",
       "  HexBytes('0x027c49e82086cda431afd0c1216ddf0f71538d46fb50177219fc59f7d0e52eab'),\n",
       "  HexBytes('0x5f1db61ec9d413ff0098b720b6267fd4a53d09be4274815ee83d0e00d9c65229'),\n",
       "  HexBytes('0x5b1f2f4a9449df93659a6bc91721aa32b437df98900bb6765360e94bc63faed2'),\n",
       "  HexBytes('0x0dd59ec868a0fe43b2d5eafb84769237856b80a8aa8d19a593f438c2a588931d'),\n",
       "  HexBytes('0xe01265af29510005ad4a922c3c29439df0a255d2d5bedfb3aaa49ff231935cad'),\n",
       "  HexBytes('0xc856a9d4baeb984610b00a025a4164582910043e0da5b3d67d6241b5118e5bdd'),\n",
       "  HexBytes('0x09f283c3c274017d4d18e5d2b8015cc57385db05397683a87e8b6a2f53dea6aa'),\n",
       "  HexBytes('0xd1773b1186c8d3081ca7bc3c345c5ba6251c24458a60f7fc17f009ca1396a48a'),\n",
       "  HexBytes('0xd09baba9a2215969a0e066e06b16a6ea02f622e08b5d823233ca26fd1e24d72e'),\n",
       "  HexBytes('0x2687d15849bf6720d33fbf0b9b8ac3affa15a7c77bf67d4520bc3d8372deb498'),\n",
       "  HexBytes('0x8bbeaa3942780e2c11f2fd6c4964318b49bcfec5a6d29a23f3c36d78077b76b7'),\n",
       "  HexBytes('0x28cd855f84f30823150738c052c44879db8069a19569ec0e0fe63b7f58cdffbb'),\n",
       "  HexBytes('0x687dbf1f443b6b9cfaba88dc2791199ec523666cf3cd5fdfeb9e0efc4c3a22b0'),\n",
       "  HexBytes('0xf54cb887b305368a81cdf25653183e8276fe0e9fdd3b5311dfb1717f8a7b72e8'),\n",
       "  HexBytes('0xd2ea24802bcf48c863cd1adc9f1ed05c9a098eaa57378fae1109319618f9a690'),\n",
       "  HexBytes('0xb2fd0be27fb0287b2b521f8c3974c83ddcb8a31aae9d896b23506e1380b409d8'),\n",
       "  HexBytes('0x8351092d9f30a45d2f92d623d37e495019195ca1adb62c0b3e46785cb8d68c65'),\n",
       "  HexBytes('0x81b434fb04571958c3079f0d929be42b3f582f9f52cad226c60721c984f3bbe3'),\n",
       "  HexBytes('0xff106dfdad2cc5131bc34b1743bd43b1ab83ccff32ac3c81f03028b02ea6f093'),\n",
       "  HexBytes('0x8905ccbd241c993aa83ae9675dda416f8822f702e6bc76ae6142cac0c943e1cf'),\n",
       "  HexBytes('0xf715875fb813632a51688894a8de1aa9b556c5855287bd9bb2805e68296a8348'),\n",
       "  HexBytes('0x2543f1a4a6f28b35d59b00a63ef129708fa71f06e586044ca1f9b1116b42e653'),\n",
       "  HexBytes('0x46db18ace43316f5651b417b4c4e294ac7136dc1f3043399f1ade1a666dd85e4'),\n",
       "  HexBytes('0x35b07a9ef115c63ae80075dfeed84675247b7a9826fbdbb17668dc4321da6a40'),\n",
       "  HexBytes('0xa17c6249d9475f9a1f364b667b7fad991cd1a5b267c0bf39d924a1021698edaf'),\n",
       "  HexBytes('0x2155328446ec2fd5e6e18f037f2833e5f67b1386fd78ae6cee887a785c4e7bc6'),\n",
       "  HexBytes('0x511dbc5993f9862ff621c7b6c80bd35a596a05cd69134b2302437548284b36a9'),\n",
       "  HexBytes('0x3fd8155f3e8e61ed3b736dc9854b7b455e00c45af141a7ea37db0efca85d79d6'),\n",
       "  HexBytes('0x8a9d6836c765031b42ddd4b4ad373ca59f68544136593e770a77d548f831846a'),\n",
       "  HexBytes('0x8725e8021d94dd865a400ba1de4e3686b62e037dd4de2bd29ebd57e5d542d277'),\n",
       "  HexBytes('0xe986e8227bba2b922e958463c2179de44f1b4076c92ca16e3a040606a809f081'),\n",
       "  HexBytes('0x262e29905a0e1755fb3b6b9794b9d252ffb809165915e67983029b92d272be1c'),\n",
       "  HexBytes('0x8ec667ada3e7ea96aeed01333a93a36d47d95e253f72cbb6133ec6521fe78970'),\n",
       "  HexBytes('0xf67dea61a61879b50cd02cef95819bf68433194377a204c9585ac478ec42a827'),\n",
       "  HexBytes('0x885d9fabf51fe3bd634d48a29593d9aab1cc6386b9332d3ddd091e7b549c3bcf'),\n",
       "  HexBytes('0x21875a5c2d67e7fcf52eb4e4a8502b34f65667b9eb7d57d5e33773c7391935ed'),\n",
       "  HexBytes('0x395c0764ba559d46b64a44cf44b4c84f79d328d2b922ae4a958dc9f6ebd8bee7'),\n",
       "  HexBytes('0x93be7cc49fd53b73bf9f59b06e3ea4c7f4efaa3c0d89687bfd3fee3450029671'),\n",
       "  HexBytes('0x1220ebcd365446e3c1b4148e07677262a0bcf5fe8c644acb0a112e04ba7452d8'),\n",
       "  HexBytes('0x9cb1e39bcced30bb13b14cff1d83d11957497c5a52abda5caaf72dc0c5218067'),\n",
       "  HexBytes('0x5570d97f875f06f8197c0ca824d8c375cde36f134b33d9de93433c5e9b7e9525'),\n",
       "  HexBytes('0xf9a3779f08ec9729e2670a1ef0acda644eeba3cc96e7900dbbd67398f7d52ab8'),\n",
       "  HexBytes('0x658f15901a0e0d152aa347f5a86e1cdcda36cd5925c8bfe1abb170e500a78f63'),\n",
       "  HexBytes('0x47895d34354bcebb336be8721cd2e2a80b137ac7661e37abd4578be2655854e4'),\n",
       "  HexBytes('0x6a97b685ad3e5d91d149ffbc7bec140841b7c5c0824e49c744a0e85778a4311d'),\n",
       "  HexBytes('0x49a8d65853d069006c887a3169a96316fc8e0e24a911ab7653229d6024b0b50b'),\n",
       "  HexBytes('0x001fa2215431cdbe44bbdf2bdc52c8db86b8111c1b9877f24684acb24f2b06e5'),\n",
       "  HexBytes('0xa2727a9689af203961ca5dc628030cdcf59dd392577a6623f0108582977c56c1'),\n",
       "  HexBytes('0xd41608117dcbc8cc04984462deead79e059cc97da5d2562dd9b7ab386c31ac3a'),\n",
       "  HexBytes('0xfb4b27a5d8c896067b141c266741817f6c80e98db166986e8a9060328e925d88'),\n",
       "  HexBytes('0xcdbd1836ee1d8b3a848a5ceda691afa75bd11c22fb9c4dab61df87faec750565'),\n",
       "  HexBytes('0x073a1505fea4d9ef091f289ecf2435fc84b72dad609c9944d11a79ac919fefcb'),\n",
       "  HexBytes('0xc6b611fd986985caf8c427e662cade55d24ab97f64281857aa808f82f4f8d340'),\n",
       "  HexBytes('0xdcd3e992d9300466a3a856f0d8f64e9c67d25f2d033c831c815ce18fb015e1df'),\n",
       "  HexBytes('0xdb002dc4ebfa0b7da48460411db5254d40f90cc703d605f6809eae0e7bb4c61e'),\n",
       "  HexBytes('0x800af0881cf659e5317a2f690e02a8c65c7b82cf99dcf1b8fa1c3106dbd8a9d5'),\n",
       "  HexBytes('0x249da6b5a30144f280b069c09ecd92b1c6dbf1ab3f37d09c6ba46c3c6461f73e'),\n",
       "  HexBytes('0x0d2d1297e21a071126e592d46a8271b33a223006fcf424858d918f8fbb845b30'),\n",
       "  HexBytes('0x609261f5f4f82075de145a3ccf3cf3e0ece36fabc9fd7b2dd1b694c336e5bcdd'),\n",
       "  HexBytes('0x10879258d68488544a5129f9f47f41bddb2578f8664bcbf34a9ef87d154c3d7a'),\n",
       "  HexBytes('0x73ecd924115f24aa5b5330ab4f9eda10397e8a7a11b7edeea2857bd95547784a'),\n",
       "  HexBytes('0xaa81ed67a76b1c1535cf02485b81b2f48d0c15c95762be0785c0ff37ce6945dc'),\n",
       "  HexBytes('0x717c0fc6edb0d1424c7a2542b6addb5505d7be7c7c882128db83cca667fc3b49'),\n",
       "  HexBytes('0xd75a6bf48144ab10f54fb3abb8f7a17eda6d5c1f88bbbac846cc239b99b825d8'),\n",
       "  HexBytes('0x20dd510531bd050d7250671ebc3366be67a5de10b912aedbef2e4aa8a0eee8b3'),\n",
       "  HexBytes('0xb170e1050b173cc5cecdd486ea141086d5e8842056bcbaaa6fd07d4efdc942fc'),\n",
       "  HexBytes('0x3bb94ca5abe7754d3a91287447d46cd1e26830de81c5c803dccc4ccebc80e34f'),\n",
       "  HexBytes('0x557da5ca109a14156e085008a18624ca947d63e0ffaa07f0da69fdde1673717b'),\n",
       "  HexBytes('0x00008227ad67f428705064ca9f52faf444fcbc0615b9bae35bf2141ff82dc0f2'),\n",
       "  HexBytes('0x7fc7a8769de9a02748eb50d9529b955a9de166ec61874342d8a174c43843610e'),\n",
       "  HexBytes('0x14ae45e7799254d221f35b4146222ca6bef9f7b8392ad7c6cfe37999b0fbddfd'),\n",
       "  HexBytes('0x747eef379be3a4949ed9685873d0ebab90a2cbefc02673d39fb810b3d7da983d'),\n",
       "  HexBytes('0xcf9ee30f3e1cfd43665dd8bca851bc31adbaf16cc8f8309d40f725d11a528e76'),\n",
       "  HexBytes('0xe9ac8a34f8b3f61dde0d81798b35380b6556cb43084a9027948fcf48bdb8aa95'),\n",
       "  HexBytes('0x8828aad5807c60b71bfc9260a15804f4f376591c7390dc081a2c391ff60f55ef'),\n",
       "  HexBytes('0x07de1b6254ae14329e887cd862964e5fb24642540dc1e9b3f75de4318b1a4a11'),\n",
       "  HexBytes('0x4dec6855b06fd43b3fca1d844340b6fa1910c779f768ba66c5f0a79b985b8cc1'),\n",
       "  HexBytes('0xba068e95bfe17282022fa1ec19c9c4fe0a6f291080cff606d95ccb928ce3faf3')],\n",
       " 'transactionsRoot': HexBytes('0xe51cf7f032658e5a5e28894c87953930318c7e6a9574f174d3cb6029e5d96c1e'),\n",
       " 'uncles': []})"
      ]
     },
     "execution_count": 2,
     "metadata": {},
     "output_type": "execute_result"
    }
   ],
   "source": [
    "#get latest block transaction data\n",
    "data = web3.eth.get_block(blocknumber)\n",
    "data"
   ]
  },
  {
   "cell_type": "markdown",
   "metadata": {},
   "source": [
    "## 3. Thu thập dữ liệu của smart contract\n",
    "*Thực hành thu thập dữ liệu của lending smart contract Valas trên Binance smart chain. Để có thể lấy dữ liệu của Valas ta cần có:*\n",
    "- *Địa chỉ smart contract*\n",
    "- *ABI của Valas*\n",
    "\n",
    "*Địa chỉ smart contract không được Valas công bố nhưng bằng những nghiệp vụ chuyên dụng mình đã thăm dò và lấy được địa chỉ này trên [BSCscan](https://bscscan.com/). Dưới đây ta sẽ tiến hành lấy ABI của Valas*"
   ]
  },
  {
   "cell_type": "markdown",
   "metadata": {},
   "source": [
    "### Cách lấy ABI\n",
    "*Đối với các smart contract cho phép lấy ABI trên BSCscan, ta có thể  thực hiện các bước sau để lấy ABI:*  \n",
    "1. Truy cập [BSC Scan](https://bscscan.com/).\n",
    "2. Nhập địa chỉ smart contract address vào search bar.\n",
    "3. Kéo xuống và chon tab “Contract”.\n",
    "\n",
    "![image.png](../images/contract.png)\n",
    "\n",
    "4. Kéo xuống thêm một tý, chúng ta sẽ thấy phần ABI.\n",
    "5. Chọn nút copy ABI  hoặc download dưới dạng json.\n",
    "\n",
    "![image.png](../images/ABI.png)\n",
    "\n",
    "*Lưu ý:*\n",
    "\n",
    "> Một số smart contract không công bố ABI, ta có thể tìm kiếm source code của nó trên github, deploy và lấy ABI.\n",
    "\n",
    "> Đối với các smart contract không công bố cả code cũng như ABI như Valas, mình có thể đọc [docs](https://docs.valasfinance.com/) của nó. Tại [đây](https://docs.valasfinance.com/#why-valas), mình thấy rằng Valas sử dụng công nghệ của Aave Finance. Do Aave finance public [ABI](https://docs.aave.com/developers/v/2.0/deployed-contracts/deployed-contracts) nên mình có thể sử dụng ABI này. Mặc dù một số điểm trên ABI của Aave có thể đã bị Valas thay đổi, nhưng nhìn chung là có thể dùng tạm để thay thế cho ABI của Valas."
   ]
  },
  {
   "cell_type": "markdown",
   "metadata": {},
   "source": [
    "## 4. Thực hành thu thập dữ liệu của Valas\n",
    "*Tại đây, mình sẽ demo một số cách lấy dữ liệu của một smart contract. Chúng ta có hai loại dữ liệu cần lấy, đó là:*\n",
    "- *Dữ liệu từ các giao dịch (transaction) của smart contract*\n",
    "- *Dữ liệu trạng thái là các thông tin từ các phần tử liên quan với smart contract (với lending pool Valas, các phần tử  này là các tokens và users).*\n",
    "\n",
    "*Việc thu thập dữ liệu sẽ dựa trên ABI của smart contract.*"
   ]
  },
  {
   "cell_type": "code",
   "execution_count": 3,
   "metadata": {},
   "outputs": [],
   "source": [
    "#lấy cấu trúc dữ liệu của abi\n",
    "with open(\"../abi/lending_pool_aave_v2.json\", \"r\") as f:\n",
    "    abi = json.loads(f.read())\n",
    "#Địa chỉ của valas  \n",
    "address = \"0xE29A55A6AEFf5C8B1beedE5bCF2F0Cb3AF8F91f5\"\n",
    "# Kiểm tra xem địa chỉ có đúng không\n",
    "if not web3.isAddress(address):\n",
    "    address = web3.toChecksumAddress(address)\n",
    "#Sử dụng web3 thiết lập đối tượng contract để sử dụng các phương thức\n",
    "contract = web3.eth.contract(abi=abi, address=address)"
   ]
  },
  {
   "cell_type": "markdown",
   "metadata": {},
   "source": [
    "> **NOTE**: Nên kiểm tra xem chuỗi byte code có phải là một địa chỉ trên blockchain hay không: **`web3.isAddress(address)`**. Nếu là địa chỉ, nên có thêm một bước convert địa chỉ thành địa chỉ thực trên web3 bằng **`web3.toChecksumAddress(address)`**. Do địa chỉ trên của mình đã là địa chỉ thực của Valas trên BSC nên hai bước này có thể bỏ qua."
   ]
  },
  {
   "cell_type": "markdown",
   "metadata": {},
   "source": [
    "### 4.1. Lấy data từ **function** của contract \n",
    "*Mình sử dụng một số hàm trong smart contract để lấy dữ liệu từ các tokens được giao dịch trong lending pool Valas. Đầu tiên sẽ lấy danh sách địa chỉ smart contract của các tokens được giao dịch. Sau đó, lấy thông tin của tokens dựa trên địa chỉ của nó. Thông tin của user được lấy tương tự như vậy (Không có hàm lấy danh sách users, vì số lượng users rất nhiều)*\n",
    "\n",
    "> **Note**: Cấu trúc các hàm này trong ABI thường sẽ có trường **`\"stateMutability\": \"view\"`** hoặc có chữ **`get`** đầu tiên của tên hàm\n",
    "\n",
    "#### 4.1.a. Lấy địa chỉ các token\n",
    "*Ta có thể tìm các hàm hỗ trợ lấy dữ liệu trong file ABI. Tại đây, mình đã sử dụng hàm getReservesList trong `abi/lending_pool_aave_v2.json`. Các bạn có thể thấy cấu trúc của nó ở hình dưới hoặc vào file ABI này tìm kiếm thử.*\n",
    "\n",
    "![image.png](../images/list_token.png)"
   ]
  },
  {
   "cell_type": "code",
   "execution_count": 4,
   "metadata": {},
   "outputs": [
    {
     "data": {
      "text/plain": [
       "['0xbb4CdB9CBd36B01bD1cBaEBF2De08d9173bc095c',\n",
       " '0xe9e7CEA3DedcA5984780Bafc599bD69ADd087D56',\n",
       " '0x8AC76a51cc950d9822D68b83fE1Ad97B32Cd580d',\n",
       " '0x55d398326f99059fF775485246999027B3197955',\n",
       " '0x1AF3F329e8BE154074D8769D1FFa4eE058B1DBc3',\n",
       " '0x0E09FaBB73Bd3Ade0a17ECC321fD13a19e81cE82',\n",
       " '0x2170Ed0880ac9A755fd29B2688956BD959F933F8',\n",
       " '0x7130d2A12B9BCbFAe4f2634d864A1Ee1Ce3Ead9c',\n",
       " '0x14016E85a25aeb13065688cAFB43044C2ef86784']"
      ]
     },
     "execution_count": 4,
     "metadata": {},
     "output_type": "execute_result"
    }
   ],
   "source": [
    "contract.functions.getReservesList().call()"
   ]
  },
  {
   "cell_type": "markdown",
   "metadata": {},
   "source": [
    ">**Note**: Hàm trên mặc định lấy dữ liệu ở block mới nhất. Ngoài ra ta có thể dữ liệu của các block trong quá khứ thông qua parameter *`block_identifier`* của hàm `call()`, các bạn có thể tham khảo tại [document](https://web3py.readthedocs.io/en/stable/contracts.html?highlight=call#web3.contract.ContractFunction.call)"
   ]
  },
  {
   "cell_type": "markdown",
   "metadata": {},
   "source": [
    "#### 4.1.b. Lấy thông tin của một token trong Valas\n",
    "*Để lấy thông tin của một token trong danh sách token được reserved trong Valas trên, mình sử dụng hàm **`getReserveData()`**. Tại đây mình cũng sẽ thử lấy dữ liệu trong block ở quá khứ (cụ thể là block cách block mới nhất 10 block), sử dụng tham số `block_identifier` của hàm `call`.*\n",
    "\n",
    "> Lưu ý là ta đang sử dụng full node provider. Full node chỉ lưu dữ liệu state của blockchain tại 128 blocks gần nhất (Đọc tìm hiểu full, archive và light node ở đầu series này đi nhé, quan trọng đấy). Vì vậy ta sẽ không thể lấy dữ liệu ở những block cách block mới nhất quá 127 block"
   ]
  },
  {
   "cell_type": "code",
   "execution_count": 5,
   "metadata": {},
   "outputs": [
    {
     "data": {
      "text/plain": [
       "((92234085768165225799488,),\n",
       " 1018554416322460864676799675,\n",
       " 1073457044342083277303112351,\n",
       " 16652809702923947253335944,\n",
       " 76948027950585388179653173,\n",
       " 10000000000000000000000000,\n",
       " 1662690073,\n",
       " '0xB11A912CD93DcffA8b609b4C021E89723ceb7FE8',\n",
       " '0x2Adc0c94A055f1FF64A35672D30Eb523ec647816',\n",
       " '0xE7CDC4e53915D50B74496847EeBa7233caE85CE5',\n",
       " '0xe4630EaE1C2b8B30F9b4AADD355522Ec9c18bfe4',\n",
       " 0)"
      ]
     },
     "execution_count": 5,
     "metadata": {},
     "output_type": "execute_result"
    }
   ],
   "source": [
    "blocknumber = web3.eth.blockNumber - 10\n",
    "contract.functions.getReserveData(\"0xbb4CdB9CBd36B01bD1cBaEBF2De08d9173bc095c\").call(block_identifier=blocknumber)"
   ]
  },
  {
   "cell_type": "markdown",
   "metadata": {},
   "source": [
    "### 4.2. Lấy data từ **event** của contract \n",
    "*Tiếp theo mình sẽ hướng dẫn các bạn crawl dữ liệu từ các giao dịch, thông qua **event** mà các contract emit ra.*\n",
    "*Không như dữ liệu về state của blockchain chỉ được lưu của 128 block đầu, full node lưu tất cả lịch sử giao dịch của smart contract trên BSC. Tại đây, mình sẽ crawl dữ liệu của deposit event được emit từ các giao dịch của Valas tại block 21031205. Hình dưới đây là cấu trúc của event này trong ABI. Các bạn có thể kiểm tra trong `abi/lending_pool_aave_v2.json`*\n",
    "\n",
    "![image.png](../images/deposit.png)"
   ]
  },
  {
   "cell_type": "code",
   "execution_count": 6,
   "metadata": {},
   "outputs": [
    {
     "data": {
      "text/plain": [
       "[{'args': {'reserve': '0x0E09FaBB73Bd3Ade0a17ECC321fD13a19e81cE82',\n",
       "   'onBehalfOf': '0x26417D19dc19a73274B4c97615b310b39017FA57',\n",
       "   'referral': 0,\n",
       "   'user': '0x26417D19dc19a73274B4c97615b310b39017FA57',\n",
       "   'amount': 1257749112692222427},\n",
       "  'event': 'Deposit',\n",
       "  'logIndex': 220,\n",
       "  'transactionIndex': 71,\n",
       "  'transactionHash': '0x0ee0f8ee33047ba977e3afd0b0995885b8d304b1aa1f1c6d307099c9ef9206e9',\n",
       "  'address': '0xE29A55A6AEFf5C8B1beedE5bCF2F0Cb3AF8F91f5',\n",
       "  'blockHash': '0x68dee16ed601595adeb352f2072879d04f288506e5dcdd44f064b4f862e6bfe4',\n",
       "  'blockNumber': 21031205}]"
      ]
     },
     "execution_count": 6,
     "metadata": {},
     "output_type": "execute_result"
    }
   ],
   "source": [
    "events = contract.events.Deposit.createFilter(fromBlock=21031205, toBlock=21031205).get_all_entries()\n",
    "event_list = []\n",
    "for event in events:\n",
    "    event_list.append(json.loads(web3.toJSON(event)))\n",
    "event_list"
   ]
  },
  {
   "cell_type": "markdown",
   "metadata": {},
   "source": [
    ">**NOTE**: Các bạn có thấy hai trường **fromBlock** và **toBlock** không? Mình có thể thay đổi hai giá trị này để  thu thập dữ liệu trong nhiều blocks nhé. Chú ý là **fromBlock** luôn nhỏ hơn **toBlock** và số  blocks tối đa có thể crawl một lần là **5000** blocks thôi. Ngoài ra có thể tham khảo trên [Web3 python docs](https://web3py.readthedocs.io/en/stable/contracts.html?highlight=createFilter#web3.contract.Contract.events.your_event_name.createFilter) để thiết lập các điều kiện lọc dữ liệu event khác theo ý thích nhé."
   ]
  },
  {
   "cell_type": "markdown",
   "metadata": {},
   "source": [
    "### 4.3. Thu thập nhiều loại dữ liệu event cùng lúc\n",
    "*Với cách trên, mọi người có thể thấy nhược điểm là mỗi lần mình chỉ có thể thu thập được một loại dữ liệu thôi. Vậy làm sao để thu thập nhiều loại dữ liệu một lúc để tránh mỗi lần thu thập lại phải quét lại những blocks đã crawl? Ta sẽ phải tự code.* \n",
    "\n",
    "*Cơ bản ta sẽ sử dụng event hash để crawl. Event hash là một chuỗi byte code được mã hóa theo chuẩn KECCAK_256 từ một chuỗi định nghĩa hàm tạo bởi cấu trúc event trong ABI (Đọc code để hiểu rõ hơn nhé - hàm **`get_topic_filter`** trong `service/utils.py`).*\n",
    "\n",
    "*Tại đây, mình cũng sẽ sẽ tách hai event là `deposit` và `borrow` trong ABI của aave tạo thành một ABI mới riêng cho hai event này tại `abi/event_abi.json`.*\n",
    "\n",
    "*Mình có xây dựng một class EthReceiptLogHandler cung cấp các functions xử lý ABI và dữ liệu event trả về. Có ba functions quan trọng mà mọi người cần chú ý đó là:* \n",
    "\n",
    "- *(1) **`build_list_info_event`** xây dựng thông tin event từ ABI. Hàm này có nhiệm vụ trả về `EventSubscriber` chứa thông tin đối sánh tên event theo event hash và thứ tự các trường dữ liệu tương ứng với dữ liệu event mà web3 trả về.*\n",
    "\n",
    "- *(2) **`web3_dict_to_receipt_log`** biến đổi dữ liệu event data trả về theo cấu trúc mà mình quy định sẵn (cài này tạo ra để mình xử lý event dễ hơn ý mà).*\n",
    "\n",
    "- *(3) **`extract_event_from_log`** đối sánh dữ liệu event trả về với `EventSubscriber` và giải mã các trường dữ liệu `topics` và `data` trong event (Muốn biến hai trường này là gì thì các bạn đọc phần tài liệu về ABI mình để ở đầu bài nhé).*\n",
    "\n",
    "- *(4) cuối cùng **`eth_event_to_dict`** chuyển đổi dữ liệu event về cấu trúc event cuối cùng (theo dictionary) lưu vào cơ sở dữ liệu (Cái này tạo ra để mình có thể lưu dữ liệu vào mongodb).*"
   ]
  },
  {
   "cell_type": "code",
   "execution_count": 7,
   "metadata": {},
   "outputs": [
    {
     "data": {
      "text/plain": [
       "[[<model.receipt_log.EventSubscriber at 0x7f0a39f62430>,\n",
       "  '0xc6a898309e823ee50bac64e45ca8adba6690e99e7841c45d754e2a38e9019d9b',\n",
       "  ['reserve', 'user', 'onBehalfOf'],\n",
       "  'Borrow'],\n",
       " [<model.receipt_log.EventSubscriber at 0x7f0a152631c0>,\n",
       "  '0xde6857219544bb5b7746f48ed30be6386fefc61b2f864cacf559893bf50fd951',\n",
       "  ['reserve', 'user', 'onBehalfOf'],\n",
       "  'Deposit']]"
      ]
     },
     "execution_count": 7,
     "metadata": {},
     "output_type": "execute_result"
    }
   ],
   "source": [
    "from receipt_log_handler import EthReceiptLogHandler\n",
    "\n",
    "with open(\"../abi/event_abi.json\", \"r\") as f:\n",
    "    event_abi = json.loads(f.read())\n",
    "\n",
    "handler = EthReceiptLogHandler()\n",
    "# xây dựng thông tin event từ ABI.\n",
    "event_abi_info = handler.build_list_info_event(event_abi)\n",
    "event_abi_info"
   ]
  },
  {
   "cell_type": "code",
   "execution_count": 8,
   "metadata": {},
   "outputs": [
    {
     "data": {
      "text/plain": [
       "['0xc6a898309e823ee50bac64e45ca8adba6690e99e7841c45d754e2a38e9019d9b',\n",
       " '0xde6857219544bb5b7746f48ed30be6386fefc61b2f864cacf559893bf50fd951']"
      ]
     },
     "execution_count": 8,
     "metadata": {},
     "output_type": "execute_result"
    }
   ],
   "source": [
    "# tách lấy event hash\n",
    "event_hash = [event_info[1] for event_info in event_abi_info]\n",
    "event_hash"
   ]
  },
  {
   "cell_type": "code",
   "execution_count": 9,
   "metadata": {},
   "outputs": [
    {
     "data": {
      "text/plain": [
       "{'0xc6a898309e823ee50bac64e45ca8adba6690e99e7841c45d754e2a38e9019d9b': <model.receipt_log.EventSubscriber at 0x7f0a39f62430>,\n",
       " '0xde6857219544bb5b7746f48ed30be6386fefc61b2f864cacf559893bf50fd951': <model.receipt_log.EventSubscriber at 0x7f0a152631c0>}"
      ]
     },
     "execution_count": 9,
     "metadata": {},
     "output_type": "execute_result"
    }
   ],
   "source": [
    "# tách lấy event subscriber\n",
    "event_subscriber = {}\n",
    "for info in event_abi_info:\n",
    "    event_subscriber[info[1]] = info[0]\n",
    "\n",
    "event_subscriber"
   ]
  },
  {
   "cell_type": "markdown",
   "metadata": {},
   "source": [
    "*Do dữ liệu event trên blockchain vô cùng lớn và nhiểu dữ liệu từ các lending pool khác nhau, mình đã tạo một filter chỉ thu thập dữ liệu của Valas. Filter này gồm 4 điều kiện là fromBlock, toBlock, topics - danh sách event hash cần lọc (event hash lưu ở topics[0] nên mình để mảng event hash làm phần tử đầu của topics - hơi khó hiểu nhỉ, mọi người sẽ hình dung rõ hơn khi nhìn vào dữ liệu thô) và address là các địa chỉ smart contract mà mình muốn lấy event.*"
   ]
  },
  {
   "cell_type": "code",
   "execution_count": 10,
   "metadata": {},
   "outputs": [
    {
     "data": {
      "text/plain": [
       "True"
      ]
     },
     "execution_count": 10,
     "metadata": {},
     "output_type": "execute_result"
    }
   ],
   "source": [
    "#create filter\n",
    "filter_params = {\n",
    "    \"fromBlock\":21043181,\n",
    "    \"toBlock\":21043646,\n",
    "    \"topics\": [event_hash],\n",
    "    \"address\":[\"0xE29A55A6AEFf5C8B1beedE5bCF2F0Cb3AF8F91f5\"]\n",
    "}\n",
    "\n",
    "event_filter = web3.eth.filter(filter_params)\n",
    "events = event_filter.get_all_entries()\n",
    "event_list = []\n",
    "for event in events:\n",
    "    log = handler.web3_dict_to_receipt_log(event)\n",
    "    eth_event = handler.extract_event_from_log(log, event_subscriber[log.topics[0]])\n",
    "    if eth_event is not None:\n",
    "        eth_event_dict = handler.eth_event_to_dict(eth_event)\n",
    "        event_list.append(eth_event_dict)\n",
    "\n",
    "web3.eth.uninstallFilter(event_filter.filter_id)"
   ]
  },
  {
   "cell_type": "markdown",
   "metadata": {},
   "source": [
    "*Dưới đây là dữ liệu thô, trường `topics` là một mảng các phần tử nhé. Phần tử đầu tiên chính là event hash. Các phần tử còn lại sẽ là các trường dữ liệu có `index` là `true` trong cấu trúc event ở ABI.*"
   ]
  },
  {
   "cell_type": "code",
   "execution_count": 11,
   "metadata": {},
   "outputs": [
    {
     "data": {
      "text/plain": [
       "[AttributeDict({'address': '0xE29A55A6AEFf5C8B1beedE5bCF2F0Cb3AF8F91f5',\n",
       "  'topics': [HexBytes('0xde6857219544bb5b7746f48ed30be6386fefc61b2f864cacf559893bf50fd951'),\n",
       "   HexBytes('0x0000000000000000000000000e09fabb73bd3ade0a17ecc321fd13a19e81ce82'),\n",
       "   HexBytes('0x0000000000000000000000007c6defb490b8ffe9379839914b4073c35ea7468a'),\n",
       "   HexBytes('0x0000000000000000000000000000000000000000000000000000000000000000')],\n",
       "  'data': '0x0000000000000000000000007c6defb490b8ffe9379839914b4073c35ea7468a0000000000000000000000000000000000000000000000058282d58b806d99f4',\n",
       "  'blockNumber': 21043181,\n",
       "  'transactionHash': HexBytes('0x4452f763a53dad9fb3a9784a2133a4a960379685d194932155fa6a7217980ad9'),\n",
       "  'transactionIndex': 149,\n",
       "  'blockHash': HexBytes('0x52ac94f0072e20b23c7bab220d8c9e3d43185cdbc62bfec962076a2de4a51912'),\n",
       "  'logIndex': 409,\n",
       "  'removed': False}),\n",
       " AttributeDict({'address': '0xE29A55A6AEFf5C8B1beedE5bCF2F0Cb3AF8F91f5',\n",
       "  'topics': [HexBytes('0xde6857219544bb5b7746f48ed30be6386fefc61b2f864cacf559893bf50fd951'),\n",
       "   HexBytes('0x000000000000000000000000e9e7cea3dedca5984780bafc599bd69add087d56'),\n",
       "   HexBytes('0x00000000000000000000000019ec9e3f7b21dd27598e7ad5aae7dc0db00a806d'),\n",
       "   HexBytes('0x0000000000000000000000000000000000000000000000000000000000000000')],\n",
       "  'data': '0x00000000000000000000000019ec9e3f7b21dd27598e7ad5aae7dc0db00a806d00000000000000000000000000000000000000000000000de185f0414836722f',\n",
       "  'blockNumber': 21043427,\n",
       "  'transactionHash': HexBytes('0xbddb09a7f95e47bcf469b26f621cb62fa050cf1f4f0cb9678352acf815a15e89'),\n",
       "  'transactionIndex': 83,\n",
       "  'blockHash': HexBytes('0xc143586eccc0a1c83910d310460d8a9032c856407b081d4207e9be5906d2ae5a'),\n",
       "  'logIndex': 169,\n",
       "  'removed': False}),\n",
       " AttributeDict({'address': '0xE29A55A6AEFf5C8B1beedE5bCF2F0Cb3AF8F91f5',\n",
       "  'topics': [HexBytes('0xde6857219544bb5b7746f48ed30be6386fefc61b2f864cacf559893bf50fd951'),\n",
       "   HexBytes('0x0000000000000000000000000e09fabb73bd3ade0a17ecc321fd13a19e81ce82'),\n",
       "   HexBytes('0x0000000000000000000000009321d5ba18a9cad47e72ddc0a9c8f59c196644a4'),\n",
       "   HexBytes('0x0000000000000000000000000000000000000000000000000000000000000000')],\n",
       "  'data': '0x0000000000000000000000009321d5ba18a9cad47e72ddc0a9c8f59c196644a40000000000000000000000000000000000000000000000843a82386542bd7208',\n",
       "  'blockNumber': 21043541,\n",
       "  'transactionHash': HexBytes('0xe1f4c0b8c315089c719d7bb55246a76228ef7eff61f4d76ce4d62303bfb7b7f4'),\n",
       "  'transactionIndex': 59,\n",
       "  'blockHash': HexBytes('0xf5378417c7a2752e6009581f14aa200682e8141f14b455fc4e0a5f2c6d72881e'),\n",
       "  'logIndex': 145,\n",
       "  'removed': False}),\n",
       " AttributeDict({'address': '0xE29A55A6AEFf5C8B1beedE5bCF2F0Cb3AF8F91f5',\n",
       "  'topics': [HexBytes('0xc6a898309e823ee50bac64e45ca8adba6690e99e7841c45d754e2a38e9019d9b'),\n",
       "   HexBytes('0x0000000000000000000000008ac76a51cc950d9822d68b83fe1ad97b32cd580d'),\n",
       "   HexBytes('0x0000000000000000000000009321d5ba18a9cad47e72ddc0a9c8f59c196644a4'),\n",
       "   HexBytes('0x0000000000000000000000000000000000000000000000000000000000000000')],\n",
       "  'data': '0x0000000000000000000000009321d5ba18a9cad47e72ddc0a9c8f59c196644a40000000000000000000000000000000000000000000001923f0fe28d7a7c03e6000000000000000000000000000000000000000000000000000000000000000200000000000000000000000000000000000000000004ff86881fdbab1ef02543',\n",
       "  'blockNumber': 21043560,\n",
       "  'transactionHash': HexBytes('0x41c77a9f7060e4223071646e0fe27635d0588fdd0143aff16ff21f87b5eec435'),\n",
       "  'transactionIndex': 76,\n",
       "  'blockHash': HexBytes('0xd10f310f3f87819093882e9c75081e632cfdcf339bff3f981b96a49f3c055528'),\n",
       "  'logIndex': 183,\n",
       "  'removed': False}),\n",
       " AttributeDict({'address': '0xE29A55A6AEFf5C8B1beedE5bCF2F0Cb3AF8F91f5',\n",
       "  'topics': [HexBytes('0xde6857219544bb5b7746f48ed30be6386fefc61b2f864cacf559893bf50fd951'),\n",
       "   HexBytes('0x0000000000000000000000000e09fabb73bd3ade0a17ecc321fd13a19e81ce82'),\n",
       "   HexBytes('0x0000000000000000000000009321d5ba18a9cad47e72ddc0a9c8f59c196644a4'),\n",
       "   HexBytes('0x0000000000000000000000000000000000000000000000000000000000000000')],\n",
       "  'data': '0x0000000000000000000000009321d5ba18a9cad47e72ddc0a9c8f59c196644a4000000000000000000000000000000000000000000000061f06a1852b37d1e91',\n",
       "  'blockNumber': 21043593,\n",
       "  'transactionHash': HexBytes('0x694e8ae6a14cb404db237212bf064be549ca346f13b5126eded0363d6d9d38e9'),\n",
       "  'transactionIndex': 124,\n",
       "  'blockHash': HexBytes('0x8598993a043163f8e648994b2d8934d653cbf00a77e0623c98a1955d785cb1f6'),\n",
       "  'logIndex': 303,\n",
       "  'removed': False}),\n",
       " AttributeDict({'address': '0xE29A55A6AEFf5C8B1beedE5bCF2F0Cb3AF8F91f5',\n",
       "  'topics': [HexBytes('0xc6a898309e823ee50bac64e45ca8adba6690e99e7841c45d754e2a38e9019d9b'),\n",
       "   HexBytes('0x0000000000000000000000008ac76a51cc950d9822d68b83fe1ad97b32cd580d'),\n",
       "   HexBytes('0x0000000000000000000000009321d5ba18a9cad47e72ddc0a9c8f59c196644a4'),\n",
       "   HexBytes('0x0000000000000000000000000000000000000000000000000000000000000000')],\n",
       "  'data': '0x0000000000000000000000009321d5ba18a9cad47e72ddc0a9c8f59c196644a400000000000000000000000000000000000000000000005150ae84a8cdf0000000000000000000000000000000000000000000000000000000000000000000020000000000000000000000000000000000000000000501421581d033d4d54dd7',\n",
       "  'blockNumber': 21043618,\n",
       "  'transactionHash': HexBytes('0xd15a93675c17a05edfbb40b7a7fd8258f761b82b533fddb3315a778ef7e2b463'),\n",
       "  'transactionIndex': 33,\n",
       "  'blockHash': HexBytes('0x0f21a45357fb355928cfb4c25b2639d819477e0adb916b66a547dceddf7b6da2'),\n",
       "  'logIndex': 134,\n",
       "  'removed': False}),\n",
       " AttributeDict({'address': '0xE29A55A6AEFf5C8B1beedE5bCF2F0Cb3AF8F91f5',\n",
       "  'topics': [HexBytes('0xde6857219544bb5b7746f48ed30be6386fefc61b2f864cacf559893bf50fd951'),\n",
       "   HexBytes('0x0000000000000000000000000e09fabb73bd3ade0a17ecc321fd13a19e81ce82'),\n",
       "   HexBytes('0x0000000000000000000000009321d5ba18a9cad47e72ddc0a9c8f59c196644a4'),\n",
       "   HexBytes('0x0000000000000000000000000000000000000000000000000000000000000000')],\n",
       "  'data': '0x0000000000000000000000009321d5ba18a9cad47e72ddc0a9c8f59c196644a4000000000000000000000000000000000000000000000013c9265746580d33e7',\n",
       "  'blockNumber': 21043646,\n",
       "  'transactionHash': HexBytes('0x81299ecc60cbcff15f0d81d28c3e3403fa205ebb4543338122b0780725ab0868'),\n",
       "  'transactionIndex': 80,\n",
       "  'blockHash': HexBytes('0x3d4410a5f868f6bad0a8335b0ba50a0d91595a1b2bcb685782a5cfc6a8f6357e'),\n",
       "  'logIndex': 228,\n",
       "  'removed': False})]"
      ]
     },
     "execution_count": 11,
     "metadata": {},
     "output_type": "execute_result"
    }
   ],
   "source": [
    "events"
   ]
  },
  {
   "cell_type": "markdown",
   "metadata": {},
   "source": [
    "*Đây là dữ liệu sau cuối cùng trả về . Quá trình giải mã dữ liệu khá phức tạp nhưng mình sẽ giải thích đơn giản như sau:*\n",
    "\n",
    "*Dựa vào cấu trúc event trong ABI, mình phân loại các trường dữ liệu theo hai loại có thuộc tính **`index`** là `true` và `false`:*\n",
    "- *Với những trường dữ liệu có **`index`** là `true`, theo thứ tự của chúng trong event ABI sẽ tương ứng là các giá trị theo thứ tự trong **`topics`** (trừ `topics[0]` là event hash nhé).* \n",
    "- *Các trường dữ liệu có **index** là `false` theo thứ tự tương ứng với mỗi 32 bytes trong **`data`***\n",
    "\n",
    "*Sau khi đã xác định vị trí các trường dữ liệu, mình dựa vào thuộc tính **`type`** của chúng trong ABI để giải mã:*\n",
    "- *Nếu **`type`** là `address` mình sẽ lấy 20 bytes cuối rồi ghép với `0x`*\n",
    "- *Còn **`type`** là `uint` mình sẽ quy đổi giá trị từ thập lục phân sang thập phân.*\n",
    "\n",
    "(Bạn nào chưa hiểu thì đọc code mình để dễ hiểu hơn nhé, hoặc đọc [document về Event Log Filter](https://web3py.readthedocs.io/en/stable/filters.html?highlight=get_transaction#event-log-filters)).\n",
    "\n",
    "*Dưới đây là dữ liệu cuối cùng thu được.*"
   ]
  },
  {
   "cell_type": "code",
   "execution_count": 12,
   "metadata": {},
   "outputs": [
    {
     "data": {
      "text/plain": [
       "[{'type': 'event',\n",
       "  'event_type': 'DEPOSIT',\n",
       "  'contract_address': '0xe29a55a6aeff5c8b1beede5bcf2f0cb3af8f91f5',\n",
       "  'transaction_hash': '0x4452f763a53dad9fb3a9784a2133a4a960379685d194932155fa6a7217980ad9',\n",
       "  'log_index': 409,\n",
       "  'block_number': 21043181,\n",
       "  'reserve': '0x0e09fabb73bd3ade0a17ecc321fd13a19e81ce82',\n",
       "  'onBehalfOf': '0x7c6defb490b8ffe9379839914b4073c35ea7468a',\n",
       "  'referral': '0',\n",
       "  'user': '0x7c6defb490b8ffe9379839914b4073c35ea7468a',\n",
       "  'amount': '101638034135582611956'},\n",
       " {'type': 'event',\n",
       "  'event_type': 'DEPOSIT',\n",
       "  'contract_address': '0xe29a55a6aeff5c8b1beede5bcf2f0cb3af8f91f5',\n",
       "  'transaction_hash': '0xbddb09a7f95e47bcf469b26f621cb62fa050cf1f4f0cb9678352acf815a15e89',\n",
       "  'log_index': 169,\n",
       "  'block_number': 21043427,\n",
       "  'reserve': '0xe9e7cea3dedca5984780bafc599bd69add087d56',\n",
       "  'onBehalfOf': '0x19ec9e3f7b21dd27598e7ad5aae7dc0db00a806d',\n",
       "  'referral': '0',\n",
       "  'user': '0x19ec9e3f7b21dd27598e7ad5aae7dc0db00a806d',\n",
       "  'amount': '256058331951835542063'},\n",
       " {'type': 'event',\n",
       "  'event_type': 'DEPOSIT',\n",
       "  'contract_address': '0xe29a55a6aeff5c8b1beede5bcf2f0cb3af8f91f5',\n",
       "  'transaction_hash': '0xe1f4c0b8c315089c719d7bb55246a76228ef7eff61f4d76ce4d62303bfb7b7f4',\n",
       "  'log_index': 145,\n",
       "  'block_number': 21043541,\n",
       "  'reserve': '0x0e09fabb73bd3ade0a17ecc321fd13a19e81ce82',\n",
       "  'onBehalfOf': '0x9321d5ba18a9cad47e72ddc0a9c8f59c196644a4',\n",
       "  'referral': '0',\n",
       "  'user': '0x9321d5ba18a9cad47e72ddc0a9c8f59c196644a4',\n",
       "  'amount': '2439186211938395582984'},\n",
       " {'type': 'event',\n",
       "  'event_type': 'BORROW',\n",
       "  'contract_address': '0xe29a55a6aeff5c8b1beede5bcf2f0cb3af8f91f5',\n",
       "  'transaction_hash': '0x41c77a9f7060e4223071646e0fe27635d0588fdd0143aff16ff21f87b5eec435',\n",
       "  'log_index': 183,\n",
       "  'block_number': 21043560,\n",
       "  'reserve': '0x8ac76a51cc950d9822d68b83fe1ad97b32cd580d',\n",
       "  'onBehalfOf': '0x9321d5ba18a9cad47e72ddc0a9c8f59c196644a4',\n",
       "  'referral': '0',\n",
       "  'user': '0x9321d5ba18a9cad47e72ddc0a9c8f59c196644a4',\n",
       "  'amount': '7420135217277553083366',\n",
       "  'borrowRateMode': '2',\n",
       "  'borrowRate': '6042388404096194749408579'},\n",
       " {'type': 'event',\n",
       "  'event_type': 'DEPOSIT',\n",
       "  'contract_address': '0xe29a55a6aeff5c8b1beede5bcf2f0cb3af8f91f5',\n",
       "  'transaction_hash': '0x694e8ae6a14cb404db237212bf064be549ca346f13b5126eded0363d6d9d38e9',\n",
       "  'log_index': 303,\n",
       "  'block_number': 21043593,\n",
       "  'reserve': '0x0e09fabb73bd3ade0a17ecc321fd13a19e81ce82',\n",
       "  'onBehalfOf': '0x9321d5ba18a9cad47e72ddc0a9c8f59c196644a4',\n",
       "  'referral': '0',\n",
       "  'user': '0x9321d5ba18a9cad47e72ddc0a9c8f59c196644a4',\n",
       "  'amount': '1806657860809938247313'},\n",
       " {'type': 'event',\n",
       "  'event_type': 'BORROW',\n",
       "  'contract_address': '0xe29a55a6aeff5c8b1beede5bcf2f0cb3af8f91f5',\n",
       "  'transaction_hash': '0xd15a93675c17a05edfbb40b7a7fd8258f761b82b533fddb3315a778ef7e2b463',\n",
       "  'log_index': 134,\n",
       "  'block_number': 21043618,\n",
       "  'reserve': '0x8ac76a51cc950d9822d68b83fe1ad97b32cd580d',\n",
       "  'onBehalfOf': '0x9321d5ba18a9cad47e72ddc0a9c8f59c196644a4',\n",
       "  'referral': '0',\n",
       "  'user': '0x9321d5ba18a9cad47e72ddc0a9c8f59c196644a4',\n",
       "  'amount': '1500000000000000000000',\n",
       "  'borrowRateMode': '2',\n",
       "  'borrowRate': '6050570499413548173970903'},\n",
       " {'type': 'event',\n",
       "  'event_type': 'DEPOSIT',\n",
       "  'contract_address': '0xe29a55a6aeff5c8b1beede5bcf2f0cb3af8f91f5',\n",
       "  'transaction_hash': '0x81299ecc60cbcff15f0d81d28c3e3403fa205ebb4543338122b0780725ab0868',\n",
       "  'log_index': 228,\n",
       "  'block_number': 21043646,\n",
       "  'reserve': '0x0e09fabb73bd3ade0a17ecc321fd13a19e81ce82',\n",
       "  'onBehalfOf': '0x9321d5ba18a9cad47e72ddc0a9c8f59c196644a4',\n",
       "  'referral': '0',\n",
       "  'user': '0x9321d5ba18a9cad47e72ddc0a9c8f59c196644a4',\n",
       "  'amount': '364982505810856588263'}]"
      ]
     },
     "execution_count": 12,
     "metadata": {},
     "output_type": "execute_result"
    }
   ],
   "source": [
    "event_list"
   ]
  },
  {
   "cell_type": "markdown",
   "metadata": {},
   "source": [
    "#### Thu thập transaction sinh ra deposit event\n",
    "*Mọi người có thể thấy trong dữ liệu block và dữ liệu event đều có một trường `transaction_hash`. Dựa vào nó ta có thể thu thập dữ liệu transaction mình mong muốn. Dưới đây là dữ liệu từ transaction hash của deposit event của block 21031205.*"
   ]
  },
  {
   "cell_type": "code",
   "execution_count": 13,
   "metadata": {},
   "outputs": [
    {
     "data": {
      "text/plain": [
       "AttributeDict({'blockHash': HexBytes('0x68dee16ed601595adeb352f2072879d04f288506e5dcdd44f064b4f862e6bfe4'),\n",
       " 'blockNumber': 21031205,\n",
       " 'from': '0x26417D19dc19a73274B4c97615b310b39017FA57',\n",
       " 'gas': 752442,\n",
       " 'gasPrice': 5000000000,\n",
       " 'hash': HexBytes('0x0ee0f8ee33047ba977e3afd0b0995885b8d304b1aa1f1c6d307099c9ef9206e9'),\n",
       " 'input': '0xe8eda9df0000000000000000000000000e09fabb73bd3ade0a17ecc321fd13a19e81ce8200000000000000000000000000000000000000000000000011746c27769529db00000000000000000000000026417d19dc19a73274b4c97615b310b39017fa570000000000000000000000000000000000000000000000000000000000000000',\n",
       " 'nonce': 476,\n",
       " 'to': '0xE29A55A6AEFf5C8B1beedE5bCF2F0Cb3AF8F91f5',\n",
       " 'transactionIndex': 71,\n",
       " 'value': 0,\n",
       " 'type': '0x0',\n",
       " 'v': 148,\n",
       " 'r': HexBytes('0xedf56947061ff71ad62dfded9fb7ba19fc271d6f52d8df2a207d405ca473da87'),\n",
       " 's': HexBytes('0x34ce34ec26f2a48cc85ba8a759333dd59b6d106597c32039ddc2e9aa942773c8')})"
      ]
     },
     "execution_count": 13,
     "metadata": {},
     "output_type": "execute_result"
    }
   ],
   "source": [
    "web3.eth.get_transaction(\"0x0ee0f8ee33047ba977e3afd0b0995885b8d304b1aa1f1c6d307099c9ef9206e9\")"
   ]
  },
  {
   "cell_type": "markdown",
   "metadata": {},
   "source": [
    "> Note: Đến đây mọi người có thể thắc mắc là thế với một list các transaction hash thì sao? Rất tiếc hiện tại mình chưa thấy hàm nào của web3 py hỗ trợ hoặc có thể do mình tìm chưa kỹ. Tuy nhiên ta có thể cải tiến quá trình bằng cách lấy dữ liệu theo lô (batch) với đa luồng (multi-processing). Kiến thức này hơi nâng cao, mình sẽ hướng dẫn ở một bài thực hành khác phức tạp hơn."
   ]
  },
  {
   "cell_type": "markdown",
   "metadata": {},
   "source": [
    "## Xây dựng thu thập dữ liệu một luồng liên tục\n",
    "*Phần này bonus cho mọi người. Mọi người có thể đọc tiếp hoặc bỏ qua. Nói chung, nó chỉ tổng hợp lại những kiến thức ở trên để xây dựng một con crawler thu thập dữ liệu event liên tục.*"
   ]
  },
  {
   "cell_type": "code",
   "execution_count": 14,
   "metadata": {},
   "outputs": [],
   "source": [
    "from receipt_log_handler import EthReceiptLogHandler\n",
    "\n",
    "def craw_events(\n",
    "    web3, \n",
    "    from_block=0, \n",
    "    to_block=None, \n",
    "    event_abi_file=\"../abi/event_abi.json\", \n",
    "    contract_addresses=[\"0xE29A55A6AEFf5C8B1beedE5bCF2F0Cb3AF8F91f5\"],\n",
    "    block_size=100,\n",
    "    stop = False\n",
    "):\n",
    "    latest_block = web3.eth.blockNumber\n",
    "    if to_block and to_block > latest_block:\n",
    "        to_block=latest_block\n",
    "        print(f\"To_block > latest_block, set to_block = {latest_block}\")\n",
    "    with open(event_abi_file, \"r\") as f:\n",
    "        event_abi = json.loads(f.read())\n",
    "\n",
    "    handler = EthReceiptLogHandler()\n",
    "    # xây dựng thông tin event từ ABI.\n",
    "    event_abi_info = handler.build_list_info_event(event_abi)\n",
    "    # lấy event hash\n",
    "    event_hash = [event_info[1] for event_info in event_abi_info]\n",
    "    # tách lấy event subscriber\n",
    "    event_subscriber = {}\n",
    "    for info in event_abi_info:\n",
    "        event_subscriber[info[1]] = info[0]\n",
    "    \n",
    "    if not to_block:\n",
    "        to_block = web3.eth.blockNumber\n",
    "    \n",
    "    _from = from_block\n",
    "    _to = from_block + block_size\n",
    "    \n",
    "    while True:\n",
    "        if _to > to_block:\n",
    "            _to = to_block\n",
    "                \n",
    "        print(f\"Start crawling data from {_from} to {_to}\")\n",
    "        #create filter\n",
    "        filter_params = {\n",
    "            \"fromBlock\":_from,\n",
    "            \"toBlock\":_to,\n",
    "            \"topics\": [event_hash],\n",
    "            \"address\":contract_addresses\n",
    "        }\n",
    "\n",
    "        event_filter = web3.eth.filter(filter_params)\n",
    "        events = event_filter.get_all_entries()\n",
    "        event_list = []\n",
    "        for event in events:\n",
    "            log = handler.web3_dict_to_receipt_log(event)\n",
    "            eth_event = handler.extract_event_from_log(log, event_subscriber[log.topics[0]])\n",
    "            if eth_event is not None:\n",
    "                eth_event_dict = handler.eth_event_to_dict(eth_event)\n",
    "                print(\"Event data:\\n\", eth_event_dict)\n",
    "\n",
    "        web3.eth.uninstallFilter(event_filter.filter_id)\n",
    "        if _to == to_block:\n",
    "            if stop:\n",
    "                print(\"Stop crawling data...\")\n",
    "                break\n",
    "            else:\n",
    "                to_block = web3.eth.blockNumber\n",
    "                print(f\"Get latest block {to_block}\")\n",
    "        \n",
    "        \n",
    "        _from = _to\n",
    "        _to += block_size"
   ]
  },
  {
   "cell_type": "markdown",
   "metadata": {},
   "source": [
    "*Mọi người có thể đặt biến `stop = False` để cho chạy liên tục. Có thể sửa hàm để xuất dữ liệu ra file*"
   ]
  },
  {
   "cell_type": "code",
   "execution_count": 15,
   "metadata": {},
   "outputs": [
    {
     "name": "stdout",
     "output_type": "stream",
     "text": [
      "Start crawling data from 21042695 to 21042795\n",
      "Start crawling data from 21042795 to 21042895\n",
      "Start crawling data from 21042895 to 21042995\n",
      "Event data:\n",
      " {'type': 'event', 'event_type': 'DEPOSIT', 'contract_address': '0xe29a55a6aeff5c8b1beede5bcf2f0cb3af8f91f5', 'transaction_hash': '0x9d7f541831a499d00815147057d593cb4894cb3c74cd1c267714378dd808fe96', 'log_index': 148, 'block_number': 21042985, 'reserve': '0x8ac76a51cc950d9822d68b83fe1ad97b32cd580d', 'onBehalfOf': '0x19ec9e3f7b21dd27598e7ad5aae7dc0db00a806d', 'referral': '0', 'user': '0x19ec9e3f7b21dd27598e7ad5aae7dc0db00a806d', 'amount': '1736000000000000000000'}\n",
      "Start crawling data from 21042995 to 21043095\n",
      "Start crawling data from 21043095 to 21043195\n",
      "Event data:\n",
      " {'type': 'event', 'event_type': 'DEPOSIT', 'contract_address': '0xe29a55a6aeff5c8b1beede5bcf2f0cb3af8f91f5', 'transaction_hash': '0x4452f763a53dad9fb3a9784a2133a4a960379685d194932155fa6a7217980ad9', 'log_index': 409, 'block_number': 21043181, 'reserve': '0x0e09fabb73bd3ade0a17ecc321fd13a19e81ce82', 'onBehalfOf': '0x7c6defb490b8ffe9379839914b4073c35ea7468a', 'referral': '0', 'user': '0x7c6defb490b8ffe9379839914b4073c35ea7468a', 'amount': '101638034135582611956'}\n",
      "Start crawling data from 21043195 to 21043295\n",
      "Start crawling data from 21043295 to 21043395\n",
      "Start crawling data from 21043395 to 21043495\n",
      "Event data:\n",
      " {'type': 'event', 'event_type': 'DEPOSIT', 'contract_address': '0xe29a55a6aeff5c8b1beede5bcf2f0cb3af8f91f5', 'transaction_hash': '0xbddb09a7f95e47bcf469b26f621cb62fa050cf1f4f0cb9678352acf815a15e89', 'log_index': 169, 'block_number': 21043427, 'reserve': '0xe9e7cea3dedca5984780bafc599bd69add087d56', 'onBehalfOf': '0x19ec9e3f7b21dd27598e7ad5aae7dc0db00a806d', 'referral': '0', 'user': '0x19ec9e3f7b21dd27598e7ad5aae7dc0db00a806d', 'amount': '256058331951835542063'}\n",
      "Start crawling data from 21043495 to 21043595\n",
      "Event data:\n",
      " {'type': 'event', 'event_type': 'DEPOSIT', 'contract_address': '0xe29a55a6aeff5c8b1beede5bcf2f0cb3af8f91f5', 'transaction_hash': '0xe1f4c0b8c315089c719d7bb55246a76228ef7eff61f4d76ce4d62303bfb7b7f4', 'log_index': 145, 'block_number': 21043541, 'reserve': '0x0e09fabb73bd3ade0a17ecc321fd13a19e81ce82', 'onBehalfOf': '0x9321d5ba18a9cad47e72ddc0a9c8f59c196644a4', 'referral': '0', 'user': '0x9321d5ba18a9cad47e72ddc0a9c8f59c196644a4', 'amount': '2439186211938395582984'}\n",
      "Event data:\n",
      " {'type': 'event', 'event_type': 'BORROW', 'contract_address': '0xe29a55a6aeff5c8b1beede5bcf2f0cb3af8f91f5', 'transaction_hash': '0x41c77a9f7060e4223071646e0fe27635d0588fdd0143aff16ff21f87b5eec435', 'log_index': 183, 'block_number': 21043560, 'reserve': '0x8ac76a51cc950d9822d68b83fe1ad97b32cd580d', 'onBehalfOf': '0x9321d5ba18a9cad47e72ddc0a9c8f59c196644a4', 'referral': '0', 'user': '0x9321d5ba18a9cad47e72ddc0a9c8f59c196644a4', 'amount': '7420135217277553083366', 'borrowRateMode': '2', 'borrowRate': '6042388404096194749408579'}\n",
      "Event data:\n",
      " {'type': 'event', 'event_type': 'DEPOSIT', 'contract_address': '0xe29a55a6aeff5c8b1beede5bcf2f0cb3af8f91f5', 'transaction_hash': '0x694e8ae6a14cb404db237212bf064be549ca346f13b5126eded0363d6d9d38e9', 'log_index': 303, 'block_number': 21043593, 'reserve': '0x0e09fabb73bd3ade0a17ecc321fd13a19e81ce82', 'onBehalfOf': '0x9321d5ba18a9cad47e72ddc0a9c8f59c196644a4', 'referral': '0', 'user': '0x9321d5ba18a9cad47e72ddc0a9c8f59c196644a4', 'amount': '1806657860809938247313'}\n",
      "Start crawling data from 21043595 to 21043695\n",
      "Event data:\n",
      " {'type': 'event', 'event_type': 'BORROW', 'contract_address': '0xe29a55a6aeff5c8b1beede5bcf2f0cb3af8f91f5', 'transaction_hash': '0xd15a93675c17a05edfbb40b7a7fd8258f761b82b533fddb3315a778ef7e2b463', 'log_index': 134, 'block_number': 21043618, 'reserve': '0x8ac76a51cc950d9822d68b83fe1ad97b32cd580d', 'onBehalfOf': '0x9321d5ba18a9cad47e72ddc0a9c8f59c196644a4', 'referral': '0', 'user': '0x9321d5ba18a9cad47e72ddc0a9c8f59c196644a4', 'amount': '1500000000000000000000', 'borrowRateMode': '2', 'borrowRate': '6050570499413548173970903'}\n",
      "Event data:\n",
      " {'type': 'event', 'event_type': 'DEPOSIT', 'contract_address': '0xe29a55a6aeff5c8b1beede5bcf2f0cb3af8f91f5', 'transaction_hash': '0x81299ecc60cbcff15f0d81d28c3e3403fa205ebb4543338122b0780725ab0868', 'log_index': 228, 'block_number': 21043646, 'reserve': '0x0e09fabb73bd3ade0a17ecc321fd13a19e81ce82', 'onBehalfOf': '0x9321d5ba18a9cad47e72ddc0a9c8f59c196644a4', 'referral': '0', 'user': '0x9321d5ba18a9cad47e72ddc0a9c8f59c196644a4', 'amount': '364982505810856588263'}\n",
      "Stop crawling data...\n"
     ]
    }
   ],
   "source": [
    "craw_events(\n",
    "    web3, \n",
    "    from_block=21042695, \n",
    "    to_block=21043695,\n",
    "    event_abi_file=\"../abi/event_abi.json\", \n",
    "    contract_addresses=[\"0xE29A55A6AEFf5C8B1beedE5bCF2F0Cb3AF8F91f5\"],\n",
    "    block_size=100,\n",
    "    stop = True\n",
    ")"
   ]
  },
  {
   "cell_type": "markdown",
   "metadata": {},
   "source": [
    "# BTVN\n",
    "\n",
    "Chú ý: Tất cả dữ liệu crawl được lưu vào file json.\n",
    "\n",
    "## Chung\n",
    "1. Tính số transaction trung bình mỗi block của 100 blocks mới nhất.\n",
    "2. Cho địa chỉ token `0x7083609fCE4d1d8Dc0C979AAb8c869Ea2C873402`, dựa vào địa chỉ token và ERC_20 abi trong `abi/erc_20.json` thực hiện các nhiệm vụ sau:<br>\n",
    "    a. Thu thập Transfer event của token đó trong 1000 blocks gần nhất. <br>\n",
    "    b. Tìm decimals của token.<br>\n",
    "    c. Tính lượng cung (supply) của token đó. <br>\n",
    "    d. Tính số dư (balance) token mới nhất của một địa chỉ ví thực hiện nhiều Transfer event nhất trong tập dữ liệu Transfer event đã crawl (gợi ý: địa chỉ này nằm trong trường `_from` của event). <br>\n",
    "    e. Tính số dư token mới nhất trong địa chỉ ví là địa chỉ ví nhận trong nhiều Transfer event nhất trong tập dữ liệu Transfer event đã crawl (gợi ý: địa chỉ này nằm trong trường `_to` của event). <br>\n",
    "    f. Tìm ký hiệu (symbol) và tên (name) của token.\n",
    "\n",
    "Chú ý: Ngoài thông tin trả lời, cần ghi rõ lại start - end block mà mình thu thập dữ liệu, địa chỉ token và ví thu thập. Các giá trị lượng cung và số dư phải chia cho decimals của token.\n",
    "\n",
    "## AAVE Team\n",
    "Làm lại các bước trong bài thực hành trên với [Geist protocol](https://docs.geist.finance/useful-info/deployments-addresses) là một lending pool tương tự như Valas trên mạng Fantom. Ngoài ra, thực hiện thêm một số bước sau. (Đọc chú ý phía dưới trước khi làm)\n",
    "1. Crawl dữ liệu event theo 5 loại: Deposit, Borrow, Withdraw, Repay và Liquidate trong 100.000 blocks gần nhất.\n",
    "2. Crawl dữ liệu transaction của những event đã crawl. \n",
    "3. Lấy thông tin địa chỉ token được thực hiện giao dịch Deposit và Borrow nhiều nhất (gợi ý: địa chỉ token nằm trong trường `reserve` trong event, nếu số event của các token bằng nhau thì lấy token bất kỳ)\n",
    "4. Lấy thông tin địa chỉ thực hiện transaction nhiều nhất trong lending pool (gợi ý: địa chỉ ví nằm trong trường `from` của dữ liệu transaction, nếu số transaction của các địa chỉ bằng nhau thì lấy địa chỉ bất kỳ).\n",
    "5. Dựa vào địa chỉ Oracle ([Aave oracle](https://docs.geist.finance/useful-info/deployments-addresses)) và `abi/oracle_abi.json` tìm giá (asset price) của token ở câu 3.\n",
    "\n",
    "Chú ý: Các hàm lấy dữ liệu đã có trong `abi/lending_pool_aave_v2.json`. Dựa vào cấu trúc dữ liệu trả về trong abi, chỉ ra ý nghĩa của từng trường dữ liệu crawl về trong câu 3,4.\n",
    "\n",
    "## Uniswap Team\n",
    "Dựa vào masterchef V2 [address](https://docs.pancakeswap.finance/code/smart-contracts/main-staking-masterchef-contract), `abi/masterchef_abi.json` và pid = 3 của pancakeswap (tương tự như uniswap) trên bsc. Thực hiện các nhiệm vụ sau. (Đọc chú ý trước khi làm)\n",
    "\n",
    "1. Lâý thông tin của lp_token từ id (gợi ý: sử dụng poolInfo trong `abi/masterchef_abi.json`).\n",
    "2. Tìm địa chỉ lp_token.\n",
    "3. Dựa vào `abi/lp_token_abi.json` và địa chỉ lp_token tìm được lấy thông tin địa chỉ cặp swap (reserves) từ địa chỉ lp_token và abi `abi/lp_token_abi.json`.\n",
    "4. Crawl dữ liệu event Swap, Approval, Burn, Mint và Transfer của lp_token trong 1000 blocks gần nhất với ABI `abi/lp_token_abi.json`.\n",
    "5. Crawl dữ liệu transaction tương ứng với dữ liệu events.\n",
    "6. Tìm user giao dịch nhiều nhất (gợi ý: địa chỉ user là trường `from` trong transaction)\n",
    "7. Tìm thông tin của user dựa trên địa chỉ masterchef và abi `abi/masterchef_abi.json`.\n",
    "\n",
    "Chú ý: Dựa vào cấu trúc dữ liệu trả về trong abi, chỉ ra ý nghĩa của từng trường dữ liệu crawl về trong câu 1,8."
   ]
  }
 ],
 "metadata": {
  "kernelspec": {
   "display_name": "venv",
   "language": "python",
   "name": "venv"
  },
  "language_info": {
   "codemirror_mode": {
    "name": "ipython",
    "version": 3
   },
   "file_extension": ".py",
   "mimetype": "text/x-python",
   "name": "python",
   "nbconvert_exporter": "python",
   "pygments_lexer": "ipython3",
   "version": "3.8.10"
  }
 },
 "nbformat": 4,
 "nbformat_minor": 4
}
