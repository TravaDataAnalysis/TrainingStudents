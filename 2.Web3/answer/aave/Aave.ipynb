{
 "cells": [
  {
   "cell_type": "code",
   "execution_count": 1,
   "id": "abf026e8",
   "metadata": {},
   "outputs": [],
   "source": [
    "import json\n",
    "import time\n",
    "\n",
    "from web3 import HTTPProvider\n",
    "from web3 import Web3\n",
    "from web3.middleware import geth_poa_middleware\n",
    "\n",
    "from src.receipt_log_handler import EthReceiptLogHandler"
   ]
  },
  {
   "cell_type": "code",
   "execution_count": 2,
   "id": "6f2f1784",
   "metadata": {},
   "outputs": [],
   "source": [
    "web3 = Web3(HTTPProvider(\"https://rpc3.fantom.network\"))\n",
    "web3.middleware_onion.inject(geth_poa_middleware, layer=0)\n",
    "\n",
    "contract_address = web3.toChecksumAddress('0x9FAD24f572045c7869117160A571B2e50b10d068')\n",
    "\n",
    "with open('abi/lending_pool_aave_v2.json', 'r') as f:\n",
    "    abi = json.loads(f.read())\n",
    "\n",
    "contract = web3.eth.contract(abi=abi, address=contract_address)\n",
    "handler = EthReceiptLogHandler()"
   ]
  },
  {
   "cell_type": "markdown",
   "id": "7964c50a",
   "metadata": {},
   "source": [
    "### Exercise 1\n",
    "Crawl dữ liệu event theo 5 loại: Deposit, Borrow, Withdraw, Repay và Liquidate trong 100.000 blocks gần nhất."
   ]
  },
  {
   "cell_type": "code",
   "execution_count": 3,
   "id": "aed4a97a",
   "metadata": {},
   "outputs": [],
   "source": [
    "end_block = web3.eth.block_number\n",
    "# 1000 latest blocks\n",
    "start_block = end_block - 99999\n",
    "batch_size = 20000\n",
    "\n",
    "event_types = {'Deposit', 'Borrow', 'Withdraw', 'Repay', 'LiquidationCall'}\n",
    "\n",
    "event_abi = []\n",
    "for _abi in abi:\n",
    "    if (_abi['type'] == 'event') and (_abi['name'] in event_types):\n",
    "        event_abi.append(_abi)"
   ]
  },
  {
   "cell_type": "code",
   "execution_count": 4,
   "id": "0da4b235",
   "metadata": {},
   "outputs": [],
   "source": [
    "event_abi_info = handler.build_list_info_event(event_abi)\n",
    "\n",
    "event_hashes = []\n",
    "event_subscriber = {}\n",
    "for event_info in event_abi_info:\n",
    "    event_hashes.append(event_info[1])\n",
    "    event_subscriber[event_info[1]] = event_info[0]"
   ]
  },
  {
   "cell_type": "code",
   "execution_count": 5,
   "id": "051cc8e7",
   "metadata": {},
   "outputs": [
    {
     "name": "stdout",
     "output_type": "stream",
     "text": [
      "Crawled events from block 46972720 to block 46973719\n",
      "Done! Total 8 events.\n"
     ]
    }
   ],
   "source": [
    "event_list = []\n",
    "from_block = start_block\n",
    "\n",
    "while from_block < end_block:\n",
    "    to_block = from_block + batch_size - 1\n",
    "    if to_block > end_block:\n",
    "        to_block = end_block\n",
    "\n",
    "    filter_params = {\n",
    "        \"fromBlock\": from_block,\n",
    "        \"toBlock\": to_block,\n",
    "        \"topics\": [event_hashes],\n",
    "        \"address\": [contract_address]\n",
    "    }\n",
    "\n",
    "    event_filter = web3.eth.filter(filter_params)\n",
    "    events = event_filter.get_all_entries()\n",
    "\n",
    "    for event in events:\n",
    "        log = handler.web3_dict_to_receipt_log(event)\n",
    "        eth_event = handler.extract_event_from_log(log, event_subscriber[log.topics[0]])\n",
    "        if eth_event is not None:\n",
    "            eth_event_dict = handler.eth_event_to_dict(eth_event)\n",
    "            event_list.append(eth_event_dict)\n",
    "\n",
    "    print(f'Crawled events from block {from_block} to block {to_block}')\n",
    "    web3.eth.uninstallFilter(event_filter.filter_id)\n",
    "    from_block = to_block + 1\n",
    "\n",
    "print(f'Done! Total {len(event_list)} events.')\n",
    "result = {\n",
    "    'blocksInfo': {\n",
    "        'startBlock': start_block,\n",
    "        'endBlock': end_block\n",
    "    },\n",
    "    'event': event_list\n",
    "}\n",
    "\n",
    "with open('result/aave1.json', 'w') as f:\n",
    "    result = json.dumps(result, indent=2)\n",
    "    f.write(result)"
   ]
  },
  {
   "cell_type": "markdown",
   "id": "a1c813cd",
   "metadata": {},
   "source": [
    "### Exercise 2\n",
    "Crawl dữ liệu transaction của những event đã crawl."
   ]
  },
  {
   "cell_type": "code",
   "execution_count": 6,
   "id": "83dd0b63",
   "metadata": {},
   "outputs": [
    {
     "name": "stdout",
     "output_type": "stream",
     "text": [
      "Done! Total 8 transactions\n"
     ]
    }
   ],
   "source": [
    "transaction_hashes = set([event.get('transaction_hash') for event in event_list])\n",
    "\n",
    "count = 0\n",
    "transactions = []\n",
    "begin_time = time.perf_counter()\n",
    "\n",
    "for tx_hash in transaction_hashes:\n",
    "    tx = web3.eth.get_transaction(tx_hash)\n",
    "    tx = json.loads(web3.toJSON(tx))\n",
    "    transactions.append(tx)\n",
    "    \n",
    "    count += 1\n",
    "    if count == 10:\n",
    "        print(f'Crawling {count} transactions takes {round(time.perf_counter() - begin_time,2)} seconds.')\n",
    "        \n",
    "        begin_time = time.perf_counter()\n",
    "        count = 0\n",
    "\n",
    "print(f'Done! Total {len(transactions)} transactions')\n",
    "\n",
    "with open('result/aave2.json', 'w') as f:\n",
    "    result = json.dumps({\n",
    "        'blocksInfo': {\n",
    "            'startBlock': start_block,\n",
    "            'endBlock': end_block\n",
    "        },\n",
    "        'transactions': transactions\n",
    "    }, indent=2)\n",
    "    f.write(result)\n"
   ]
  },
  {
   "cell_type": "markdown",
   "id": "6cfac4f6",
   "metadata": {},
   "source": [
    "### Exercise 3\n",
    "Lấy thông tin địa chỉ token được thực hiện giao dịch Deposit và Borrow nhiều nhất (gợi ý: địa chỉ token nằm trong trường reserve trong event)"
   ]
  },
  {
   "cell_type": "code",
   "execution_count": 7,
   "id": "7bcb1224",
   "metadata": {},
   "outputs": [
    {
     "name": "stdout",
     "output_type": "stream",
     "text": [
      "max frequency: 1\n",
      "tokens: ['0x21be370d5312f44cb42ce377bc9b8a0cef1a4c83']\n"
     ]
    }
   ],
   "source": [
    "reserves_freq = {}\n",
    "for event in event_list:\n",
    "    if event.get('event_type') not in {'BORROW', 'DEPOSIT'}:\n",
    "        continue\n",
    "\n",
    "    reserve = event.get('reserve')\n",
    "    if reserve not in reserves_freq:\n",
    "        reserves_freq[reserve] = 1\n",
    "    else:\n",
    "        reserves_freq[reserve] += 1\n",
    "\n",
    "max_freq = max(reserves_freq.values())\n",
    "most_reserved_tokens = [token for token, frequency in reserves_freq.items() if frequency == max_freq]\n",
    "\n",
    "result = {\n",
    "    'blocksInfo': {\n",
    "        'startBlock': start_block,\n",
    "        'endBlock': end_block\n",
    "    },\n",
    "    'maxFrequency': max_freq,\n",
    "    'tokens': most_reserved_tokens\n",
    "}\n",
    "\n",
    "print(f'max frequency: {max_freq}')\n",
    "print(f'tokens: {most_reserved_tokens}')\n",
    "\n",
    "with open('result/aave3.json', 'w') as f:\n",
    "    result = json.dumps(result, indent=2)\n",
    "    f.write(result)"
   ]
  },
  {
   "cell_type": "markdown",
   "id": "72efd3e6",
   "metadata": {},
   "source": [
    "### Exercise 4\n",
    "Lấy thông tin địa chỉ thực hiện transaction nhiều nhất trong lending pool (gợi ý: địa chỉ ví nằm trong trường from của dữ liệu transaction, nếu số transaction của các địa chỉ bằng nhau thì lấy địa chỉ bất kỳ)."
   ]
  },
  {
   "cell_type": "code",
   "execution_count": 8,
   "id": "a9864456",
   "metadata": {},
   "outputs": [
    {
     "name": "stdout",
     "output_type": "stream",
     "text": [
      "max frequency: 3\n",
      "wallets: [{'address': '0x0F0fa4EdEC62Dc8B86889615D2Eb97010c0e879c', 'totalCollateralETH': 748932510339873936533, 'totalDebtETH': 0, 'availableBorrowsETH': 599071115020865161833, 'currentLiquidationThreshold': 8499, 'ltv': 7999, 'healthFactor': 115792089237316195423570985008687907853269984665640564039457584007913129639935}]\n"
     ]
    }
   ],
   "source": [
    "wallet_addresses = [tx.get('from') for tx in transactions]\n",
    "\n",
    "wallet_address_freq = {}\n",
    "for address in wallet_addresses:\n",
    "    if address not in wallet_address_freq:\n",
    "        wallet_address_freq[address] = 1\n",
    "    else:\n",
    "        wallet_address_freq[address] += 1\n",
    "\n",
    "max_frequency = max(wallet_address_freq.values())\n",
    "most_active_wallets = [wallet for wallet, frequency in wallet_address_freq.items() if frequency == max_frequency]\n",
    "\n",
    "wallets_info = []\n",
    "for wallet in most_active_wallets:\n",
    "    wallet_info = contract.functions.getUserAccountData(web3.toChecksumAddress(wallet)).call()\n",
    "    wallets_info.append({\n",
    "        'address': wallet,\n",
    "        'totalCollateralETH': wallet_info[0],\n",
    "        'totalDebtETH': wallet_info[1],\n",
    "        'availableBorrowsETH': wallet_info[2],\n",
    "        'currentLiquidationThreshold': wallet_info[3],\n",
    "        'ltv': wallet_info[4],\n",
    "        'healthFactor': wallet_info[5],\n",
    "    })\n",
    "\n",
    "    \"\"\"\n",
    "    totalCollateralETH:          the total collateral in ETH of the user\n",
    "    totalDebtETH:                the total debt in ETH of the user\n",
    "    availableBorrowsETH:         the borrowing power left of the user\n",
    "    currentLiquidationThreshold: the liquidation threshold of the user\n",
    "    ltv:                         the loan to value of the user\n",
    "    healthFactor:                the current health factor of the user \n",
    "    \"\"\"\n",
    "    \n",
    "result = {\n",
    "    'blocksInfo': {\n",
    "        'startBlock': start_block,\n",
    "        'endBlock': end_block\n",
    "    },\n",
    "    'maxFrequency': max_frequency,\n",
    "    'wallets': wallets_info\n",
    "}\n",
    "\n",
    "print(f'max frequency: {max_frequency}')\n",
    "print(f'wallets: {wallets_info}')\n",
    "\n",
    "with open('result/aave4.json', 'w') as f:\n",
    "    result = json.dumps(result, indent=2)\n",
    "    f.write(result)"
   ]
  },
  {
   "cell_type": "markdown",
   "id": "c20b9759",
   "metadata": {},
   "source": [
    "### Exercise 5\n",
    "Dựa vào địa chỉ Oracle (Aave oracle) và abi/oracle_abi.json tìm giá (asset price) của token ở câu 3."
   ]
  },
  {
   "cell_type": "code",
   "execution_count": 9,
   "id": "01e249d7",
   "metadata": {},
   "outputs": [
    {
     "name": "stdout",
     "output_type": "stream",
     "text": [
      "token: 0x21be370D5312f44cB42ce377BC9b8a0cEF1A4C83\n",
      "token price: 0.24295934\n"
     ]
    }
   ],
   "source": [
    "oracle_address = web3.toChecksumAddress('0xC466e3FeE82C6bdc2E17f2eaF2c6F1E91AD10FD3')\n",
    "token = web3.toChecksumAddress(most_reserved_tokens[0])\n",
    "BASE18 = 10 ** 18\n",
    "\n",
    "with open('abi/oracle_abi.json', 'r') as f:\n",
    "    oracle_abi = json.loads(f.read())\n",
    "\n",
    "oracle_contract = web3.eth.contract(abi=oracle_abi, address=oracle_address)\n",
    "token_price = oracle_contract.functions.getAssetPrice(token).call() / BASE18\n",
    "\n",
    "print(f'token: {token}')\n",
    "print(f'token price: {token_price}')\n",
    "\n",
    "with open('result/aave5.json', 'w') as f:\n",
    "    result = json.dumps({\n",
    "        'token': token,\n",
    "        'price': token_price\n",
    "    }, indent=2)\n",
    "    f.write(result)"
   ]
  }
 ],
 "metadata": {
  "kernelspec": {
   "display_name": "venv",
   "language": "python",
   "name": "venv"
  },
  "language_info": {
   "codemirror_mode": {
    "name": "ipython",
    "version": 3
   },
   "file_extension": ".py",
   "mimetype": "text/x-python",
   "name": "python",
   "nbconvert_exporter": "python",
   "pygments_lexer": "ipython3",
   "version": "3.10.7"
  }
 },
 "nbformat": 4,
 "nbformat_minor": 5
}
