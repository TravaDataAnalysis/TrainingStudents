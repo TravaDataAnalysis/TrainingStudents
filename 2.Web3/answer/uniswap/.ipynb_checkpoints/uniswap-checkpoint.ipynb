{
 "cells": [
  {
   "cell_type": "code",
   "execution_count": 14,
   "metadata": {
    "pycharm": {
     "name": "#%%\n"
    }
   },
   "outputs": [],
   "source": [
    "import json\n",
    "import operator\n",
    "import sys\n",
    "import os\n",
    "from web3 import HTTPProvider\n",
    "from web3 import Web3\n",
    "from web3.middleware import geth_poa_middleware\n",
    "\n",
    "from src.receipt_log_handler import EthReceiptLogHandler"
   ]
  },
  {
   "cell_type": "code",
   "execution_count": 15,
   "metadata": {
    "pycharm": {
     "name": "#%%\n"
    }
   },
   "outputs": [
    {
     "name": "stdout",
     "output_type": "stream",
     "text": [
      "Success?: True\n"
     ]
    }
   ],
   "source": [
    "provider_url = \"https://bsc-dataseed4.binance.org/\"\n",
    "web3 = Web3(HTTPProvider(provider_url))\n",
    "web3.middleware_onion.inject(geth_poa_middleware, layer=0)\n",
    "\n",
    "print(f\"Success?: {web3.isConnected()}\")"
   ]
  },
  {
   "cell_type": "code",
   "execution_count": 16,
   "metadata": {
    "pycharm": {
     "name": "#%%\n"
    }
   },
   "outputs": [],
   "source": [
    "NUM_BLOCKS = 1000"
   ]
  },
  {
   "cell_type": "markdown",
   "metadata": {
    "pycharm": {
     "name": "#%% md\n"
    }
   },
   "source": [
    "# Uniswap"
   ]
  },
  {
   "cell_type": "markdown",
   "metadata": {},
   "source": [
    "## 1. Pool info\n",
    "Lâý thông tin của lp_token từ id "
   ]
  },
  {
   "cell_type": "code",
   "execution_count": 17,
   "metadata": {
    "pycharm": {
     "name": "#%%\n"
    }
   },
   "outputs": [
    {
     "data": {
      "text/plain": [
       "{'poolInfo': {'accCakePerShare': 5330856880711161149,\n",
       "  'lastRewardBlock': 21344688,\n",
       "  'allocPoint': 1100,\n",
       "  'totalBoostedShare': 4207200941257535711548185,\n",
       "  'isRegular': True},\n",
       " 'poolExplanation': {'accCakePerShare': 'Accumulated CAKEs per share, times 1e12',\n",
       "  'lastRewardBlock': 'Last block number that pool update action is executed',\n",
       "  'allocPoint': 'The amount of allocation points assigned to the pool',\n",
       "  'totalBoostedShare': 'The total amount of user shares in each pool. After considering the share boosts',\n",
       "  'isRegular': 'The flag to set pool is regular or special'}}"
      ]
     },
     "execution_count": 17,
     "metadata": {},
     "output_type": "execute_result"
    }
   ],
   "source": [
    "masterchefv2_addr = \"0xa5f8C5Dbd5F286960b9d90548680aE5ebFf07652\"\n",
    "pid = 3\n",
    "with open('./abi/masterchef_abi.json', 'r') as f:\n",
    "    abi = json.load(f)\n",
    "masterchefv2 = web3.eth.contract(abi=abi, address=masterchefv2_addr)\n",
    "\n",
    "# 1. pool info\n",
    "pool_info_array = masterchefv2.functions.poolInfo(pid).call()\n",
    "pool_info = {\n",
    "    'accCakePerShare': pool_info_array[0],\n",
    "    'lastRewardBlock': pool_info_array[1],\n",
    "    'allocPoint': pool_info_array[2],\n",
    "    'totalBoostedShare': pool_info_array[3],\n",
    "    'isRegular': pool_info_array[4],\n",
    "}\n",
    "\n",
    "# pool explanation. Reference: source code of the smart contract\n",
    "pool_explanation = {\n",
    "    'accCakePerShare': \"Accumulated CAKEs per share, times 1e12\",\n",
    "    'lastRewardBlock': \"Last block number that pool update action is executed\",\n",
    "    'allocPoint': \"The amount of allocation points assigned to the pool\",\n",
    "    'totalBoostedShare': \"The total amount of user shares in each pool. After considering the share boosts\",\n",
    "    'isRegular': \"The flag to set pool is regular or special\",\n",
    "}\n",
    "\n",
    "result = {\n",
    "    'poolInfo': pool_info,\n",
    "    'poolExplanation': pool_explanation,\n",
    "}\n",
    "json_obj = json.dumps(result, indent=2)\n",
    "with open('./uniswap1.json', 'w') as f:\n",
    "    f.write(json_obj)\n",
    "result"
   ]
  },
  {
   "cell_type": "markdown",
   "metadata": {},
   "source": [
    "## 2. LP token address\n",
    "Tìm địa chỉ lp_token."
   ]
  },
  {
   "cell_type": "code",
   "execution_count": 18,
   "metadata": {
    "pycharm": {
     "name": "#%%\n"
    }
   },
   "outputs": [
    {
     "name": "stdout",
     "output_type": "stream",
     "text": [
      "LP token address: 0x58F876857a02D6762E0101bb5C46A8c1ED44Dc16\n"
     ]
    }
   ],
   "source": [
    "# 2. lp token address\n",
    "lp_addr = masterchefv2.functions.lpToken(pid).call()\n",
    "print(f\"LP token address: {lp_addr}\")\n",
    "result = {\n",
    "    'lpTokenAddress': lp_addr,\n",
    "}\n",
    "\n",
    "json_obj = json.dumps(result, indent=2)\n",
    "with open('./uniswap2.json', 'w') as f:\n",
    "    f.write(json_obj)"
   ]
  },
  {
   "cell_type": "markdown",
   "metadata": {},
   "source": [
    "## 3. Reserves of LP pair\n",
    "Tìm địa chỉ lp_token. Dựa vào `abi/lp_token_abi.json` và địa chỉ lp_token tìm được lấy địa chỉ cặp swap và thông tin về reserves của cặp swap"
   ]
  },
  {
   "cell_type": "code",
   "execution_count": 19,
   "metadata": {
    "pycharm": {
     "name": "#%%\n"
    }
   },
   "outputs": [
    {
     "name": "stdout",
     "output_type": "stream",
     "text": [
      "token 0: 0xbb4CdB9CBd36B01bD1cBaEBF2De08d9173bc095c \n",
      "token 1: 0xe9e7CEA3DedcA5984780Bafc599bD69ADd087D56\n",
      "reserve 0: 350367166402620309803826\n",
      "reserve 1: 96437106924317431521944776\n"
     ]
    }
   ],
   "source": [
    "# 3. Reserves\n",
    "with open('./abi/lp_token_abi.json', 'r') as f:\n",
    "    abi = json.load(f)\n",
    "lp_contract = web3.eth.contract(abi=abi, address = lp_addr)\n",
    "\n",
    "token0 = lp_contract.functions.token0().call()\n",
    "token1 = lp_contract.functions.token1().call()\n",
    "print(f\"token 0: {token0} \\ntoken 1: {token1}\")\n",
    "\n",
    "reserves_info = lp_contract.functions.getReserves().call()\n",
    "reserve0 = reserves_info[0]\n",
    "reserve1 = reserves_info[1]\n",
    "print(f\"reserve 0: {reserve0}\\nreserve 1: {reserve1}\")\n",
    "\n",
    "result = {\n",
    "    token0: reserve0,\n",
    "    token1: reserve1,\n",
    "}\n",
    "json_obj = json.dumps(result, indent=2)\n",
    "with open('./uniswap3.json', 'w') as f:\n",
    "    f.write(json_obj)"
   ]
  },
  {
   "cell_type": "markdown",
   "metadata": {},
   "source": [
    "## 4. Crawl 5 events data\n",
    "Crawl dữ liệu event Swap, Approval, Burn, Mint và Transfer của lp_token trong 1000 blocks gần nhất"
   ]
  },
  {
   "cell_type": "code",
   "execution_count": 20,
   "metadata": {
    "pycharm": {
     "name": "#%%\n"
    }
   },
   "outputs": [
    {
     "name": "stdout",
     "output_type": "stream",
     "text": [
      "Event abi info: \n",
      "[[<model.receipt_log.EventSubscriber object at 0x7ff8b32e4040>, '0xd78ad95fa46c994b6551d0da85fc275fe613ce37657fb8d5e3d130840159d822', ['sender', 'to'], 'Swap'], [<model.receipt_log.EventSubscriber object at 0x7ff8b3045d00>, '0x8c5be1e5ebec7d5bd14f71427d1e84f3dd0314c0f7b2291e5b200ac8c7c3b925', ['owner', 'spender'], 'Approval'], [<model.receipt_log.EventSubscriber object at 0x7ff8b32e4760>, '0xdccd412f0b1252819cb1fd330b93224ca42612892bb3f4f789976e6d81936496', ['sender', 'to'], 'Burn'], [<model.receipt_log.EventSubscriber object at 0x7ff8b32e45b0>, '0x4c209b5fc8ad50758f13e2e1088ba56a560dff690a1c6fef26394f4c03821c4f', ['sender'], 'Mint'], [<model.receipt_log.EventSubscriber object at 0x7ff8b2b52c70>, '0xddf252ad1be2c89b69c2b068fc378daa952ba7f163c4a11628f55a4df523b3ef', ['from', 'to'], 'Transfer']]\n",
      "Event hash:\n",
      "['0xd78ad95fa46c994b6551d0da85fc275fe613ce37657fb8d5e3d130840159d822', '0x8c5be1e5ebec7d5bd14f71427d1e84f3dd0314c0f7b2291e5b200ac8c7c3b925', '0xdccd412f0b1252819cb1fd330b93224ca42612892bb3f4f789976e6d81936496', '0x4c209b5fc8ad50758f13e2e1088ba56a560dff690a1c6fef26394f4c03821c4f', '0xddf252ad1be2c89b69c2b068fc378daa952ba7f163c4a11628f55a4df523b3ef']\n",
      "Event subsriber:\n",
      "{'0xd78ad95fa46c994b6551d0da85fc275fe613ce37657fb8d5e3d130840159d822': <model.receipt_log.EventSubscriber object at 0x7ff8b32e4040>, '0x8c5be1e5ebec7d5bd14f71427d1e84f3dd0314c0f7b2291e5b200ac8c7c3b925': <model.receipt_log.EventSubscriber object at 0x7ff8b3045d00>, '0xdccd412f0b1252819cb1fd330b93224ca42612892bb3f4f789976e6d81936496': <model.receipt_log.EventSubscriber object at 0x7ff8b32e4760>, '0x4c209b5fc8ad50758f13e2e1088ba56a560dff690a1c6fef26394f4c03821c4f': <model.receipt_log.EventSubscriber object at 0x7ff8b32e45b0>, '0xddf252ad1be2c89b69c2b068fc378daa952ba7f163c4a11628f55a4df523b3ef': <model.receipt_log.EventSubscriber object at 0x7ff8b2b52c70>}\n"
     ]
    }
   ],
   "source": [
    "# 4. Events\n",
    "\n",
    "# The lp_events.json abi file only contains the 5 required events:\n",
    "# Swap, Approval, Mint, Burn and Transfer\n",
    "with open(\"./lp_events.json\", \"r\") as f:\n",
    "    event_abi = json.load(f)\n",
    "\n",
    "handler = EthReceiptLogHandler()\n",
    "\n",
    "# info about the events based on the ABI\n",
    "event_abi_info = handler.build_list_info_event(event_abi)\n",
    "print(f\"Event abi info: \\n{event_abi_info}\")\n",
    "\n",
    "event_hash = [event_info[1] for event_info in event_abi_info]\n",
    "print(f\"Event hash:\\n{event_hash}\")\n",
    "\n",
    "event_subscriber = {info[1]:info[0] for info in event_abi_info}\n",
    "print(f\"Event subsriber:\\n{event_subscriber}\")"
   ]
  },
  {
   "cell_type": "code",
   "execution_count": 21,
   "metadata": {
    "pycharm": {
     "name": "#%%\n"
    }
   },
   "outputs": [
    {
     "name": "stdout",
     "output_type": "stream",
     "text": [
      "Number of events: 1320\n"
     ]
    },
    {
     "data": {
      "text/plain": [
       "[{'type': 'event',\n",
       "  'event_type': 'SWAP',\n",
       "  'contract_address': '0x58f876857a02d6762e0101bb5c46a8c1ed44dc16',\n",
       "  'transaction_hash': '0xb69e668b231456aa8780d0427579c9a0ea0e6055a50e324b5257db60fb205c43',\n",
       "  'log_index': 127,\n",
       "  'block_number': 21343721,\n",
       "  'sender': '0xbaf9a5d4b0052359326a6cdab54babaa3a3a9643',\n",
       "  'to': '0xbaf9a5d4b0052359326a6cdab54babaa3a3a9643',\n",
       "  'amount0In': '0',\n",
       "  'amount1In': '14903878494438542600',\n",
       "  'amount0Out': '53943387749994333',\n",
       "  'amount1Out': '0'},\n",
       " {'type': 'event',\n",
       "  'event_type': 'SWAP',\n",
       "  'contract_address': '0x58f876857a02d6762e0101bb5c46a8c1ed44dc16',\n",
       "  'transaction_hash': '0x2011be1912e9ccc532686313d6962ef45d465189caa4e9c34c5eb3b46015b29b',\n",
       "  'log_index': 160,\n",
       "  'block_number': 21343721,\n",
       "  'sender': '0x05ad60d9a2f1aa30ba0cdbaf1e0a0a145fbea16f',\n",
       "  'to': '0x05ad60d9a2f1aa30ba0cdbaf1e0a0a145fbea16f',\n",
       "  'amount0In': '0',\n",
       "  'amount1In': '5000000000000000000',\n",
       "  'amount0Out': '18097093410022967',\n",
       "  'amount1Out': '0'}]"
      ]
     },
     "execution_count": 21,
     "metadata": {},
     "output_type": "execute_result"
    }
   ],
   "source": [
    "end_block = web3.eth.block_number\n",
    "start_block = end_block - NUM_BLOCKS + 1\n",
    "blocks_info = {\n",
    "    'startBlock': start_block,\n",
    "    'endBlock': end_block,\n",
    "}\n",
    "\n",
    "#create filter\n",
    "filter_params = {\n",
    "    \"fromBlock\": start_block,\n",
    "    \"toBlock\": end_block,\n",
    "    \"topics\": [event_hash],\n",
    "    \"address\":[lp_addr]\n",
    "}\n",
    "\n",
    "logs_filter = web3.eth.filter(filter_params)  \n",
    "event_logs = logs_filter.get_all_entries()  # get receipt logs of events\n",
    "events_list = []\n",
    "for event_log in event_logs:\n",
    "    log = handler.web3_dict_to_receipt_log(event_log)\n",
    "    eth_event = handler.extract_event_from_log(\n",
    "        log, event_subscriber[log.topics[0]])\n",
    "    if eth_event is not None:\n",
    "        eth_event_dict = handler.eth_event_to_dict(eth_event)\n",
    "        events_list.append(eth_event_dict)\n",
    "\n",
    "web3.eth.uninstall_filter(logs_filter.filter_id)\n",
    "\n",
    "print(f\"Number of events: {len(events_list)}\")\n",
    "\n",
    "result = {\n",
    "    'blocksInfo': blocks_info,\n",
    "    'events': events_list\n",
    "}\n",
    "\n",
    "json_obj = json.dumps(result, indent=2)\n",
    "with open('./uniswap4.json', 'w') as f:\n",
    "    f.write(json_obj)\n",
    "\n",
    "events_list[:2]"
   ]
  },
  {
   "cell_type": "markdown",
   "metadata": {},
   "source": [
    "## 5. Crawl transaction data from the events above\n",
    "Crawl dữ liệu transaction tương ứng với dữ liệu events."
   ]
  },
  {
   "cell_type": "code",
   "execution_count": 22,
   "metadata": {
    "pycharm": {
     "name": "#%%\n"
    }
   },
   "outputs": [
    {
     "name": "stdout",
     "output_type": "stream",
     "text": [
      "Transaction 0 done\n",
      "Transaction 50 done\n",
      "Transaction 100 done\n",
      "Transaction 150 done\n",
      "Transaction 200 done\n",
      "Transaction 250 done\n",
      "Transaction 300 done\n",
      "Transaction 350 done\n",
      "Transaction 400 done\n",
      "Transaction 450 done\n",
      "Transaction 500 done\n",
      "Transaction 550 done\n",
      "Transaction 600 done\n",
      "Transaction 650 done\n",
      "Transaction 700 done\n",
      "Transaction 750 done\n",
      "Transaction 800 done\n",
      "Transaction 850 done\n",
      "Transaction 900 done\n",
      "Transaction 950 done\n",
      "Transaction 1000 done\n",
      "Transaction 1050 done\n",
      "Transaction 1100 done\n",
      "Transaction 1150 done\n",
      "Transaction 1200 done\n",
      "Transaction 1250 done\n",
      "Transaction 1300 done\n",
      "Number of transactions: 1320\n"
     ]
    }
   ],
   "source": [
    "tx_hashes_list = [event['transaction_hash'] for event in events_list]\n",
    "# tx_list = [web3.eth.get_transaction(tx_hash) for tx_hash in tx_hashes_list]\n",
    "tx_list = list()\n",
    "for i, tx_hash in enumerate(tx_hashes_list):\n",
    "    tx = json.loads(web3.toJSON(web3.eth.get_transaction(tx_hash)))\n",
    "    tx_list.append(tx)\n",
    "    # print to console each 50th transactions to track the progress\n",
    "    if i%50 == 0:\n",
    "        print(f\"Transaction {i} done\")\n",
    "\n",
    "result = {\n",
    "    'blocksInfo': blocks_info,\n",
    "    'transactions': tx_list\n",
    "}\n",
    "print(f\"Number of transactions: {len(tx_list)}\")"
   ]
  },
  {
   "cell_type": "code",
   "execution_count": 24,
   "metadata": {
    "pycharm": {
     "name": "#%%\n"
    }
   },
   "outputs": [],
   "source": [
    "result = {\n",
    "    'blocksInfo': blocks_info,\n",
    "    'transactions': tx_list\n",
    "}\n",
    "json_obj = json.dumps(result, indent=2)\n",
    "with open('./uniswap5.json', 'w') as f:\n",
    "    f.write(json_obj)"
   ]
  },
  {
   "cell_type": "markdown",
   "metadata": {},
   "source": [
    "## 6. User with the most transactions from\n",
    "Tìm user giao dịch nhiều nhất"
   ]
  },
  {
   "cell_type": "code",
   "execution_count": 25,
   "metadata": {
    "pycharm": {
     "name": "#%%\n"
    }
   },
   "outputs": [],
   "source": [
    "# 6. User with the most transactions from\n",
    "from_user_tx = dict()\n",
    "for tx in tx_list:\n",
    "    from_user = tx['from']\n",
    "    if from_user not in from_user_tx:\n",
    "        from_user_tx[from_user] = 1\n",
    "    else:\n",
    "        from_user_tx[from_user] += 1\n",
    "\n",
    "max_from_user, max_frequency = max(from_user_tx.items(), key=operator.itemgetter(1))\n",
    "\n",
    "result = dict()\n",
    "result['blocksInfo'] = blocks_info\n",
    "result.update({\n",
    "    'maxFrequency': max_frequency,\n",
    "    'wallet': max_from_user\n",
    "})\n",
    "json_obj = json.dumps(result, indent=2)\n",
    "with open('./uniswap6.json', 'w') as f:\n",
    "    f.write(json_obj)"
   ]
  },
  {
   "cell_type": "markdown",
   "metadata": {},
   "source": [
    "## 7. Info of the user above\n",
    "Tìm thông tin của user ở câu 6 dựa trên địa chỉ masterchef và abi `abi/masterchef_abi.json`"
   ]
  },
  {
   "cell_type": "code",
   "execution_count": 26,
   "metadata": {
    "pycharm": {
     "name": "#%%\n"
    }
   },
   "outputs": [],
   "source": [
    "# 7. User info\n",
    "user_info = masterchefv2.functions.userInfo(pid, max_from_user).call()\n",
    "user_info\n",
    "\n",
    "result = {\n",
    "    'userInfo': user_info,\n",
    "    'infoExplanation': {\n",
    "        'amount': \"amount of LP token that the user provide\",\n",
    "        'amount': \"to calculate correct amount for reward pending\"\n",
    "    }\n",
    "}\n",
    "json_obj = json.dumps(result, indent=2)\n",
    "with open('./uniswap7.json', 'w') as f:\n",
    "    f.write(json_obj)"
   ]
  }
 ],
 "metadata": {
  "kernelspec": {
   "display_name": "Python 3.9.2 64-bit",
   "language": "python",
   "name": "python3"
  },
  "language_info": {
   "codemirror_mode": {
    "name": "ipython",
    "version": 3
   },
   "file_extension": ".py",
   "mimetype": "text/x-python",
   "name": "python",
   "nbconvert_exporter": "python",
   "pygments_lexer": "ipython3",
   "version": "3.9.2"
  },
  "orig_nbformat": 4,
  "vscode": {
   "interpreter": {
    "hash": "916dbcbb3f70747c44a77c7bcd40155683ae19c65e1c03b4aa3499c5328201f1"
   }
  }
 },
 "nbformat": 4,
 "nbformat_minor": 2
}
