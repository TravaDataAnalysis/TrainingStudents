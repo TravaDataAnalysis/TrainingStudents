{
 "cells": [
  {
   "cell_type": "markdown",
   "metadata": {},
   "source": [
    "# Những kiến thức cần tìm hiểu trước khi thu thập dữ liệu trên blockchain\n",
    "\n",
    "1. Ethereum Virtual Machine là gì? [link](https://ethereum.org/en/developers/docs/evm/)\n",
    "2. Application Binary Interface là gì? [link](https://www.quicknode.com/guides/solidity/what-is-an-abi) và [link](https://docs.soliditylang.org/en/develop/abi-spec.html#abi-json)\n",
    "3. Light, full and archive ethereum node là gì? [link](https://www.quicknode.com/guides/infrastructure/ethereum-full-node-vs-archive-node) và [link](https://link.springer.com/chapter/10.1007/978-1-4842-3492-1_2)\n",
    "4. Các nguồn tham khảo\n",
    "    * [Ethereum docs](https://ethereum.org/en/developers/docs/)\n",
    "    * [Web3 python docs](https://web3py.readthedocs.io/en/stable/)\n",
    "    * [Ethereum JSON-RPC - Postman](https://documenter.getpostman.com/view/4117254/ethereum-json-rpc/RVu7CT5J)\n"
   ]
  },
  {
   "cell_type": "markdown",
   "metadata": {},
   "source": [
    "# Cách lấy node provider urls\n",
    "> Dữ liệu được lưu trên các blockchain nodes, ta sử  dung các provider urls kết nối với các nodes này\n",
    "1. Tìm kiếm \"rpc node\" của các mạng blockchain (eg. ethereum rpc, bsc rpc, ftm rpc, etc.)\n",
    "2. Tại chuỗi thực hành này, mình sử dụng provider url của binance smart chain ([bsc rpc](https://docs.bscscan.com/misc-tools-and-utilities/public-rpc-nodes))\n"
   ]
  },
  {
   "cell_type": "markdown",
   "metadata": {},
   "source": [
    "# Kết nối binance smart chain public node\n",
    "1. Kiểm tra kết nối với node của mainnet\n",
    "2. Lấy dữ liệu của block mới nhất"
   ]
  },
  {
   "cell_type": "code",
   "execution_count": 1,
   "metadata": {},
   "outputs": [
    {
     "name": "stdout",
     "output_type": "stream",
     "text": [
      "Successful Connection: True \n",
      "The latest blocknumber is: 21061222\n"
     ]
    }
   ],
   "source": [
    "from web3 import HTTPProvider\n",
    "from web3 import Web3\n",
    "from web3.middleware import geth_poa_middleware\n",
    "import time\n",
    "import json\n",
    "\n",
    "archive = \"https://bsc-dataseed1.binance.org/\"\n",
    "web3 = Web3(HTTPProvider(archive))\n",
    "web3.middleware_onion.inject(geth_poa_middleware, layer=0)\n",
    "\n",
    "#check connect successfull\n",
    "isConnected = web3.isConnected()\n",
    "print(f\"Successful Connection: {isConnected} \")\n",
    "#check latest blocknumber\n",
    "blocknumber = web3.eth.blockNumber\n",
    "print(f\"The latest blocknumber is: {blocknumber}\")"
   ]
  },
  {
   "cell_type": "code",
   "execution_count": 27,
   "metadata": {},
   "outputs": [
    {
     "data": {
      "text/plain": [
       "AttributeDict({'difficulty': 2,\n",
       " 'proofOfAuthorityData': HexBytes('0xd88301010b846765746888676f312e31372e36856c696e75780000005d43d2fd63b6ad9d98dc9c166e92bf38a008aaf919c53d604a78ea239b251fd9bea7e07b0a810502a6855bcaf545056f467258e360223285ffa339eadc7243dbe8784fc701'),\n",
       " 'gasLimit': 75284741,\n",
       " 'gasUsed': 11027771,\n",
       " 'hash': HexBytes('0x2e9229b6696688c7c9b2fa684c5025b77c99bcee45d8b0310f76c648200745e0'),\n",
       " 'logsBloom': HexBytes('0xc02482804cc0903457201c4095424a3a700900dbd914a018b6d069f441a4450000010355012551ac528502d008218102a0914d0002a1500e503c0681a6b79fd62709c0222103148393290048e081002ea8146013d1f60a068b843840c95c8958125812a403a2856183c083310200d80a5a7001e02219948040d12038844284829205fa4b043b07416deb2486409a1a8104244e8511142719a3595151f0229b3082904241641f4a50f8806189831a128082366324e385c10150012668910f4a483088241382028e220b1428458252b4102600f8064549f03300a000ae1604f12100dd549120866e9521040ae204fbc0e8520c041c4041804a9f8733811a2420d4'),\n",
       " 'miner': '0x3f349bBaFEc1551819B8be1EfEA2fC46cA749aA1',\n",
       " 'mixHash': HexBytes('0x0000000000000000000000000000000000000000000000000000000000000000'),\n",
       " 'nonce': HexBytes('0x0000000000000000'),\n",
       " 'number': 21036544,\n",
       " 'parentHash': HexBytes('0xa091b0762c165968bce4a0ec54ce187cc43483975c0ded9965fd2e7af369ba3f'),\n",
       " 'receiptsRoot': HexBytes('0x401110db879d937312e68d917573b0653600cca91f57dec62d0dea9498b191b9'),\n",
       " 'sha3Uncles': HexBytes('0x1dcc4de8dec75d7aab85b567b6ccd41ad312451b948a7413f0a142fd40d49347'),\n",
       " 'size': 31058,\n",
       " 'stateRoot': HexBytes('0x479d2dee5b823d754de3b23c374fd9f595cd3f68f0336be7092864a19b89910b'),\n",
       " 'timestamp': 1662290296,\n",
       " 'totalDifficulty': 41838343,\n",
       " 'transactions': [HexBytes('0xd9322bc675f752c2ed236cb9f3a53c5b98584a3d877a3b0221df6caf1e348759'),\n",
       "  HexBytes('0x34eded9e88d3a4b16a179857b5eae2192663a7072aa740b6dc480b9e711115f7'),\n",
       "  HexBytes('0xcdcea9f1f27cf42b7efb511937ded913cc606a8e344049c51420deb2e8b96927'),\n",
       "  HexBytes('0x574f8480a8964779f1d0271594ef12e63336a19d6c055bd003f18a9c0e2e38af'),\n",
       "  HexBytes('0x5a828a76a14e3c427bce8984f34cbc41bbbaad3e9866f82423162a4752e84c69'),\n",
       "  HexBytes('0x20bce73fd9b5b205680d2c4099fdb1413a78ab0204186c43b442c20abbf61fae'),\n",
       "  HexBytes('0xf486b65a2cca275fa8ca4ad1cf0fdbc0fb3c690e7fcef997ec73d67720e47f27'),\n",
       "  HexBytes('0xe57728d0697776b92f1452f0aa0e71a6cf8f7d53b5d19011d497dba5d629cb98'),\n",
       "  HexBytes('0xd563d5b4771452203974e041d4a3511f3fb53cfbb8809cb0ecd34d39e41acf66'),\n",
       "  HexBytes('0x8e06b2bcba62e39e1e43f9ce6a712af1ed2cc41b770a90b1dc6d328c697dee40'),\n",
       "  HexBytes('0x52a86ef265762ce2e43cde40bb6075d1d3a128298cbe9c9768b0482242bb1890'),\n",
       "  HexBytes('0x415771b7e429c5c697ae420b04634c136b0e91fbd68a84ab0523e9ff2e8cfba1'),\n",
       "  HexBytes('0x8242aec565ce104716fe5721d380089466bed27e469321c0c2ec56c4a52f52bc'),\n",
       "  HexBytes('0x983cb1bd90e7b74b218764e4f57af2f4579f32b47f8055328feada8e0e134024'),\n",
       "  HexBytes('0xc0c2b00b00cf20eeb93cd97bca11f4eb1182fc01e00faf9812f549bf5451fbdb'),\n",
       "  HexBytes('0x31dd93d69d58d687d3a303925a7ef4893c3fa8d9dc6734155d8da8a211cd87db'),\n",
       "  HexBytes('0x877369a7c5688d130757be5bc24db3d353942bc87678f439d54aee14fa09e786'),\n",
       "  HexBytes('0x3bb920fa49678c2951d52cd65ea2e2f59b3551ec5c5f9fb18e679922e30d03f2'),\n",
       "  HexBytes('0xc247137e955a0699645c655a7ab4b31b013163f5f89408af8a28f837341aef92'),\n",
       "  HexBytes('0x378701cd70d4d62093e851de6ac3ffd062a177f01246b75b89f8717363f0d5b3'),\n",
       "  HexBytes('0xc7886afe61c7cfc4de83370f4cd93fb4d95ab10fa40aa07488b5f3420c4fd860'),\n",
       "  HexBytes('0x97ac9216438e4b802f4609213d72b5ef823e2870258ed917fc3c15b98570c9d7'),\n",
       "  HexBytes('0x9917dcd540c85156143b5fc0cd5a3e29bbaef6ba8283e86b6f98288c02bbbd68'),\n",
       "  HexBytes('0xd987a03ce2f71065b013b858075f2b9f96f022aefa25d73cabc959f360f87cdb'),\n",
       "  HexBytes('0x0a7795015cf9c079d8fcd13b7bda1817ab111d644de45d5828bf7bbf06fbc009'),\n",
       "  HexBytes('0x798673b8c52db32364476056c266be1dceef05693716a6cd10d1750f49ae5a3e'),\n",
       "  HexBytes('0x210fe20a04b3b119397760b3baef7d20a02fede5a0f7841271f5781ae9046800'),\n",
       "  HexBytes('0xc228f54635804468ac8ad61348d8bd5d5acdfcff715cb8c8d7215e0eb3e7f812'),\n",
       "  HexBytes('0x10e1024f85e0c956bc01457d160ffada30828abef3efe5b8061b8500e368c573'),\n",
       "  HexBytes('0xa7f5a29e243a31310396ac8ba730dde345135715736e91195fb56b8f70d6611f'),\n",
       "  HexBytes('0x7323d832f1909df0006199841e03c4cce87845088307d8196e35256473db72f0'),\n",
       "  HexBytes('0x8f7272bb5ae5be9c6526e8da34d3957b4e307fd25a2c4befe1d43e48d42277b7'),\n",
       "  HexBytes('0x60343bb45427d97b732ce5769766f3830b2ac7aa0bc42f33cb48376b910d57ad'),\n",
       "  HexBytes('0xec9b4c826007dfd5e8cfd674f3b45e9f5910f219a282806ded36255d0ff357dd'),\n",
       "  HexBytes('0x77de909a998fa985f755529851655af3654c0be0bacc139180873f9bbadd925a'),\n",
       "  HexBytes('0xb2ca418f4095bc1cc973057ac65704a80ed256a9065158336207030374069381'),\n",
       "  HexBytes('0xcafea53f8e26c038b13c8db47d4967d08dae74db4ceee8c30c9db77b1b0e4775'),\n",
       "  HexBytes('0x88ffd8b12a8e3f766772c0cff74f4057ee9e8db9281d608dc72485702aa5dbbc'),\n",
       "  HexBytes('0x59c8bdef3626fb7d8ea7710af6c6ce9e32de07fcd6898ff635042f78f42ec0a0'),\n",
       "  HexBytes('0x2b420f0d2de80d53425193d82e060c216db414d2ac81885eb93d7f9a5e79fe44'),\n",
       "  HexBytes('0xaff37357193cf391291ce644a25d5ad9398c2d26368e8b935f30b91bb36381b8'),\n",
       "  HexBytes('0xb073816796d08cb09f021eb9088166311969cc2ccf79e135274271c04ed66c75'),\n",
       "  HexBytes('0x5dbf720b86b8c0ee94042ea78495c24d51d43e0140946c0a2a84109e076206b5'),\n",
       "  HexBytes('0xa7096c769e0161ebf8368eeb7f4d533ffab883f3d98009bcb235c742fec191d0'),\n",
       "  HexBytes('0x257acea05d110a4c6256f697df6ea4ddb037aca00b2b9034c26ddb23282aa870'),\n",
       "  HexBytes('0x7596b31217d6eefa4f83e80ec4ffa2ce6d892899fb0bffbcee0b2e8307ab0d84'),\n",
       "  HexBytes('0x6b324c4a2a56c7bf716026cfb5f380e135cb203ee28d4f290baa2e2978c88b4a'),\n",
       "  HexBytes('0x44ae6ad8531cebc389c20e795dac128e4fe5f6f70356a5736f2b1c32b26a3720'),\n",
       "  HexBytes('0xb686f0d1a369f3a1937175edd7941daac3d81c8d04be97be1ff42b106bf0e65d'),\n",
       "  HexBytes('0xbb779d68189bc81fb5e16a2cc7d4a5361395c56d49462a2e454c16b7e6b683fc'),\n",
       "  HexBytes('0xbf0de9b54e00a3408591ff83022841e368075cf49a2f15f78ff2a508560b89bf'),\n",
       "  HexBytes('0xa76c7837ec17bfcc9e3ed0e254caa6c736296cdc3c82ff541058556a411d37ee'),\n",
       "  HexBytes('0x61cb3ec6464214e66d23824814c8dc4e21befa5090388c09d81458bd778d3f96'),\n",
       "  HexBytes('0x81de8b77ce9e6facb6dbd18454e8374787096a347f58faa719d31c64f5d17297'),\n",
       "  HexBytes('0xf5d3c7cf0b03111340b8cb2ca5b053089a6815140d4afa1e48be46c89d26af0f'),\n",
       "  HexBytes('0x4ca75cc5da37b213d8be047692817073ed1fb3fa285aa21e1602d6cdedff1a8f'),\n",
       "  HexBytes('0x8f8827bd7f0dd87c3b3557ed322cc91569d4459401c03a519dffb4bd6aad1bcc'),\n",
       "  HexBytes('0xdbe1cb14d2da743f28c3fe5cd387e70fef099fec82135bb4e6ded0f4a287241f'),\n",
       "  HexBytes('0x62ce7dfb3d03a6f133aa81acfe51b660a571fe321a451133d1f96104015b9802'),\n",
       "  HexBytes('0x67a70ce7fdb85a950f8fe78e6da82d55e455b8a7c43f47c877e7d0bc805a2d91'),\n",
       "  HexBytes('0xd2dd1fffdf5c9ba48163077638a7ae97c8f67ca67430a96fad92dc6354c46343'),\n",
       "  HexBytes('0x4f5eb569642af4451b6922a7211277a3ec92227f6a31654bc85108cc13fcdceb'),\n",
       "  HexBytes('0x390f383d3c680387e9cdc0c034ce86ea0aa0f2fc2f1784849e4a889de0c3f837'),\n",
       "  HexBytes('0x5d0a1935208a8a3c15e7fdd166ec5043547dae1fab6d7d933b70affc59b6a489'),\n",
       "  HexBytes('0xfc86ca15077a74017300a1e791bab7e4e622835acb600e4a03bbe4f893ba58d7'),\n",
       "  HexBytes('0x267e6cff3e2ac0925952dba0c962fa073cea5e903adecae8e4f38ff358a93ae3'),\n",
       "  HexBytes('0x3581097b7bfba28d51aa15226406c412716d90ee2d74d3db785f9bc68e9b27e9'),\n",
       "  HexBytes('0x8034d0196bfc0e5191ed5326c190dfa9bfb7ad67e14260b6fe8e571f0c5eb901'),\n",
       "  HexBytes('0x945c45d2c79a8537c446803a303a120ac4751e13e77f862e24a8a93530ce0e28'),\n",
       "  HexBytes('0x5a66cca2cc40396c508f30af31a584d88559cfcb47519b7747eea8b8a6363272'),\n",
       "  HexBytes('0xe988c23b0ab32175599fdb7961a230ee22055a5b92ff8ad30b2631d501223575'),\n",
       "  HexBytes('0xb03b40d1a41265069ba53f1670fa0d9574df407c13455cdf23291e5210fce912'),\n",
       "  HexBytes('0xd6653c795fe2d47a22ba59047fd4ae365697c54ac03c4daaf2530a947c6c6194'),\n",
       "  HexBytes('0xfb9dc91e54a6dfe3ac7d5eb29baaad24cff231ae7fe10f11e1d6127ccc2c5f98'),\n",
       "  HexBytes('0x7aefc918cd0cd8d05758ba8f436de6e47cabd218b585e56a55295afdac3cec1e'),\n",
       "  HexBytes('0xa7dfc941eb0b1cfaea668eea97532baf75e18be3bb3dcbb69a767a0db1596822'),\n",
       "  HexBytes('0x17d24d4135f8aa166cf06076dd52b2d75caa92bd67e4c9dfb36c114388f3bfa9'),\n",
       "  HexBytes('0xe98c47d9540565650fd7eb6d3f87c40f2a3aab24b4c97e16375d93af9c5973d9'),\n",
       "  HexBytes('0x868b244c33d726d7aa31b1fc04c58d81c72392b488f6b665abb3e0cde4a776af'),\n",
       "  HexBytes('0xe2da4e991d72df8cb1bc1a50904f6abccc34c764be483fd21288ecc5547ca360'),\n",
       "  HexBytes('0xddeec51517cc3fe06883f2f1d1343f85d2170cb75f3303ba784b5bee04d10764'),\n",
       "  HexBytes('0xb9e2f47999d42c71b12fa087ea1de18439d12f5813bcd22db01622d0135dcc59'),\n",
       "  HexBytes('0xe740fee77e692c3cdb6605cc7ed81d16f3b317be173e87057aae697bc89cd53d'),\n",
       "  HexBytes('0x4c7a45c92832ead660e041f4a8ac0bfb8040863b61282214ab21fc8caeadd13e'),\n",
       "  HexBytes('0x7ee85ca8668709ee0aa2e2c1562b25e4d459ff43a84d63f1676c64322c5ce5a0'),\n",
       "  HexBytes('0xdded8222d9bc4ffe19d427be0a003f6b578b8a77cc3b53a4957921b6be66b59f'),\n",
       "  HexBytes('0x26117f4b481c22b8bba6d46bf7fa4f14540311e8060d3de256766645e516ba4b'),\n",
       "  HexBytes('0x5d5c4009877da0d7243d3f47fca5e4ad4926d8eead8f26101ca045e9a6e8d466'),\n",
       "  HexBytes('0x6eb7e190e935356878ae05b06eb9e3a2e75188ca4a060c02c5264c9216a5d2e3'),\n",
       "  HexBytes('0xd9ebe63961d0a8d2b74f4b8298292522860a0ad3badb33db053aaddd073afc6c'),\n",
       "  HexBytes('0x18caa71c4d5c18c9043fb2ba03494c79c8b904ac11165b7f5a2895260baa06b0'),\n",
       "  HexBytes('0x6a72345c1d1d119e5a6dea3b1a589f0a06c1fd61e87444a851cf6aff3db77704'),\n",
       "  HexBytes('0xa16727b7a77b08e69721650959e14c19259279a247e59783114cc78f0a1c8576'),\n",
       "  HexBytes('0xa4d90cf2be166c13835aa50bcf25b488f40b6e831dfe24f25e4ee7aaee504bb0'),\n",
       "  HexBytes('0x586dc9813dada182f3e3283dadbe1addb820f0af899283928233dc4634663379'),\n",
       "  HexBytes('0xd9b69bbbedfd0d673b57b071d537072c6f32eddc9c5ff69e90f230914fe57aec'),\n",
       "  HexBytes('0x369bb29309cdd02ab6a226a0840f6612eba7da940cbce7117088a6f89b144344'),\n",
       "  HexBytes('0x9342afd2ecf4d0a989f3d11aaad13408353667a805e60521a4c3f6281baedefc'),\n",
       "  HexBytes('0x148ece968e115f6dff8a06c50d9475d18677ff40ec5b33dbd05a65374ad83dff'),\n",
       "  HexBytes('0x8bd80d3486709e0386127570ca9a2cea722fba62652f6904f976740fb88aa8c0'),\n",
       "  HexBytes('0x8e0f551fb6befe6b0c6fe3db81080215e0772680be42159cf925a9f44a3ee352'),\n",
       "  HexBytes('0x505d43d2e615379c351685b1c72a0a4dfb0b2ca4a057861480c2938669bdb1ff'),\n",
       "  HexBytes('0xe7b7d77a963c915644bad14b690022f43a7a4de365238f331f1627e268595f05'),\n",
       "  HexBytes('0xf47f90aa58fcb7709594660a579934b471c8f5e82972143a8e1460d21da6b8dd'),\n",
       "  HexBytes('0x17b788ec8c04ff0df6c25e5fde7b488c549b58a945437cbdfe4693fe9a0bbb41'),\n",
       "  HexBytes('0x0100c002cbd88bcd8e031faab1dc65b690fdd0d018c9d7416387951b990572c1')],\n",
       " 'transactionsRoot': HexBytes('0xa470030961bb4f8616cece72ca827cb8527fac4e88874c54414968526f8f5b69'),\n",
       " 'uncles': []})"
      ]
     },
     "execution_count": 27,
     "metadata": {},
     "output_type": "execute_result"
    }
   ],
   "source": [
    "#get latest block transaction data\n",
    "data = web3.eth.get_block(blocknumber)\n",
    "data"
   ]
  },
  {
   "cell_type": "markdown",
   "metadata": {},
   "source": [
    "# Thu thập dữ liệu của smart contract\n",
    "> Thực hành thu thập dữ liệu của lending smart contract Valas trên Binance smart chain. Để có thể lấy dữ liệu của Valas ta cần có địa chỉ smart contract và ABI của Valas. Địa chỉ smart contract không được Valas công bố nhưng bằng những nghiệp vụ chuyên dụng mình đã thăm dò và lấy được địa chỉ này trên [BSCscan](https://bscscan.com/)"
   ]
  },
  {
   "cell_type": "markdown",
   "metadata": {},
   "source": [
    "## Cách lấy ABI\n",
    "#### Đối với các smart contract cho phép lấy ABI trên BSCscan, ta có thể  thực hiện các bước sau để lấy ABI:  \n",
    "1. Truy cập [BSC Scan](https://bscscan.com/).\n",
    "2. Nhập địa chỉ smart contract address vào search bar.\n",
    "3. Kéo xuống và chon tab “Contract”. <br>\n",
    "![image.png](../images/contract.png)\n",
    "4. Kéo xuống thêm một tý, chúng ta sẽ thấy phần ABI.\n",
    "5. Chọn nút copy ABI  hoặc download dưới dạng json. <br>\n",
    "![image.png](../images/ABI.png)\n",
    "\n",
    "> Một số smart contract không công bố ABI, ta có thể tìm kiếm source code của nó trên github, deploy và lấy ABI.\n",
    "\n",
    "> Đối với các smart contract không công bố code cũng như ABI như Valas, mình đã đọc [docs](https://docs.valasfinance.com/) của nó. Tại [đây](https://docs.valasfinance.com/#why-valas), mình thấy rằng Valas sử dụng công nghệ của Aave Finance. Do Aave finance public [ABI](https://docs.aave.com/developers/v/2.0/deployed-contracts/deployed-contracts) nên mình có thể sử dụng ABI này. Nói chung, một số điểm trên ABI của Aave  có thể  đã bị Valas thay đổi nhưng mình đã thử và dùng được nên kệ đi :v.    \n"
   ]
  },
  {
   "cell_type": "markdown",
   "metadata": {},
   "source": [
    "# Thực hành thu thập dữ liệu của Valas\n",
    "> Tại đây, mình sẽ demo một số cách lấy dữ liệu của một smart contract. Chúng ta có hai loại dữ liệu cần lấy đó là dữ liệu từ các giao dịch (transaction) của smart contract và dữ liệu trạng thái là các thông tin từ các phần tử liên quan với smart contract (với lending pool Valas, các phần tử  này là các tokens và users).\n",
    "\n",
    "> Việc thu thập dữ liệu sẽ dựa trên ABI của smart contract."
   ]
  },
  {
   "cell_type": "markdown",
   "metadata": {},
   "source": [
    "### Thu thập dữ liệu tokens được giao dịch trong lending pool Valas\n",
    "> Mình sử dụng một số hàm trong smart contract để lấy dữ liệu từ các tokens được giao dịch trong Valas. Đầu tiên sẽ lấy danh sách địa chỉ smart contract của các tokens được giao dịch. Sau đó, lấy thông tin của tokens dựa trên địa chỉ của nó. Thông tin của user được lấy tương tự như vậy (Không có hàm lấy danh sách users đâu nhé vì số lượng users rất nhiều :v)\n",
    "\n",
    "> Cấu trúc các hàm này trong ABI thường sẽ có trường **\"type\": \"view\"** hoặc có chữ **get** đầu tiên của tên hàm"
   ]
  },
  {
   "cell_type": "code",
   "execution_count": 40,
   "metadata": {},
   "outputs": [],
   "source": [
    "#lấy cấu trúc dữ liệu của abi\n",
    "with open(\"../abi/lending_pool_aave_v2.json\", \"r\") as f:\n",
    "    abi = json.loads(f.read())\n",
    "#Địa chỉ của valas  \n",
    "address = \"0xE29A55A6AEFf5C8B1beedE5bCF2F0Cb3AF8F91f5\"\n",
    "#Sử dụng web3 thiết lập đối tượng contract để sử dụng các phương thức\n",
    "contract = web3.eth.contract(abi=abi, address=address)"
   ]
  },
  {
   "cell_type": "markdown",
   "metadata": {},
   "source": [
    "> **NOTE**: Nên kiểm tra xem chuỗi byte code có phải là một địa chỉ trên blockchain hay không: **web3.isAddress(address)**. Nếu là địa chỉ, nên có thêm một bước convert địa chỉ thành địa chỉ thực trên web3 bằng **web3.toChecksumAddress(address)**. Do địa chỉ trên của mình đã là địa chỉ thực của Valas trên BSC nên không cần hai bước này nữa."
   ]
  },
  {
   "cell_type": "markdown",
   "metadata": {},
   "source": [
    "### Lấy danh sách địa chỉ tokens được sử dụng trong Valas\n",
    ">Ta có thể tìm các hàm hỗ trợ lấy dữ liệu trong file ABI. Tại đây, mình đã sử dụng hàm **getReservesList** trong *abi/lending_pool_aave_v2.json*. Các bạn có thể thấy cấu trúc của nó ở hình dưới hoặc vào file này tìm kiếm thử.\n",
    "\n",
    "![image.png](../images/list_token.png)\n"
   ]
  },
  {
   "cell_type": "code",
   "execution_count": 41,
   "metadata": {},
   "outputs": [
    {
     "data": {
      "text/plain": [
       "['0xbb4CdB9CBd36B01bD1cBaEBF2De08d9173bc095c',\n",
       " '0xe9e7CEA3DedcA5984780Bafc599bD69ADd087D56',\n",
       " '0x8AC76a51cc950d9822D68b83fE1Ad97B32Cd580d',\n",
       " '0x55d398326f99059fF775485246999027B3197955',\n",
       " '0x1AF3F329e8BE154074D8769D1FFa4eE058B1DBc3',\n",
       " '0x0E09FaBB73Bd3Ade0a17ECC321fD13a19e81cE82',\n",
       " '0x2170Ed0880ac9A755fd29B2688956BD959F933F8',\n",
       " '0x7130d2A12B9BCbFAe4f2634d864A1Ee1Ce3Ead9c',\n",
       " '0x14016E85a25aeb13065688cAFB43044C2ef86784']"
      ]
     },
     "execution_count": 41,
     "metadata": {},
     "output_type": "execute_result"
    }
   ],
   "source": [
    "contract.functions.getReservesList().call()"
   ]
  },
  {
   "cell_type": "markdown",
   "metadata": {},
   "source": [
    "> **Note**: Chúng ta có thể gọi danh sách địa chỉ này trong quá khứ thông qua block number trong hàm **contract.functions.getReservesList().call(block_identifier = *blocknumber*)**. Ngoài ra ta có thể thiết lập các điều kiện khác của hàm call tại [link](https://web3py.readthedocs.io/en/stable/contracts.html?highlight=call#web3.contract.ContractFunction.call)"
   ]
  },
  {
   "cell_type": "markdown",
   "metadata": {},
   "source": [
    "### Lấy thông tin của một token trong Valas\n",
    "> Để lấy thông tin của một token trong Valas mình sử dụng hàm **getReserveData**. Tại đây mình sẽ thử lấy dữ liệu của nó trong quá khứ cho anh em xem :v. Oh, quên mất tại đây mình sử dụng full node provider. Full node chỉ lưu các giá trị này tại 128 blocks gần nhất thui (Đọc tìm hiểu full, archive và light node ở đầu series này đi nhé, quan trọng đấy). Như vậy, mình sẽ thử lấy dữ liệu tại block cách block mới nhất khoảng 10 blocks."
   ]
  },
  {
   "cell_type": "code",
   "execution_count": 49,
   "metadata": {},
   "outputs": [
    {
     "data": {
      "text/plain": [
       "((92234085768165225799488,),\n",
       " 1018375418148918668905998408,\n",
       " 1072578337570395022242402569,\n",
       " 15952978777540686263393800,\n",
       " 75313811694897412269457780,\n",
       " 10000000000000000000000000,\n",
       " 1662351536,\n",
       " '0xB11A912CD93DcffA8b609b4C021E89723ceb7FE8',\n",
       " '0x2Adc0c94A055f1FF64A35672D30Eb523ec647816',\n",
       " '0xE7CDC4e53915D50B74496847EeBa7233caE85CE5',\n",
       " '0xe4630EaE1C2b8B30F9b4AADD355522Ec9c18bfe4',\n",
       " 0)"
      ]
     },
     "execution_count": 49,
     "metadata": {},
     "output_type": "execute_result"
    }
   ],
   "source": [
    "blocknumber = web3.eth.blockNumber - 10\n",
    "contract.functions.getReserveData(\"0xbb4CdB9CBd36B01bD1cBaEBF2De08d9173bc095c\").call(block_identifier=blocknumber)"
   ]
  },
  {
   "cell_type": "markdown",
   "metadata": {},
   "source": [
    "### Crawl event data of lending pool\n",
    "> Tiếp theo mình sẽ hướng dẫn các bạn crawl dữ liệu từ các giao dịch. Yên tâm, full node lưu tất cả lịch sử giao dịch của smart contract trên BSC. Tại đây, mình sẽ crawl dữ liệu deposit event được emit từ các giao dịch của Valas tại block 21031205. Hình dưới đây là cấu trúc của event này trong ABI. Anh em rảnh có thể kiểm tra trong **abi/lending_pool_aave_v2.json** xem tôi chém gió không :v\n",
    "![image.png](../images/deposit.png)"
   ]
  },
  {
   "cell_type": "code",
   "execution_count": 51,
   "metadata": {},
   "outputs": [
    {
     "data": {
      "text/plain": [
       "[{'args': {'reserve': '0x0E09FaBB73Bd3Ade0a17ECC321fD13a19e81cE82',\n",
       "   'onBehalfOf': '0x26417D19dc19a73274B4c97615b310b39017FA57',\n",
       "   'referral': 0,\n",
       "   'user': '0x26417D19dc19a73274B4c97615b310b39017FA57',\n",
       "   'amount': 1257749112692222427},\n",
       "  'event': 'Deposit',\n",
       "  'logIndex': 220,\n",
       "  'transactionIndex': 71,\n",
       "  'transactionHash': '0x0ee0f8ee33047ba977e3afd0b0995885b8d304b1aa1f1c6d307099c9ef9206e9',\n",
       "  'address': '0xE29A55A6AEFf5C8B1beedE5bCF2F0Cb3AF8F91f5',\n",
       "  'blockHash': '0x68dee16ed601595adeb352f2072879d04f288506e5dcdd44f064b4f862e6bfe4',\n",
       "  'blockNumber': 21031205}]"
      ]
     },
     "execution_count": 51,
     "metadata": {},
     "output_type": "execute_result"
    }
   ],
   "source": [
    "events = contract.events.Deposit.createFilter(fromBlock=21031205, toBlock=21031205).get_all_entries()\n",
    "event_list = []\n",
    "for event in events:\n",
    "    event_list.append(json.loads(web3.toJSON(event)))\n",
    "event_list"
   ]
  },
  {
   "cell_type": "markdown",
   "metadata": {},
   "source": [
    ">**NOTE**: Anh em có thấy hai trường **fromBlock** và **toBlock** không? Mình có thể thay đổi hai giá trị này để  thu thập dữ liệu trong nhiều blocks nhé. Chú ý là **fromBlock** luôn nhỏ hơn **toBlock** và số  blocks tối đa có thể crawl một lần là **5000** blocks thôi. Đừng tham quá không thì còn mỗi cái nịt :)). Ngoài ra có thể tham khảo trên Web3 python docs để thiết lập các điều kiện lọc dữ liệu event khác theo ý thích nhé. Đây là [link](https://web3py.readthedocs.io/en/stable/contracts.html?highlight=createFilter#web3.contract.Contract.events.your_event_name.createFilter) nè"
   ]
  },
  {
   "cell_type": "markdown",
   "metadata": {},
   "source": [
    "### Thu thập nhiều loại dữ liệu event cùng lúc\n",
    "> Với cách trên anh em có thể thấy nhược điểm to đoành của nó. Đó là mỗi lần mình chỉ có thể thu thập được một loại dữ liệu thui :((. Vậy làm sao để thu thập nhiều loại dữ liệu một lúc để tránh mỗi lần thu thập lại phải quét lại những blocks đã crawl? Dùng code của mình ez :v. Cơ bản ta sẽ sử dụng event hash để crawl. Event hash là một chuỗi byte code được mã hóa theo chuẩn KECCEK_256 từ một chuỗi định nghĩa hàm tạo bởi cấu trúc event trong ABI (Đọc code để hiểu rõ hơn nhé - hàm **get_topic_filter** trong **service/utils.py**).\n",
    "\n",
    "> Tại đây, mình sẽ tách hai event là *deposit* và *borrow* trong ABI của aave tạo thành một ABI mới riêng cho hai event này tại **abi/event_abi.json**. Anh em có thể tự tạo các ABI tương tự dựa trên ABI gốc.\n",
    "\n",
    "> Mình có xây dựng một class EthReceiptLogHandler cung cấp các functions xử lý ABI và dữ liệu event trả về. Có ba functions quan trọng mà anh em cần chú ý đó là: *(1)* **build_list_info_event** xây dựng thông tin event từ ABI. Hàm này có nhiệm vụ trả về **EventSubscriber** chứa thông tin đối sánh tên event theo event hash và thứ tự các trường dữ liệu tương ứng với dữ liệu event mà web3 trả về. *(2)* **web3_dict_to_receipt_log** biến đổi dữ liệu event data trả về theo cấu trúc mà mình quy định sẵn (cài này tạo ra để mình xử lý event dễ hơn ý mà). *(3)* **extract_event_from_log** đối sánh dữ liệu event trả về với **EventSubscriber** và giải mã các trường dữ liệu **topics** và **data** trong event (Muốn biến hai trường này là gì thì anh em chịu khó đọc phần tài liệu về ABI mình để ở đầu series nhé). *(4)* cuối cùng **eth_event_to_dict** chuyển đổi dữ liệu event về cấu trúc event cuối cùng (theo dictionary) lưu vào cơ sở dữ liệu (Cái này tạo ra để mình có thể lưu dữ liệu vào mongodb)."
   ]
  },
  {
   "cell_type": "code",
   "execution_count": 53,
   "metadata": {},
   "outputs": [
    {
     "data": {
      "text/plain": [
       "[[<model.receipt_log.EventSubscriber at 0x7f4cfc51d070>,\n",
       "  '0xc6a898309e823ee50bac64e45ca8adba6690e99e7841c45d754e2a38e9019d9b',\n",
       "  ['reserve', 'user', 'onBehalfOf']],\n",
       " [<model.receipt_log.EventSubscriber at 0x7f4cd2957760>,\n",
       "  '0xde6857219544bb5b7746f48ed30be6386fefc61b2f864cacf559893bf50fd951',\n",
       "  ['reserve', 'user', 'onBehalfOf']]]"
      ]
     },
     "execution_count": 53,
     "metadata": {},
     "output_type": "execute_result"
    }
   ],
   "source": [
    "from receipt_log_handler import EthReceiptLogHandler\n",
    "\n",
    "with open(\"../abi/event_abi.json\", \"r\") as f:\n",
    "    event_abi = json.loads(f.read())\n",
    "\n",
    "handler = EthReceiptLogHandler()\n",
    "# xây dựng thông tin event từ ABI.\n",
    "event_abi_info = handler.build_list_info_event(event_abi)\n",
    "event_abi_info"
   ]
  },
  {
   "cell_type": "code",
   "execution_count": 32,
   "metadata": {},
   "outputs": [
    {
     "data": {
      "text/plain": [
       "['0xc6a898309e823ee50bac64e45ca8adba6690e99e7841c45d754e2a38e9019d9b',\n",
       " '0xde6857219544bb5b7746f48ed30be6386fefc61b2f864cacf559893bf50fd951']"
      ]
     },
     "execution_count": 32,
     "metadata": {},
     "output_type": "execute_result"
    }
   ],
   "source": [
    "# tách lấy event hash\n",
    "event_hash = [event_info[1] for event_info in event_abi_info]\n",
    "event_hash"
   ]
  },
  {
   "cell_type": "code",
   "execution_count": 54,
   "metadata": {},
   "outputs": [
    {
     "data": {
      "text/plain": [
       "{'0xc6a898309e823ee50bac64e45ca8adba6690e99e7841c45d754e2a38e9019d9b': <model.receipt_log.EventSubscriber at 0x7f4cfc51d070>,\n",
       " '0xde6857219544bb5b7746f48ed30be6386fefc61b2f864cacf559893bf50fd951': <model.receipt_log.EventSubscriber at 0x7f4cd2957760>}"
      ]
     },
     "execution_count": 54,
     "metadata": {},
     "output_type": "execute_result"
    }
   ],
   "source": [
    "# tách lấy event subscriber\n",
    "event_subscriber = {}\n",
    "for info in event_abi_info:\n",
    "    event_subscriber[info[1]] = info[0]\n",
    "\n",
    "event_subscriber"
   ]
  },
  {
   "cell_type": "markdown",
   "metadata": {},
   "source": [
    "> Do dữ liệu event trên blockchain vô cùng lớn và nhiểu dữ liệu từ các lending pool khác nhau, mình đã tạo một filter chỉ thu thập dữ liệu của Valas. Filter này gồm 4 điều kiện là fromBlock, toBlock, topics - danh sách event hash cần lọc (event hash lưu ở topics[0] nên mình để mảng event hash làm phần tử đầu của topics - hơi khó hiểu nhỉ, anh em sẽ hình dung rõ hơn khi nhìn vào dữ liệu thô nhé) và address là các địa chỉ smart contract mà mình muốn lấy event. "
   ]
  },
  {
   "cell_type": "code",
   "execution_count": 63,
   "metadata": {},
   "outputs": [
    {
     "data": {
      "text/plain": [
       "True"
      ]
     },
     "execution_count": 63,
     "metadata": {},
     "output_type": "execute_result"
    }
   ],
   "source": [
    "#create filter\n",
    "filter_params = {\n",
    "    \"fromBlock\":21043181,\n",
    "    \"toBlock\":21043646,\n",
    "    \"topics\": [event_hash],\n",
    "    \"address\":[\"0xE29A55A6AEFf5C8B1beedE5bCF2F0Cb3AF8F91f5\"]\n",
    "}\n",
    "\n",
    "event_filter = web3.eth.filter(filter_params)\n",
    "events = event_filter.get_all_entries()\n",
    "event_list = []\n",
    "for event in events:\n",
    "    log = handler.web3_dict_to_receipt_log(event)\n",
    "    eth_event = handler.extract_event_from_log(log, event_subscriber[log.topics[0]])\n",
    "    if eth_event is not None:\n",
    "        eth_event_dict = handler.eth_event_to_dict(eth_event)\n",
    "        event_list.append(eth_event_dict)\n",
    "\n",
    "web3.eth.uninstallFilter(event_filter.filter_id)"
   ]
  },
  {
   "cell_type": "markdown",
   "metadata": {},
   "source": [
    "> Nè dữ liệu thô nè, trường topics là một mảng các phần tử nhé. Thấy phần tử đầu tiên không? Nó là event hash đấy. Các phần tử còn lại sẽ là các trường dữ liệu có **index** là true trong cấu trúc event ở ABI."
   ]
  },
  {
   "cell_type": "code",
   "execution_count": 64,
   "metadata": {},
   "outputs": [
    {
     "data": {
      "text/plain": [
       "[AttributeDict({'address': '0xE29A55A6AEFf5C8B1beedE5bCF2F0Cb3AF8F91f5',\n",
       "  'topics': [HexBytes('0xde6857219544bb5b7746f48ed30be6386fefc61b2f864cacf559893bf50fd951'),\n",
       "   HexBytes('0x0000000000000000000000000e09fabb73bd3ade0a17ecc321fd13a19e81ce82'),\n",
       "   HexBytes('0x0000000000000000000000007c6defb490b8ffe9379839914b4073c35ea7468a'),\n",
       "   HexBytes('0x0000000000000000000000000000000000000000000000000000000000000000')],\n",
       "  'data': '0x0000000000000000000000007c6defb490b8ffe9379839914b4073c35ea7468a0000000000000000000000000000000000000000000000058282d58b806d99f4',\n",
       "  'blockNumber': 21043181,\n",
       "  'transactionHash': HexBytes('0x4452f763a53dad9fb3a9784a2133a4a960379685d194932155fa6a7217980ad9'),\n",
       "  'transactionIndex': 149,\n",
       "  'blockHash': HexBytes('0x52ac94f0072e20b23c7bab220d8c9e3d43185cdbc62bfec962076a2de4a51912'),\n",
       "  'logIndex': 409,\n",
       "  'removed': False}),\n",
       " AttributeDict({'address': '0xE29A55A6AEFf5C8B1beedE5bCF2F0Cb3AF8F91f5',\n",
       "  'topics': [HexBytes('0xde6857219544bb5b7746f48ed30be6386fefc61b2f864cacf559893bf50fd951'),\n",
       "   HexBytes('0x000000000000000000000000e9e7cea3dedca5984780bafc599bd69add087d56'),\n",
       "   HexBytes('0x00000000000000000000000019ec9e3f7b21dd27598e7ad5aae7dc0db00a806d'),\n",
       "   HexBytes('0x0000000000000000000000000000000000000000000000000000000000000000')],\n",
       "  'data': '0x00000000000000000000000019ec9e3f7b21dd27598e7ad5aae7dc0db00a806d00000000000000000000000000000000000000000000000de185f0414836722f',\n",
       "  'blockNumber': 21043427,\n",
       "  'transactionHash': HexBytes('0xbddb09a7f95e47bcf469b26f621cb62fa050cf1f4f0cb9678352acf815a15e89'),\n",
       "  'transactionIndex': 83,\n",
       "  'blockHash': HexBytes('0xc143586eccc0a1c83910d310460d8a9032c856407b081d4207e9be5906d2ae5a'),\n",
       "  'logIndex': 169,\n",
       "  'removed': False}),\n",
       " AttributeDict({'address': '0xE29A55A6AEFf5C8B1beedE5bCF2F0Cb3AF8F91f5',\n",
       "  'topics': [HexBytes('0xde6857219544bb5b7746f48ed30be6386fefc61b2f864cacf559893bf50fd951'),\n",
       "   HexBytes('0x0000000000000000000000000e09fabb73bd3ade0a17ecc321fd13a19e81ce82'),\n",
       "   HexBytes('0x0000000000000000000000009321d5ba18a9cad47e72ddc0a9c8f59c196644a4'),\n",
       "   HexBytes('0x0000000000000000000000000000000000000000000000000000000000000000')],\n",
       "  'data': '0x0000000000000000000000009321d5ba18a9cad47e72ddc0a9c8f59c196644a40000000000000000000000000000000000000000000000843a82386542bd7208',\n",
       "  'blockNumber': 21043541,\n",
       "  'transactionHash': HexBytes('0xe1f4c0b8c315089c719d7bb55246a76228ef7eff61f4d76ce4d62303bfb7b7f4'),\n",
       "  'transactionIndex': 59,\n",
       "  'blockHash': HexBytes('0xf5378417c7a2752e6009581f14aa200682e8141f14b455fc4e0a5f2c6d72881e'),\n",
       "  'logIndex': 145,\n",
       "  'removed': False}),\n",
       " AttributeDict({'address': '0xE29A55A6AEFf5C8B1beedE5bCF2F0Cb3AF8F91f5',\n",
       "  'topics': [HexBytes('0xc6a898309e823ee50bac64e45ca8adba6690e99e7841c45d754e2a38e9019d9b'),\n",
       "   HexBytes('0x0000000000000000000000008ac76a51cc950d9822d68b83fe1ad97b32cd580d'),\n",
       "   HexBytes('0x0000000000000000000000009321d5ba18a9cad47e72ddc0a9c8f59c196644a4'),\n",
       "   HexBytes('0x0000000000000000000000000000000000000000000000000000000000000000')],\n",
       "  'data': '0x0000000000000000000000009321d5ba18a9cad47e72ddc0a9c8f59c196644a40000000000000000000000000000000000000000000001923f0fe28d7a7c03e6000000000000000000000000000000000000000000000000000000000000000200000000000000000000000000000000000000000004ff86881fdbab1ef02543',\n",
       "  'blockNumber': 21043560,\n",
       "  'transactionHash': HexBytes('0x41c77a9f7060e4223071646e0fe27635d0588fdd0143aff16ff21f87b5eec435'),\n",
       "  'transactionIndex': 76,\n",
       "  'blockHash': HexBytes('0xd10f310f3f87819093882e9c75081e632cfdcf339bff3f981b96a49f3c055528'),\n",
       "  'logIndex': 183,\n",
       "  'removed': False}),\n",
       " AttributeDict({'address': '0xE29A55A6AEFf5C8B1beedE5bCF2F0Cb3AF8F91f5',\n",
       "  'topics': [HexBytes('0xde6857219544bb5b7746f48ed30be6386fefc61b2f864cacf559893bf50fd951'),\n",
       "   HexBytes('0x0000000000000000000000000e09fabb73bd3ade0a17ecc321fd13a19e81ce82'),\n",
       "   HexBytes('0x0000000000000000000000009321d5ba18a9cad47e72ddc0a9c8f59c196644a4'),\n",
       "   HexBytes('0x0000000000000000000000000000000000000000000000000000000000000000')],\n",
       "  'data': '0x0000000000000000000000009321d5ba18a9cad47e72ddc0a9c8f59c196644a4000000000000000000000000000000000000000000000061f06a1852b37d1e91',\n",
       "  'blockNumber': 21043593,\n",
       "  'transactionHash': HexBytes('0x694e8ae6a14cb404db237212bf064be549ca346f13b5126eded0363d6d9d38e9'),\n",
       "  'transactionIndex': 124,\n",
       "  'blockHash': HexBytes('0x8598993a043163f8e648994b2d8934d653cbf00a77e0623c98a1955d785cb1f6'),\n",
       "  'logIndex': 303,\n",
       "  'removed': False}),\n",
       " AttributeDict({'address': '0xE29A55A6AEFf5C8B1beedE5bCF2F0Cb3AF8F91f5',\n",
       "  'topics': [HexBytes('0xc6a898309e823ee50bac64e45ca8adba6690e99e7841c45d754e2a38e9019d9b'),\n",
       "   HexBytes('0x0000000000000000000000008ac76a51cc950d9822d68b83fe1ad97b32cd580d'),\n",
       "   HexBytes('0x0000000000000000000000009321d5ba18a9cad47e72ddc0a9c8f59c196644a4'),\n",
       "   HexBytes('0x0000000000000000000000000000000000000000000000000000000000000000')],\n",
       "  'data': '0x0000000000000000000000009321d5ba18a9cad47e72ddc0a9c8f59c196644a400000000000000000000000000000000000000000000005150ae84a8cdf0000000000000000000000000000000000000000000000000000000000000000000020000000000000000000000000000000000000000000501421581d033d4d54dd7',\n",
       "  'blockNumber': 21043618,\n",
       "  'transactionHash': HexBytes('0xd15a93675c17a05edfbb40b7a7fd8258f761b82b533fddb3315a778ef7e2b463'),\n",
       "  'transactionIndex': 33,\n",
       "  'blockHash': HexBytes('0x0f21a45357fb355928cfb4c25b2639d819477e0adb916b66a547dceddf7b6da2'),\n",
       "  'logIndex': 134,\n",
       "  'removed': False}),\n",
       " AttributeDict({'address': '0xE29A55A6AEFf5C8B1beedE5bCF2F0Cb3AF8F91f5',\n",
       "  'topics': [HexBytes('0xde6857219544bb5b7746f48ed30be6386fefc61b2f864cacf559893bf50fd951'),\n",
       "   HexBytes('0x0000000000000000000000000e09fabb73bd3ade0a17ecc321fd13a19e81ce82'),\n",
       "   HexBytes('0x0000000000000000000000009321d5ba18a9cad47e72ddc0a9c8f59c196644a4'),\n",
       "   HexBytes('0x0000000000000000000000000000000000000000000000000000000000000000')],\n",
       "  'data': '0x0000000000000000000000009321d5ba18a9cad47e72ddc0a9c8f59c196644a4000000000000000000000000000000000000000000000013c9265746580d33e7',\n",
       "  'blockNumber': 21043646,\n",
       "  'transactionHash': HexBytes('0x81299ecc60cbcff15f0d81d28c3e3403fa205ebb4543338122b0780725ab0868'),\n",
       "  'transactionIndex': 80,\n",
       "  'blockHash': HexBytes('0x3d4410a5f868f6bad0a8335b0ba50a0d91595a1b2bcb685782a5cfc6a8f6357e'),\n",
       "  'logIndex': 228,\n",
       "  'removed': False})]"
      ]
     },
     "execution_count": 64,
     "metadata": {},
     "output_type": "execute_result"
    }
   ],
   "source": [
    "events"
   ]
  },
  {
   "cell_type": "markdown",
   "metadata": {},
   "source": [
    "> Đây là dữ liệu sau cuối cùng trả về . Quá trình giải mã dữ liệu khá phức tạp nhưng mình sẽ giải thích đơn giản như sau. Dựa vào cấu trúc event trong ABI, mình phân loại các trường dữ liệu theo hai loại có thuộc tính **index** là true và false. Với những trường dữ liệu có **index** là true, theo thứ tự của chúng trong event ABI sẽ tương ứng là các giá trị theo thứ tự trong **topics** (trừ topics[0] là event hash nhé). Các trường dữ liệu có **index** là false theo thứ tự tương ứng với mỗi 32 bytes trong **data**. Sau khi đã xác định vị trí các trường dữ liệu, mình dựa vào thuộc tính **type** của chúng trong ABI để giải mã. Nếu **type** là *address* mình sẽ lấy 20 bytes cuối rồi ghép với *0x*, còn **type** là *uint* mình sẽ quy đổi giá trị từ thập lục phân sang thập phân. (Mình giải thích thế không biết anh em có hiểu không? Thôi thì anh cố đọc code mình để dễ hiểu hơn nhé - code hơi loằng ngoằng tý thui :v hoặc đọc đây nè [link](https://web3py.readthedocs.io/en/stable/filters.html?highlight=get_transaction#event-log-filters)). Dưới đây là dữ liệu cuối cùng thu được."
   ]
  },
  {
   "cell_type": "code",
   "execution_count": 65,
   "metadata": {},
   "outputs": [
    {
     "data": {
      "text/plain": [
       "[{'type': 'event',\n",
       "  'event_type': 'DEPOSIT',\n",
       "  'contract_address': '0xe29a55a6aeff5c8b1beede5bcf2f0cb3af8f91f5',\n",
       "  'transaction_hash': '0x4452f763a53dad9fb3a9784a2133a4a960379685d194932155fa6a7217980ad9',\n",
       "  'log_index': 409,\n",
       "  'block_number': 21043181,\n",
       "  'reserve': '0x0e09fabb73bd3ade0a17ecc321fd13a19e81ce82',\n",
       "  'onBehalfOf': '0x7c6defb490b8ffe9379839914b4073c35ea7468a',\n",
       "  'referral': '0',\n",
       "  'user': '0x7c6defb490b8ffe9379839914b4073c35ea7468a',\n",
       "  'amount': '101638034135582611956'},\n",
       " {'type': 'event',\n",
       "  'event_type': 'DEPOSIT',\n",
       "  'contract_address': '0xe29a55a6aeff5c8b1beede5bcf2f0cb3af8f91f5',\n",
       "  'transaction_hash': '0xbddb09a7f95e47bcf469b26f621cb62fa050cf1f4f0cb9678352acf815a15e89',\n",
       "  'log_index': 169,\n",
       "  'block_number': 21043427,\n",
       "  'reserve': '0xe9e7cea3dedca5984780bafc599bd69add087d56',\n",
       "  'onBehalfOf': '0x19ec9e3f7b21dd27598e7ad5aae7dc0db00a806d',\n",
       "  'referral': '0',\n",
       "  'user': '0x19ec9e3f7b21dd27598e7ad5aae7dc0db00a806d',\n",
       "  'amount': '256058331951835542063'},\n",
       " {'type': 'event',\n",
       "  'event_type': 'DEPOSIT',\n",
       "  'contract_address': '0xe29a55a6aeff5c8b1beede5bcf2f0cb3af8f91f5',\n",
       "  'transaction_hash': '0xe1f4c0b8c315089c719d7bb55246a76228ef7eff61f4d76ce4d62303bfb7b7f4',\n",
       "  'log_index': 145,\n",
       "  'block_number': 21043541,\n",
       "  'reserve': '0x0e09fabb73bd3ade0a17ecc321fd13a19e81ce82',\n",
       "  'onBehalfOf': '0x9321d5ba18a9cad47e72ddc0a9c8f59c196644a4',\n",
       "  'referral': '0',\n",
       "  'user': '0x9321d5ba18a9cad47e72ddc0a9c8f59c196644a4',\n",
       "  'amount': '2439186211938395582984'},\n",
       " {'type': 'event',\n",
       "  'event_type': 'BORROW',\n",
       "  'contract_address': '0xe29a55a6aeff5c8b1beede5bcf2f0cb3af8f91f5',\n",
       "  'transaction_hash': '0x41c77a9f7060e4223071646e0fe27635d0588fdd0143aff16ff21f87b5eec435',\n",
       "  'log_index': 183,\n",
       "  'block_number': 21043560,\n",
       "  'reserve': '0x8ac76a51cc950d9822d68b83fe1ad97b32cd580d',\n",
       "  'onBehalfOf': '0x9321d5ba18a9cad47e72ddc0a9c8f59c196644a4',\n",
       "  'referral': '0',\n",
       "  'user': '0x9321d5ba18a9cad47e72ddc0a9c8f59c196644a4',\n",
       "  'amount': '7420135217277553083366',\n",
       "  'borrowRateMode': '2',\n",
       "  'borrowRate': '6042388404096194749408579'},\n",
       " {'type': 'event',\n",
       "  'event_type': 'DEPOSIT',\n",
       "  'contract_address': '0xe29a55a6aeff5c8b1beede5bcf2f0cb3af8f91f5',\n",
       "  'transaction_hash': '0x694e8ae6a14cb404db237212bf064be549ca346f13b5126eded0363d6d9d38e9',\n",
       "  'log_index': 303,\n",
       "  'block_number': 21043593,\n",
       "  'reserve': '0x0e09fabb73bd3ade0a17ecc321fd13a19e81ce82',\n",
       "  'onBehalfOf': '0x9321d5ba18a9cad47e72ddc0a9c8f59c196644a4',\n",
       "  'referral': '0',\n",
       "  'user': '0x9321d5ba18a9cad47e72ddc0a9c8f59c196644a4',\n",
       "  'amount': '1806657860809938247313'},\n",
       " {'type': 'event',\n",
       "  'event_type': 'BORROW',\n",
       "  'contract_address': '0xe29a55a6aeff5c8b1beede5bcf2f0cb3af8f91f5',\n",
       "  'transaction_hash': '0xd15a93675c17a05edfbb40b7a7fd8258f761b82b533fddb3315a778ef7e2b463',\n",
       "  'log_index': 134,\n",
       "  'block_number': 21043618,\n",
       "  'reserve': '0x8ac76a51cc950d9822d68b83fe1ad97b32cd580d',\n",
       "  'onBehalfOf': '0x9321d5ba18a9cad47e72ddc0a9c8f59c196644a4',\n",
       "  'referral': '0',\n",
       "  'user': '0x9321d5ba18a9cad47e72ddc0a9c8f59c196644a4',\n",
       "  'amount': '1500000000000000000000',\n",
       "  'borrowRateMode': '2',\n",
       "  'borrowRate': '6050570499413548173970903'},\n",
       " {'type': 'event',\n",
       "  'event_type': 'DEPOSIT',\n",
       "  'contract_address': '0xe29a55a6aeff5c8b1beede5bcf2f0cb3af8f91f5',\n",
       "  'transaction_hash': '0x81299ecc60cbcff15f0d81d28c3e3403fa205ebb4543338122b0780725ab0868',\n",
       "  'log_index': 228,\n",
       "  'block_number': 21043646,\n",
       "  'reserve': '0x0e09fabb73bd3ade0a17ecc321fd13a19e81ce82',\n",
       "  'onBehalfOf': '0x9321d5ba18a9cad47e72ddc0a9c8f59c196644a4',\n",
       "  'referral': '0',\n",
       "  'user': '0x9321d5ba18a9cad47e72ddc0a9c8f59c196644a4',\n",
       "  'amount': '364982505810856588263'}]"
      ]
     },
     "execution_count": 65,
     "metadata": {},
     "output_type": "execute_result"
    }
   ],
   "source": [
    "event_list"
   ]
  },
  {
   "cell_type": "markdown",
   "metadata": {},
   "source": [
    "### Thu thập transaction sinh ra deposit event\n",
    "> Anh em có thể thấy trong dữ liệu block và dữ liệu event đều có một trường là transaction hash. Dựa vào nó ta có thể thu thập dữ liệu transaction mình mong muốn. Dưới đây là dữ liệu từ transaction hash của deposit event của block 21031205."
   ]
  },
  {
   "cell_type": "code",
   "execution_count": 66,
   "metadata": {},
   "outputs": [
    {
     "data": {
      "text/plain": [
       "AttributeDict({'blockHash': HexBytes('0x68dee16ed601595adeb352f2072879d04f288506e5dcdd44f064b4f862e6bfe4'),\n",
       " 'blockNumber': 21031205,\n",
       " 'from': '0x26417D19dc19a73274B4c97615b310b39017FA57',\n",
       " 'gas': 752442,\n",
       " 'gasPrice': 5000000000,\n",
       " 'hash': HexBytes('0x0ee0f8ee33047ba977e3afd0b0995885b8d304b1aa1f1c6d307099c9ef9206e9'),\n",
       " 'input': '0xe8eda9df0000000000000000000000000e09fabb73bd3ade0a17ecc321fd13a19e81ce8200000000000000000000000000000000000000000000000011746c27769529db00000000000000000000000026417d19dc19a73274b4c97615b310b39017fa570000000000000000000000000000000000000000000000000000000000000000',\n",
       " 'nonce': 476,\n",
       " 'to': '0xE29A55A6AEFf5C8B1beedE5bCF2F0Cb3AF8F91f5',\n",
       " 'transactionIndex': 71,\n",
       " 'value': 0,\n",
       " 'type': '0x0',\n",
       " 'v': 148,\n",
       " 'r': HexBytes('0xedf56947061ff71ad62dfded9fb7ba19fc271d6f52d8df2a207d405ca473da87'),\n",
       " 's': HexBytes('0x34ce34ec26f2a48cc85ba8a759333dd59b6d106597c32039ddc2e9aa942773c8')})"
      ]
     },
     "execution_count": 66,
     "metadata": {},
     "output_type": "execute_result"
    }
   ],
   "source": [
    "web3.eth.get_transaction(\"0x0ee0f8ee33047ba977e3afd0b0995885b8d304b1aa1f1c6d307099c9ef9206e9\")"
   ]
  },
  {
   "cell_type": "markdown",
   "metadata": {},
   "source": [
    "> Đến đây anh em có thể thắc mắc là thế với một list các transaction hash thì sao? Rất tiếc hiện tại mình chưa thấy hàm nào của web3 py hỗ trợ hoặc có thể do mình tìm chưa kỹ. Tuy nhiên ta có thể cải tiến quá trình bằng cách lấy dữ liệu theo lô với đa luồng. Cái này hơi khoai, mình sẽ hướng dẫn một bài thực hành khác phức tạp hơn. Rất mong anh em có thể kiên trì đọc bài biết đó của mình."
   ]
  },
  {
   "cell_type": "markdown",
   "metadata": {},
   "source": [
    "# Xây dựng thu thập dữ liệu một luồng liên tục\n",
    "> Phần này bonus cho anh em. Mọi người có thể đọc tiếp hoặc bỏ qua. Nói chung, nó chỉ tổng hợp lại những kiến thức ở trên để  xây dựng một bé crawler thu thập dữ liệu event liên tục ý mà :v"
   ]
  },
  {
   "cell_type": "code",
   "execution_count": 74,
   "metadata": {},
   "outputs": [],
   "source": [
    "from receipt_log_handler import EthReceiptLogHandler\n",
    "\n",
    "def craw_events(\n",
    "    web3, \n",
    "    from_block=0, \n",
    "    to_block=None, \n",
    "    event_abi_file=\"../abi/event_abi.json\", \n",
    "    contract_addresses=[\"0xE29A55A6AEFf5C8B1beedE5bCF2F0Cb3AF8F91f5\"],\n",
    "    block_size=100,\n",
    "    stop = False\n",
    "):\n",
    "    latest_block = web3.eth.blockNumber\n",
    "    if to_block and to_block > latest_block:\n",
    "        to_block=latest_block\n",
    "        print(f\"To_block > latest_block, set to_block = {latest_block}\")\n",
    "    with open(event_abi_file, \"r\") as f:\n",
    "        event_abi = json.loads(f.read())\n",
    "\n",
    "    handler = EthReceiptLogHandler()\n",
    "    # xây dựng thông tin event từ ABI.\n",
    "    event_abi_info = handler.build_list_info_event(event_abi)\n",
    "    # lấy event hash\n",
    "    event_hash = [event_info[1] for event_info in event_abi_info]\n",
    "    # tách lấy event subscriber\n",
    "    event_subscriber = {}\n",
    "    for info in event_abi_info:\n",
    "        event_subscriber[info[1]] = info[0]\n",
    "    \n",
    "    if not to_block:\n",
    "        to_block = web3.eth.blockNumber\n",
    "    \n",
    "    _from = from_block\n",
    "    _to = from_block + block_size\n",
    "    \n",
    "    while True:\n",
    "        if _to > to_block:\n",
    "            _to = to_block\n",
    "                \n",
    "        print(f\"Start crawling data from {_from} to {_to}\")\n",
    "        #create filter\n",
    "        filter_params = {\n",
    "            \"fromBlock\":_from,\n",
    "            \"toBlock\":_to,\n",
    "            \"topics\": [event_hash],\n",
    "            \"address\":[\"0xE29A55A6AEFf5C8B1beedE5bCF2F0Cb3AF8F91f5\"]\n",
    "        }\n",
    "\n",
    "        event_filter = web3.eth.filter(filter_params)\n",
    "        events = event_filter.get_all_entries()\n",
    "        event_list = []\n",
    "        for event in events:\n",
    "            log = handler.web3_dict_to_receipt_log(event)\n",
    "            eth_event = handler.extract_event_from_log(log, event_subscriber[log.topics[0]])\n",
    "            if eth_event is not None:\n",
    "                eth_event_dict = handler.eth_event_to_dict(eth_event)\n",
    "                print(\"Event data:\\n\", eth_event_dict)\n",
    "\n",
    "        web3.eth.uninstallFilter(event_filter.filter_id)\n",
    "        if _to == to_block:\n",
    "            if stop:\n",
    "                print(\"Stop crawling data...\")\n",
    "                break\n",
    "            else:\n",
    "                to_block = web3.eth.blockNumber\n",
    "                print(f\"Get latest block {to_block}\")\n",
    "        \n",
    "        \n",
    "        _from = _to\n",
    "        _to += block_size"
   ]
  },
  {
   "cell_type": "markdown",
   "metadata": {},
   "source": [
    "> Anh em có thể  đặt biến stop = False để cho chạy liên tục nhé. Có thể sửa hàm để xuất dữ liệu ra file :v"
   ]
  },
  {
   "cell_type": "code",
   "execution_count": 77,
   "metadata": {},
   "outputs": [
    {
     "name": "stdout",
     "output_type": "stream",
     "text": [
      "To_block > latest_block, set to_block = 21060609\n",
      "Start crawling data from 21042695 to 21042795\n",
      "Start crawling data from 21042795 to 21042895\n",
      "Start crawling data from 21042895 to 21042995\n",
      "Event data:\n",
      " {'type': 'event', 'event_type': 'DEPOSIT', 'contract_address': '0xe29a55a6aeff5c8b1beede5bcf2f0cb3af8f91f5', 'transaction_hash': '0x9d7f541831a499d00815147057d593cb4894cb3c74cd1c267714378dd808fe96', 'log_index': 148, 'block_number': 21042985, 'reserve': '0x8ac76a51cc950d9822d68b83fe1ad97b32cd580d', 'onBehalfOf': '0x19ec9e3f7b21dd27598e7ad5aae7dc0db00a806d', 'referral': '0', 'user': '0x19ec9e3f7b21dd27598e7ad5aae7dc0db00a806d', 'amount': '1736000000000000000000'}\n",
      "Start crawling data from 21042995 to 21043095\n",
      "Start crawling data from 21043095 to 21043195\n",
      "Event data:\n",
      " {'type': 'event', 'event_type': 'DEPOSIT', 'contract_address': '0xe29a55a6aeff5c8b1beede5bcf2f0cb3af8f91f5', 'transaction_hash': '0x4452f763a53dad9fb3a9784a2133a4a960379685d194932155fa6a7217980ad9', 'log_index': 409, 'block_number': 21043181, 'reserve': '0x0e09fabb73bd3ade0a17ecc321fd13a19e81ce82', 'onBehalfOf': '0x7c6defb490b8ffe9379839914b4073c35ea7468a', 'referral': '0', 'user': '0x7c6defb490b8ffe9379839914b4073c35ea7468a', 'amount': '101638034135582611956'}\n",
      "Start crawling data from 21043195 to 21043295\n",
      "Start crawling data from 21043295 to 21043395\n",
      "Start crawling data from 21043395 to 21043495\n",
      "Event data:\n",
      " {'type': 'event', 'event_type': 'DEPOSIT', 'contract_address': '0xe29a55a6aeff5c8b1beede5bcf2f0cb3af8f91f5', 'transaction_hash': '0xbddb09a7f95e47bcf469b26f621cb62fa050cf1f4f0cb9678352acf815a15e89', 'log_index': 169, 'block_number': 21043427, 'reserve': '0xe9e7cea3dedca5984780bafc599bd69add087d56', 'onBehalfOf': '0x19ec9e3f7b21dd27598e7ad5aae7dc0db00a806d', 'referral': '0', 'user': '0x19ec9e3f7b21dd27598e7ad5aae7dc0db00a806d', 'amount': '256058331951835542063'}\n",
      "Start crawling data from 21043495 to 21043595\n",
      "Event data:\n",
      " {'type': 'event', 'event_type': 'DEPOSIT', 'contract_address': '0xe29a55a6aeff5c8b1beede5bcf2f0cb3af8f91f5', 'transaction_hash': '0xe1f4c0b8c315089c719d7bb55246a76228ef7eff61f4d76ce4d62303bfb7b7f4', 'log_index': 145, 'block_number': 21043541, 'reserve': '0x0e09fabb73bd3ade0a17ecc321fd13a19e81ce82', 'onBehalfOf': '0x9321d5ba18a9cad47e72ddc0a9c8f59c196644a4', 'referral': '0', 'user': '0x9321d5ba18a9cad47e72ddc0a9c8f59c196644a4', 'amount': '2439186211938395582984'}\n",
      "Event data:\n",
      " {'type': 'event', 'event_type': 'BORROW', 'contract_address': '0xe29a55a6aeff5c8b1beede5bcf2f0cb3af8f91f5', 'transaction_hash': '0x41c77a9f7060e4223071646e0fe27635d0588fdd0143aff16ff21f87b5eec435', 'log_index': 183, 'block_number': 21043560, 'reserve': '0x8ac76a51cc950d9822d68b83fe1ad97b32cd580d', 'onBehalfOf': '0x9321d5ba18a9cad47e72ddc0a9c8f59c196644a4', 'referral': '0', 'user': '0x9321d5ba18a9cad47e72ddc0a9c8f59c196644a4', 'amount': '7420135217277553083366', 'borrowRateMode': '2', 'borrowRate': '6042388404096194749408579'}\n",
      "Event data:\n",
      " {'type': 'event', 'event_type': 'DEPOSIT', 'contract_address': '0xe29a55a6aeff5c8b1beede5bcf2f0cb3af8f91f5', 'transaction_hash': '0x694e8ae6a14cb404db237212bf064be549ca346f13b5126eded0363d6d9d38e9', 'log_index': 303, 'block_number': 21043593, 'reserve': '0x0e09fabb73bd3ade0a17ecc321fd13a19e81ce82', 'onBehalfOf': '0x9321d5ba18a9cad47e72ddc0a9c8f59c196644a4', 'referral': '0', 'user': '0x9321d5ba18a9cad47e72ddc0a9c8f59c196644a4', 'amount': '1806657860809938247313'}\n",
      "Start crawling data from 21043595 to 21043695\n",
      "Event data:\n",
      " {'type': 'event', 'event_type': 'BORROW', 'contract_address': '0xe29a55a6aeff5c8b1beede5bcf2f0cb3af8f91f5', 'transaction_hash': '0xd15a93675c17a05edfbb40b7a7fd8258f761b82b533fddb3315a778ef7e2b463', 'log_index': 134, 'block_number': 21043618, 'reserve': '0x8ac76a51cc950d9822d68b83fe1ad97b32cd580d', 'onBehalfOf': '0x9321d5ba18a9cad47e72ddc0a9c8f59c196644a4', 'referral': '0', 'user': '0x9321d5ba18a9cad47e72ddc0a9c8f59c196644a4', 'amount': '1500000000000000000000', 'borrowRateMode': '2', 'borrowRate': '6050570499413548173970903'}\n",
      "Event data:\n",
      " {'type': 'event', 'event_type': 'DEPOSIT', 'contract_address': '0xe29a55a6aeff5c8b1beede5bcf2f0cb3af8f91f5', 'transaction_hash': '0x81299ecc60cbcff15f0d81d28c3e3403fa205ebb4543338122b0780725ab0868', 'log_index': 228, 'block_number': 21043646, 'reserve': '0x0e09fabb73bd3ade0a17ecc321fd13a19e81ce82', 'onBehalfOf': '0x9321d5ba18a9cad47e72ddc0a9c8f59c196644a4', 'referral': '0', 'user': '0x9321d5ba18a9cad47e72ddc0a9c8f59c196644a4', 'amount': '364982505810856588263'}\n",
      "Start crawling data from 21043695 to 21043795\n",
      "Event data:\n",
      " {'type': 'event', 'event_type': 'DEPOSIT', 'contract_address': '0xe29a55a6aeff5c8b1beede5bcf2f0cb3af8f91f5', 'transaction_hash': '0x58d69273c26b391dfab859b2ad9b7cd925133c8f6d1f66832d362931368d13b1', 'log_index': 148, 'block_number': 21043707, 'reserve': '0xbb4cdb9cbd36b01bd1cbaebf2de08d9173bc095c', 'onBehalfOf': '0xec0f4fb50e3cc3c75b00b48cbd5c75c3537b43cf', 'referral': '0', 'user': '0x3025d9f822d399fd7fb6275b5164bbde6dc28a29', 'amount': '15000000000000000'}\n",
      "Start crawling data from 21043795 to 21043895\n",
      "Event data:\n",
      " {'type': 'event', 'event_type': 'DEPOSIT', 'contract_address': '0xe29a55a6aeff5c8b1beede5bcf2f0cb3af8f91f5', 'transaction_hash': '0x08db8dc74f5d57fa194fad9e54d4cb01295336c8f02fed2b5dd0ea771c0696d8', 'log_index': 295, 'block_number': 21043858, 'reserve': '0x8ac76a51cc950d9822d68b83fe1ad97b32cd580d', 'onBehalfOf': '0x19ec9e3f7b21dd27598e7ad5aae7dc0db00a806d', 'referral': '0', 'user': '0x19ec9e3f7b21dd27598e7ad5aae7dc0db00a806d', 'amount': '884895755000000000000'}\n",
      "Start crawling data from 21043895 to 21043995\n",
      "Start crawling data from 21043995 to 21044095\n",
      "Start crawling data from 21044095 to 21044195\n",
      "Start crawling data from 21044195 to 21044295\n",
      "Event data:\n",
      " {'type': 'event', 'event_type': 'DEPOSIT', 'contract_address': '0xe29a55a6aeff5c8b1beede5bcf2f0cb3af8f91f5', 'transaction_hash': '0x1d82b7c4aed1ddd940f8db2da03433bae59a304f397256c05090c8ec0e7ff513', 'log_index': 69, 'block_number': 21044285, 'reserve': '0xe9e7cea3dedca5984780bafc599bd69add087d56', 'onBehalfOf': '0x19ec9e3f7b21dd27598e7ad5aae7dc0db00a806d', 'referral': '0', 'user': '0x19ec9e3f7b21dd27598e7ad5aae7dc0db00a806d', 'amount': '2545360883972043302383'}\n",
      "Start crawling data from 21044295 to 21044395\n",
      "Start crawling data from 21044395 to 21044495\n",
      "Event data:\n",
      " {'type': 'event', 'event_type': 'DEPOSIT', 'contract_address': '0xe29a55a6aeff5c8b1beede5bcf2f0cb3af8f91f5', 'transaction_hash': '0xba8fb68d470081713bafa179168c96839125b10a183e87397a84bcd1fafbec13', 'log_index': 124, 'block_number': 21044425, 'reserve': '0x7130d2a12b9bcbfae4f2634d864a1ee1ce3ead9c', 'onBehalfOf': '0x247a85139e0df5857d0d7610804064f5f45a9dec', 'referral': '0', 'user': '0x247a85139e0df5857d0d7610804064f5f45a9dec', 'amount': '1451000000000000'}\n",
      "Event data:\n",
      " {'type': 'event', 'event_type': 'BORROW', 'contract_address': '0xe29a55a6aeff5c8b1beede5bcf2f0cb3af8f91f5', 'transaction_hash': '0xba8fb68d470081713bafa179168c96839125b10a183e87397a84bcd1fafbec13', 'log_index': 130, 'block_number': 21044425, 'reserve': '0x7130d2a12b9bcbfae4f2634d864a1ee1ce3ead9c', 'onBehalfOf': '0x247a85139e0df5857d0d7610804064f5f45a9dec', 'referral': '0', 'user': '0x247a85139e0df5857d0d7610804064f5f45a9dec', 'amount': '14510000000000', 'borrowRateMode': '2', 'borrowRate': '4474447466680550923037568'}\n",
      "Event data:\n",
      " {'type': 'event', 'event_type': 'DEPOSIT', 'contract_address': '0xe29a55a6aeff5c8b1beede5bcf2f0cb3af8f91f5', 'transaction_hash': '0xe3a207219ce058d5f6a14d22d5ce7347d26cb3e21907f554c848142dc212d82d', 'log_index': 114, 'block_number': 21044473, 'reserve': '0x1af3f329e8be154074d8769d1ffa4ee058b1dbc3', 'onBehalfOf': '0x245e8bb5427822fb8fd6ce062d8dd853fbcfabf5', 'referral': '0', 'user': '0x245e8bb5427822fb8fd6ce062d8dd853fbcfabf5', 'amount': '16953753188079149443'}\n",
      "Start crawling data from 21044495 to 21044595\n",
      "Start crawling data from 21044595 to 21044695\n",
      "Start crawling data from 21044695 to 21044795\n",
      "Start crawling data from 21044795 to 21044895\n",
      "Start crawling data from 21044895 to 21044995\n",
      "Start crawling data from 21044995 to 21045095\n",
      "Start crawling data from 21045095 to 21045195\n",
      "Start crawling data from 21045195 to 21045295\n",
      "Start crawling data from 21045295 to 21045395\n",
      "Event data:\n",
      " {'type': 'event', 'event_type': 'DEPOSIT', 'contract_address': '0xe29a55a6aeff5c8b1beede5bcf2f0cb3af8f91f5', 'transaction_hash': '0xf72dd80409eadefbabca6840052655a7d583003aa7cf2888e1b5c32651c46b09', 'log_index': 56, 'block_number': 21045349, 'reserve': '0xe9e7cea3dedca5984780bafc599bd69add087d56', 'onBehalfOf': '0x19ec9e3f7b21dd27598e7ad5aae7dc0db00a806d', 'referral': '0', 'user': '0x19ec9e3f7b21dd27598e7ad5aae7dc0db00a806d', 'amount': '70011733740000000000'}\n",
      "Event data:\n",
      " {'type': 'event', 'event_type': 'DEPOSIT', 'contract_address': '0xe29a55a6aeff5c8b1beede5bcf2f0cb3af8f91f5', 'transaction_hash': '0x7f824f8b652ba411fcd0a35f3e1cd6b8449b5d23500f36a35c176aeed4724033', 'log_index': 72, 'block_number': 21045370, 'reserve': '0x55d398326f99059ff775485246999027b3197955', 'onBehalfOf': '0x19ec9e3f7b21dd27598e7ad5aae7dc0db00a806d', 'referral': '0', 'user': '0x19ec9e3f7b21dd27598e7ad5aae7dc0db00a806d', 'amount': '8048311107604539384013'}\n",
      "Event data:\n",
      " {'type': 'event', 'event_type': 'DEPOSIT', 'contract_address': '0xe29a55a6aeff5c8b1beede5bcf2f0cb3af8f91f5', 'transaction_hash': '0x7bfcbcb1a85063793abde41d57a987fa2800cb9e5563f9e86246cebf4a31b5ed', 'log_index': 184, 'block_number': 21045386, 'reserve': '0x1af3f329e8be154074d8769d1ffa4ee058b1dbc3', 'onBehalfOf': '0x245e8bb5427822fb8fd6ce062d8dd853fbcfabf5', 'referral': '0', 'user': '0x245e8bb5427822fb8fd6ce062d8dd853fbcfabf5', 'amount': '7016053720328732299'}\n"
     ]
    },
    {
     "name": "stdout",
     "output_type": "stream",
     "text": [
      "Start crawling data from 21045395 to 21045495\n",
      "Start crawling data from 21045495 to 21045595\n",
      "Start crawling data from 21045595 to 21045695\n",
      "Start crawling data from 21045695 to 21045795\n",
      "Start crawling data from 21045795 to 21045895\n",
      "Start crawling data from 21045895 to 21045995\n",
      "Start crawling data from 21045995 to 21046095\n",
      "Start crawling data from 21046095 to 21046195\n",
      "Event data:\n",
      " {'type': 'event', 'event_type': 'DEPOSIT', 'contract_address': '0xe29a55a6aeff5c8b1beede5bcf2f0cb3af8f91f5', 'transaction_hash': '0x3ba244619ddeb4e7c07b7346b7e0d90a9e4c94c21d5ca995bf1e4e0a2e0f75c9', 'log_index': 59, 'block_number': 21046132, 'reserve': '0x14016e85a25aeb13065688cafb43044c2ef86784', 'onBehalfOf': '0xab499095961516f058245c1395f9c0410764b6cd', 'referral': '0', 'user': '0xab499095961516f058245c1395f9c0410764b6cd', 'amount': '2964114333394515870'}\n",
      "Start crawling data from 21046195 to 21046295\n",
      "Event data:\n",
      " {'type': 'event', 'event_type': 'DEPOSIT', 'contract_address': '0xe29a55a6aeff5c8b1beede5bcf2f0cb3af8f91f5', 'transaction_hash': '0x47c6bafb038c6313c3dd1baa0899e3e15403470dc54c34d77a8186dcf1970e22', 'log_index': 89, 'block_number': 21046282, 'reserve': '0xbb4cdb9cbd36b01bd1cbaebf2de08d9173bc095c', 'onBehalfOf': '0x9b55e223f16e18c4b9d222968d42f055ea0ed3d1', 'referral': '0', 'user': '0x9b55e223f16e18c4b9d222968d42f055ea0ed3d1', 'amount': '3805848190857625'}\n",
      "Start crawling data from 21046295 to 21046395\n",
      "Event data:\n",
      " {'type': 'event', 'event_type': 'DEPOSIT', 'contract_address': '0xe29a55a6aeff5c8b1beede5bcf2f0cb3af8f91f5', 'transaction_hash': '0x18ef4e3d33d5a3d3529cdfa0cb0c65df7120f2f00093b922390435b6d844cc36', 'log_index': 76, 'block_number': 21046309, 'reserve': '0x0e09fabb73bd3ade0a17ecc321fd13a19e81ce82', 'onBehalfOf': '0x5979b4cf7e7574440a0ea6d1fb8ccf2bc258e8c4', 'referral': '0', 'user': '0x5979b4cf7e7574440a0ea6d1fb8ccf2bc258e8c4', 'amount': '2179385632375546499041'}\n",
      "Event data:\n",
      " {'type': 'event', 'event_type': 'DEPOSIT', 'contract_address': '0xe29a55a6aeff5c8b1beede5bcf2f0cb3af8f91f5', 'transaction_hash': '0x18ef4e3d33d5a3d3529cdfa0cb0c65df7120f2f00093b922390435b6d844cc36', 'log_index': 100, 'block_number': 21046309, 'reserve': '0x0e09fabb73bd3ade0a17ecc321fd13a19e81ce82', 'onBehalfOf': '0x5979b4cf7e7574440a0ea6d1fb8ccf2bc258e8c4', 'referral': '0', 'user': '0x5979b4cf7e7574440a0ea6d1fb8ccf2bc258e8c4', 'amount': '552849923322937228'}\n",
      "Start crawling data from 21046395 to 21046495\n",
      "Start crawling data from 21046495 to 21046595\n",
      "Start crawling data from 21046595 to 21046695\n",
      "Start crawling data from 21046695 to 21046795\n",
      "Start crawling data from 21046795 to 21046895\n",
      "Start crawling data from 21046895 to 21046995\n",
      "Start crawling data from 21046995 to 21047095\n",
      "Event data:\n",
      " {'type': 'event', 'event_type': 'DEPOSIT', 'contract_address': '0xe29a55a6aeff5c8b1beede5bcf2f0cb3af8f91f5', 'transaction_hash': '0xc071bbf833b1a9d9eb177cfad2e5b942ee9f82b17a04d50e93d29d8ff421a016', 'log_index': 162, 'block_number': 21046996, 'reserve': '0xe9e7cea3dedca5984780bafc599bd69add087d56', 'onBehalfOf': '0x19ec9e3f7b21dd27598e7ad5aae7dc0db00a806d', 'referral': '0', 'user': '0x19ec9e3f7b21dd27598e7ad5aae7dc0db00a806d', 'amount': '84503324140287668162'}\n",
      "Start crawling data from 21047095 to 21047195\n",
      "Start crawling data from 21047195 to 21047295\n",
      "Start crawling data from 21047295 to 21047395\n",
      "Event data:\n",
      " {'type': 'event', 'event_type': 'DEPOSIT', 'contract_address': '0xe29a55a6aeff5c8b1beede5bcf2f0cb3af8f91f5', 'transaction_hash': '0x4eda42184bb6c124ae25946539a908b4ddbe21738d7fc6673d7e0d2a0d46af78', 'log_index': 148, 'block_number': 21047327, 'reserve': '0xe9e7cea3dedca5984780bafc599bd69add087d56', 'onBehalfOf': '0x19ec9e3f7b21dd27598e7ad5aae7dc0db00a806d', 'referral': '0', 'user': '0x19ec9e3f7b21dd27598e7ad5aae7dc0db00a806d', 'amount': '850000000000000000000'}\n",
      "Start crawling data from 21047395 to 21047495\n",
      "Event data:\n",
      " {'type': 'event', 'event_type': 'DEPOSIT', 'contract_address': '0xe29a55a6aeff5c8b1beede5bcf2f0cb3af8f91f5', 'transaction_hash': '0x335211d879aee29bf3ac819dedc9817606708663e33f5db66c1ef0fa680cf678', 'log_index': 180, 'block_number': 21047437, 'reserve': '0x8ac76a51cc950d9822d68b83fe1ad97b32cd580d', 'onBehalfOf': '0x19ec9e3f7b21dd27598e7ad5aae7dc0db00a806d', 'referral': '0', 'user': '0x19ec9e3f7b21dd27598e7ad5aae7dc0db00a806d', 'amount': '39992181149000000000000'}\n",
      "Event data:\n",
      " {'type': 'event', 'event_type': 'DEPOSIT', 'contract_address': '0xe29a55a6aeff5c8b1beede5bcf2f0cb3af8f91f5', 'transaction_hash': '0xed8a1becad07bd052f14cb0a953ab4612a1be883ef85da3f1d4d40266876ad12', 'log_index': 73, 'block_number': 21047452, 'reserve': '0x1af3f329e8be154074d8769d1ffa4ee058b1dbc3', 'onBehalfOf': '0x245e8bb5427822fb8fd6ce062d8dd853fbcfabf5', 'referral': '0', 'user': '0x245e8bb5427822fb8fd6ce062d8dd853fbcfabf5', 'amount': '15602867411382930463'}\n",
      "Start crawling data from 21047495 to 21047595\n",
      "Start crawling data from 21047595 to 21047695\n",
      "Start crawling data from 21047695 to 21047795\n",
      "Start crawling data from 21047795 to 21047895\n",
      "Event data:\n",
      " {'type': 'event', 'event_type': 'DEPOSIT', 'contract_address': '0xe29a55a6aeff5c8b1beede5bcf2f0cb3af8f91f5', 'transaction_hash': '0x325d19fe9bfe8d26e4f31cadcd382383a92c773ed35eea313a3812ae1a1e7b4e', 'log_index': 115, 'block_number': 21047808, 'reserve': '0xe9e7cea3dedca5984780bafc599bd69add087d56', 'onBehalfOf': '0x19ec9e3f7b21dd27598e7ad5aae7dc0db00a806d', 'referral': '0', 'user': '0x19ec9e3f7b21dd27598e7ad5aae7dc0db00a806d', 'amount': '196948828163067012210'}\n",
      "Event data:\n",
      " {'type': 'event', 'event_type': 'DEPOSIT', 'contract_address': '0xe29a55a6aeff5c8b1beede5bcf2f0cb3af8f91f5', 'transaction_hash': '0x325d19fe9bfe8d26e4f31cadcd382383a92c773ed35eea313a3812ae1a1e7b4e', 'log_index': 127, 'block_number': 21047808, 'reserve': '0x8ac76a51cc950d9822d68b83fe1ad97b32cd580d', 'onBehalfOf': '0x19ec9e3f7b21dd27598e7ad5aae7dc0db00a806d', 'referral': '0', 'user': '0x19ec9e3f7b21dd27598e7ad5aae7dc0db00a806d', 'amount': '223184499438159754297'}\n",
      "Event data:\n",
      " {'type': 'event', 'event_type': 'DEPOSIT', 'contract_address': '0xe29a55a6aeff5c8b1beede5bcf2f0cb3af8f91f5', 'transaction_hash': '0x325d19fe9bfe8d26e4f31cadcd382383a92c773ed35eea313a3812ae1a1e7b4e', 'log_index': 139, 'block_number': 21047808, 'reserve': '0x55d398326f99059ff775485246999027b3197955', 'onBehalfOf': '0x19ec9e3f7b21dd27598e7ad5aae7dc0db00a806d', 'referral': '0', 'user': '0x19ec9e3f7b21dd27598e7ad5aae7dc0db00a806d', 'amount': '200391811532247253835'}\n",
      "Event data:\n",
      " {'type': 'event', 'event_type': 'DEPOSIT', 'contract_address': '0xe29a55a6aeff5c8b1beede5bcf2f0cb3af8f91f5', 'transaction_hash': '0x125a25a039444e254a09ea33728dea555b977220be51311a9f72657b337cd67a', 'log_index': 54, 'block_number': 21047869, 'reserve': '0x8ac76a51cc950d9822d68b83fe1ad97b32cd580d', 'onBehalfOf': '0x19ec9e3f7b21dd27598e7ad5aae7dc0db00a806d', 'referral': '0', 'user': '0x19ec9e3f7b21dd27598e7ad5aae7dc0db00a806d', 'amount': '1496881658041224326178'}\n",
      "Event data:\n",
      " {'type': 'event', 'event_type': 'DEPOSIT', 'contract_address': '0xe29a55a6aeff5c8b1beede5bcf2f0cb3af8f91f5', 'transaction_hash': '0x755d09cd05035a057f6fa974f6475e7439fa8520b830dd4d3a184ec66ede0607', 'log_index': 183, 'block_number': 21047888, 'reserve': '0x1af3f329e8be154074d8769d1ffa4ee058b1dbc3', 'onBehalfOf': '0x245e8bb5427822fb8fd6ce062d8dd853fbcfabf5', 'referral': '0', 'user': '0x245e8bb5427822fb8fd6ce062d8dd853fbcfabf5', 'amount': '3364874286025831729'}\n",
      "Start crawling data from 21047895 to 21047995\n",
      "Start crawling data from 21047995 to 21048095\n",
      "Event data:\n",
      " {'type': 'event', 'event_type': 'DEPOSIT', 'contract_address': '0xe29a55a6aeff5c8b1beede5bcf2f0cb3af8f91f5', 'transaction_hash': '0x234c7c4948bc340f5c48b9caa240db52bb40ca8a40b5ab9c91e4869a36169140', 'log_index': 117, 'block_number': 21047996, 'reserve': '0xe9e7cea3dedca5984780bafc599bd69add087d56', 'onBehalfOf': '0x19ec9e3f7b21dd27598e7ad5aae7dc0db00a806d', 'referral': '0', 'user': '0x19ec9e3f7b21dd27598e7ad5aae7dc0db00a806d', 'amount': '100000000000000000000000'}\n",
      "Start crawling data from 21048095 to 21048195\n",
      "Start crawling data from 21048195 to 21048295\n",
      "Start crawling data from 21048295 to 21048395\n",
      "Start crawling data from 21048395 to 21048495\n",
      "Start crawling data from 21048495 to 21048595\n",
      "Start crawling data from 21048595 to 21048695\n"
     ]
    },
    {
     "name": "stdout",
     "output_type": "stream",
     "text": [
      "Start crawling data from 21048695 to 21048795\n",
      "Start crawling data from 21048795 to 21048895\n",
      "Start crawling data from 21048895 to 21048995\n",
      "Event data:\n",
      " {'type': 'event', 'event_type': 'DEPOSIT', 'contract_address': '0xe29a55a6aeff5c8b1beede5bcf2f0cb3af8f91f5', 'transaction_hash': '0x9d2123561fb9ebc27b90599c5d8c6075cca7b4fa8911930fa439c044559a6b0a', 'log_index': 123, 'block_number': 21048962, 'reserve': '0xe9e7cea3dedca5984780bafc599bd69add087d56', 'onBehalfOf': '0x19ec9e3f7b21dd27598e7ad5aae7dc0db00a806d', 'referral': '0', 'user': '0x19ec9e3f7b21dd27598e7ad5aae7dc0db00a806d', 'amount': '15000000000000000000000'}\n",
      "Start crawling data from 21048995 to 21049095\n",
      "Event data:\n",
      " {'type': 'event', 'event_type': 'DEPOSIT', 'contract_address': '0xe29a55a6aeff5c8b1beede5bcf2f0cb3af8f91f5', 'transaction_hash': '0x906d9010006de85bdd4d6f33bf2be8d02e39b374e7d9faf397757860184d84ac', 'log_index': 61, 'block_number': 21049014, 'reserve': '0xe9e7cea3dedca5984780bafc599bd69add087d56', 'onBehalfOf': '0x19ec9e3f7b21dd27598e7ad5aae7dc0db00a806d', 'referral': '0', 'user': '0x19ec9e3f7b21dd27598e7ad5aae7dc0db00a806d', 'amount': '12810000000000000000000'}\n",
      "Start crawling data from 21049095 to 21049195\n",
      "Start crawling data from 21049195 to 21049295\n",
      "Start crawling data from 21049295 to 21049395\n",
      "Start crawling data from 21049395 to 21049495\n",
      "Start crawling data from 21049495 to 21049595\n",
      "Start crawling data from 21049595 to 21049695\n",
      "Start crawling data from 21049695 to 21049795\n",
      "Start crawling data from 21049795 to 21049895\n",
      "Start crawling data from 21049895 to 21049995\n",
      "Event data:\n",
      " {'type': 'event', 'event_type': 'DEPOSIT', 'contract_address': '0xe29a55a6aeff5c8b1beede5bcf2f0cb3af8f91f5', 'transaction_hash': '0x82ccb846caff80ed68159436af1fb9e358a827a89df7eef0878f330883874e62', 'log_index': 241, 'block_number': 21049986, 'reserve': '0x55d398326f99059ff775485246999027b3197955', 'onBehalfOf': '0x19ec9e3f7b21dd27598e7ad5aae7dc0db00a806d', 'referral': '0', 'user': '0x19ec9e3f7b21dd27598e7ad5aae7dc0db00a806d', 'amount': '3000000000000000000000'}\n",
      "Start crawling data from 21049995 to 21050095\n",
      "Event data:\n",
      " {'type': 'event', 'event_type': 'DEPOSIT', 'contract_address': '0xe29a55a6aeff5c8b1beede5bcf2f0cb3af8f91f5', 'transaction_hash': '0x50d16fa9702a08d5627dfc4ee767390ea1dacfb4869d8089216650c795596472', 'log_index': 72, 'block_number': 21050009, 'reserve': '0x8ac76a51cc950d9822d68b83fe1ad97b32cd580d', 'onBehalfOf': '0x19ec9e3f7b21dd27598e7ad5aae7dc0db00a806d', 'referral': '0', 'user': '0x19ec9e3f7b21dd27598e7ad5aae7dc0db00a806d', 'amount': '2999448530846507414694'}\n",
      "Event data:\n",
      " {'type': 'event', 'event_type': 'DEPOSIT', 'contract_address': '0xe29a55a6aeff5c8b1beede5bcf2f0cb3af8f91f5', 'transaction_hash': '0xfdc693c823781c4a2d0c54908b359b8f494dc1dd589c4808f79941d0b1623f51', 'log_index': 219, 'block_number': 21050033, 'reserve': '0x1af3f329e8be154074d8769d1ffa4ee058b1dbc3', 'onBehalfOf': '0x245e8bb5427822fb8fd6ce062d8dd853fbcfabf5', 'referral': '0', 'user': '0x245e8bb5427822fb8fd6ce062d8dd853fbcfabf5', 'amount': '16598944362779178326'}\n",
      "Start crawling data from 21050095 to 21050195\n",
      "Start crawling data from 21050195 to 21050295\n",
      "Start crawling data from 21050295 to 21050395\n",
      "Start crawling data from 21050395 to 21050495\n",
      "Start crawling data from 21050495 to 21050595\n",
      "Start crawling data from 21050595 to 21050695\n",
      "Event data:\n",
      " {'type': 'event', 'event_type': 'DEPOSIT', 'contract_address': '0xe29a55a6aeff5c8b1beede5bcf2f0cb3af8f91f5', 'transaction_hash': '0xd9ae2ebd79314a1a29cbac94e789f5bfa41391508a438b82096fd873a5ccfe34', 'log_index': 132, 'block_number': 21050619, 'reserve': '0xe9e7cea3dedca5984780bafc599bd69add087d56', 'onBehalfOf': '0x19ec9e3f7b21dd27598e7ad5aae7dc0db00a806d', 'referral': '0', 'user': '0x19ec9e3f7b21dd27598e7ad5aae7dc0db00a806d', 'amount': '85000000000000000000'}\n",
      "Event data:\n",
      " {'type': 'event', 'event_type': 'DEPOSIT', 'contract_address': '0xe29a55a6aeff5c8b1beede5bcf2f0cb3af8f91f5', 'transaction_hash': '0x3a88bbe3883f156fe7f7b1e456aceb8f4c7598fca65990cb69262fb52a7fbc2a', 'log_index': 109, 'block_number': 21050653, 'reserve': '0xbb4cdb9cbd36b01bd1cbaebf2de08d9173bc095c', 'onBehalfOf': '0x59a3a2b437c284bc88c2c5dee55abf59b79259f8', 'referral': '0', 'user': '0x3025d9f822d399fd7fb6275b5164bbde6dc28a29', 'amount': '600000000000000000000'}\n",
      "Event data:\n",
      " {'type': 'event', 'event_type': 'BORROW', 'contract_address': '0xe29a55a6aeff5c8b1beede5bcf2f0cb3af8f91f5', 'transaction_hash': '0xc63388e1262429114f74f085d5d4cf3824eb5eb36c5b4d21aa72dd212efe524c', 'log_index': 96, 'block_number': 21050666, 'reserve': '0x55d398326f99059ff775485246999027b3197955', 'onBehalfOf': '0x59a3a2b437c284bc88c2c5dee55abf59b79259f8', 'referral': '0', 'user': '0x59a3a2b437c284bc88c2c5dee55abf59b79259f8', 'amount': '118500000000000000000000', 'borrowRateMode': '2', 'borrowRate': '10351266664611130576676956'}\n",
      "Start crawling data from 21050695 to 21050795\n",
      "Start crawling data from 21050795 to 21050895\n",
      "Start crawling data from 21050895 to 21050995\n",
      "Start crawling data from 21050995 to 21051095\n",
      "Start crawling data from 21051095 to 21051195\n",
      "Start crawling data from 21051195 to 21051295\n",
      "Start crawling data from 21051295 to 21051395\n",
      "Event data:\n",
      " {'type': 'event', 'event_type': 'DEPOSIT', 'contract_address': '0xe29a55a6aeff5c8b1beede5bcf2f0cb3af8f91f5', 'transaction_hash': '0x38c05400bbe256a55287dbef8ce839fd33238141295b96d56bf48287e8b96448', 'log_index': 142, 'block_number': 21051320, 'reserve': '0xe9e7cea3dedca5984780bafc599bd69add087d56', 'onBehalfOf': '0x19ec9e3f7b21dd27598e7ad5aae7dc0db00a806d', 'referral': '0', 'user': '0x19ec9e3f7b21dd27598e7ad5aae7dc0db00a806d', 'amount': '7202050699664345041256'}\n",
      "Event data:\n",
      " {'type': 'event', 'event_type': 'DEPOSIT', 'contract_address': '0xe29a55a6aeff5c8b1beede5bcf2f0cb3af8f91f5', 'transaction_hash': '0xcc58eb366644a5c53abb168fa59cf53313595cd85f1768567c6460c0427922d3', 'log_index': 160, 'block_number': 21051360, 'reserve': '0x1af3f329e8be154074d8769d1ffa4ee058b1dbc3', 'onBehalfOf': '0x245e8bb5427822fb8fd6ce062d8dd853fbcfabf5', 'referral': '0', 'user': '0x245e8bb5427822fb8fd6ce062d8dd853fbcfabf5', 'amount': '10284628482274101384'}\n",
      "Start crawling data from 21051395 to 21051495\n",
      "Start crawling data from 21051495 to 21051595\n",
      "Event data:\n",
      " {'type': 'event', 'event_type': 'DEPOSIT', 'contract_address': '0xe29a55a6aeff5c8b1beede5bcf2f0cb3af8f91f5', 'transaction_hash': '0x3e56b4f5647cba91bd260993355a8b65b3b8748883897f73fb206b9d65097f19', 'log_index': 113, 'block_number': 21051512, 'reserve': '0x8ac76a51cc950d9822d68b83fe1ad97b32cd580d', 'onBehalfOf': '0x19ec9e3f7b21dd27598e7ad5aae7dc0db00a806d', 'referral': '0', 'user': '0x19ec9e3f7b21dd27598e7ad5aae7dc0db00a806d', 'amount': '564437487227211820445'}\n",
      "Start crawling data from 21051595 to 21051695\n",
      "Event data:\n",
      " {'type': 'event', 'event_type': 'DEPOSIT', 'contract_address': '0xe29a55a6aeff5c8b1beede5bcf2f0cb3af8f91f5', 'transaction_hash': '0xd8ace202d39dd172e9352e25c5e4d296cbb15e1caf4bf0457226bb4f7715774a', 'log_index': 236, 'block_number': 21051600, 'reserve': '0x8ac76a51cc950d9822d68b83fe1ad97b32cd580d', 'onBehalfOf': '0x19ec9e3f7b21dd27598e7ad5aae7dc0db00a806d', 'referral': '0', 'user': '0x19ec9e3f7b21dd27598e7ad5aae7dc0db00a806d', 'amount': '3000000000000000000'}\n",
      "Start crawling data from 21051695 to 21051795\n",
      "Start crawling data from 21051795 to 21051895\n",
      "Start crawling data from 21051895 to 21051995\n",
      "Start crawling data from 21051995 to 21052095\n",
      "Start crawling data from 21052095 to 21052195\n",
      "Start crawling data from 21052195 to 21052295\n",
      "Start crawling data from 21052295 to 21052395\n",
      "Start crawling data from 21052395 to 21052495\n",
      "Start crawling data from 21052495 to 21052595\n",
      "Start crawling data from 21052595 to 21052695\n",
      "Event data:\n",
      " {'type': 'event', 'event_type': 'DEPOSIT', 'contract_address': '0xe29a55a6aeff5c8b1beede5bcf2f0cb3af8f91f5', 'transaction_hash': '0x090c37b9d609e0292071010dc3aae8f7a18b2ba796b1755eb3f041fee0627d85', 'log_index': 284, 'block_number': 21052663, 'reserve': '0xe9e7cea3dedca5984780bafc599bd69add087d56', 'onBehalfOf': '0x19ec9e3f7b21dd27598e7ad5aae7dc0db00a806d', 'referral': '0', 'user': '0x19ec9e3f7b21dd27598e7ad5aae7dc0db00a806d', 'amount': '3000000000000000000000'}\n",
      "Start crawling data from 21052695 to 21052795\n",
      "Start crawling data from 21052795 to 21052895\n"
     ]
    },
    {
     "name": "stdout",
     "output_type": "stream",
     "text": [
      "Start crawling data from 21052895 to 21052995\n",
      "Start crawling data from 21052995 to 21053095\n",
      "Start crawling data from 21053095 to 21053195\n",
      "Start crawling data from 21053195 to 21053295\n",
      "Start crawling data from 21053295 to 21053395\n",
      "Event data:\n",
      " {'type': 'event', 'event_type': 'DEPOSIT', 'contract_address': '0xe29a55a6aeff5c8b1beede5bcf2f0cb3af8f91f5', 'transaction_hash': '0x9e0bcc3bd4d0fa2d04fecdc10d9e7d55805fb88f0aa2674dc8f7ee37ef67ae0a', 'log_index': 83, 'block_number': 21053303, 'reserve': '0xe9e7cea3dedca5984780bafc599bd69add087d56', 'onBehalfOf': '0x19ec9e3f7b21dd27598e7ad5aae7dc0db00a806d', 'referral': '0', 'user': '0x19ec9e3f7b21dd27598e7ad5aae7dc0db00a806d', 'amount': '2000000000000000000000'}\n",
      "Event data:\n",
      " {'type': 'event', 'event_type': 'DEPOSIT', 'contract_address': '0xe29a55a6aeff5c8b1beede5bcf2f0cb3af8f91f5', 'transaction_hash': '0xa005f5a9e3aac89097022bbc57eabc4714340daaea350d5ada36c35c98bfff0b', 'log_index': 187, 'block_number': 21053336, 'reserve': '0xe9e7cea3dedca5984780bafc599bd69add087d56', 'onBehalfOf': '0x19ec9e3f7b21dd27598e7ad5aae7dc0db00a806d', 'referral': '0', 'user': '0x19ec9e3f7b21dd27598e7ad5aae7dc0db00a806d', 'amount': '4000000000000000000000'}\n",
      "Event data:\n",
      " {'type': 'event', 'event_type': 'DEPOSIT', 'contract_address': '0xe29a55a6aeff5c8b1beede5bcf2f0cb3af8f91f5', 'transaction_hash': '0xd9a24af44675bb2924bc863dfa9ce8c8e29716fc133b5efed24d8518b70ce33c', 'log_index': 277, 'block_number': 21053369, 'reserve': '0xe9e7cea3dedca5984780bafc599bd69add087d56', 'onBehalfOf': '0x19ec9e3f7b21dd27598e7ad5aae7dc0db00a806d', 'referral': '0', 'user': '0x19ec9e3f7b21dd27598e7ad5aae7dc0db00a806d', 'amount': '3000000012000000000000'}\n",
      "Start crawling data from 21053395 to 21053495\n",
      "Start crawling data from 21053495 to 21053595\n",
      "Start crawling data from 21053595 to 21053695\n",
      "Start crawling data from 21053695 to 21053795\n",
      "Start crawling data from 21053795 to 21053895\n",
      "Start crawling data from 21053895 to 21053995\n",
      "Start crawling data from 21053995 to 21054095\n",
      "Start crawling data from 21054095 to 21054195\n",
      "Start crawling data from 21054195 to 21054295\n",
      "Start crawling data from 21054295 to 21054395\n",
      "Start crawling data from 21054395 to 21054495\n",
      "Start crawling data from 21054495 to 21054595\n",
      "Start crawling data from 21054595 to 21054695\n",
      "Event data:\n",
      " {'type': 'event', 'event_type': 'DEPOSIT', 'contract_address': '0xe29a55a6aeff5c8b1beede5bcf2f0cb3af8f91f5', 'transaction_hash': '0x5b59ed6837a754269479c51a48f7240518a402192f0523038c9ac89c72b01065', 'log_index': 193, 'block_number': 21054687, 'reserve': '0x0e09fabb73bd3ade0a17ecc321fd13a19e81ce82', 'onBehalfOf': '0x0db3dbd610cb235bb4858660aa1823c664661aa4', 'referral': '0', 'user': '0x0db3dbd610cb235bb4858660aa1823c664661aa4', 'amount': '1000000000000000000000'}\n",
      "Start crawling data from 21054695 to 21054795\n",
      "Start crawling data from 21054795 to 21054895\n",
      "Start crawling data from 21054895 to 21054995\n",
      "Start crawling data from 21054995 to 21055095\n",
      "Start crawling data from 21055095 to 21055195\n",
      "Start crawling data from 21055195 to 21055295\n",
      "Start crawling data from 21055295 to 21055395\n",
      "Start crawling data from 21055395 to 21055495\n",
      "Event data:\n",
      " {'type': 'event', 'event_type': 'DEPOSIT', 'contract_address': '0xe29a55a6aeff5c8b1beede5bcf2f0cb3af8f91f5', 'transaction_hash': '0xfcdba11f5aebfa1a2af2c5c41d913313f65e92f24b5aab75402f1d802d0b5cc6', 'log_index': 370, 'block_number': 21055450, 'reserve': '0xe9e7cea3dedca5984780bafc599bd69add087d56', 'onBehalfOf': '0x19ec9e3f7b21dd27598e7ad5aae7dc0db00a806d', 'referral': '0', 'user': '0x19ec9e3f7b21dd27598e7ad5aae7dc0db00a806d', 'amount': '200000000000000000000'}\n",
      "Start crawling data from 21055495 to 21055595\n",
      "Start crawling data from 21055595 to 21055695\n",
      "Start crawling data from 21055695 to 21055795\n",
      "Start crawling data from 21055795 to 21055895\n",
      "Start crawling data from 21055895 to 21055995\n",
      "Start crawling data from 21055995 to 21056095\n",
      "Start crawling data from 21056095 to 21056195\n",
      "Start crawling data from 21056195 to 21056295\n",
      "Start crawling data from 21056295 to 21056395\n",
      "Start crawling data from 21056395 to 21056495\n",
      "Start crawling data from 21056495 to 21056595\n",
      "Start crawling data from 21056595 to 21056695\n",
      "Start crawling data from 21056695 to 21056795\n",
      "Start crawling data from 21056795 to 21056895\n",
      "Event data:\n",
      " {'type': 'event', 'event_type': 'DEPOSIT', 'contract_address': '0xe29a55a6aeff5c8b1beede5bcf2f0cb3af8f91f5', 'transaction_hash': '0x54da883f27ff4f22d164def06a80abf423e8943e63836a0d13408edb3ed86d2d', 'log_index': 52, 'block_number': 21056819, 'reserve': '0x55d398326f99059ff775485246999027b3197955', 'onBehalfOf': '0x19ec9e3f7b21dd27598e7ad5aae7dc0db00a806d', 'referral': '0', 'user': '0x19ec9e3f7b21dd27598e7ad5aae7dc0db00a806d', 'amount': '365254545528337841115'}\n",
      "Event data:\n",
      " {'type': 'event', 'event_type': 'DEPOSIT', 'contract_address': '0xe29a55a6aeff5c8b1beede5bcf2f0cb3af8f91f5', 'transaction_hash': '0xbd8c7aa8352e8a93d4308f8fcf464e136fa84ee2dd576951f728ecbea1381b6e', 'log_index': 190, 'block_number': 21056825, 'reserve': '0x55d398326f99059ff775485246999027b3197955', 'onBehalfOf': '0x1b6ab5f7c2e1b7b854b6199397f42ec720ab0b16', 'referral': '0', 'user': '0x1b6ab5f7c2e1b7b854b6199397f42ec720ab0b16', 'amount': '30040000000000000000000'}\n",
      "Start crawling data from 21056895 to 21056995\n",
      "Event data:\n",
      " {'type': 'event', 'event_type': 'DEPOSIT', 'contract_address': '0xe29a55a6aeff5c8b1beede5bcf2f0cb3af8f91f5', 'transaction_hash': '0x9410b6e7eeb031bc96a7ef73aabfc56da8e09ffa02a935591f7a86fa475d86cc', 'log_index': 101, 'block_number': 21056947, 'reserve': '0xbb4cdb9cbd36b01bd1cbaebf2de08d9173bc095c', 'onBehalfOf': '0xb8b7939900d2285eb71ba88875adc4448e76923e', 'referral': '0', 'user': '0x3025d9f822d399fd7fb6275b5164bbde6dc28a29', 'amount': '503000000000000000000'}\n",
      "Event data:\n",
      " {'type': 'event', 'event_type': 'BORROW', 'contract_address': '0xe29a55a6aeff5c8b1beede5bcf2f0cb3af8f91f5', 'transaction_hash': '0xa93c6373dc472941a845b7256725531b4a1c062300d21ef107c894e2ae5bdcc6', 'log_index': 169, 'block_number': 21056964, 'reserve': '0x1af3f329e8be154074d8769d1ffa4ee058b1dbc3', 'onBehalfOf': '0xb8b7939900d2285eb71ba88875adc4448e76923e', 'referral': '0', 'user': '0xb8b7939900d2285eb71ba88875adc4448e76923e', 'amount': '80000000000000000000000', 'borrowRateMode': '2', 'borrowRate': '10505005235497880085066893'}\n",
      "Event data:\n",
      " {'type': 'event', 'event_type': 'BORROW', 'contract_address': '0xe29a55a6aeff5c8b1beede5bcf2f0cb3af8f91f5', 'transaction_hash': '0x05713f4668635e4ee65ef5a9ec38829ff8570d69ea350b9711dae3884f1517b5', 'log_index': 286, 'block_number': 21056976, 'reserve': '0xe9e7cea3dedca5984780bafc599bd69add087d56', 'onBehalfOf': '0x1b6ab5f7c2e1b7b854b6199397f42ec720ab0b16', 'referral': '0', 'user': '0x1b6ab5f7c2e1b7b854b6199397f42ec720ab0b16', 'amount': '5000000000000000000000', 'borrowRateMode': '2', 'borrowRate': '5220146716609784871958404'}\n",
      "Start crawling data from 21056995 to 21057095\n",
      "Start crawling data from 21057095 to 21057195\n",
      "Event data:\n",
      " {'type': 'event', 'event_type': 'BORROW', 'contract_address': '0xe29a55a6aeff5c8b1beede5bcf2f0cb3af8f91f5', 'transaction_hash': '0xa1ab2cc1d9650314671072db46c80883fe27fb0fe2dda3798fe1e82fbb32c91e', 'log_index': 394, 'block_number': 21057100, 'reserve': '0x8ac76a51cc950d9822d68b83fe1ad97b32cd580d', 'onBehalfOf': '0x1b6ab5f7c2e1b7b854b6199397f42ec720ab0b16', 'referral': '0', 'user': '0x1b6ab5f7c2e1b7b854b6199397f42ec720ab0b16', 'amount': '8025000000000000000000', 'borrowRateMode': '2', 'borrowRate': '6121148048819703232905275'}\n",
      "Start crawling data from 21057195 to 21057295\n",
      "Event data:\n",
      " {'type': 'event', 'event_type': 'DEPOSIT', 'contract_address': '0xe29a55a6aeff5c8b1beede5bcf2f0cb3af8f91f5', 'transaction_hash': '0x6b9d4de26847d2f2af69092b5793ae69e07add28993702a90888d1fb29c6d875', 'log_index': 136, 'block_number': 21057285, 'reserve': '0x8ac76a51cc950d9822d68b83fe1ad97b32cd580d', 'onBehalfOf': '0x92d514fc5f94009b345ed6540cfc1efb81eddfd2', 'referral': '0', 'user': '0x92d514fc5f94009b345ed6540cfc1efb81eddfd2', 'amount': '115000000000000000000000'}\n",
      "Start crawling data from 21057295 to 21057395\n",
      "Event data:\n",
      " {'type': 'event', 'event_type': 'BORROW', 'contract_address': '0xe29a55a6aeff5c8b1beede5bcf2f0cb3af8f91f5', 'transaction_hash': '0xf8a1d68b97212fa9a81fb1d5e5a3cf6cb618c17324e9fff2a24daa8e207736fa', 'log_index': 570, 'block_number': 21057305, 'reserve': '0x1af3f329e8be154074d8769d1ffa4ee058b1dbc3', 'onBehalfOf': '0x92d514fc5f94009b345ed6540cfc1efb81eddfd2', 'referral': '0', 'user': '0x92d514fc5f94009b345ed6540cfc1efb81eddfd2', 'amount': '90000000000000000000000', 'borrowRateMode': '2', 'borrowRate': '12000493537835718085640397'}\n"
     ]
    },
    {
     "name": "stdout",
     "output_type": "stream",
     "text": [
      "Start crawling data from 21057395 to 21057495\n",
      "Start crawling data from 21057495 to 21057595\n",
      "Start crawling data from 21057595 to 21057695\n",
      "Start crawling data from 21057695 to 21057795\n",
      "Event data:\n",
      " {'type': 'event', 'event_type': 'DEPOSIT', 'contract_address': '0xe29a55a6aeff5c8b1beede5bcf2f0cb3af8f91f5', 'transaction_hash': '0x75ad9c85d52d133258666ac73b3ff9b2f7db1bf62b298c8aab7381e8372439df', 'log_index': 196, 'block_number': 21057715, 'reserve': '0x2170ed0880ac9a755fd29b2688956bd959f933f8', 'onBehalfOf': '0xb8b7939900d2285eb71ba88875adc4448e76923e', 'referral': '0', 'user': '0xb8b7939900d2285eb71ba88875adc4448e76923e', 'amount': '46743649140786623072'}\n",
      "Event data:\n",
      " {'type': 'event', 'event_type': 'BORROW', 'contract_address': '0xe29a55a6aeff5c8b1beede5bcf2f0cb3af8f91f5', 'transaction_hash': '0x7fff6e20550a978b340c6171cbd9b7ea74e9a675d537b529520c62d818328179', 'log_index': 217, 'block_number': 21057727, 'reserve': '0x8ac76a51cc950d9822d68b83fe1ad97b32cd580d', 'onBehalfOf': '0x1b6ab5f7c2e1b7b854b6199397f42ec720ab0b16', 'referral': '0', 'user': '0x1b6ab5f7c2e1b7b854b6199397f42ec720ab0b16', 'amount': '6500000000000000000000', 'borrowRateMode': '2', 'borrowRate': '6080146601453632978170323'}\n",
      "Event data:\n",
      " {'type': 'event', 'event_type': 'BORROW', 'contract_address': '0xe29a55a6aeff5c8b1beede5bcf2f0cb3af8f91f5', 'transaction_hash': '0xbcbafc3db5517567518c6e73fe728ef95a6b317d86bbcdb89e9cbe5326ce6863', 'log_index': 198, 'block_number': 21057733, 'reserve': '0x1af3f329e8be154074d8769d1ffa4ee058b1dbc3', 'onBehalfOf': '0xb8b7939900d2285eb71ba88875adc4448e76923e', 'referral': '0', 'user': '0xb8b7939900d2285eb71ba88875adc4448e76923e', 'amount': '50000000000000000000000', 'borrowRateMode': '2', 'borrowRate': '12831323228221182332817816'}\n",
      "Start crawling data from 21057795 to 21057895\n",
      "Event data:\n",
      " {'type': 'event', 'event_type': 'BORROW', 'contract_address': '0xe29a55a6aeff5c8b1beede5bcf2f0cb3af8f91f5', 'transaction_hash': '0x86a3849ce65528c63a5908d36e7a000f277d90dce860af544533103cff2c9f4c', 'log_index': 246, 'block_number': 21057816, 'reserve': '0x8ac76a51cc950d9822d68b83fe1ad97b32cd580d', 'onBehalfOf': '0x1b6ab5f7c2e1b7b854b6199397f42ec720ab0b16', 'referral': '0', 'user': '0x1b6ab5f7c2e1b7b854b6199397f42ec720ab0b16', 'amount': '6500000000000000000000', 'borrowRateMode': '2', 'borrowRate': '6080146874852440132180371'}\n",
      "Event data:\n",
      " {'type': 'event', 'event_type': 'BORROW', 'contract_address': '0xe29a55a6aeff5c8b1beede5bcf2f0cb3af8f91f5', 'transaction_hash': '0xf08a71593f83b67c0a90e48ccd7efc0dc8ce4ce78efd355cd53c04af8cbcd572', 'log_index': 187, 'block_number': 21057891, 'reserve': '0x1af3f329e8be154074d8769d1ffa4ee058b1dbc3', 'onBehalfOf': '0x1b6ab5f7c2e1b7b854b6199397f42ec720ab0b16', 'referral': '0', 'user': '0x1b6ab5f7c2e1b7b854b6199397f42ec720ab0b16', 'amount': '6500000000000000000000', 'borrowRateMode': '2', 'borrowRate': '12939332371503881581275084'}\n",
      "Start crawling data from 21057895 to 21057995\n",
      "Start crawling data from 21057995 to 21058095\n",
      "Event data:\n",
      " {'type': 'event', 'event_type': 'DEPOSIT', 'contract_address': '0xe29a55a6aeff5c8b1beede5bcf2f0cb3af8f91f5', 'transaction_hash': '0x4de10eee3478a4dd6af0f7c1f15e4035c3603590824947a7b1c76e126368d353', 'log_index': 240, 'block_number': 21058088, 'reserve': '0xe9e7cea3dedca5984780bafc599bd69add087d56', 'onBehalfOf': '0x19ec9e3f7b21dd27598e7ad5aae7dc0db00a806d', 'referral': '0', 'user': '0x19ec9e3f7b21dd27598e7ad5aae7dc0db00a806d', 'amount': '7000000000000000000000'}\n",
      "Start crawling data from 21058095 to 21058195\n",
      "Start crawling data from 21058195 to 21058295\n",
      "Start crawling data from 21058295 to 21058395\n",
      "Start crawling data from 21058395 to 21058495\n",
      "Start crawling data from 21058495 to 21058595\n",
      "Start crawling data from 21058595 to 21058695\n",
      "Start crawling data from 21058695 to 21058795\n",
      "Start crawling data from 21058795 to 21058895\n",
      "Start crawling data from 21058895 to 21058995\n",
      "Start crawling data from 21058995 to 21059095\n",
      "Start crawling data from 21059095 to 21059195\n",
      "Start crawling data from 21059195 to 21059295\n",
      "Event data:\n",
      " {'type': 'event', 'event_type': 'BORROW', 'contract_address': '0xe29a55a6aeff5c8b1beede5bcf2f0cb3af8f91f5', 'transaction_hash': '0x7f496a411273bc715f89778279fa0eab7c2e978860f481f6ef3b50994f07373c', 'log_index': 49, 'block_number': 21059247, 'reserve': '0xbb4cdb9cbd36b01bd1cbaebf2de08d9173bc095c', 'onBehalfOf': '0x5da68351bd082abda73e42ac981db51d9364fe69', 'referral': '0', 'user': '0x3025d9f822d399fd7fb6275b5164bbde6dc28a29', 'amount': '19013228073001790', 'borrowRateMode': '2', 'borrowRate': '75314809853401567009874271'}\n",
      "Start crawling data from 21059295 to 21059395\n",
      "Start crawling data from 21059395 to 21059495\n",
      "Event data:\n",
      " {'type': 'event', 'event_type': 'DEPOSIT', 'contract_address': '0xe29a55a6aeff5c8b1beede5bcf2f0cb3af8f91f5', 'transaction_hash': '0xc784d6c3948829bd549fa6912822c9de886dcc7c8d5c064eda17b286ea5ff574', 'log_index': 102, 'block_number': 21059466, 'reserve': '0xe9e7cea3dedca5984780bafc599bd69add087d56', 'onBehalfOf': '0x19ec9e3f7b21dd27598e7ad5aae7dc0db00a806d', 'referral': '0', 'user': '0x19ec9e3f7b21dd27598e7ad5aae7dc0db00a806d', 'amount': '6662174940600000000000'}\n",
      "Event data:\n",
      " {'type': 'event', 'event_type': 'DEPOSIT', 'contract_address': '0xe29a55a6aeff5c8b1beede5bcf2f0cb3af8f91f5', 'transaction_hash': '0xc784d6c3948829bd549fa6912822c9de886dcc7c8d5c064eda17b286ea5ff574', 'log_index': 114, 'block_number': 21059466, 'reserve': '0x8ac76a51cc950d9822d68b83fe1ad97b32cd580d', 'onBehalfOf': '0x19ec9e3f7b21dd27598e7ad5aae7dc0db00a806d', 'referral': '0', 'user': '0x19ec9e3f7b21dd27598e7ad5aae7dc0db00a806d', 'amount': '6662279182779667844086'}\n",
      "Event data:\n",
      " {'type': 'event', 'event_type': 'DEPOSIT', 'contract_address': '0xe29a55a6aeff5c8b1beede5bcf2f0cb3af8f91f5', 'transaction_hash': '0x7234cb8c77a4b9abe9313419b5e104bc11687e464d693ff3cc4ebeca7b1f182e', 'log_index': 476, 'block_number': 21059483, 'reserve': '0x1af3f329e8be154074d8769d1ffa4ee058b1dbc3', 'onBehalfOf': '0x245e8bb5427822fb8fd6ce062d8dd853fbcfabf5', 'referral': '0', 'user': '0x245e8bb5427822fb8fd6ce062d8dd853fbcfabf5', 'amount': '64083227599558864446'}\n",
      "Start crawling data from 21059495 to 21059595\n",
      "Start crawling data from 21059595 to 21059695\n",
      "Start crawling data from 21059695 to 21059795\n",
      "Start crawling data from 21059795 to 21059895\n",
      "Event data:\n",
      " {'type': 'event', 'event_type': 'DEPOSIT', 'contract_address': '0xe29a55a6aeff5c8b1beede5bcf2f0cb3af8f91f5', 'transaction_hash': '0x4673e7941b88da54279587776097e1dbf7fc2b4dcd1dd6d1c1901a1a21ee9727', 'log_index': 369, 'block_number': 21059851, 'reserve': '0x0e09fabb73bd3ade0a17ecc321fd13a19e81ce82', 'onBehalfOf': '0x5979b4cf7e7574440a0ea6d1fb8ccf2bc258e8c4', 'referral': '0', 'user': '0x5979b4cf7e7574440a0ea6d1fb8ccf2bc258e8c4', 'amount': '17197065997902715680135'}\n",
      "Start crawling data from 21059895 to 21059995\n",
      "Event data:\n",
      " {'type': 'event', 'event_type': 'DEPOSIT', 'contract_address': '0xe29a55a6aeff5c8b1beede5bcf2f0cb3af8f91f5', 'transaction_hash': '0x63c502697d178cd86a310fb947ac7644d61c3772bcf1d31d983e24fc1b93dd3e', 'log_index': 243, 'block_number': 21059944, 'reserve': '0xe9e7cea3dedca5984780bafc599bd69add087d56', 'onBehalfOf': '0x19ec9e3f7b21dd27598e7ad5aae7dc0db00a806d', 'referral': '0', 'user': '0x19ec9e3f7b21dd27598e7ad5aae7dc0db00a806d', 'amount': '68388798758485625716'}\n",
      "Start crawling data from 21059995 to 21060095\n",
      "Start crawling data from 21060095 to 21060195\n",
      "Event data:\n",
      " {'type': 'event', 'event_type': 'DEPOSIT', 'contract_address': '0xe29a55a6aeff5c8b1beede5bcf2f0cb3af8f91f5', 'transaction_hash': '0x33a681231d65a39ffed620a98550dc8b7bdb5ae6d0790d7530176ae81bd33e45', 'log_index': 188, 'block_number': 21060143, 'reserve': '0xe9e7cea3dedca5984780bafc599bd69add087d56', 'onBehalfOf': '0x19ec9e3f7b21dd27598e7ad5aae7dc0db00a806d', 'referral': '0', 'user': '0x19ec9e3f7b21dd27598e7ad5aae7dc0db00a806d', 'amount': '500000000000000000000'}\n",
      "Event data:\n",
      " {'type': 'event', 'event_type': 'DEPOSIT', 'contract_address': '0xe29a55a6aeff5c8b1beede5bcf2f0cb3af8f91f5', 'transaction_hash': '0x4a1297f8bb28480a4eb67a6b09e05fef665f25416485389622e4c7eef512844a', 'log_index': 285, 'block_number': 21060170, 'reserve': '0x1af3f329e8be154074d8769d1ffa4ee058b1dbc3', 'onBehalfOf': '0x245e8bb5427822fb8fd6ce062d8dd853fbcfabf5', 'referral': '0', 'user': '0x245e8bb5427822fb8fd6ce062d8dd853fbcfabf5', 'amount': '5437188243054612937'}\n"
     ]
    },
    {
     "name": "stdout",
     "output_type": "stream",
     "text": [
      "Start crawling data from 21060195 to 21060295\n",
      "Start crawling data from 21060295 to 21060395\n",
      "Start crawling data from 21060395 to 21060495\n",
      "Start crawling data from 21060495 to 21060595\n",
      "Start crawling data from 21060595 to 21060609\n",
      "Stop crawling data...\n"
     ]
    }
   ],
   "source": [
    "craw_events(\n",
    "    web3, \n",
    "    from_block=21042695, \n",
    "    to_block=41044695, \n",
    "    event_abi_file=\"../abi/event_abi.json\", \n",
    "    contract_addresses=[\"0xE29A55A6AEFf5C8B1beedE5bCF2F0Cb3AF8F91f5\"],\n",
    "    block_size=100,\n",
    "    stop = True\n",
    ")"
   ]
  },
  {
   "cell_type": "code",
   "execution_count": null,
   "metadata": {},
   "outputs": [],
   "source": []
  }
 ],
 "metadata": {
  "kernelspec": {
   "display_name": "venv",
   "language": "python",
   "name": "venv"
  },
  "language_info": {
   "codemirror_mode": {
    "name": "ipython",
    "version": 3
   },
   "file_extension": ".py",
   "mimetype": "text/x-python",
   "name": "python",
   "nbconvert_exporter": "python",
   "pygments_lexer": "ipython3",
   "version": "3.9.2"
  }
 },
 "nbformat": 4,
 "nbformat_minor": 4
}
