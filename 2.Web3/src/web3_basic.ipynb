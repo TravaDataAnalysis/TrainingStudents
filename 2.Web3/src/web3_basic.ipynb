{
 "cells": [
  {
   "cell_type": "markdown",
   "metadata": {},
   "source": [
    "# Web3 Python căn bản\n",
    "\n",
    "## Nội dung\n",
    "1. Những kiến thức cần tìm hiểu\n",
    "2. Kết nối Binance Smart Chain public node\n",
    "3. Thu thập dữ liệu smart contract\n",
    "4. Thực hành thu thập dữ liệu của Valas <br>\n",
    "    4.1. Lấy data từ functions của contract <br>\n",
    "    4.2. Lấy data từ events của contract <br>\n",
    "    4.3. Thu thập nhiều loại dữ liệu event một lúc\n",
    "\n",
    "## 1. Những kiến thức cần tìm hiểu trước khi thu thập dữ liệu trên blockchain\n",
    "\n",
    "- Ethereum Virtual Machine là gì? [link](https://ethereum.org/en/developers/docs/evm/)\n",
    "- Application Binary Interface là gì? [link](https://www.quicknode.com/guides/solidity/what-is-an-abi) và [link](https://docs.soliditylang.org/en/develop/abi-spec.html#abi-json)\n",
    "- Light, full and archive ethereum node là gì? [link](https://www.quicknode.com/guides/infrastructure/ethereum-full-node-vs-archive-node) và [link](https://link.springer.com/chapter/10.1007/978-1-4842-3492-1_2)\n",
    "- Các nguồn tham khảo\n",
    "    * [Ethereum docs](https://ethereum.org/en/developers/docs/)\n",
    "    * [Web3 python docs](https://web3py.readthedocs.io/en/stable/)\n",
    "    * [Ethereum JSON-RPC - Postman](https://documenter.getpostman.com/view/4117254/ethereum-json-rpc/RVu7CT5J)\n"
   ]
  },
  {
   "cell_type": "markdown",
   "metadata": {},
   "source": [
    "## 2. Kết nối binance smart chain public node\n",
    "- Đầu tiên, dữ liệu được lưu trên các blockchain nodes. Ta cần kết nối với các node này để lấy dữ liệu, sử dụng một provide URL\n",
    "    - Tìm kiếm \"rpc node\" của các mạng blockchain (eg. ethereum rpc, bsc rpc, ftm rpc, etc.) [link](https://rpc.info/)\n",
    "    - Tại chuỗi thực hành này, mình sử dụng provider url của binance smart chain ([bsc rpc](https://docs.bscscan.com/misc-tools-and-utilities/public-rpc-nodes))\n",
    "- Sau đó, ta sử dụng provider URL vừa lấy được để kết nối với một node của BSC chain  \n",
    "    - Kiểm tra kết nối với node của mainnet\n",
    "    - Lấy dữ liệu của block mới nhất"
   ]
  },
  {
   "cell_type": "code",
   "execution_count": 1,
   "metadata": {},
   "outputs": [
    {
     "name": "stdout",
     "output_type": "stream",
     "text": [
      "Successful Connection: True \n",
      "The latest blocknumber is: 36721747\n"
     ]
    }
   ],
   "source": [
    "from web3 import HTTPProvider\n",
    "from web3 import Web3\n",
    "from web3.middleware import geth_poa_middleware\n",
    "import time\n",
    "import json\n",
    "\n",
    "provider_url = \"https://bsc-dataseed4.binance.org/\" # rpc link\n",
    "web3 = Web3(HTTPProvider(provider_url))\n",
    "web3.middleware_onion.inject(geth_poa_middleware, layer=0)\n",
    "\n",
    "#check connect successfull\n",
    "is_connected = web3.is_connected()\n",
    "print(f\"Successful Connection: {is_connected} \")\n",
    "#check latest blocknumber\n",
    "block_number = web3.eth.block_number\n",
    "print(f\"The latest blocknumber is: {block_number}\")"
   ]
  },
  {
   "cell_type": "code",
   "execution_count": 2,
   "metadata": {
    "editable": true,
    "slideshow": {
     "slide_type": ""
    },
    "tags": []
   },
   "outputs": [
    {
     "data": {
      "text/plain": [
       "AttributeDict({'hash': HexBytes('0xf06148e4d49a5bbbebcc4bbaa0e2b0a40438ccf08b2d88a7b77e4a4216b0d758'),\n",
       " 'parentHash': HexBytes('0x23331757afb735be8c5d72210877129afea039ad74650f9d2827accd3e16fc60'),\n",
       " 'sha3Uncles': HexBytes('0x1dcc4de8dec75d7aab85b567b6ccd41ad312451b948a7413f0a142fd40d49347'),\n",
       " 'miner': '0xBe807Dddb074639cD9fA61b47676c064fc50D62C',\n",
       " 'stateRoot': HexBytes('0x401b3e86597415921c0180f565da90d598c7cb1e4f89b7bb08549ec03d294707'),\n",
       " 'transactionsRoot': HexBytes('0xcf9b21ee797b16bc070de6a822522691ac37f894e2da229afd2a250faecf5ab1'),\n",
       " 'receiptsRoot': HexBytes('0x07aead7d340ed286f2c4a0a66aff5ffff460f22cbbb479d3e986b4ded21b5a81'),\n",
       " 'logsBloom': HexBytes('0x6834a745af006118e01c40789681f6c0844702a4930728c51ce46d76120825d6b38bf32c14269900e8aa16af2827ab8a087c5840473a617892ce188f43a6b2c03e30ac9063d02c69c1c2050b8937203122342b248d570d6028655096b4ec64c8d4de0e68d35f03a40a450857046ca9408d583b91416f8c3180c4e3db40ca234b6990fd21087b58930e91a2488d4178d1e27cd4c3a8627908f3420256e14013bd4682fa0238c4603a8abeeef7ea8405f76ca6c04961249c0388916021a418c4c745bb5602a2c7f8cfdf3f925d2b05148fa248c71911d9fa51cf116447f241f195fcdc5e208de0c56b4b9080af314d6526ab00e1234c2c0b5cfa534a1722e672ca'),\n",
       " 'difficulty': 2,\n",
       " 'number': 36721747,\n",
       " 'gasLimit': 139448871,\n",
       " 'gasUsed': 13869012,\n",
       " 'timestamp': 1709697849,\n",
       " 'proofOfAuthorityData': HexBytes('0xd983010307846765746889676f312e32302e3134856c696e7578000001a091a0f8b5831dffffb860a30808048e4635989bca34a923000d44a7e960714166b22af8e34e857528396336f38697a2b70036fbe4842ebe29af380239f9732e6d588a5c7d471812a554d0d3c4926af446b30b1f0720f8a47592b1ded569cd5c3b95285af538ac528e50a9f84c8402305451a0904bf9be3e2579aa0b1c37bc837a819e590ea14f6e46abdc04e0c7fab7ec0ca58402305452a023331757afb735be8c5d72210877129afea039ad74650f9d2827accd3e16fc6080dab330ab47f19e8dcbb109f51543a614e36ec26a0a87eee7a0d1f3829320dc4e45eff54eb2d2a56902054195c6ccfd801ffc771ee6f3321ebf59dcc5cc5c677201'),\n",
       " 'mixHash': HexBytes('0x0000000000000000000000000000000000000000000000000000000000000000'),\n",
       " 'nonce': HexBytes('0x0000000000000000'),\n",
       " 'size': 162042,\n",
       " 'totalDifficulty': 72955895,\n",
       " 'baseFeePerGas': 0,\n",
       " 'transactions': [HexBytes('0xfd2889b92c242175cc601811ebc5627ccad6a9440e5edbc8bb53172aa3b7db8a'),\n",
       "  HexBytes('0x2f8fcf50e99c770f8c44f5ce17e74352e7dff2f63b3457bbfcef2ccc19ca4940'),\n",
       "  HexBytes('0xd042f84610bb000ae9f6df9fa815ad14b489bdf24f85053fedf269ae9c0732f1'),\n",
       "  HexBytes('0x413ca5702986b1396a90bc6ccc27d3fe445d332d49239cb5535a24f53e51e0e2'),\n",
       "  HexBytes('0xb564b7351974b7b05b6dd46004436ac591a5ba64a84f40fccad79b001b66043a'),\n",
       "  HexBytes('0xfb0c5fb4c62ba2b1e28ba9de2ace22ba15c5945d1d4d46e174e2bc6fa041eb05'),\n",
       "  HexBytes('0x7a986e236cac7ed771ca224559903eb7e678fa8f4b61a4635fac2867ca8a8d36'),\n",
       "  HexBytes('0x70c87fa60db500e482eaa66740086f302e41505bcf5bc114c54304c8396ff597'),\n",
       "  HexBytes('0x60a3f59ac1b2416203467bdb64f6f18dca4053bd46ccd1fb7673906d2248496b'),\n",
       "  HexBytes('0x69501dabf84872289369e77c55ba6b8d3af892d9d943af4cbc31db744b6c573f'),\n",
       "  HexBytes('0x1329f4db045949a501de57a41c9440aa2228db4c01212eded16146771d9c21ac'),\n",
       "  HexBytes('0xb9b794653ca6c0d983bcc20f754ffb186876bee0d76940c8cf21f6f276186d2e'),\n",
       "  HexBytes('0xe50a27496b8e62adde2521b6510e0930a47d7ea861478bcbca6620b48cf85f65'),\n",
       "  HexBytes('0x82c7ace86608d6f174ffff705e28e99faa707bb0435372a35afca5e4911eeeb0'),\n",
       "  HexBytes('0xbff6044b1b7650fdf2a68ec18b5d1fb80381232d2d70d5e35938493f35a01974'),\n",
       "  HexBytes('0x58c958d35ab60dd7520577ebc76a5f93549654cb10b31703a71ca2c4301ea629'),\n",
       "  HexBytes('0x1fa7f27a45278995615d7e5ba5df34676611a7cab82d68b1d40ae92d80bc5096'),\n",
       "  HexBytes('0xaa3c49e09917e9426f708de95e3ced9252398ae217d0f5a50525782bb40ff0b7'),\n",
       "  HexBytes('0x12166f4ad4587cdf2244cf9ee15e90c7cee6782b64f523dea5530d37e186cad7'),\n",
       "  HexBytes('0x3af693d0899cabccfd06e253331574f64a26fddf2c42f8c309b44f0fd63892a6'),\n",
       "  HexBytes('0xc05f194b731eaf3cdfedab3baf514aaba7b1500855435bcffdbb885be0ad813d'),\n",
       "  HexBytes('0x244d40638176640bfd427cbdd913e0262470778570c83a1ecf1294098c5adcb8'),\n",
       "  HexBytes('0x37ab6444df1c6bfc6d8407360fdf702ffd301848d1ba5a98ecd84143624e260e'),\n",
       "  HexBytes('0xd6ed953aa2803c8c04d3065f5db4b90ac736984b41a46225fabc889553ad8786'),\n",
       "  HexBytes('0xb6bdf8c50b81d2e1842ccdd0e0e0a67bfd5a8048bbf3bfe8d5acb8c69a35da6c'),\n",
       "  HexBytes('0x3a4065893fc98df987765cead95c7cdb56b63b51f4d9173abbf96e12de351337'),\n",
       "  HexBytes('0x05cfa85bbb732ca627977074a888f0c8c11fccc4138629d62959e83ebee521eb'),\n",
       "  HexBytes('0x34b663e4d4b4f4ccf9f0bd9f7c88e28e1cfbfd428c3b8194bab11cf75feb1e55'),\n",
       "  HexBytes('0xe126bf3e76ff146540b3ffb947f0ac2a702554507d818720a2039e448843c67d'),\n",
       "  HexBytes('0x14d529890753a690bf592f77a4fc69ff185533eac01e020206e888af2ce5f122'),\n",
       "  HexBytes('0x17c357db230dac0e2729c3c78a9b86056091e865bc106b2feff6f3d2f39671e5'),\n",
       "  HexBytes('0x34e23275f699486acb3908c6290dd5418fa4bd816eeef62e6f5a4e76fcf069ef'),\n",
       "  HexBytes('0x175b0f322b80f4c8ac504e2cfc7b92e9d7ff42ea3368bbda508745ae7a4f4506'),\n",
       "  HexBytes('0x58e9faf21f7806858ce4598faa4580ede5b47bf86cae1ca52c95f386e83df02e'),\n",
       "  HexBytes('0x2b74eda3b4bdb3c68048c07743031c2b7b428bbb3dc3b821e43e99ad09106906'),\n",
       "  HexBytes('0x714d124e576751baca853da536ffd5e2f746b8e45281bf6cca0174b1b5ffd5a4'),\n",
       "  HexBytes('0xc997dc95be95a1b739d4e1338cae89533cc39f7261b9a379e4653b9005fb6700'),\n",
       "  HexBytes('0x8c3ef9312fe018cf3eb85bb02e520fa6b851f8f987c26b885aaa908f74372065'),\n",
       "  HexBytes('0x0818c313c0d583127a4d5d202da4c3fa7ebb8be0258bfc3196ed5de763a74cf8'),\n",
       "  HexBytes('0xe4c153844c0fd7c60419134ba76bc540ce6f749357868259249eebd1b4f08f40'),\n",
       "  HexBytes('0x1fadf26292709513e0d471e320d3e4ece104705805488ac34bd7811416485c3d'),\n",
       "  HexBytes('0x07636fbe446a2d48fd639fb767191804f6077caaad3512e290c65014ce385671'),\n",
       "  HexBytes('0xbe05aae6ad0451a254f37b5b2ba7ce5085312559197c30bc01ced9696f838f31'),\n",
       "  HexBytes('0x5a45496b0195ae2d2c2c03c38147afe4c2aaa9aec58919742b62331e56c9216e'),\n",
       "  HexBytes('0x8c691889540a5448dcbb77d2d2b313ab2332473c98a0c6c1f50d265af5c93248'),\n",
       "  HexBytes('0xc3498fee486f78937477cb783f7b0e731dc7c290130383fb2797528c6dfaea67'),\n",
       "  HexBytes('0x415a4b881c2798677b8186a992c5432a43f6872fbeaa4951b1a4a142d0513989'),\n",
       "  HexBytes('0xa5e414ae8e2013800f290bb8c91618239d8b852bbefa950cffdd1f0677cf843f'),\n",
       "  HexBytes('0x2973b8450f6681eab5584a08795aaaf09d0b2fdf982cabeee47f4d6636ab455a'),\n",
       "  HexBytes('0x32bb0a1424b99fcedb4701610a00e73108c67ffd0c54bfafd40e48417c0946f7'),\n",
       "  HexBytes('0x32add1dd1d4ed6b1cb17aefa178a6f8866960b456625aad36210df60e11d9830'),\n",
       "  HexBytes('0x13a00b2fff2fe56dcc8eec543ebc0eab7955dc6c5fb762aedfd55609f657abe2'),\n",
       "  HexBytes('0x43d72ff47549872ae3303d23123dcef258c373343f6ace304265dcbe8876ab74'),\n",
       "  HexBytes('0x5a37fd40259fa4920f0d3629277346d4c3eb6290cd81fe8b52a4959e616db935'),\n",
       "  HexBytes('0x98334332811a724f6a530245c4b2b07daddfe39dfb62ede9f6553b65b3d47852'),\n",
       "  HexBytes('0x50195d38d0848af10371fc1e9f1ceb5e9c86146819c9b9424dda096c6b4e9bc5'),\n",
       "  HexBytes('0x7d6840ea4da89bf92584acef3bc52878c46bc71359867dd3e47c341cb5dcac17'),\n",
       "  HexBytes('0x89e47cecedc19c4a1efd574bd4091f36b8b6d956fbcc32cf7da6bf67784410f1'),\n",
       "  HexBytes('0xdd40b3fb37ad4f77457006b8276736ef65a9c0e0ced0c24523cdb612e5bfcee1'),\n",
       "  HexBytes('0xfcd3c53ab9762f72706222272a7025d20c2640626ebcbc09f1c5c32dec1d0a80'),\n",
       "  HexBytes('0x77eb5c508534513c8e3b187855c1232f1cd710b8dd8e134b2bdc3069efe7407b'),\n",
       "  HexBytes('0x815a5582b5bb8621fb081787fe65b17b411cda28ca39e20ed6013c989646920d'),\n",
       "  HexBytes('0xa76b97b015426d05d9f920a191c44c3b6d45ae7d61283cde23214cc2d2b0b663'),\n",
       "  HexBytes('0x687c5758410bd0cbb88c1c923a6537b7f8d6bfd652a09aa73a378571c04d41b5'),\n",
       "  HexBytes('0x436493751f7c2073d9729e561af0745750f79baf94a4c8e39744e951bc0a602b'),\n",
       "  HexBytes('0xc45253c3c73a001ed1f086d58a90387f085b699df6999d131da2e86dcf82632c'),\n",
       "  HexBytes('0xec4a3de7dedc073413aee4922357396f56c2f514ce000973b259314f8438cc40'),\n",
       "  HexBytes('0x4e6721c1e299bc883389bdcc0091b4419c5fcd7c4a915991cfc1262919df861b'),\n",
       "  HexBytes('0x653fa59d9f9a9292b08c6bd3f055e7deaa0abe59be110e6c80f064ca8bb24be2'),\n",
       "  HexBytes('0xe65f50b6152150d45716b2fe1950a9ae7aa975c8c3a0bcc4bcdef59814afc4c2'),\n",
       "  HexBytes('0x05116be81b019a40141d0bb4459093abdd8faab0de4f668b341ec3629a6bf4e2'),\n",
       "  HexBytes('0x20468642798595a9b9ff99bd20311c74689624eaeee05cf52052d725ab16b3b9'),\n",
       "  HexBytes('0x756c6bab3dbbf70862857bd00f436b4f379da0c919d23bd3f66e063a48334638'),\n",
       "  HexBytes('0xda957edafdcfdb945ae2934d2bddbb0becb827fbaa49e74decf2635c7b8a36c8'),\n",
       "  HexBytes('0xa79bae025597fae298237b663358fddeab658a0294f7ef0ae8313f122a0ffcfc'),\n",
       "  HexBytes('0x4451bf46ea6e847877540b5554614c762faa3ddce8ba93b594b780cf9fb01db1'),\n",
       "  HexBytes('0xa53159de5eccebe19cd5752c84c28e4a23d1636add537505849920bf02834b3f'),\n",
       "  HexBytes('0x1012bfd51be59230e8d16ac2bf3a9d692c5ecfd5441744dff3b712cb4a340e58'),\n",
       "  HexBytes('0x4cbeb84cdc89e687c70caef40c91b6540a9cad6af94afd840d965259e64507ea'),\n",
       "  HexBytes('0x661052ae1c97dff2658c308ee6277e3658c300c93689e0b2e2c7687b7af5ba9c'),\n",
       "  HexBytes('0xbdbf688e4ca3bfd6f6f033ad66150bdcddcd157efee85a2a31824d3d315b4fd8'),\n",
       "  HexBytes('0x90e025c2ba85894e48bb6629a06d749c724255674a4591eb460db988666d7b70'),\n",
       "  HexBytes('0xc963b5fc289878fc387f5dfb2760b488fec0a11f80d09780ed1ca6b298243a0f'),\n",
       "  HexBytes('0x4378fe7385f1f8716456634567d3e9873ef7a3ce3682b86066c1257f2184a667'),\n",
       "  HexBytes('0x57d61bca757c85ba34c38820fbf5bd7d0aeb45959e517395fe16061c8de4e645'),\n",
       "  HexBytes('0xf98bd3f5b966da463df6b40ae2caf246a754a5215159263aa8f492aa34cc1984'),\n",
       "  HexBytes('0xd6105d50d30f78129cf70fc42fa15cdda191162df56b38160bc9f018af3345b0'),\n",
       "  HexBytes('0x93d7deeee8f983861692db055cd0b4fccebcb999174ae53a39f2ddc8aba525b2'),\n",
       "  HexBytes('0x98acf2c8ab7238377ad8d7f9d967bad954f613bfca557511931ca181b75cc40f'),\n",
       "  HexBytes('0x6a2c7112630d2d05e29d3fd3d37e9624cd2f393845917ea13defeebe8d4cb82e'),\n",
       "  HexBytes('0x468b77f33b55f53fe6ed5bc1045090fc5236b503b02a18d64194aeb6e3ec4771'),\n",
       "  HexBytes('0xf4891275ec1649abb7ccf210cdb6334a079d76f431ed167aaf56b4bd0d5bead8'),\n",
       "  HexBytes('0xf378fc8479acda6389defeb55be3fa7da6365414a84c9fbd652694ddfb77c5db'),\n",
       "  HexBytes('0x7737aceeedb6d691cc70b9b3e5102cccef808789d706bfa268bbf318e533e892'),\n",
       "  HexBytes('0x21fd43ad1fa557e984822d978203692b458018dfa32f603613df952c47512194'),\n",
       "  HexBytes('0xe98a8f9ba96893c08de4a31ec65fe5f83f3915da8c309ec1cfd6b1a699de694a'),\n",
       "  HexBytes('0x37e5068bfc38f617afd8126f09be9bfccf6d39c1d5052f5e11e2efbb345bc291'),\n",
       "  HexBytes('0xede04523c13046452e58c85d6b75a6a15a4ba0733aa79c5eabb77bd92654262b'),\n",
       "  HexBytes('0x18ec8d9449a4afb271456da5c4051ecde33ba4b34b5e4a8b3403745ac38b7392'),\n",
       "  HexBytes('0x0e788a4653844bb37c54a9f2ac86ee1a4e0668bdaf33713806023e752e7635d0'),\n",
       "  HexBytes('0xefd93a2b850e5248e24873b17968c1642bc086152f28efd22822f70a31010c6e'),\n",
       "  HexBytes('0x8a99e3d48bdb8c10b62695f74ca132b8c8667501c8576f315a837d0365699455'),\n",
       "  HexBytes('0x6f5ced90d01046bd579c7bbd9b101295a2b8a6bd3e0d14f33e85bdd6cb9f3849'),\n",
       "  HexBytes('0x2b16f56c7e12ac2b8d4323a77da8ff20b84e3a86a4be7b28985aa256b23021a0'),\n",
       "  HexBytes('0x419898ef5d86c8d17648c61aebb67d202a8da3a93d93d2053b4dda1e2dc1c770'),\n",
       "  HexBytes('0x5c781bc2ca331e8db607a5ead5af2a827be152c6bca1b5f5642462e635786feb'),\n",
       "  HexBytes('0x1010fb12b1901f6c1271e343af93687a6936ad126cd079b77b5a9edbb5a8f7a0'),\n",
       "  HexBytes('0x0d7d3baf839f30d1a1c4c4d7b3d43c456d97d88b46f6b7503b94675f51531250'),\n",
       "  HexBytes('0xe922ee09cc527488b726f354e2417b04b7f08bc7afc680f5694b0547975d24ca'),\n",
       "  HexBytes('0x43e39feed79316aa7018ef0915e4548870c978aa058baa69295b968a274704af'),\n",
       "  HexBytes('0xa315beeacc72ec238f40d0d3675f18066420df32e218eed82e99be008962c90d'),\n",
       "  HexBytes('0x2e17d43e1d0f9e81a5a2dcbadb5d2edb747bf479e4809bc817dd1c98a04a2f40'),\n",
       "  HexBytes('0x8cbfd92961e5c454f2e7c8443314b5e92a28b35ee0060a1cf0e88481e0ae0353'),\n",
       "  HexBytes('0xfd2306b747e4ef2f5e9821ea7f52456143492cf626990cbdc29c6da093d02c6f'),\n",
       "  HexBytes('0xfa045b6b9a99a278bda28094e2286c28325ee32e3472460db6319995875f344c'),\n",
       "  HexBytes('0xd69bb7b3e8b34e6a1861db0a0ce91957caeda22b3a90ac5c74c168e366184c68')],\n",
       " 'uncles': []})"
      ]
     },
     "execution_count": 2,
     "metadata": {},
     "output_type": "execute_result"
    }
   ],
   "source": [
    "#get latest block transaction data\n",
    "data = web3.eth.get_block(block_number)\n",
    "data"
   ]
  },
  {
   "cell_type": "markdown",
   "metadata": {},
   "source": [
    "## 3. Thu thập dữ liệu của smart contract\n",
    "*Thực hành thu thập dữ liệu của lending smart contract Valas trên Binance smart chain. Để có thể lấy dữ liệu của Valas ta cần có:*\n",
    "- *Địa chỉ smart contract*\n",
    "- *ABI của Valas*\n",
    "\n",
    "*Địa chỉ smart contract không được Valas công bố nhưng bằng những nghiệp vụ chuyên dụng mình đã thăm dò và lấy được địa chỉ này trên [BSCscan](https://bscscan.com/). Dưới đây ta sẽ tiến hành lấy ABI của Valas*"
   ]
  },
  {
   "cell_type": "markdown",
   "metadata": {},
   "source": [
    "### Cách lấy ABI\n",
    "*Đối với các smart contract cho phép lấy ABI trên BSCscan, ta có thể  thực hiện các bước sau để lấy ABI:*  \n",
    "1. Truy cập [BSC Scan](https://bscscan.com/).\n",
    "2. Nhập địa chỉ smart contract address vào search bar.\n",
    "3. Kéo xuống và chon tab “Contract”.\n",
    "\n",
    "![image.png](../images/contract.png)\n",
    "\n",
    "4. Kéo xuống thêm một tý, chúng ta sẽ thấy phần ABI.\n",
    "5. Chọn nút copy ABI  hoặc download dưới dạng json.\n",
    "\n",
    "![image.png](../images/ABI.png)\n",
    "\n",
    "*Lưu ý:*\n",
    "\n",
    "> Một số smart contract không công bố ABI, ta có thể tìm kiếm source code của nó trên github, deploy và lấy ABI.\n",
    "\n",
    "> Đối với các smart contract không công bố cả code cũng như ABI như Valas, mình có thể đọc [docs](https://docs.valasfinance.com/) của nó. Tại [đây](https://docs.valasfinance.com/#why-valas), mình thấy rằng Valas sử dụng công nghệ của Aave Finance. Do Aave finance public [ABI](https://docs.aave.com/developers/v/2.0/deployed-contracts/deployed-contracts) nên mình có thể sử dụng ABI này. Mặc dù một số điểm trên ABI của Aave có thể đã bị Valas thay đổi, nhưng nhìn chung là có thể dùng tạm để thay thế cho ABI của Valas."
   ]
  },
  {
   "cell_type": "markdown",
   "metadata": {},
   "source": [
    "## 4. Thực hành thu thập dữ liệu của Valas\n",
    "*Tại đây, mình sẽ demo một số cách lấy dữ liệu của một smart contract. Chúng ta có hai loại dữ liệu cần lấy, đó là:*\n",
    "- *Dữ liệu từ các giao dịch (transaction) của smart contract*\n",
    "- *Dữ liệu trạng thái là các thông tin từ các phần tử liên quan với smart contract (với lending pool Valas, các phần tử  này là các tokens và users).*\n",
    "\n",
    "*Việc thu thập dữ liệu sẽ dựa trên ABI của smart contract.*"
   ]
  },
  {
   "cell_type": "code",
   "execution_count": 3,
   "metadata": {},
   "outputs": [],
   "source": [
    "#lấy cấu trúc dữ liệu của abi\n",
    "with open(\"../abi/lending_pool_aave_v2.json\", \"r\") as f:\n",
    "    abi = json.loads(f.read())\n",
    "#Địa chỉ của valas  \n",
    "address = \"0xE29A55A6AEFf5C8B1beedE5bCF2F0Cb3AF8F91f5\"\n",
    "# Kiểm tra xem địa chỉ có đúng không\n",
    "if not web3.is_address(address):\n",
    "    address = web3.to_checksum_address(address)\n",
    "#Sử dụng web3 thiết lập đối tượng contract để sử dụng các phương thức\n",
    "contract = web3.eth.contract(abi=abi, address=address)"
   ]
  },
  {
   "cell_type": "markdown",
   "metadata": {},
   "source": [
    "> **NOTE**: Nên kiểm tra xem chuỗi byte code có phải là một địa chỉ trên blockchain hay không: **`web3.isAddress(address)`**. Nếu là địa chỉ, nên có thêm một bước convert địa chỉ thành địa chỉ thực trên web3 bằng **`web3.toChecksumAddress(address)`**. Do địa chỉ trên của mình đã là địa chỉ thực của Valas trên BSC nên hai bước này có thể bỏ qua."
   ]
  },
  {
   "cell_type": "markdown",
   "metadata": {},
   "source": [
    "### 4.1. Lấy data từ **function** của contract \n",
    "*Mình sử dụng một số hàm trong smart contract để lấy dữ liệu từ các tokens được giao dịch trong lending pool Valas. Đầu tiên sẽ lấy danh sách địa chỉ smart contract của các tokens được giao dịch. Sau đó, lấy thông tin của tokens dựa trên địa chỉ của nó. Thông tin của user được lấy tương tự như vậy (Không có hàm lấy danh sách users, vì số lượng users rất nhiều)*\n",
    "\n",
    "> **Note**: Cấu trúc các hàm này trong ABI thường sẽ có trường **`\"stateMutability\": \"view\"`** hoặc có chữ **`get`** đầu tiên của tên hàm\n",
    "\n",
    "#### 4.1.a. Lấy địa chỉ các token\n",
    "*Ta có thể tìm các hàm hỗ trợ lấy dữ liệu trong file ABI. Tại đây, mình đã sử dụng hàm getReservesList trong `abi/lending_pool_aave_v2.json`. Các bạn có thể thấy cấu trúc của nó ở hình dưới hoặc vào file ABI này tìm kiếm thử.*\n",
    "\n",
    "![image.png](../images/list_token.png)"
   ]
  },
  {
   "cell_type": "code",
   "execution_count": 4,
   "metadata": {},
   "outputs": [
    {
     "data": {
      "text/plain": [
       "['0xbb4CdB9CBd36B01bD1cBaEBF2De08d9173bc095c',\n",
       " '0xe9e7CEA3DedcA5984780Bafc599bD69ADd087D56',\n",
       " '0x8AC76a51cc950d9822D68b83fE1Ad97B32Cd580d',\n",
       " '0x55d398326f99059fF775485246999027B3197955',\n",
       " '0x1AF3F329e8BE154074D8769D1FFa4eE058B1DBc3',\n",
       " '0x0E09FaBB73Bd3Ade0a17ECC321fD13a19e81cE82',\n",
       " '0x2170Ed0880ac9A755fd29B2688956BD959F933F8',\n",
       " '0x7130d2A12B9BCbFAe4f2634d864A1Ee1Ce3Ead9c',\n",
       " '0x14016E85a25aeb13065688cAFB43044C2ef86784',\n",
       " '0x40af3827F39D0EAcBF4A168f8D4ee67c121D11c9']"
      ]
     },
     "execution_count": 4,
     "metadata": {},
     "output_type": "execute_result"
    }
   ],
   "source": [
    "contract.functions.getReservesList().call()"
   ]
  },
  {
   "cell_type": "markdown",
   "metadata": {},
   "source": [
    ">**Note**: Hàm trên mặc định lấy dữ liệu ở block mới nhất. Ngoài ra ta có thể dữ liệu của các block trong quá khứ thông qua parameter *`block_identifier`* của hàm `call()`, các bạn có thể tham khảo tại [document](https://web3py.readthedocs.io/en/stable/contracts.html?highlight=call#web3.contract.ContractFunction.call)"
   ]
  },
  {
   "cell_type": "markdown",
   "metadata": {},
   "source": [
    "#### 4.1.b. Lấy thông tin của một token trong Valas\n",
    "*Để lấy thông tin của một token trong danh sách token được reserved trong Valas trên, mình sử dụng hàm **`getReserveData()`**. Tại đây mình cũng sẽ thử lấy dữ liệu trong block ở quá khứ (cụ thể là block cách block mới nhất 10 block), sử dụng tham số `block_identifier` của hàm `call`.*\n",
    "\n",
    "> Lưu ý là ta đang sử dụng full node provider. Full node chỉ lưu dữ liệu state của blockchain tại 128 blocks gần nhất (Đọc tìm hiểu full, archive và light node ở đầu series này đi nhé, quan trọng đấy). Vì vậy ta sẽ không thể lấy dữ liệu ở những block cách block mới nhất quá 127 block"
   ]
  },
  {
   "cell_type": "code",
   "execution_count": 5,
   "metadata": {},
   "outputs": [
    {
     "data": {
      "text/plain": [
       "((92234085768165225799488,),\n",
       " 1115805936301057095376817033,\n",
       " 1442820529145724717421810036,\n",
       " 62278538552699761212585500,\n",
       " 233151161917470347430923573,\n",
       " 10000000000000000000000000,\n",
       " 1709690813,\n",
       " '0xB11A912CD93DcffA8b609b4C021E89723ceb7FE8',\n",
       " '0x2Adc0c94A055f1FF64A35672D30Eb523ec647816',\n",
       " '0xE7CDC4e53915D50B74496847EeBa7233caE85CE5',\n",
       " '0xe4630EaE1C2b8B30F9b4AADD355522Ec9c18bfe4',\n",
       " 0)"
      ]
     },
     "execution_count": 5,
     "metadata": {},
     "output_type": "execute_result"
    }
   ],
   "source": [
    "blocknumber = web3.eth.block_number - 10\n",
    "contract.functions.getReserveData(\"0xbb4CdB9CBd36B01bD1cBaEBF2De08d9173bc095c\").call(block_identifier=blocknumber)"
   ]
  },
  {
   "cell_type": "markdown",
   "metadata": {},
   "source": [
    "### 4.2. Lấy data từ **event** của contract \n",
    "*Tiếp theo mình sẽ hướng dẫn các bạn crawl dữ liệu từ các giao dịch, thông qua **event** mà các contract emit ra.*\n",
    "*Không như dữ liệu về state của blockchain chỉ được lưu của 128 block đầu, full node lưu tất cả lịch sử giao dịch của smart contract trên BSC. Tại đây, mình sẽ crawl dữ liệu của deposit event được emit từ các giao dịch của Valas tại block 21031205. Hình dưới đây là cấu trúc của event này trong ABI. Các bạn có thể kiểm tra trong `abi/lending_pool_aave_v2.json`*\n",
    "\n",
    "![image.png](../images/deposit.png)"
   ]
  },
  {
   "cell_type": "code",
   "execution_count": 6,
   "metadata": {},
   "outputs": [
    {
     "data": {
      "text/plain": [
       "[{'args': {'reserve': '0x0E09FaBB73Bd3Ade0a17ECC321fD13a19e81cE82',\n",
       "   'onBehalfOf': '0x26417D19dc19a73274B4c97615b310b39017FA57',\n",
       "   'referral': 0,\n",
       "   'user': '0x26417D19dc19a73274B4c97615b310b39017FA57',\n",
       "   'amount': 1257749112692222427},\n",
       "  'event': 'Deposit',\n",
       "  'logIndex': 220,\n",
       "  'transactionIndex': 71,\n",
       "  'transactionHash': '0x0ee0f8ee33047ba977e3afd0b0995885b8d304b1aa1f1c6d307099c9ef9206e9',\n",
       "  'address': '0xE29A55A6AEFf5C8B1beedE5bCF2F0Cb3AF8F91f5',\n",
       "  'blockHash': '0x68dee16ed601595adeb352f2072879d04f288506e5dcdd44f064b4f862e6bfe4',\n",
       "  'blockNumber': 21031205}]"
      ]
     },
     "execution_count": 6,
     "metadata": {},
     "output_type": "execute_result"
    }
   ],
   "source": [
    "events = contract.events.Deposit.create_filter(fromBlock=21031205, toBlock=21031205).get_all_entries()\n",
    "event_list = []\n",
    "for event in events:\n",
    "    event_list.append(json.loads(web3.to_json(event)))\n",
    "event_list"
   ]
  },
  {
   "cell_type": "markdown",
   "metadata": {},
   "source": [
    ">**NOTE**: Các bạn có thấy hai trường **fromBlock** và **toBlock** không? Mình có thể thay đổi hai giá trị này để  thu thập dữ liệu trong nhiều blocks nhé. Chú ý là **fromBlock** luôn nhỏ hơn **toBlock** và số  blocks tối đa có thể crawl một lần là **5000** blocks thôi. Ngoài ra có thể tham khảo trên [Web3 python docs](https://web3py.readthedocs.io/en/stable/contracts.html?highlight=createFilter#web3.contract.Contract.events.your_event_name.createFilter) để thiết lập các điều kiện lọc dữ liệu event khác theo ý thích nhé."
   ]
  },
  {
   "cell_type": "markdown",
   "metadata": {},
   "source": [
    "### 4.3. Thu thập nhiều loại dữ liệu event cùng lúc\n",
    "*Với cách trên, mọi người có thể thấy nhược điểm là mỗi lần mình chỉ có thể thu thập được một loại dữ liệu thôi. Vậy làm sao để thu thập nhiều loại dữ liệu một lúc để tránh mỗi lần thu thập lại phải quét lại những blocks đã crawl? Ta sẽ phải tự code.* \n",
    "\n",
    "*Cơ bản ta sẽ sử dụng event hash để crawl. Event hash là một chuỗi byte code được mã hóa theo chuẩn KECCAK_256 từ một chuỗi định nghĩa hàm tạo bởi cấu trúc event trong ABI (Đọc code để hiểu rõ hơn nhé - hàm **`get_topic_filter`** trong `service/utils.py`).*\n",
    "\n",
    "*Tại đây, mình cũng sẽ sẽ tách hai event là `deposit` và `borrow` trong ABI của aave tạo thành một ABI mới riêng cho hai event này tại `abi/event_abi.json`.*\n",
    "\n",
    "*Mình có xây dựng một class EthReceiptLogHandler cung cấp các functions xử lý ABI và dữ liệu event trả về. Có ba functions quan trọng mà mọi người cần chú ý đó là:* \n",
    "\n",
    "- *(1) **`build_list_info_event`** xây dựng thông tin event từ ABI. Hàm này có nhiệm vụ trả về `EventSubscriber` chứa thông tin đối sánh tên event theo event hash và thứ tự các trường dữ liệu tương ứng với dữ liệu event mà web3 trả về.*\n",
    "\n",
    "- *(2) **`web3_dict_to_receipt_log`** biến đổi dữ liệu event data trả về theo cấu trúc mà mình quy định sẵn (cài này tạo ra để mình xử lý event dễ hơn ý mà).*\n",
    "\n",
    "- *(3) **`extract_event_from_log`** đối sánh dữ liệu event trả về với `EventSubscriber` và giải mã các trường dữ liệu `topics` và `data` trong event (Muốn biến hai trường này là gì thì các bạn đọc phần tài liệu về ABI mình để ở đầu bài nhé).*\n",
    "\n",
    "- *(4) cuối cùng **`eth_event_to_dict`** chuyển đổi dữ liệu event về cấu trúc event cuối cùng (theo dictionary) lưu vào cơ sở dữ liệu (Cái này tạo ra để mình có thể lưu dữ liệu vào mongodb).*"
   ]
  },
  {
   "cell_type": "code",
   "execution_count": 7,
   "metadata": {},
   "outputs": [
    {
     "data": {
      "text/plain": [
       "[[<model.receipt_log.EventSubscriber at 0x109b00490>,\n",
       "  '0xc6a898309e823ee50bac64e45ca8adba6690e99e7841c45d754e2a38e9019d9b',\n",
       "  ['reserve', 'user', 'onBehalfOf'],\n",
       "  'Borrow'],\n",
       " [<model.receipt_log.EventSubscriber at 0x109b00400>,\n",
       "  '0xde6857219544bb5b7746f48ed30be6386fefc61b2f864cacf559893bf50fd951',\n",
       "  ['reserve', 'user', 'onBehalfOf'],\n",
       "  'Deposit']]"
      ]
     },
     "execution_count": 7,
     "metadata": {},
     "output_type": "execute_result"
    }
   ],
   "source": [
    "from receipt_log_handler import EthReceiptLogHandler\n",
    "\n",
    "with open(\"../abi/event_abi.json\", \"r\") as f:\n",
    "    event_abi = json.loads(f.read())\n",
    "\n",
    "handler = EthReceiptLogHandler()\n",
    "# xây dựng thông tin event từ ABI.\n",
    "event_abi_info = handler.build_list_info_event(event_abi)\n",
    "event_abi_info"
   ]
  },
  {
   "cell_type": "code",
   "execution_count": 8,
   "metadata": {},
   "outputs": [
    {
     "data": {
      "text/plain": [
       "['0xc6a898309e823ee50bac64e45ca8adba6690e99e7841c45d754e2a38e9019d9b',\n",
       " '0xde6857219544bb5b7746f48ed30be6386fefc61b2f864cacf559893bf50fd951']"
      ]
     },
     "execution_count": 8,
     "metadata": {},
     "output_type": "execute_result"
    }
   ],
   "source": [
    "# tách lấy event hash\n",
    "event_hash = [event_info[1] for event_info in event_abi_info]\n",
    "event_hash"
   ]
  },
  {
   "cell_type": "code",
   "execution_count": 9,
   "metadata": {},
   "outputs": [
    {
     "data": {
      "text/plain": [
       "{'0xc6a898309e823ee50bac64e45ca8adba6690e99e7841c45d754e2a38e9019d9b': <model.receipt_log.EventSubscriber at 0x109b00490>,\n",
       " '0xde6857219544bb5b7746f48ed30be6386fefc61b2f864cacf559893bf50fd951': <model.receipt_log.EventSubscriber at 0x109b00400>}"
      ]
     },
     "execution_count": 9,
     "metadata": {},
     "output_type": "execute_result"
    }
   ],
   "source": [
    "# tách lấy event subscriber\n",
    "event_subscriber = {}\n",
    "for info in event_abi_info:\n",
    "    event_subscriber[info[1]] = info[0]\n",
    "\n",
    "event_subscriber"
   ]
  },
  {
   "cell_type": "markdown",
   "metadata": {},
   "source": [
    "*Do dữ liệu event trên blockchain vô cùng lớn và nhiểu dữ liệu từ các lending pool khác nhau, mình đã tạo một filter chỉ thu thập dữ liệu của Valas. Filter này gồm 4 điều kiện là fromBlock, toBlock, topics - danh sách event hash cần lọc (event hash lưu ở topics[0] nên mình để mảng event hash làm phần tử đầu của topics - hơi khó hiểu nhỉ, mọi người sẽ hình dung rõ hơn khi nhìn vào dữ liệu thô) và address là các địa chỉ smart contract mà mình muốn lấy event.*"
   ]
  },
  {
   "cell_type": "code",
   "execution_count": 12,
   "metadata": {},
   "outputs": [
    {
     "data": {
      "text/plain": [
       "True"
      ]
     },
     "execution_count": 12,
     "metadata": {},
     "output_type": "execute_result"
    }
   ],
   "source": [
    "#create filter\n",
    "filter_params = {\n",
    "    \"fromBlock\":21043181,\n",
    "    \"toBlock\":21043646,\n",
    "    \"topics\": [event_hash],\n",
    "    \"address\":[\"0xE29A55A6AEFf5C8B1beedE5bCF2F0Cb3AF8F91f5\"]\n",
    "}\n",
    "\n",
    "# event_filter = web3.eth.filter(filter_params)\n",
    "# events = event_filter.get_all_entries()\n",
    "# event_list = []\n",
    "# for event in events:\n",
    "#     log = handler.web3_dict_to_receipt_log(event)\n",
    "#     eth_event = handler.extract_event_from_log(log, event_subscriber[log.topics[0]])\n",
    "#     if eth_event is not None:\n",
    "#         eth_event_dict = handler.eth_event_to_dict(eth_event)\n",
    "#         event_list.append(eth_event_dict)\n",
    "\n",
    "event_filter = web3.eth.filter(filter_params)\n",
    "event_logs = event_filter.get_all_entries()\n",
    "event_list = []\n",
    "for event_log in event_logs:\n",
    "    log = handler.web3_dict_to_receipt_log(event_log)\n",
    "    eth_event = handler.extract_event_from_log(log, event_subscriber[log.topics[0]])\n",
    "    if eth_event is not None:\n",
    "        eth_event_dict = handler.eth_event_to_dict(eth_event)\n",
    "        event_list.append(eth_event_dict)\n",
    "\n",
    "\n",
    "web3.eth.uninstall_filter(event_filter.filter_id)"
   ]
  },
  {
   "cell_type": "markdown",
   "metadata": {},
   "source": [
    "*Dưới đây là dữ liệu thô, trường `topics` là một mảng các phần tử nhé. Phần tử đầu tiên chính là event hash. Các phần tử còn lại sẽ là các trường dữ liệu có `index` là `true` trong cấu trúc event ở ABI.*"
   ]
  },
  {
   "cell_type": "code",
   "execution_count": 13,
   "metadata": {},
   "outputs": [
    {
     "data": {
      "text/plain": [
       "[AttributeDict({'address': '0xE29A55A6AEFf5C8B1beedE5bCF2F0Cb3AF8F91f5',\n",
       "  'topics': [HexBytes('0xde6857219544bb5b7746f48ed30be6386fefc61b2f864cacf559893bf50fd951'),\n",
       "   HexBytes('0x0000000000000000000000000e09fabb73bd3ade0a17ecc321fd13a19e81ce82'),\n",
       "   HexBytes('0x0000000000000000000000007c6defb490b8ffe9379839914b4073c35ea7468a'),\n",
       "   HexBytes('0x0000000000000000000000000000000000000000000000000000000000000000')],\n",
       "  'data': HexBytes('0x0000000000000000000000007c6defb490b8ffe9379839914b4073c35ea7468a0000000000000000000000000000000000000000000000058282d58b806d99f4'),\n",
       "  'blockNumber': 21043181,\n",
       "  'transactionHash': HexBytes('0x4452f763a53dad9fb3a9784a2133a4a960379685d194932155fa6a7217980ad9'),\n",
       "  'transactionIndex': 149,\n",
       "  'blockHash': HexBytes('0x52ac94f0072e20b23c7bab220d8c9e3d43185cdbc62bfec962076a2de4a51912'),\n",
       "  'logIndex': 409,\n",
       "  'removed': False}),\n",
       " AttributeDict({'address': '0xE29A55A6AEFf5C8B1beedE5bCF2F0Cb3AF8F91f5',\n",
       "  'topics': [HexBytes('0xde6857219544bb5b7746f48ed30be6386fefc61b2f864cacf559893bf50fd951'),\n",
       "   HexBytes('0x000000000000000000000000e9e7cea3dedca5984780bafc599bd69add087d56'),\n",
       "   HexBytes('0x00000000000000000000000019ec9e3f7b21dd27598e7ad5aae7dc0db00a806d'),\n",
       "   HexBytes('0x0000000000000000000000000000000000000000000000000000000000000000')],\n",
       "  'data': HexBytes('0x00000000000000000000000019ec9e3f7b21dd27598e7ad5aae7dc0db00a806d00000000000000000000000000000000000000000000000de185f0414836722f'),\n",
       "  'blockNumber': 21043427,\n",
       "  'transactionHash': HexBytes('0xbddb09a7f95e47bcf469b26f621cb62fa050cf1f4f0cb9678352acf815a15e89'),\n",
       "  'transactionIndex': 83,\n",
       "  'blockHash': HexBytes('0xc143586eccc0a1c83910d310460d8a9032c856407b081d4207e9be5906d2ae5a'),\n",
       "  'logIndex': 169,\n",
       "  'removed': False}),\n",
       " AttributeDict({'address': '0xE29A55A6AEFf5C8B1beedE5bCF2F0Cb3AF8F91f5',\n",
       "  'topics': [HexBytes('0xde6857219544bb5b7746f48ed30be6386fefc61b2f864cacf559893bf50fd951'),\n",
       "   HexBytes('0x0000000000000000000000000e09fabb73bd3ade0a17ecc321fd13a19e81ce82'),\n",
       "   HexBytes('0x0000000000000000000000009321d5ba18a9cad47e72ddc0a9c8f59c196644a4'),\n",
       "   HexBytes('0x0000000000000000000000000000000000000000000000000000000000000000')],\n",
       "  'data': HexBytes('0x0000000000000000000000009321d5ba18a9cad47e72ddc0a9c8f59c196644a40000000000000000000000000000000000000000000000843a82386542bd7208'),\n",
       "  'blockNumber': 21043541,\n",
       "  'transactionHash': HexBytes('0xe1f4c0b8c315089c719d7bb55246a76228ef7eff61f4d76ce4d62303bfb7b7f4'),\n",
       "  'transactionIndex': 59,\n",
       "  'blockHash': HexBytes('0xf5378417c7a2752e6009581f14aa200682e8141f14b455fc4e0a5f2c6d72881e'),\n",
       "  'logIndex': 145,\n",
       "  'removed': False}),\n",
       " AttributeDict({'address': '0xE29A55A6AEFf5C8B1beedE5bCF2F0Cb3AF8F91f5',\n",
       "  'topics': [HexBytes('0xc6a898309e823ee50bac64e45ca8adba6690e99e7841c45d754e2a38e9019d9b'),\n",
       "   HexBytes('0x0000000000000000000000008ac76a51cc950d9822d68b83fe1ad97b32cd580d'),\n",
       "   HexBytes('0x0000000000000000000000009321d5ba18a9cad47e72ddc0a9c8f59c196644a4'),\n",
       "   HexBytes('0x0000000000000000000000000000000000000000000000000000000000000000')],\n",
       "  'data': HexBytes('0x0000000000000000000000009321d5ba18a9cad47e72ddc0a9c8f59c196644a40000000000000000000000000000000000000000000001923f0fe28d7a7c03e6000000000000000000000000000000000000000000000000000000000000000200000000000000000000000000000000000000000004ff86881fdbab1ef02543'),\n",
       "  'blockNumber': 21043560,\n",
       "  'transactionHash': HexBytes('0x41c77a9f7060e4223071646e0fe27635d0588fdd0143aff16ff21f87b5eec435'),\n",
       "  'transactionIndex': 76,\n",
       "  'blockHash': HexBytes('0xd10f310f3f87819093882e9c75081e632cfdcf339bff3f981b96a49f3c055528'),\n",
       "  'logIndex': 183,\n",
       "  'removed': False}),\n",
       " AttributeDict({'address': '0xE29A55A6AEFf5C8B1beedE5bCF2F0Cb3AF8F91f5',\n",
       "  'topics': [HexBytes('0xde6857219544bb5b7746f48ed30be6386fefc61b2f864cacf559893bf50fd951'),\n",
       "   HexBytes('0x0000000000000000000000000e09fabb73bd3ade0a17ecc321fd13a19e81ce82'),\n",
       "   HexBytes('0x0000000000000000000000009321d5ba18a9cad47e72ddc0a9c8f59c196644a4'),\n",
       "   HexBytes('0x0000000000000000000000000000000000000000000000000000000000000000')],\n",
       "  'data': HexBytes('0x0000000000000000000000009321d5ba18a9cad47e72ddc0a9c8f59c196644a4000000000000000000000000000000000000000000000061f06a1852b37d1e91'),\n",
       "  'blockNumber': 21043593,\n",
       "  'transactionHash': HexBytes('0x694e8ae6a14cb404db237212bf064be549ca346f13b5126eded0363d6d9d38e9'),\n",
       "  'transactionIndex': 124,\n",
       "  'blockHash': HexBytes('0x8598993a043163f8e648994b2d8934d653cbf00a77e0623c98a1955d785cb1f6'),\n",
       "  'logIndex': 303,\n",
       "  'removed': False}),\n",
       " AttributeDict({'address': '0xE29A55A6AEFf5C8B1beedE5bCF2F0Cb3AF8F91f5',\n",
       "  'topics': [HexBytes('0xc6a898309e823ee50bac64e45ca8adba6690e99e7841c45d754e2a38e9019d9b'),\n",
       "   HexBytes('0x0000000000000000000000008ac76a51cc950d9822d68b83fe1ad97b32cd580d'),\n",
       "   HexBytes('0x0000000000000000000000009321d5ba18a9cad47e72ddc0a9c8f59c196644a4'),\n",
       "   HexBytes('0x0000000000000000000000000000000000000000000000000000000000000000')],\n",
       "  'data': HexBytes('0x0000000000000000000000009321d5ba18a9cad47e72ddc0a9c8f59c196644a400000000000000000000000000000000000000000000005150ae84a8cdf0000000000000000000000000000000000000000000000000000000000000000000020000000000000000000000000000000000000000000501421581d033d4d54dd7'),\n",
       "  'blockNumber': 21043618,\n",
       "  'transactionHash': HexBytes('0xd15a93675c17a05edfbb40b7a7fd8258f761b82b533fddb3315a778ef7e2b463'),\n",
       "  'transactionIndex': 33,\n",
       "  'blockHash': HexBytes('0x0f21a45357fb355928cfb4c25b2639d819477e0adb916b66a547dceddf7b6da2'),\n",
       "  'logIndex': 134,\n",
       "  'removed': False}),\n",
       " AttributeDict({'address': '0xE29A55A6AEFf5C8B1beedE5bCF2F0Cb3AF8F91f5',\n",
       "  'topics': [HexBytes('0xde6857219544bb5b7746f48ed30be6386fefc61b2f864cacf559893bf50fd951'),\n",
       "   HexBytes('0x0000000000000000000000000e09fabb73bd3ade0a17ecc321fd13a19e81ce82'),\n",
       "   HexBytes('0x0000000000000000000000009321d5ba18a9cad47e72ddc0a9c8f59c196644a4'),\n",
       "   HexBytes('0x0000000000000000000000000000000000000000000000000000000000000000')],\n",
       "  'data': HexBytes('0x0000000000000000000000009321d5ba18a9cad47e72ddc0a9c8f59c196644a4000000000000000000000000000000000000000000000013c9265746580d33e7'),\n",
       "  'blockNumber': 21043646,\n",
       "  'transactionHash': HexBytes('0x81299ecc60cbcff15f0d81d28c3e3403fa205ebb4543338122b0780725ab0868'),\n",
       "  'transactionIndex': 80,\n",
       "  'blockHash': HexBytes('0x3d4410a5f868f6bad0a8335b0ba50a0d91595a1b2bcb685782a5cfc6a8f6357e'),\n",
       "  'logIndex': 228,\n",
       "  'removed': False})]"
      ]
     },
     "execution_count": 13,
     "metadata": {},
     "output_type": "execute_result"
    }
   ],
   "source": [
    "event_logs"
   ]
  },
  {
   "cell_type": "markdown",
   "metadata": {},
   "source": [
    "*Đây là dữ liệu sau cuối cùng trả về . Quá trình giải mã dữ liệu khá phức tạp nhưng mình sẽ giải thích đơn giản như sau:*\n",
    "\n",
    "*Dựa vào cấu trúc event trong ABI, mình phân loại các trường dữ liệu theo hai loại có thuộc tính **`index`** là `true` và `false`:*\n",
    "- *Với những trường dữ liệu có **`index`** là `true`, theo thứ tự của chúng trong event ABI sẽ tương ứng là các giá trị theo thứ tự trong **`topics`** (trừ `topics[0]` là event hash nhé).* \n",
    "- *Các trường dữ liệu có **index** là `false` theo thứ tự tương ứng với mỗi 32 bytes trong **`data`***\n",
    "\n",
    "*Sau khi đã xác định vị trí các trường dữ liệu, mình dựa vào thuộc tính **`type`** của chúng trong ABI để giải mã:*\n",
    "- *Nếu **`type`** là `address` mình sẽ lấy 20 bytes cuối rồi ghép với `0x`*\n",
    "- *Còn **`type`** là `uint` mình sẽ quy đổi giá trị từ thập lục phân sang thập phân.*\n",
    "\n",
    "(Bạn nào chưa hiểu thì đọc code mình để dễ hiểu hơn nhé, hoặc đọc [document về Event Log Filter](https://web3py.readthedocs.io/en/stable/filters.html?highlight=get_transaction#event-log-filters)).\n",
    "\n",
    "*Dưới đây là dữ liệu cuối cùng thu được.*"
   ]
  },
  {
   "cell_type": "code",
   "execution_count": 14,
   "metadata": {},
   "outputs": [
    {
     "data": {
      "text/plain": [
       "[{'type': 'event',\n",
       "  'event_type': 'DEPOSIT',\n",
       "  'contract_address': '0xe29a55a6aeff5c8b1beede5bcf2f0cb3af8f91f5',\n",
       "  'transaction_hash': '0x4452f763a53dad9fb3a9784a2133a4a960379685d194932155fa6a7217980ad9',\n",
       "  'log_index': 409,\n",
       "  'block_number': 21043181,\n",
       "  'reserve': '0x0e09fabb73bd3ade0a17ecc321fd13a19e81ce82',\n",
       "  'onBehalfOf': '0x7c6defb490b8ffe9379839914b4073c35ea7468a',\n",
       "  'referral': '0',\n",
       "  'user': '0x7c6defb490b8ffe9379839914b4073c35ea7468a',\n",
       "  'amount': '101638034135582611956'},\n",
       " {'type': 'event',\n",
       "  'event_type': 'DEPOSIT',\n",
       "  'contract_address': '0xe29a55a6aeff5c8b1beede5bcf2f0cb3af8f91f5',\n",
       "  'transaction_hash': '0xbddb09a7f95e47bcf469b26f621cb62fa050cf1f4f0cb9678352acf815a15e89',\n",
       "  'log_index': 169,\n",
       "  'block_number': 21043427,\n",
       "  'reserve': '0xe9e7cea3dedca5984780bafc599bd69add087d56',\n",
       "  'onBehalfOf': '0x19ec9e3f7b21dd27598e7ad5aae7dc0db00a806d',\n",
       "  'referral': '0',\n",
       "  'user': '0x19ec9e3f7b21dd27598e7ad5aae7dc0db00a806d',\n",
       "  'amount': '256058331951835542063'},\n",
       " {'type': 'event',\n",
       "  'event_type': 'DEPOSIT',\n",
       "  'contract_address': '0xe29a55a6aeff5c8b1beede5bcf2f0cb3af8f91f5',\n",
       "  'transaction_hash': '0xe1f4c0b8c315089c719d7bb55246a76228ef7eff61f4d76ce4d62303bfb7b7f4',\n",
       "  'log_index': 145,\n",
       "  'block_number': 21043541,\n",
       "  'reserve': '0x0e09fabb73bd3ade0a17ecc321fd13a19e81ce82',\n",
       "  'onBehalfOf': '0x9321d5ba18a9cad47e72ddc0a9c8f59c196644a4',\n",
       "  'referral': '0',\n",
       "  'user': '0x9321d5ba18a9cad47e72ddc0a9c8f59c196644a4',\n",
       "  'amount': '2439186211938395582984'},\n",
       " {'type': 'event',\n",
       "  'event_type': 'BORROW',\n",
       "  'contract_address': '0xe29a55a6aeff5c8b1beede5bcf2f0cb3af8f91f5',\n",
       "  'transaction_hash': '0x41c77a9f7060e4223071646e0fe27635d0588fdd0143aff16ff21f87b5eec435',\n",
       "  'log_index': 183,\n",
       "  'block_number': 21043560,\n",
       "  'reserve': '0x8ac76a51cc950d9822d68b83fe1ad97b32cd580d',\n",
       "  'onBehalfOf': '0x9321d5ba18a9cad47e72ddc0a9c8f59c196644a4',\n",
       "  'referral': '0',\n",
       "  'user': '0x9321d5ba18a9cad47e72ddc0a9c8f59c196644a4',\n",
       "  'amount': '7420135217277553083366',\n",
       "  'borrowRateMode': '2',\n",
       "  'borrowRate': '6042388404096194749408579'},\n",
       " {'type': 'event',\n",
       "  'event_type': 'DEPOSIT',\n",
       "  'contract_address': '0xe29a55a6aeff5c8b1beede5bcf2f0cb3af8f91f5',\n",
       "  'transaction_hash': '0x694e8ae6a14cb404db237212bf064be549ca346f13b5126eded0363d6d9d38e9',\n",
       "  'log_index': 303,\n",
       "  'block_number': 21043593,\n",
       "  'reserve': '0x0e09fabb73bd3ade0a17ecc321fd13a19e81ce82',\n",
       "  'onBehalfOf': '0x9321d5ba18a9cad47e72ddc0a9c8f59c196644a4',\n",
       "  'referral': '0',\n",
       "  'user': '0x9321d5ba18a9cad47e72ddc0a9c8f59c196644a4',\n",
       "  'amount': '1806657860809938247313'},\n",
       " {'type': 'event',\n",
       "  'event_type': 'BORROW',\n",
       "  'contract_address': '0xe29a55a6aeff5c8b1beede5bcf2f0cb3af8f91f5',\n",
       "  'transaction_hash': '0xd15a93675c17a05edfbb40b7a7fd8258f761b82b533fddb3315a778ef7e2b463',\n",
       "  'log_index': 134,\n",
       "  'block_number': 21043618,\n",
       "  'reserve': '0x8ac76a51cc950d9822d68b83fe1ad97b32cd580d',\n",
       "  'onBehalfOf': '0x9321d5ba18a9cad47e72ddc0a9c8f59c196644a4',\n",
       "  'referral': '0',\n",
       "  'user': '0x9321d5ba18a9cad47e72ddc0a9c8f59c196644a4',\n",
       "  'amount': '1500000000000000000000',\n",
       "  'borrowRateMode': '2',\n",
       "  'borrowRate': '6050570499413548173970903'},\n",
       " {'type': 'event',\n",
       "  'event_type': 'DEPOSIT',\n",
       "  'contract_address': '0xe29a55a6aeff5c8b1beede5bcf2f0cb3af8f91f5',\n",
       "  'transaction_hash': '0x81299ecc60cbcff15f0d81d28c3e3403fa205ebb4543338122b0780725ab0868',\n",
       "  'log_index': 228,\n",
       "  'block_number': 21043646,\n",
       "  'reserve': '0x0e09fabb73bd3ade0a17ecc321fd13a19e81ce82',\n",
       "  'onBehalfOf': '0x9321d5ba18a9cad47e72ddc0a9c8f59c196644a4',\n",
       "  'referral': '0',\n",
       "  'user': '0x9321d5ba18a9cad47e72ddc0a9c8f59c196644a4',\n",
       "  'amount': '364982505810856588263'}]"
      ]
     },
     "execution_count": 14,
     "metadata": {},
     "output_type": "execute_result"
    }
   ],
   "source": [
    "event_list"
   ]
  },
  {
   "cell_type": "markdown",
   "metadata": {},
   "source": [
    "#### Thu thập transaction sinh ra deposit event\n",
    "*Mọi người có thể thấy trong dữ liệu block và dữ liệu event đều có một trường `transaction_hash`. Dựa vào nó ta có thể thu thập dữ liệu transaction mình mong muốn. Dưới đây là dữ liệu từ transaction hash của deposit event của block 21031205.*"
   ]
  },
  {
   "cell_type": "code",
   "execution_count": 15,
   "metadata": {},
   "outputs": [
    {
     "data": {
      "text/plain": [
       "AttributeDict({'blockHash': HexBytes('0x68dee16ed601595adeb352f2072879d04f288506e5dcdd44f064b4f862e6bfe4'),\n",
       " 'blockNumber': 21031205,\n",
       " 'from': '0x26417D19dc19a73274B4c97615b310b39017FA57',\n",
       " 'gas': 752442,\n",
       " 'gasPrice': 5000000000,\n",
       " 'hash': HexBytes('0x0ee0f8ee33047ba977e3afd0b0995885b8d304b1aa1f1c6d307099c9ef9206e9'),\n",
       " 'input': HexBytes('0xe8eda9df0000000000000000000000000e09fabb73bd3ade0a17ecc321fd13a19e81ce8200000000000000000000000000000000000000000000000011746c27769529db00000000000000000000000026417d19dc19a73274b4c97615b310b39017fa570000000000000000000000000000000000000000000000000000000000000000'),\n",
       " 'nonce': 476,\n",
       " 'to': '0xE29A55A6AEFf5C8B1beedE5bCF2F0Cb3AF8F91f5',\n",
       " 'transactionIndex': 71,\n",
       " 'value': 0,\n",
       " 'type': 0,\n",
       " 'chainId': 56,\n",
       " 'v': 148,\n",
       " 'r': HexBytes('0xedf56947061ff71ad62dfded9fb7ba19fc271d6f52d8df2a207d405ca473da87'),\n",
       " 's': HexBytes('0x34ce34ec26f2a48cc85ba8a759333dd59b6d106597c32039ddc2e9aa942773c8')})"
      ]
     },
     "execution_count": 15,
     "metadata": {},
     "output_type": "execute_result"
    }
   ],
   "source": [
    "web3.eth.get_transaction(\"0x0ee0f8ee33047ba977e3afd0b0995885b8d304b1aa1f1c6d307099c9ef9206e9\")"
   ]
  },
  {
   "cell_type": "markdown",
   "metadata": {},
   "source": [
    "> Note: Đến đây mọi người có thể thắc mắc là thế với một list các transaction hash thì sao? Rất tiếc hiện tại mình chưa thấy hàm nào của web3 py hỗ trợ hoặc có thể do mình tìm chưa kỹ. Tuy nhiên ta có thể cải tiến quá trình bằng cách lấy dữ liệu theo lô (batch) với đa luồng (multi-processing). Kiến thức này hơi nâng cao, mình sẽ hướng dẫn ở một bài thực hành khác phức tạp hơn."
   ]
  },
  {
   "cell_type": "markdown",
   "metadata": {},
   "source": [
    "## Xây dựng thu thập dữ liệu một luồng liên tục\n",
    "*Phần này bonus cho mọi người. Mọi người có thể đọc tiếp hoặc bỏ qua. Nói chung, nó chỉ tổng hợp lại những kiến thức ở trên để xây dựng một con crawler thu thập dữ liệu event liên tục.*"
   ]
  },
  {
   "cell_type": "code",
   "execution_count": 38,
   "metadata": {},
   "outputs": [],
   "source": [
    "from receipt_log_handler import EthReceiptLogHandler\n",
    "\n",
    "def craw_events(\n",
    "    web3, \n",
    "    from_block=0, \n",
    "    to_block=None, \n",
    "    event_abi_file=\"../abi/event_abi.json\", \n",
    "    contract_addresses=[\"0xE29A55A6AEFf5C8B1beedE5bCF2F0Cb3AF8F91f5\"],\n",
    "    block_size=100,\n",
    "    stop = False\n",
    "):\n",
    "    latest_block = web3.eth.block_number\n",
    "    if to_block and to_block > latest_block:\n",
    "        to_block=latest_block\n",
    "        print(f\"To_block > latest_block, set to_block = {latest_block}\")\n",
    "    with open(event_abi_file, \"r\") as f:\n",
    "        event_abi = json.loads(f.read())\n",
    "\n",
    "    handler = EthReceiptLogHandler()\n",
    "    # xây dựng thông tin event từ ABI.\n",
    "    event_abi_info = handler.build_list_info_event(event_abi)\n",
    "    # lấy event hash\n",
    "    event_hash = [event_info[1] for event_info in event_abi_info]\n",
    "    # tách lấy event subscriber\n",
    "    event_subscriber = {}\n",
    "    for info in event_abi_info:\n",
    "        event_subscriber[info[1]] = info[0]\n",
    "    \n",
    "    if not to_block:\n",
    "        to_block = web3.eth.block_number\n",
    "    \n",
    "    _from = from_block\n",
    "    _to = from_block + block_size\n",
    "    \n",
    "    while True:\n",
    "        if _to > to_block:\n",
    "            _to = to_block\n",
    "                \n",
    "        print(f\"Start crawling data from {_from} to {_to}\")\n",
    "        #create filter\n",
    "        filter_params = {\n",
    "            \"fromBlock\":_from,\n",
    "            \"toBlock\":_to,\n",
    "            \"topics\": [event_hash],\n",
    "            \"address\":contract_addresses\n",
    "        }\n",
    "\n",
    "        event_filter = web3.eth.filter(filter_params)\n",
    "        try:\n",
    "            events = event_filter.get_all_entries()\n",
    "            event_list = []\n",
    "            for event in events:\n",
    "                log = handler.web3_dict_to_receipt_log(event)\n",
    "                eth_event = handler.extract_event_from_log(log, event_subscriber[log.topics[0]])\n",
    "                if eth_event is not None:\n",
    "                    eth_event_dict = handler.eth_event_to_dict(eth_event)\n",
    "                    print(\"Event data:\\n\", eth_event_dict)\n",
    "    \n",
    "            web3.eth.uninstall_filter(event_filter.filter_id)\n",
    "            if _to == to_block:\n",
    "                if stop:\n",
    "                    print(\"Stop crawling data...\")\n",
    "                    break\n",
    "                else:\n",
    "                    to_block = web3.eth.block_number\n",
    "                    print(f\"Get latest block {to_block}\")\n",
    "        except Exception as e:\n",
    "            if str(e) == \"{'code': -32005, 'message': 'limit exceeded'}\":\n",
    "                print(f\"Get err: {str(e)}! Sleep for 5 seconds...!\")\n",
    "                time.sleep(5)\n",
    "                pass\n",
    "            else:\n",
    "                raise e\n",
    "        \n",
    "        _from = _to\n",
    "        _to += block_size"
   ]
  },
  {
   "cell_type": "markdown",
   "metadata": {},
   "source": [
    "*Mọi người có thể đặt biến `stop = False` để cho chạy liên tục. Có thể sửa hàm để xuất dữ liệu ra file*"
   ]
  },
  {
   "cell_type": "code",
   "execution_count": 39,
   "metadata": {},
   "outputs": [
    {
     "name": "stdout",
     "output_type": "stream",
     "text": [
      "Start crawling data from 21042695 to 21042795\n",
      "Start crawling data from 21042795 to 21042895\n",
      "Get err: {'code': -32005, 'message': 'limit exceeded'}! Sleep for 5 seconds...!\n",
      "Start crawling data from 21042895 to 21042995\n",
      "Event data:\n",
      " {'type': 'event', 'event_type': 'DEPOSIT', 'contract_address': '0xe29a55a6aeff5c8b1beede5bcf2f0cb3af8f91f5', 'transaction_hash': '0x9d7f541831a499d00815147057d593cb4894cb3c74cd1c267714378dd808fe96', 'log_index': 148, 'block_number': 21042985, 'reserve': '0x8ac76a51cc950d9822d68b83fe1ad97b32cd580d', 'onBehalfOf': '0x19ec9e3f7b21dd27598e7ad5aae7dc0db00a806d', 'referral': '0', 'user': '0x19ec9e3f7b21dd27598e7ad5aae7dc0db00a806d', 'amount': '1736000000000000000000'}\n",
      "Start crawling data from 21042995 to 21043095\n",
      "Start crawling data from 21043095 to 21043195\n",
      "Get err: {'code': -32005, 'message': 'limit exceeded'}! Sleep for 5 seconds...!\n",
      "Start crawling data from 21043195 to 21043295\n",
      "Start crawling data from 21043295 to 21043395\n",
      "Get err: {'code': -32005, 'message': 'limit exceeded'}! Sleep for 5 seconds...!\n",
      "Start crawling data from 21043395 to 21043495\n",
      "Event data:\n",
      " {'type': 'event', 'event_type': 'DEPOSIT', 'contract_address': '0xe29a55a6aeff5c8b1beede5bcf2f0cb3af8f91f5', 'transaction_hash': '0xbddb09a7f95e47bcf469b26f621cb62fa050cf1f4f0cb9678352acf815a15e89', 'log_index': 169, 'block_number': 21043427, 'reserve': '0xe9e7cea3dedca5984780bafc599bd69add087d56', 'onBehalfOf': '0x19ec9e3f7b21dd27598e7ad5aae7dc0db00a806d', 'referral': '0', 'user': '0x19ec9e3f7b21dd27598e7ad5aae7dc0db00a806d', 'amount': '256058331951835542063'}\n",
      "Start crawling data from 21043495 to 21043595\n",
      "Event data:\n",
      " {'type': 'event', 'event_type': 'DEPOSIT', 'contract_address': '0xe29a55a6aeff5c8b1beede5bcf2f0cb3af8f91f5', 'transaction_hash': '0xe1f4c0b8c315089c719d7bb55246a76228ef7eff61f4d76ce4d62303bfb7b7f4', 'log_index': 145, 'block_number': 21043541, 'reserve': '0x0e09fabb73bd3ade0a17ecc321fd13a19e81ce82', 'onBehalfOf': '0x9321d5ba18a9cad47e72ddc0a9c8f59c196644a4', 'referral': '0', 'user': '0x9321d5ba18a9cad47e72ddc0a9c8f59c196644a4', 'amount': '2439186211938395582984'}\n",
      "Event data:\n",
      " {'type': 'event', 'event_type': 'BORROW', 'contract_address': '0xe29a55a6aeff5c8b1beede5bcf2f0cb3af8f91f5', 'transaction_hash': '0x41c77a9f7060e4223071646e0fe27635d0588fdd0143aff16ff21f87b5eec435', 'log_index': 183, 'block_number': 21043560, 'reserve': '0x8ac76a51cc950d9822d68b83fe1ad97b32cd580d', 'onBehalfOf': '0x9321d5ba18a9cad47e72ddc0a9c8f59c196644a4', 'referral': '0', 'user': '0x9321d5ba18a9cad47e72ddc0a9c8f59c196644a4', 'amount': '7420135217277553083366', 'borrowRateMode': '2', 'borrowRate': '6042388404096194749408579'}\n",
      "Event data:\n",
      " {'type': 'event', 'event_type': 'DEPOSIT', 'contract_address': '0xe29a55a6aeff5c8b1beede5bcf2f0cb3af8f91f5', 'transaction_hash': '0x694e8ae6a14cb404db237212bf064be549ca346f13b5126eded0363d6d9d38e9', 'log_index': 303, 'block_number': 21043593, 'reserve': '0x0e09fabb73bd3ade0a17ecc321fd13a19e81ce82', 'onBehalfOf': '0x9321d5ba18a9cad47e72ddc0a9c8f59c196644a4', 'referral': '0', 'user': '0x9321d5ba18a9cad47e72ddc0a9c8f59c196644a4', 'amount': '1806657860809938247313'}\n",
      "Start crawling data from 21043595 to 21043695\n",
      "Event data:\n",
      " {'type': 'event', 'event_type': 'BORROW', 'contract_address': '0xe29a55a6aeff5c8b1beede5bcf2f0cb3af8f91f5', 'transaction_hash': '0xd15a93675c17a05edfbb40b7a7fd8258f761b82b533fddb3315a778ef7e2b463', 'log_index': 134, 'block_number': 21043618, 'reserve': '0x8ac76a51cc950d9822d68b83fe1ad97b32cd580d', 'onBehalfOf': '0x9321d5ba18a9cad47e72ddc0a9c8f59c196644a4', 'referral': '0', 'user': '0x9321d5ba18a9cad47e72ddc0a9c8f59c196644a4', 'amount': '1500000000000000000000', 'borrowRateMode': '2', 'borrowRate': '6050570499413548173970903'}\n",
      "Event data:\n",
      " {'type': 'event', 'event_type': 'DEPOSIT', 'contract_address': '0xe29a55a6aeff5c8b1beede5bcf2f0cb3af8f91f5', 'transaction_hash': '0x81299ecc60cbcff15f0d81d28c3e3403fa205ebb4543338122b0780725ab0868', 'log_index': 228, 'block_number': 21043646, 'reserve': '0x0e09fabb73bd3ade0a17ecc321fd13a19e81ce82', 'onBehalfOf': '0x9321d5ba18a9cad47e72ddc0a9c8f59c196644a4', 'referral': '0', 'user': '0x9321d5ba18a9cad47e72ddc0a9c8f59c196644a4', 'amount': '364982505810856588263'}\n",
      "Stop crawling data...\n"
     ]
    }
   ],
   "source": [
    "craw_events(\n",
    "    web3, \n",
    "    from_block=21042695, \n",
    "    to_block=21043695,\n",
    "    event_abi_file=\"../abi/event_abi.json\", \n",
    "    contract_addresses=[\"0xE29A55A6AEFf5C8B1beedE5bCF2F0Cb3AF8F91f5\"],\n",
    "    block_size=100,\n",
    "    stop = True\n",
    ")"
   ]
  },
  {
   "cell_type": "markdown",
   "metadata": {},
   "source": [
    "# BTVN\n",
    "\n",
    "Chú ý: Tất cả dữ liệu crawl được lưu vào file json, theo format trong thư mục ```btvn_examples```\n",
    "\n",
    "## Chung\n",
    "1. Tính số transaction trung bình mỗi block của 100 blocks mới nhất.\n",
    "2. Cho địa chỉ token `0x7083609fCE4d1d8Dc0C979AAb8c869Ea2C873402`, dựa vào địa chỉ token và ERC_20 abi trong `abi/erc_20.json` thực hiện các nhiệm vụ sau:<br>\n",
    "    a. Thu thập Transfer event của token đó trong 1000 blocks gần nhất. <br>\n",
    "    b. Tìm decimals của token.<br>\n",
    "    c. Tính lượng cung (supply) của token đó. <br>\n",
    "    d. Tính số dư (balance) token mới nhất của một địa chỉ ví thực hiện nhiều Transfer event nhất trong tập dữ liệu Transfer event đã crawl (gợi ý: địa chỉ này nằm trong trường `_from` của event). <br>\n",
    "    e. Tính số dư token mới nhất trong địa chỉ ví là địa chỉ ví nhận trong nhiều Transfer event nhất trong tập dữ liệu Transfer event đã crawl (gợi ý: địa chỉ này nằm trong trường `_to` của event). <br>\n",
    "    f. Tìm ký hiệu (symbol) và tên (name) của token.\n",
    "\n",
    "Chú ý: Ngoài thông tin trả lời, cần ghi rõ lại start - end block mà mình thu thập dữ liệu, địa chỉ token và ví thu thập. Các giá trị lượng cung và số dư phải chia cho decimals của token.\n",
    "\n",
    "## AAVE Team\n",
    "Làm lại các bước trong bài thực hành trên với [Radiant protocol](https://docs.radiant.capital/radiant/contracts-and-security/bnb-chain-contracts) là một lending pool tương tự như Valas trên mạng BSC. Ngoài ra, thực hiện thêm một số bước sau. (Đọc chú ý phía dưới trước khi làm)\n",
    "1. Crawl dữ liệu event theo 5 loại: Deposit, Borrow, Withdraw, Repay và Liquidate trong 100.000 blocks gần nhất.\n",
    "2. Crawl dữ liệu transaction của những event đã crawl. \n",
    "3. Lấy thông tin địa chỉ token được thực hiện giao dịch Deposit và Borrow nhiều nhất (gợi ý: địa chỉ token nằm trong trường `reserve` trong event, nếu số event của các token bằng nhau thì lấy token bất kỳ)\n",
    "4. Lấy thông tin địa chỉ thực hiện transaction nhiều nhất trong lending pool (gợi ý: địa chỉ ví nằm trong trường `from` của dữ liệu transaction, nếu số transaction của các địa chỉ bằng nhau thì lấy địa chỉ bất kỳ).\n",
    "5. Dựa vào địa chỉ Oracle ([Aave oracle](https://docs.radiant.capital/radiant/contracts-and-security/bnb-chain-contracts)) và `abi/oracle_abi.json` tìm giá (asset price) của token ở câu 3.\n",
    "\n",
    "Chú ý: Các hàm lấy dữ liệu đã có trong `abi/lending_pool_aave_v2.json`. Dựa vào cấu trúc dữ liệu trả về trong abi, chỉ ra ý nghĩa của từng trường dữ liệu crawl về trong câu 3,4.\n",
    "\n",
    "## Uniswap Team\n",
    "Dựa vào masterchef V2 [address](https://docs.pancakeswap.finance/code/smart-contracts/main-staking-masterchef-contract), `abi/masterchef_abi.json` và pid = 3 của pancakeswap (tương tự như uniswap) trên bsc. Thực hiện các nhiệm vụ sau. (Đọc chú ý trước khi làm)\n",
    "\n",
    "1. Lâý thông tin của lp_token từ id (gợi ý: một lp_token cũng tương tự như một pool, vậy nên lấy thông tin lp_token có thể thay bằng lấy thông tin của pool).\n",
    "2. Tìm địa chỉ lp_token.\n",
    "3. Dựa vào `abi/lp_token_abi.json` và địa chỉ lp_token tìm được lấy địa chỉ cặp swap và thông tin về reserves của cặp swap, từ địa chỉ lp_token và abi `abi/lp_token_abi.json`.\n",
    "4. Crawl dữ liệu event Swap, Approval, Burn, Mint và Transfer của lp_token trong 1000 blocks gần nhất với ABI `abi/lp_token_abi.json`.\n",
    "5. Crawl dữ liệu transaction tương ứng với dữ liệu events.\n",
    "6. Tìm user giao dịch nhiều nhất (gợi ý: địa chỉ user là trường `from` trong transaction)\n",
    "7. Tìm thông tin của user ở câu 6 dựa trên địa chỉ masterchef và abi `abi/masterchef_abi.json`.\n",
    "\n",
    "Chú ý: Dựa vào cấu trúc dữ liệu trả về trong abi, chỉ ra ý nghĩa của từng trường dữ liệu crawl về trong câu 1,7."
   ]
  }
 ],
 "metadata": {
  "kernelspec": {
   "display_name": "Python 3 (ipykernel)",
   "language": "python",
   "name": "python3"
  },
  "language_info": {
   "codemirror_mode": {
    "name": "ipython",
    "version": 3
   },
   "file_extension": ".py",
   "mimetype": "text/x-python",
   "name": "python",
   "nbconvert_exporter": "python",
   "pygments_lexer": "ipython3",
   "version": "3.10.13"
  }
 },
 "nbformat": 4,
 "nbformat_minor": 4
}
