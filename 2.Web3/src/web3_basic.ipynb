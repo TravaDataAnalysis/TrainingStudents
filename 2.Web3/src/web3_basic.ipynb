{
 "cells": [
  {
   "cell_type": "markdown",
   "metadata": {},
   "source": [
    "# Web3 Python căn bản\n",
    "\n",
    "## Nội dung\n",
    "1. Những kiến thức cần tìm hiểu\n",
    "2. Kết nối Binance Smart Chain public node\n",
    "3. Thu thập dữ liệu smart contract\n",
    "4. Thực hành thu thập dữ liệu của Valas <br>\n",
    "    4.1. Lấy data từ functions của contract <br>\n",
    "    4.2. Lấy data từ events của contract <br>\n",
    "    4.3. Thu thập nhiều loại dữ liệu event một lúc\n",
    "\n",
    "## 1. Những kiến thức cần tìm hiểu trước khi thu thập dữ liệu trên blockchain\n",
    "\n",
    "- Ethereum Virtual Machine là gì? [link](https://ethereum.org/en/developers/docs/evm/)\n",
    "- Application Binary Interface là gì? [link](https://www.quicknode.com/guides/solidity/what-is-an-abi) và [link](https://docs.soliditylang.org/en/develop/abi-spec.html#abi-json)\n",
    "- Light, full and archive ethereum node là gì? [link](https://www.quicknode.com/guides/infrastructure/ethereum-full-node-vs-archive-node) và [link](https://link.springer.com/chapter/10.1007/978-1-4842-3492-1_2)\n",
    "- Các nguồn tham khảo\n",
    "    * [Ethereum docs](https://ethereum.org/en/developers/docs/)\n",
    "    * [Web3 python docs](https://web3py.readthedocs.io/en/stable/)\n",
    "    * [Ethereum JSON-RPC - Postman](https://documenter.getpostman.com/view/4117254/ethereum-json-rpc/RVu7CT5J)\n"
   ]
  },
  {
   "cell_type": "markdown",
   "metadata": {},
   "source": [
    "## 2. Kết nối binance smart chain public node\n",
    "- Đầu tiên, dữ liệu được lưu trên các blockchain nodes. Ta cần kết nối với các node này để lấy dữ liệu, sử dụng một provide URL\n",
    "    - Tìm kiếm \"rpc node\" của các mạng blockchain (eg. ethereum rpc, bsc rpc, ftm rpc, etc.) [link](https://rpc.info/)\n",
    "    - Tại chuỗi thực hành này, mình sử dụng provider url của binance smart chain ([bsc rpc](https://docs.bscscan.com/misc-tools-and-utilities/public-rpc-nodes))\n",
    "- Sau đó, ta sử dụng provider URL vừa lấy được để kết nối với một node của BSC chain  \n",
    "    - Kiểm tra kết nối với node của mainnet\n",
    "    - Lấy dữ liệu của block mới nhất"
   ]
  },
  {
   "cell_type": "code",
   "execution_count": 1,
   "metadata": {},
   "outputs": [
    {
     "name": "stdout",
     "output_type": "stream",
     "text": [
      "Successful Connection: True \n",
      "The latest blocknumber is: 21178940\n"
     ]
    }
   ],
   "source": [
    "from web3 import HTTPProvider\n",
    "from web3 import Web3\n",
    "from web3.middleware import geth_poa_middleware\n",
    "import time\n",
    "import json\n",
    "\n",
    "provider_url = \"https://bsc-dataseed4.binance.org/\" # rpc link\n",
    "web3 = Web3(HTTPProvider(provider_url))\n",
    "web3.middleware_onion.inject(geth_poa_middleware, layer=0)\n",
    "\n",
    "#check connect successfull\n",
    "isConnected = web3.isConnected()\n",
    "print(f\"Successful Connection: {isConnected} \")\n",
    "#check latest blocknumber\n",
    "blocknumber = web3.eth.blockNumber\n",
    "print(f\"The latest blocknumber is: {blocknumber}\")"
   ]
  },
  {
   "cell_type": "code",
   "execution_count": 2,
   "metadata": {},
   "outputs": [
    {
     "data": {
      "text/plain": [
       "AttributeDict({'difficulty': 2,\n",
       " 'proofOfAuthorityData': HexBytes('0xd88301010b846765746888676f312e31382e33856c696e75780000005d43d2fdf8c8c9e99d72ae3cc0bacbabf4db97ddea840b1f100826cc89ed1e25214459fc5778e0591b7b60d96246064bebc331ddf63a5a60aaccfd63936481c903d2223101'),\n",
       " 'gasLimit': 98647955,\n",
       " 'gasUsed': 21933280,\n",
       " 'hash': HexBytes('0x5d2cff4c2b27d6658279a0fa2529f1c2ab45d62e0dfaff2f5f3e2d2080481615'),\n",
       " 'logsBloom': HexBytes('0xd16cb307ed295990638faa63a4c49da169e7615a17b7d20dc5b384069c3391ecfe1c367e25f19a7dd361fcb21488b8f138b7a5c5b82ea273737a526292f64e68c79d77908c16dc2585a280bb39f5a17922fb96adb3d6ae62a78f479eb5cf4a75efd519f7cec7f0b688ef1263271c6c73daf293d1c68c3d8d7934a1bf0e3bc5c598158432fd2d21d666ad97c8a248b9aa24be8ea551d6c50a75e311f83bfb89b9f6d6dd92fa5d83e026916d49a70a8cc7e1e40a620fd4870335147a61b25a596be90475071cff46f398ccd0613b7316e6ff7ee121894dd97b2e0a003f4e3fea27fcfe1f916d1c7f7303113bbdb7c4d982c2ec9c0ae7425c7fbc26fd219f397af9'),\n",
       " 'miner': '0xEF0274E31810C9Df02F98FAFDe0f841F4E66a1Cd',\n",
       " 'mixHash': HexBytes('0x0000000000000000000000000000000000000000000000000000000000000000'),\n",
       " 'nonce': HexBytes('0x0000000000000000'),\n",
       " 'number': 21178940,\n",
       " 'parentHash': HexBytes('0x24b8ea5ed56ba1b0f5d265ded3171c3c02dffeb14dcf3557996eb95a97e8e482'),\n",
       " 'receiptsRoot': HexBytes('0x0ea50ea606c00228609592099ae5f1b19bea8f297f439cf04239c94ed86ea557'),\n",
       " 'sha3Uncles': HexBytes('0x1dcc4de8dec75d7aab85b567b6ccd41ad312451b948a7413f0a142fd40d49347'),\n",
       " 'size': 56430,\n",
       " 'stateRoot': HexBytes('0x0793a2867e9fb3938da95e9e1d951dabd4f1a6b30c7a151ef560434da59b6840'),\n",
       " 'timestamp': 1662718756,\n",
       " 'totalDifficulty': 42122589,\n",
       " 'transactions': [HexBytes('0x0cff59271381c07095c5f69845c828b1f7cd9381be4e5f49e19fe9615ac21210'),\n",
       "  HexBytes('0xf9f2984072159efafb35e0b2476465f5f9284cfcafe9fd7aab439adf9a5685ae'),\n",
       "  HexBytes('0x6fb608174e41eff08f8e417d81f609ac0efc5a9047ddf73fb5b067f5bc861e17'),\n",
       "  HexBytes('0xfb6d652aa3fa472d7dc1108d64f93468916554f2aed2d917c956c9f15f1d93de'),\n",
       "  HexBytes('0xece530a32b6925f11be2a0962a2c84c506bdcf212096ddeb13bed0cb0a7c954f'),\n",
       "  HexBytes('0xd3bed10d3a1e3495d86dbda5b8854173a7e6e38f83bca1de3257676bc0cc2462'),\n",
       "  HexBytes('0x183e3f867f56f3b9131bcc54a51c8c28638e1d6690557e153736cee24d0107ab'),\n",
       "  HexBytes('0x7ce64002fe483db5efe5cee5c6356c941416da9a329ca69cdfaed7162042fd2c'),\n",
       "  HexBytes('0x0bd1c56d7ba8ca0103bcda8c0338b81f1f3128ddbd45b5dbb3f88aee6635cb81'),\n",
       "  HexBytes('0x7a1d604d0d878fda36cb1dae7b3f8ac340c1ca0a82086d4e727affa66ba43882'),\n",
       "  HexBytes('0x7f4b93fadeb2167eb2d88fd3a9d52124d6cefc772381be2accddbc6a21895cb3'),\n",
       "  HexBytes('0x7522f4fb98d6947c0f067fdef537156380b2be4a2e167f6fee5e8b16c7d386a2'),\n",
       "  HexBytes('0x9dbe0f8e35fda9f1cd710e57b8bd8112494d3cd4de73946a6f57622f3ae14843'),\n",
       "  HexBytes('0x4c786deb4a47cd5f119cfc454ce66c6963c6d72c646fdcc626e5b7667afdcd07'),\n",
       "  HexBytes('0xba5fa87198ace3234df3c4d9edcc69b7ae50bb7bc99046566447ffa60316be6d'),\n",
       "  HexBytes('0x2d187aacf04c5d39193d54c259dbaa33e76658171ac7d07508e560b06788b12d'),\n",
       "  HexBytes('0xd1e2f40db78d42f0c9ff71667d51d1ca5ec98ea2c1e606b85c626365a2eaf3d7'),\n",
       "  HexBytes('0x3fa5cbb0f926880df026d5140f8987fea28b583ce57d5fd80fbf5598b6140884'),\n",
       "  HexBytes('0xbc592bc60ae979b456dc0ea0d0bbd4681bf7d109b69055113c6e10f84f8c6ccd'),\n",
       "  HexBytes('0x9af8ae2272d9e63bd035bbcae28bb2a32bd986746307e76fc6455ed5affc5476'),\n",
       "  HexBytes('0x83a32d6f8c39d3d4127510a81d10e2d9af07d32b21a5b0130aaeb56473e63860'),\n",
       "  HexBytes('0x990742e54e5184198a49c073695e03a60b2e2814724abc2b0801dae475f6765f'),\n",
       "  HexBytes('0x8a6f88b4b799c9e68bed2dd01d9a2cdb27b93ba85b7905c0bc6b46e3ecf4a653'),\n",
       "  HexBytes('0x06fde23b44091d34d3ca96fc3fc7594b9b7b8aca7165d98fb68d6335f380b020'),\n",
       "  HexBytes('0x48b0f1869f8f9a9049cd88c71ad0ad6bd05fed3b89297a0827f55bfc8811d0cb'),\n",
       "  HexBytes('0x66b4157c716c16bfd8efe11c6cba1153a61998f0ae53a79b3103fa511666a88b'),\n",
       "  HexBytes('0x78b3d404ee7bc714ac51a3cb55f20f3a6e9176d25dca82959d0194da7154877c'),\n",
       "  HexBytes('0x66824095f2eb17cf6dd1bb8da3b939e71e3eb4ac3057e1680e411d5916e4ec6b'),\n",
       "  HexBytes('0x4369bc310ee1d8cd44841caeafca1a1519ec8c6ff7b1ec5997a80df5dfcd02bd'),\n",
       "  HexBytes('0xe17807043b37237dcdc1a75cf87cf93f55c5c8cfae417adf3492e67fe31f4e8a'),\n",
       "  HexBytes('0x35b8782e7511e3bbbba3ad418f806dd9cdbe92c3005393ac6469425228030fd4'),\n",
       "  HexBytes('0x62b8a4f994d572c196215493de42c56e7e0483ae9796787472917681745d4a5a'),\n",
       "  HexBytes('0x645fb923961f3e8e0d75785cffc46f3c2ae2a94584dae2a1cca65a0de5c5ebb9'),\n",
       "  HexBytes('0xc797995790f6c091dd69f11d22b87d86930ea8d7a74bc05ca955e800c0d5dfa6'),\n",
       "  HexBytes('0x335208c0dc68a9362e8c4931728b6f87660d2a57d3b7a8eb28165353435a759b'),\n",
       "  HexBytes('0x7b237cf33456761c9fa1cc5ca08504828a373229c54fd66ad8a854fcf9afdc02'),\n",
       "  HexBytes('0x05e178b24dfd66172a75fbea502322ba3e0508ae09632db90fad0540f75f96fe'),\n",
       "  HexBytes('0x9598b0568b112906ba0b0afc72b43599a36dd4343ca5fd90bbcb1e4455da1fd7'),\n",
       "  HexBytes('0x081985664831d93ce9cac43d01776f835f7a7336a76daf111f3530d59338d11e'),\n",
       "  HexBytes('0x66a80a5f89a9ef9b4b6f37e5b5a711dcbd64c3a07c6125212e73e535c981c82d'),\n",
       "  HexBytes('0x10aa4de663882d7426ace6a18d7c17f0cd6834df5ee04d8282975b49ce4b2aba'),\n",
       "  HexBytes('0x27aaa1bc5f1328208a87c3c0320ad7e56023ea4d998a95206edc8cfdf42456e0'),\n",
       "  HexBytes('0x9046c371f58dc08cadbd0f603324ec10150c1868adf8a1a481e4c63c12eeeb91'),\n",
       "  HexBytes('0x985b464f481de638fc0cfb719c4758198c61450f6f61b7c99cfc03e3701424a5'),\n",
       "  HexBytes('0x9368e99d416626ba95f5dab7afeeea273929061b8c33bf73c95018b6fec4d3c8'),\n",
       "  HexBytes('0x8ea7d42314ce10533d6f01afb91e1d0f7e32e5525a947961da5a7c4eeaeb0103'),\n",
       "  HexBytes('0xcb392d50074c81b33889cdaaf63ec70aa028f713d5400c6a09d7b0d90f3ba150'),\n",
       "  HexBytes('0x665aade32cff1c0979a788ddbfa84dcff67e70b3c48b9c8515942199940b30d0'),\n",
       "  HexBytes('0x87f555e6e660c3a30decc43b5ab1dd146b1121ecf454f30432e6c928b78ba9c0'),\n",
       "  HexBytes('0x8840ed1bf01571712cfa0144b6925322727e84606c507dfd5d69495054e8ea10'),\n",
       "  HexBytes('0xeebd8f7d4c0a68c8f3647582c3ffd86a1eca5ec150279c8cca31b0a17ac5cbc2'),\n",
       "  HexBytes('0xfc0fe1828e62d66d694d08755c616671f21d8d91a1a2cbac9b9197c51f0274ec'),\n",
       "  HexBytes('0x3ad6f916a11aa1a3cce9d2deae3857023c31587a573faaa9b62d5a7f8d2a0606'),\n",
       "  HexBytes('0xdfa51cfada850af7906a2538f5f5ef713c98e3dea7adbb1cd3550a05aab1da17'),\n",
       "  HexBytes('0xf4703f99ec699e457cad80aebc1ddcecc6e9c30964a802a8c7d8ee495bdb7860'),\n",
       "  HexBytes('0x1cc83b1c0dbc5c6f588729a7805400c521adebea74e037fdc7c77e789a7b7fcf'),\n",
       "  HexBytes('0xf0ad27b08ff571e239c988e616e6ce19caf20d5d3a94b9774a20e99315947067'),\n",
       "  HexBytes('0x392d8d3a3bb61f705f02fe1bbbae2421900e0aaf5be0f6ef3281472bed29d973'),\n",
       "  HexBytes('0x3c97a884ec8cdfc875d45339baeee9de7ffeaee38fc438ae6ae1266141e3f223'),\n",
       "  HexBytes('0x4fab99b5a5f91a42436bc1222a938a54576d09906eee0571450d2dcc4fca2e3f'),\n",
       "  HexBytes('0x4918ec596d7714791a9ff4ad4f9b3cedd1e3cadc5e540f0ec308b6b6e7d183ab'),\n",
       "  HexBytes('0xa3ec5191b6d72d1afc81c1a6f6ff2662b42610655115f2274a8253034bc56d4b'),\n",
       "  HexBytes('0xde8563028035b4c19061d5dffb280f13430bfa807275db84f28fa66844ab3f12'),\n",
       "  HexBytes('0xff54f9a9f5ecfb843b33a810e9fd3ec809cf45301422ba5a76091ff6d3a901ab'),\n",
       "  HexBytes('0x874d3f8b159e9a33a7fe972294a972b214ec4cd57bfbf88507f98a1f91d811c5'),\n",
       "  HexBytes('0x55d07fa6634213ef597576dabb6d367358f4e30ad3e24a0101f2555e6d4d5b36'),\n",
       "  HexBytes('0x288ca7c93d75c392545dacfa8eef11209285e28b3514dd8e6bf18ce71e8f5d33'),\n",
       "  HexBytes('0xada6ebb6e50cb77d47179b76429cff8828923eb8b17bf84df91f660968a2be12'),\n",
       "  HexBytes('0x7a40cb57507936a62f01a0c4e4bf9e3ccee638fc32f0eb769a8f03d130f82ae6'),\n",
       "  HexBytes('0x7090b8bb2eb90d4b3276646b5921ffa6e9d7341fa229387aa92559fc8e9faa4a'),\n",
       "  HexBytes('0xf9b9e6d4664d6530c765148d6c9e434783908526fb35ef7150ced05846694474'),\n",
       "  HexBytes('0x828b484d281d5a8140519c0cbdc39775724703cc2590d547a97546153e18759d'),\n",
       "  HexBytes('0x4457e1aa09cde5b682e8ea767b4f5bf560d01ec20fc839a786986f1f6ae18d77'),\n",
       "  HexBytes('0xdfc72a86120e62827cc3564d886290fc8feb0a9fdce03908148182c2f02c1cf4'),\n",
       "  HexBytes('0x60c3aee1f740ced9a0512c78fe6608c6fb670dde9dfaaa5ea44be332dd0db502'),\n",
       "  HexBytes('0xbed7b7d06d954f5043fe7aa02270368efda3c5f7b79e0729c5bdfd0b83841dd7'),\n",
       "  HexBytes('0xdc7985c4ec9492cde9e85852beba25fcc8308c5186bee4c150fd5ee6ad7f76dd'),\n",
       "  HexBytes('0xde44a4acf51483990180a55c4b38b7735e8ce58f79cf1f4f4dd73af1d2042b31'),\n",
       "  HexBytes('0xac07287bed2dc61d4addbf19e85c5d6c420c4cae3a1ded9982d2b987be10bd4a'),\n",
       "  HexBytes('0xa31285cf425cdbee8f6cbfa255890ae69c3c7eabc790f3bed10e36c408444f83'),\n",
       "  HexBytes('0x1ea15a86e393a7572cebe09a99b803a837eab3a510136002ab9672aaebfdd8fd'),\n",
       "  HexBytes('0x706a5de260e7600802d4906ead77a26b2ebdb4769d2e73d8d272bce732f1422c'),\n",
       "  HexBytes('0x43b1908d3a6ea6c7e99599e19658624943dc649805a62edd9a1afcb11c7adbc2'),\n",
       "  HexBytes('0x0e22e51dd2a8c3ce6cf8a0750a2089530c2f729a9e3c23d04ca107d7b80c21b3'),\n",
       "  HexBytes('0x66dcfd00edaffc032a4db940b9377b13aaa36a157b49b4ed1de5415fbbd210ae'),\n",
       "  HexBytes('0x3d8729b3d7596718ef7ee1034a773a5a798e6ce565ae194423589622088f487d'),\n",
       "  HexBytes('0x71d4faab204611c5cbb1c3ea524430d094bfe305c6866782c49c79321343d1a0'),\n",
       "  HexBytes('0x49492cd03dc7a566d94775e8a04778d1928f5d579a2e5884f5bca8de47b67386'),\n",
       "  HexBytes('0x32e97d28e2cb8e3e815eb2634e85b5a0c42f2354e634fc24fd75397a8d762a23'),\n",
       "  HexBytes('0xc331de81ff6a3096a12f51883f32639f9835fac1b796f927305b1cfe31d1f567'),\n",
       "  HexBytes('0xf65816cb29c0affbe980f82e271d702f365d7cead953cbe1f0ed185b312ea52f'),\n",
       "  HexBytes('0x6943dbe5d269d510fead4c5b189aeeee6153c43fe5507ef6be14f48728c1b168'),\n",
       "  HexBytes('0x11feceb8661ff6dd7f22dcbb35ddaca5f80c725c7551e611387907403a70f2c1'),\n",
       "  HexBytes('0xa3e124b39ef5b536b86df0868a949e1eafee80bfaf849e0dfefdf355d17005f5'),\n",
       "  HexBytes('0x931faae4e376194d895cd850f21523bfb61fcc00a8a25a0c01e8f605734884af'),\n",
       "  HexBytes('0x202f2237fb6f8558ef0c8c81063466303d9e3c12efb43083506291e413395eb5'),\n",
       "  HexBytes('0xed07d61688ac918d0368c755d64849b394c3f4540b4d37b452b26363d539c58e'),\n",
       "  HexBytes('0xbe36acc9cc7434c5853fd1bd210009a720b55fd46a5c0e8f67fe7de9d8075f13'),\n",
       "  HexBytes('0x40dee7d989f39875432fb210ee7a823d4d06e47bc1fdb1f731d14f464ab07ce5'),\n",
       "  HexBytes('0x483e449ed7c66a066fe434969102d33130811d574862e4250ca8cd4b5349c666'),\n",
       "  HexBytes('0xa0e877534e141f04d4ba7ce78f1aeda833dcaaa30837ca5cafbecc944dc82eef'),\n",
       "  HexBytes('0x838d1a201e48adcb01737664b675c3326c3ec8f3279f24b5a03331ae2b46af87'),\n",
       "  HexBytes('0xded934323c5489efc92c2ecc24754555def6f14b8bd6d160abfff82b85be4abb'),\n",
       "  HexBytes('0xbc5742ffa7ea5827aaf4ffd7fd548d9443c02bfaccdb504df57bd25c6fbf5a54'),\n",
       "  HexBytes('0x3245131036525e07a02da79092b81293dc9b9a5e60b5857d8392f01a83551b65'),\n",
       "  HexBytes('0xaf1682ac8b58d4c27d5afcc4906a223778aa8787aedcda9c9b2a5f9f07a07392'),\n",
       "  HexBytes('0xd1554de72e4192f4c5522013085c42c8527044bdbb20970c6a285edfe4fc231e'),\n",
       "  HexBytes('0x38efc3a6e0b106ead85c8db599912dbd04d78b57d7dff3215f6d432c8df7231a'),\n",
       "  HexBytes('0x125cea7ee1dd021f6292b472de2c7b3f71a0455f1290f6c8722085bf23f1a0e0'),\n",
       "  HexBytes('0x1c7418a9bc0f2a4e5d9b9a89cd37fdcfe49f6793e96ca1514946fddfeeb50203'),\n",
       "  HexBytes('0xf9b5bb17b2fa5bcc763fe2ac17c3831982139cd06b41babd29e9f65ec56b1c53'),\n",
       "  HexBytes('0xa95fdd67598d07ba6026b287097a856b7025e83ca55b35e500da896eb1307279'),\n",
       "  HexBytes('0x61e7226f8139754338b9b896faad454897c83a2d4f5ad458cec659f42a734874'),\n",
       "  HexBytes('0x3227faafd725f69ceac72216dc805ade882f5cf7d6a3eb848f30f5973415dac8'),\n",
       "  HexBytes('0xaf83e4cf275cbdf64c8fc0b4ebe1d4f95e38440f2a1e81eff0ba9248b4cebca8'),\n",
       "  HexBytes('0x5c15be0dac1106af6b46f3816b1d73230c93e235aaf257e88b22a667f9ccb6c1'),\n",
       "  HexBytes('0x185295a3b03687170ab1fe6c5b00474560d8479ce60061b4f477c28f0ba987e1'),\n",
       "  HexBytes('0xfeeb7d9596e307b343794cc7e9d8742495c1de3a2e2541bbfb3eaf8d7eb4f77c'),\n",
       "  HexBytes('0x2448ce0cf527bc1da6f709ad4613fcc8d02e43956fbca8c0ff8fc72e76700c5a'),\n",
       "  HexBytes('0x680fe5ebd3eca435c74233a214fc96945798a6d0007667b7e620b65fe00a9337'),\n",
       "  HexBytes('0xfe1ea1f7dbbdab7d0940cee097b5b20ae5a1cbd9dccf8d770f13e201788061c7'),\n",
       "  HexBytes('0x48a4ba13dc88b8e8ce77742819de1f04fde602f96b2e3b281907badce88ce1f4'),\n",
       "  HexBytes('0x0e577d06c049b175fda7aef3406586a39d39e6ad7d9833cf87ca8b5d6fbbd310'),\n",
       "  HexBytes('0x6ddcf081c33325a6849cd4693fab232296d6438f3086d8235db9f2720b3b6397'),\n",
       "  HexBytes('0x681a744dcb1bfd8eb26ac7a972773eb28de879867eab7f50aa6a7fcf22e6ade0'),\n",
       "  HexBytes('0xf7dfe310401a8d93392f2705a5595b346c5e1685273751477a5bef7b6c3ae37b'),\n",
       "  HexBytes('0xa8e528355f5c8ea8cd52c3f2a5cc0a71aa708d0d3ed00f5a3137c4b857b36992'),\n",
       "  HexBytes('0x8c23d063ca54ab7fad02b90e8f1d3e871d7164b10160f2012f5b9d3fce07943d'),\n",
       "  HexBytes('0x09618423d6e40388e5c64a88f07f4af27842c67a3ccf11b82f6e927245d98504'),\n",
       "  HexBytes('0x7ce082d0fb768320850da994a75bff5ad083f0d7e4e7552dcab8ad2528ec2f2a'),\n",
       "  HexBytes('0x898aa7924193f5e155e5a24456bbeb8352b32973f03ed388a49e4e285dfa946a'),\n",
       "  HexBytes('0xe6fad81ebce2dbffc96cfe9e8e85a3f1c05bc64ca503c88a348a9b3b715553a5'),\n",
       "  HexBytes('0x20e661bf4a8b426f2e226ab1bd645cee8f07b38e099c35bd4a0e5d50c9d402d0'),\n",
       "  HexBytes('0x8fd0d979596927c717d3cc2e184658e6fa4040dcc1e5b6e9215d1f9ee5a724d7'),\n",
       "  HexBytes('0x1856f132dbed0504237562e4babbd0c01dbe2ab2c60fe30426073fecf8a044f4'),\n",
       "  HexBytes('0xbfb841ef36b9f2e6b10901074be1b76e4cf5db14c5520a9619d9656ab448c813'),\n",
       "  HexBytes('0xa2ccd6da72d4c727c3b96e509c1c65a5253be4518148191054cc4cfd5678ce7f'),\n",
       "  HexBytes('0x11849d48ad3d93d01ab19bcd911ad577514d5a24173c2112948e4acf49772e64'),\n",
       "  HexBytes('0x4d62a340d994ea9f0f7d73475b369b49bf0a13ba7667cc59e2b9fdfe109f4181'),\n",
       "  HexBytes('0x341941f2046e0139c2cfc3b673253f4bab64f7689592fcd1d05359cf7ba9dea6'),\n",
       "  HexBytes('0x515d6408a557ba7c2535a388b4b793f1cb2168dba9298516b81ca51af8fefc24'),\n",
       "  HexBytes('0xac1ea2129b8e5f579d0f020d0ba9fe36192c66fad669fa90ae8a0252713bbb2f'),\n",
       "  HexBytes('0x53f8908d52ea6e27b26093504d37d575a8ed8fe6c007c6a4639d4feec5e31d56'),\n",
       "  HexBytes('0x27734aea4ceece9a47a18b411131549b9fd8f7daf4ad932829cf05cb17cd9b7f'),\n",
       "  HexBytes('0x1211013cc5a533491b0c44d66f09227c393e72adeef6460a6df51f18bcd34869'),\n",
       "  HexBytes('0xf4f4be99be7ae98e371d5ea540a78730986dae28eba11aa6f3d979779d5b1662'),\n",
       "  HexBytes('0xda67284c26de51fc1afce26ed3e5b21453e0d776460df9c09a134136a241eccd'),\n",
       "  HexBytes('0x2f4a951c704679c1124220afba3e0e3701e88bf97e4c93cdc6afd52fe1b58570'),\n",
       "  HexBytes('0xccc750cc8ade14ec513886dc4de97f185c08bdc7ecd7afc3a5866874921ef14b'),\n",
       "  HexBytes('0xecf1aa0d2846a9e37d27c332cc079d5405e128e6cd388365664518984e1eec04'),\n",
       "  HexBytes('0xf491a5c29034dcb04537427ce1af7de0ab6f3f4c67a47799fffd76cd88c9e89b'),\n",
       "  HexBytes('0x5f047a981f227d8b26b79eb513a75c9df940f501842ce537eebabddce86e3c1f'),\n",
       "  HexBytes('0x958e24befcc763c26ac5d611b749647cf2f904624e3edbc2771af8927849f9bc'),\n",
       "  HexBytes('0x98095e2ccda9b0f2831456e86d87ec17fb995b40df486b900d49e6db548f21d1'),\n",
       "  HexBytes('0x5940696f2cbb36bae390db4e8b48a6b95dfddbba1a4890cb55ab115a968218ec'),\n",
       "  HexBytes('0x475f1e8884028266a0620dc3db1c3258e710cce0822d1e6f962e299d6b34a723'),\n",
       "  HexBytes('0xa2474cfa89c037a615268dfffa1eeb90d86b2a9171f684239e1fed273c575137'),\n",
       "  HexBytes('0xc983049c35185409a946098cee1616501c985d1033bdd4ff0792bea568c11c41'),\n",
       "  HexBytes('0xadfa15af197ca84b8390445cb501dc56e6f717178e0090cc3461abb55897ab7b'),\n",
       "  HexBytes('0xa9fb8ec7623fa8f87e504b76758737e8456bada0d22f44d8044c5462f9e4d549'),\n",
       "  HexBytes('0xce321d138930de1632e85abe2b0ed2cdc79144434620d028f0d41174fb5dc582'),\n",
       "  HexBytes('0x35a7ce9d5c8746e20424096839ccc61b2df50f90fa33249f2a9d45e9d656f723'),\n",
       "  HexBytes('0x45734e92ad867711fa973331f240114ae6a78a13db0dadbc9c6fb0f16f710bf9'),\n",
       "  HexBytes('0x4326048c66b709337d648f8981ff04c61a8ebbf83d073b05b44de528bcecaf37'),\n",
       "  HexBytes('0xc75532767e82f014b7cc9a2137437d5e4f0e04c54205c1525cf1f49997acdae1'),\n",
       "  HexBytes('0x87305b8f00607371f1d1957cdc091b7de81cc3ea88fb10cae2e9992fb8858da2'),\n",
       "  HexBytes('0xf58bb8a5676f11b02a4c9f234540b43af2b46d23ae0cedd5c220729b429218d3'),\n",
       "  HexBytes('0x9402346b18ec686ae8daf4b471791bf5092730a9cd27292fa5fad0725cd26ebe'),\n",
       "  HexBytes('0x402fb1be5014919edf60ab2a94f4080070111b27176d6ca97cf7213a397d3454'),\n",
       "  HexBytes('0x9b99735a8ae3ef66bc310effeb0ca112e1ae2a4938f1834d92fd453741ab3036'),\n",
       "  HexBytes('0xa01b30df255ef872bb3e348af011869dea885e9d7af5ef3b4b05c4a01969f56b'),\n",
       "  HexBytes('0x39812cfd0a44c44c6a4c99ba04c166c1510312179823d046da20b878eb14734f'),\n",
       "  HexBytes('0x518c168045a223faa7dc866d09dccd04810c2717bbeaee6fc16402e3b17bdb38'),\n",
       "  HexBytes('0x7c1c5d22deb939ae115d4660ce40c9df8b7fc31abb492a24ce3343e033fda8b2'),\n",
       "  HexBytes('0xa3871397aff24bfabf1dc6d4c0d17be894b6a5bebdb88bf3fe7660e52f6b296b'),\n",
       "  HexBytes('0x3606155a52aff80bf3a758073c0f136361af9d9db06db79fddb950be2da2c049'),\n",
       "  HexBytes('0xde9978630fb03df72295f8ef978d2939b6e13c0d45bd2be38ce6eed233986284'),\n",
       "  HexBytes('0x8ba60f9db3dd2b84bdcb9c2854e8c42a7eb7cf3b4eddb4e98ff8ff622df262aa'),\n",
       "  HexBytes('0xf44c9daa4d377a313dfc6d95aed9c57e0cf722054cfbc1243d4f19e74f3d8ae7')],\n",
       " 'transactionsRoot': HexBytes('0x9e37f6a958d78850f820394b81fe7aa60e3189689a1168d5a55ae276dbd47201'),\n",
       " 'uncles': []})"
      ]
     },
     "execution_count": 2,
     "metadata": {},
     "output_type": "execute_result"
    }
   ],
   "source": [
    "#get latest block transaction data\n",
    "data = web3.eth.get_block(blocknumber)\n",
    "data"
   ]
  },
  {
   "cell_type": "markdown",
   "metadata": {},
   "source": [
    "## 3. Thu thập dữ liệu của smart contract\n",
    "*Thực hành thu thập dữ liệu của lending smart contract Valas trên Binance smart chain. Để có thể lấy dữ liệu của Valas ta cần có:*\n",
    "- *Địa chỉ smart contract*\n",
    "- *ABI của Valas*\n",
    "\n",
    "*Địa chỉ smart contract không được Valas công bố nhưng bằng những nghiệp vụ chuyên dụng mình đã thăm dò và lấy được địa chỉ này trên [BSCscan](https://bscscan.com/). Dưới đây ta sẽ tiến hành lấy ABI của Valas*"
   ]
  },
  {
   "cell_type": "markdown",
   "metadata": {},
   "source": [
    "### Cách lấy ABI\n",
    "*Đối với các smart contract cho phép lấy ABI trên BSCscan, ta có thể  thực hiện các bước sau để lấy ABI:*  \n",
    "1. Truy cập [BSC Scan](https://bscscan.com/).\n",
    "2. Nhập địa chỉ smart contract address vào search bar.\n",
    "3. Kéo xuống và chon tab “Contract”.\n",
    "\n",
    "![image.png](../images/contract.png)\n",
    "\n",
    "4. Kéo xuống thêm một tý, chúng ta sẽ thấy phần ABI.\n",
    "5. Chọn nút copy ABI  hoặc download dưới dạng json.\n",
    "\n",
    "![image.png](../images/ABI.png)\n",
    "\n",
    "*Lưu ý:*\n",
    "\n",
    "> Một số smart contract không công bố ABI, ta có thể tìm kiếm source code của nó trên github, deploy và lấy ABI.\n",
    "\n",
    "> Đối với các smart contract không công bố cả code cũng như ABI như Valas, mình có thể đọc [docs](https://docs.valasfinance.com/) của nó. Tại [đây](https://docs.valasfinance.com/#why-valas), mình thấy rằng Valas sử dụng công nghệ của Aave Finance. Do Aave finance public [ABI](https://docs.aave.com/developers/v/2.0/deployed-contracts/deployed-contracts) nên mình có thể sử dụng ABI này. Mặc dù một số điểm trên ABI của Aave có thể đã bị Valas thay đổi, nhưng nhìn chung là có thể dùng tạm để thay thế cho ABI của Valas."
   ]
  },
  {
   "cell_type": "markdown",
   "metadata": {},
   "source": [
    "## 4. Thực hành thu thập dữ liệu của Valas\n",
    "*Tại đây, mình sẽ demo một số cách lấy dữ liệu của một smart contract. Chúng ta có hai loại dữ liệu cần lấy, đó là:*\n",
    "- *Dữ liệu từ các giao dịch (transaction) của smart contract*\n",
    "- *Dữ liệu trạng thái là các thông tin từ các phần tử liên quan với smart contract (với lending pool Valas, các phần tử  này là các tokens và users).*\n",
    "\n",
    "*Việc thu thập dữ liệu sẽ dựa trên ABI của smart contract.*"
   ]
  },
  {
   "cell_type": "code",
   "execution_count": 3,
   "metadata": {},
   "outputs": [],
   "source": [
    "#lấy cấu trúc dữ liệu của abi\n",
    "with open(\"../abi/lending_pool_aave_v2.json\", \"r\") as f:\n",
    "    abi = json.loads(f.read())\n",
    "#Địa chỉ của valas  \n",
    "address = \"0xE29A55A6AEFf5C8B1beedE5bCF2F0Cb3AF8F91f5\"\n",
    "# Kiểm tra xem địa chỉ có đúng không\n",
    "if not web3.isAddress(address):\n",
    "    address = web3.toChecksumAddress(address)\n",
    "#Sử dụng web3 thiết lập đối tượng contract để sử dụng các phương thức\n",
    "contract = web3.eth.contract(abi=abi, address=address)"
   ]
  },
  {
   "cell_type": "markdown",
   "metadata": {},
   "source": [
    "> **NOTE**: Nên kiểm tra xem chuỗi byte code có phải là một địa chỉ trên blockchain hay không: **`web3.isAddress(address)`**. Nếu là địa chỉ, nên có thêm một bước convert địa chỉ thành địa chỉ thực trên web3 bằng **`web3.toChecksumAddress(address)`**. Do địa chỉ trên của mình đã là địa chỉ thực của Valas trên BSC nên hai bước này có thể bỏ qua."
   ]
  },
  {
   "cell_type": "markdown",
   "metadata": {},
   "source": [
    "### 4.1. Lấy data từ **function** của contract \n",
    "*Mình sử dụng một số hàm trong smart contract để lấy dữ liệu từ các tokens được giao dịch trong lending pool Valas. Đầu tiên sẽ lấy danh sách địa chỉ smart contract của các tokens được giao dịch. Sau đó, lấy thông tin của tokens dựa trên địa chỉ của nó. Thông tin của user được lấy tương tự như vậy (Không có hàm lấy danh sách users, vì số lượng users rất nhiều)*\n",
    "\n",
    "> **Note**: Cấu trúc các hàm này trong ABI thường sẽ có trường **`\"stateMutability\": \"view\"`** hoặc có chữ **`get`** đầu tiên của tên hàm\n",
    "\n",
    "#### 4.1.a. Lấy địa chỉ các token\n",
    "*Ta có thể tìm các hàm hỗ trợ lấy dữ liệu trong file ABI. Tại đây, mình đã sử dụng hàm getReservesList trong `abi/lending_pool_aave_v2.json`. Các bạn có thể thấy cấu trúc của nó ở hình dưới hoặc vào file ABI này tìm kiếm thử.*\n",
    "\n",
    "![image.png](../images/list_token.png)"
   ]
  },
  {
   "cell_type": "code",
   "execution_count": 4,
   "metadata": {},
   "outputs": [
    {
     "data": {
      "text/plain": [
       "['0xbb4CdB9CBd36B01bD1cBaEBF2De08d9173bc095c',\n",
       " '0xe9e7CEA3DedcA5984780Bafc599bD69ADd087D56',\n",
       " '0x8AC76a51cc950d9822D68b83fE1Ad97B32Cd580d',\n",
       " '0x55d398326f99059fF775485246999027B3197955',\n",
       " '0x1AF3F329e8BE154074D8769D1FFa4eE058B1DBc3',\n",
       " '0x0E09FaBB73Bd3Ade0a17ECC321fD13a19e81cE82',\n",
       " '0x2170Ed0880ac9A755fd29B2688956BD959F933F8',\n",
       " '0x7130d2A12B9BCbFAe4f2634d864A1Ee1Ce3Ead9c',\n",
       " '0x14016E85a25aeb13065688cAFB43044C2ef86784']"
      ]
     },
     "execution_count": 4,
     "metadata": {},
     "output_type": "execute_result"
    }
   ],
   "source": [
    "contract.functions.getReservesList().call()"
   ]
  },
  {
   "cell_type": "markdown",
   "metadata": {},
   "source": [
    ">**Note**: Hàm trên mặc định lấy dữ liệu ở block mới nhất. Ngoài ra ta có thể dữ liệu của các block trong quá khứ thông qua parameter *`block_identifier`* của hàm `call()`, các bạn có thể tham khảo tại [document](https://web3py.readthedocs.io/en/stable/contracts.html?highlight=call#web3.contract.ContractFunction.call)"
   ]
  },
  {
   "cell_type": "markdown",
   "metadata": {},
   "source": [
    "#### 4.1.b. Lấy thông tin của một token trong Valas\n",
    "*Để lấy thông tin của một token trong danh sách token được reserved trong Valas trên, mình sử dụng hàm **`getReserveData()`**. Tại đây mình cũng sẽ thử lấy dữ liệu trong block ở quá khứ (cụ thể là block cách block mới nhất 10 block), sử dụng tham số `block_identifier` của hàm `call`.*\n",
    "\n",
    "> Lưu ý là ta đang sử dụng full node provider. Full node chỉ lưu dữ liệu state của blockchain tại 128 blocks gần nhất (Đọc tìm hiểu full, archive và light node ở đầu series này đi nhé, quan trọng đấy). Vì vậy ta sẽ không thể lấy dữ liệu ở những block cách block mới nhất quá 127 block"
   ]
  },
  {
   "cell_type": "code",
   "execution_count": 5,
   "metadata": {},
   "outputs": [
    {
     "data": {
      "text/plain": [
       "((92234085768165225799488,),\n",
       " 1018569103063889283479496079,\n",
       " 1073528567882155171570675740,\n",
       " 16653618569346878212989384,\n",
       " 76949896701908869988366249,\n",
       " 10000000000000000000000000,\n",
       " 1662717379,\n",
       " '0xB11A912CD93DcffA8b609b4C021E89723ceb7FE8',\n",
       " '0x2Adc0c94A055f1FF64A35672D30Eb523ec647816',\n",
       " '0xE7CDC4e53915D50B74496847EeBa7233caE85CE5',\n",
       " '0xe4630EaE1C2b8B30F9b4AADD355522Ec9c18bfe4',\n",
       " 0)"
      ]
     },
     "execution_count": 5,
     "metadata": {},
     "output_type": "execute_result"
    }
   ],
   "source": [
    "blocknumber = web3.eth.blockNumber - 10\n",
    "contract.functions.getReserveData(\"0xbb4CdB9CBd36B01bD1cBaEBF2De08d9173bc095c\").call(block_identifier=blocknumber)"
   ]
  },
  {
   "cell_type": "markdown",
   "metadata": {},
   "source": [
    "### 4.2. Lấy data từ **event** của contract \n",
    "*Tiếp theo mình sẽ hướng dẫn các bạn crawl dữ liệu từ các giao dịch, thông qua **event** mà các contract emit ra.*\n",
    "*Không như dữ liệu về state của blockchain chỉ được lưu của 128 block đầu, full node lưu tất cả lịch sử giao dịch của smart contract trên BSC. Tại đây, mình sẽ crawl dữ liệu của deposit event được emit từ các giao dịch của Valas tại block 21031205. Hình dưới đây là cấu trúc của event này trong ABI. Các bạn có thể kiểm tra trong `abi/lending_pool_aave_v2.json`*\n",
    "\n",
    "![image.png](../images/deposit.png)"
   ]
  },
  {
   "cell_type": "code",
   "execution_count": 6,
   "metadata": {},
   "outputs": [
    {
     "data": {
      "text/plain": [
       "[{'args': {'reserve': '0x0E09FaBB73Bd3Ade0a17ECC321fD13a19e81cE82',\n",
       "   'onBehalfOf': '0x26417D19dc19a73274B4c97615b310b39017FA57',\n",
       "   'referral': 0,\n",
       "   'user': '0x26417D19dc19a73274B4c97615b310b39017FA57',\n",
       "   'amount': 1257749112692222427},\n",
       "  'event': 'Deposit',\n",
       "  'logIndex': 220,\n",
       "  'transactionIndex': 71,\n",
       "  'transactionHash': '0x0ee0f8ee33047ba977e3afd0b0995885b8d304b1aa1f1c6d307099c9ef9206e9',\n",
       "  'address': '0xE29A55A6AEFf5C8B1beedE5bCF2F0Cb3AF8F91f5',\n",
       "  'blockHash': '0x68dee16ed601595adeb352f2072879d04f288506e5dcdd44f064b4f862e6bfe4',\n",
       "  'blockNumber': 21031205}]"
      ]
     },
     "execution_count": 6,
     "metadata": {},
     "output_type": "execute_result"
    }
   ],
   "source": [
    "events = contract.events.Deposit.createFilter(fromBlock=21031205, toBlock=21031205).get_all_entries()\n",
    "event_list = []\n",
    "for event in events:\n",
    "    event_list.append(json.loads(web3.toJSON(event)))\n",
    "event_list"
   ]
  },
  {
   "cell_type": "markdown",
   "metadata": {},
   "source": [
    ">**NOTE**: Các bạn có thấy hai trường **fromBlock** và **toBlock** không? Mình có thể thay đổi hai giá trị này để  thu thập dữ liệu trong nhiều blocks nhé. Chú ý là **fromBlock** luôn nhỏ hơn **toBlock** và số  blocks tối đa có thể crawl một lần là **5000** blocks thôi. Ngoài ra có thể tham khảo trên [Web3 python docs](https://web3py.readthedocs.io/en/stable/contracts.html?highlight=createFilter#web3.contract.Contract.events.your_event_name.createFilter) để thiết lập các điều kiện lọc dữ liệu event khác theo ý thích nhé."
   ]
  },
  {
   "cell_type": "markdown",
   "metadata": {},
   "source": [
    "### 4.3. Thu thập nhiều loại dữ liệu event cùng lúc\n",
    "*Với cách trên, mọi người có thể thấy nhược điểm là mỗi lần mình chỉ có thể thu thập được một loại dữ liệu thôi. Vậy làm sao để thu thập nhiều loại dữ liệu một lúc để tránh mỗi lần thu thập lại phải quét lại những blocks đã crawl? Ta sẽ phải tự code.* \n",
    "\n",
    "*Cơ bản ta sẽ sử dụng event hash để crawl. Event hash là một chuỗi byte code được mã hóa theo chuẩn KECCAK_256 từ một chuỗi định nghĩa hàm tạo bởi cấu trúc event trong ABI (Đọc code để hiểu rõ hơn nhé - hàm **`get_topic_filter`** trong `service/utils.py`).*\n",
    "\n",
    "*Tại đây, mình cũng sẽ sẽ tách hai event là `deposit` và `borrow` trong ABI của aave tạo thành một ABI mới riêng cho hai event này tại `abi/event_abi.json`.*\n",
    "\n",
    "*Mình có xây dựng một class EthReceiptLogHandler cung cấp các functions xử lý ABI và dữ liệu event trả về. Có ba functions quan trọng mà mọi người cần chú ý đó là:* \n",
    "\n",
    "- *(1) **`build_list_info_event`** xây dựng thông tin event từ ABI. Hàm này có nhiệm vụ trả về `EventSubscriber` chứa thông tin đối sánh tên event theo event hash và thứ tự các trường dữ liệu tương ứng với dữ liệu event mà web3 trả về.*\n",
    "\n",
    "- *(2) **`web3_dict_to_receipt_log`** biến đổi dữ liệu event data trả về theo cấu trúc mà mình quy định sẵn (cài này tạo ra để mình xử lý event dễ hơn ý mà).*\n",
    "\n",
    "- *(3) **`extract_event_from_log`** đối sánh dữ liệu event trả về với `EventSubscriber` và giải mã các trường dữ liệu `topics` và `data` trong event (Muốn biến hai trường này là gì thì các bạn đọc phần tài liệu về ABI mình để ở đầu bài nhé).*\n",
    "\n",
    "- *(4) cuối cùng **`eth_event_to_dict`** chuyển đổi dữ liệu event về cấu trúc event cuối cùng (theo dictionary) lưu vào cơ sở dữ liệu (Cái này tạo ra để mình có thể lưu dữ liệu vào mongodb).*"
   ]
  },
  {
   "cell_type": "code",
   "execution_count": 7,
   "metadata": {},
   "outputs": [
    {
     "data": {
      "text/plain": [
       "[[<model.receipt_log.EventSubscriber at 0x7fa20831f8e0>,\n",
       "  '0xc6a898309e823ee50bac64e45ca8adba6690e99e7841c45d754e2a38e9019d9b',\n",
       "  ['reserve', 'user', 'onBehalfOf'],\n",
       "  'Borrow'],\n",
       " [<model.receipt_log.EventSubscriber at 0x7fa1e6b84250>,\n",
       "  '0xde6857219544bb5b7746f48ed30be6386fefc61b2f864cacf559893bf50fd951',\n",
       "  ['reserve', 'user', 'onBehalfOf'],\n",
       "  'Deposit']]"
      ]
     },
     "execution_count": 7,
     "metadata": {},
     "output_type": "execute_result"
    }
   ],
   "source": [
    "from receipt_log_handler import EthReceiptLogHandler\n",
    "\n",
    "with open(\"../abi/event_abi.json\", \"r\") as f:\n",
    "    event_abi = json.loads(f.read())\n",
    "\n",
    "handler = EthReceiptLogHandler()\n",
    "# xây dựng thông tin event từ ABI.\n",
    "event_abi_info = handler.build_list_info_event(event_abi)\n",
    "event_abi_info"
   ]
  },
  {
   "cell_type": "code",
   "execution_count": 8,
   "metadata": {},
   "outputs": [
    {
     "data": {
      "text/plain": [
       "['0xc6a898309e823ee50bac64e45ca8adba6690e99e7841c45d754e2a38e9019d9b',\n",
       " '0xde6857219544bb5b7746f48ed30be6386fefc61b2f864cacf559893bf50fd951']"
      ]
     },
     "execution_count": 8,
     "metadata": {},
     "output_type": "execute_result"
    }
   ],
   "source": [
    "# tách lấy event hash\n",
    "event_hash = [event_info[1] for event_info in event_abi_info]\n",
    "event_hash"
   ]
  },
  {
   "cell_type": "code",
   "execution_count": 9,
   "metadata": {},
   "outputs": [
    {
     "data": {
      "text/plain": [
       "{'0xc6a898309e823ee50bac64e45ca8adba6690e99e7841c45d754e2a38e9019d9b': <model.receipt_log.EventSubscriber at 0x7fa20831f8e0>,\n",
       " '0xde6857219544bb5b7746f48ed30be6386fefc61b2f864cacf559893bf50fd951': <model.receipt_log.EventSubscriber at 0x7fa1e6b84250>}"
      ]
     },
     "execution_count": 9,
     "metadata": {},
     "output_type": "execute_result"
    }
   ],
   "source": [
    "# tách lấy event subscriber\n",
    "event_subscriber = {}\n",
    "for info in event_abi_info:\n",
    "    event_subscriber[info[1]] = info[0]\n",
    "\n",
    "event_subscriber"
   ]
  },
  {
   "cell_type": "markdown",
   "metadata": {},
   "source": [
    "*Do dữ liệu event trên blockchain vô cùng lớn và nhiểu dữ liệu từ các lending pool khác nhau, mình đã tạo một filter chỉ thu thập dữ liệu của Valas. Filter này gồm 4 điều kiện là fromBlock, toBlock, topics - danh sách event hash cần lọc (event hash lưu ở topics[0] nên mình để mảng event hash làm phần tử đầu của topics - hơi khó hiểu nhỉ, mọi người sẽ hình dung rõ hơn khi nhìn vào dữ liệu thô) và address là các địa chỉ smart contract mà mình muốn lấy event.*"
   ]
  },
  {
   "cell_type": "code",
   "execution_count": 16,
   "metadata": {},
   "outputs": [
    {
     "data": {
      "text/plain": [
       "True"
      ]
     },
     "execution_count": 16,
     "metadata": {},
     "output_type": "execute_result"
    }
   ],
   "source": [
    "#create filter\n",
    "filter_params = {\n",
    "    \"fromBlock\":21043181,\n",
    "    \"toBlock\":21043646,\n",
    "    \"topics\": [event_hash],\n",
    "    \"address\":[\"0xE29A55A6AEFf5C8B1beedE5bCF2F0Cb3AF8F91f5\"]\n",
    "}\n",
    "\n",
    "# event_filter = web3.eth.filter(filter_params)\n",
    "# events = event_filter.get_all_entries()\n",
    "# event_list = []\n",
    "# for event in events:\n",
    "#     log = handler.web3_dict_to_receipt_log(event)\n",
    "#     eth_event = handler.extract_event_from_log(log, event_subscriber[log.topics[0]])\n",
    "#     if eth_event is not None:\n",
    "#         eth_event_dict = handler.eth_event_to_dict(eth_event)\n",
    "#         event_list.append(eth_event_dict)\n",
    "\n",
    "event_filter = web3.eth.filter(filter_params)\n",
    "event_logs = event_filter.get_all_entries()\n",
    "event_list = []\n",
    "for event_log in event_logs:\n",
    "    log = handler.web3_dict_to_receipt_log(event_log)\n",
    "    eth_event = handler.extract_event_from_log(log, event_subscriber[log.topics[0]])\n",
    "    if eth_event is not None:\n",
    "        eth_event_dict = handler.eth_event_to_dict(eth_event)\n",
    "        event_list.append(eth_event_dict)\n",
    "\n",
    "\n",
    "web3.eth.uninstallFilter(event_filter.filter_id)"
   ]
  },
  {
   "cell_type": "markdown",
   "metadata": {},
   "source": [
    "*Dưới đây là dữ liệu thô, trường `topics` là một mảng các phần tử nhé. Phần tử đầu tiên chính là event hash. Các phần tử còn lại sẽ là các trường dữ liệu có `index` là `true` trong cấu trúc event ở ABI.*"
   ]
  },
  {
   "cell_type": "code",
   "execution_count": 17,
   "metadata": {},
   "outputs": [
    {
     "data": {
      "text/plain": [
       "[AttributeDict({'address': '0xE29A55A6AEFf5C8B1beedE5bCF2F0Cb3AF8F91f5',\n",
       "  'topics': [HexBytes('0xde6857219544bb5b7746f48ed30be6386fefc61b2f864cacf559893bf50fd951'),\n",
       "   HexBytes('0x0000000000000000000000000e09fabb73bd3ade0a17ecc321fd13a19e81ce82'),\n",
       "   HexBytes('0x0000000000000000000000007c6defb490b8ffe9379839914b4073c35ea7468a'),\n",
       "   HexBytes('0x0000000000000000000000000000000000000000000000000000000000000000')],\n",
       "  'data': '0x0000000000000000000000007c6defb490b8ffe9379839914b4073c35ea7468a0000000000000000000000000000000000000000000000058282d58b806d99f4',\n",
       "  'blockNumber': 21043181,\n",
       "  'transactionHash': HexBytes('0x4452f763a53dad9fb3a9784a2133a4a960379685d194932155fa6a7217980ad9'),\n",
       "  'transactionIndex': 149,\n",
       "  'blockHash': HexBytes('0x52ac94f0072e20b23c7bab220d8c9e3d43185cdbc62bfec962076a2de4a51912'),\n",
       "  'logIndex': 409,\n",
       "  'removed': False}),\n",
       " AttributeDict({'address': '0xE29A55A6AEFf5C8B1beedE5bCF2F0Cb3AF8F91f5',\n",
       "  'topics': [HexBytes('0xde6857219544bb5b7746f48ed30be6386fefc61b2f864cacf559893bf50fd951'),\n",
       "   HexBytes('0x000000000000000000000000e9e7cea3dedca5984780bafc599bd69add087d56'),\n",
       "   HexBytes('0x00000000000000000000000019ec9e3f7b21dd27598e7ad5aae7dc0db00a806d'),\n",
       "   HexBytes('0x0000000000000000000000000000000000000000000000000000000000000000')],\n",
       "  'data': '0x00000000000000000000000019ec9e3f7b21dd27598e7ad5aae7dc0db00a806d00000000000000000000000000000000000000000000000de185f0414836722f',\n",
       "  'blockNumber': 21043427,\n",
       "  'transactionHash': HexBytes('0xbddb09a7f95e47bcf469b26f621cb62fa050cf1f4f0cb9678352acf815a15e89'),\n",
       "  'transactionIndex': 83,\n",
       "  'blockHash': HexBytes('0xc143586eccc0a1c83910d310460d8a9032c856407b081d4207e9be5906d2ae5a'),\n",
       "  'logIndex': 169,\n",
       "  'removed': False}),\n",
       " AttributeDict({'address': '0xE29A55A6AEFf5C8B1beedE5bCF2F0Cb3AF8F91f5',\n",
       "  'topics': [HexBytes('0xde6857219544bb5b7746f48ed30be6386fefc61b2f864cacf559893bf50fd951'),\n",
       "   HexBytes('0x0000000000000000000000000e09fabb73bd3ade0a17ecc321fd13a19e81ce82'),\n",
       "   HexBytes('0x0000000000000000000000009321d5ba18a9cad47e72ddc0a9c8f59c196644a4'),\n",
       "   HexBytes('0x0000000000000000000000000000000000000000000000000000000000000000')],\n",
       "  'data': '0x0000000000000000000000009321d5ba18a9cad47e72ddc0a9c8f59c196644a40000000000000000000000000000000000000000000000843a82386542bd7208',\n",
       "  'blockNumber': 21043541,\n",
       "  'transactionHash': HexBytes('0xe1f4c0b8c315089c719d7bb55246a76228ef7eff61f4d76ce4d62303bfb7b7f4'),\n",
       "  'transactionIndex': 59,\n",
       "  'blockHash': HexBytes('0xf5378417c7a2752e6009581f14aa200682e8141f14b455fc4e0a5f2c6d72881e'),\n",
       "  'logIndex': 145,\n",
       "  'removed': False}),\n",
       " AttributeDict({'address': '0xE29A55A6AEFf5C8B1beedE5bCF2F0Cb3AF8F91f5',\n",
       "  'topics': [HexBytes('0xc6a898309e823ee50bac64e45ca8adba6690e99e7841c45d754e2a38e9019d9b'),\n",
       "   HexBytes('0x0000000000000000000000008ac76a51cc950d9822d68b83fe1ad97b32cd580d'),\n",
       "   HexBytes('0x0000000000000000000000009321d5ba18a9cad47e72ddc0a9c8f59c196644a4'),\n",
       "   HexBytes('0x0000000000000000000000000000000000000000000000000000000000000000')],\n",
       "  'data': '0x0000000000000000000000009321d5ba18a9cad47e72ddc0a9c8f59c196644a40000000000000000000000000000000000000000000001923f0fe28d7a7c03e6000000000000000000000000000000000000000000000000000000000000000200000000000000000000000000000000000000000004ff86881fdbab1ef02543',\n",
       "  'blockNumber': 21043560,\n",
       "  'transactionHash': HexBytes('0x41c77a9f7060e4223071646e0fe27635d0588fdd0143aff16ff21f87b5eec435'),\n",
       "  'transactionIndex': 76,\n",
       "  'blockHash': HexBytes('0xd10f310f3f87819093882e9c75081e632cfdcf339bff3f981b96a49f3c055528'),\n",
       "  'logIndex': 183,\n",
       "  'removed': False}),\n",
       " AttributeDict({'address': '0xE29A55A6AEFf5C8B1beedE5bCF2F0Cb3AF8F91f5',\n",
       "  'topics': [HexBytes('0xde6857219544bb5b7746f48ed30be6386fefc61b2f864cacf559893bf50fd951'),\n",
       "   HexBytes('0x0000000000000000000000000e09fabb73bd3ade0a17ecc321fd13a19e81ce82'),\n",
       "   HexBytes('0x0000000000000000000000009321d5ba18a9cad47e72ddc0a9c8f59c196644a4'),\n",
       "   HexBytes('0x0000000000000000000000000000000000000000000000000000000000000000')],\n",
       "  'data': '0x0000000000000000000000009321d5ba18a9cad47e72ddc0a9c8f59c196644a4000000000000000000000000000000000000000000000061f06a1852b37d1e91',\n",
       "  'blockNumber': 21043593,\n",
       "  'transactionHash': HexBytes('0x694e8ae6a14cb404db237212bf064be549ca346f13b5126eded0363d6d9d38e9'),\n",
       "  'transactionIndex': 124,\n",
       "  'blockHash': HexBytes('0x8598993a043163f8e648994b2d8934d653cbf00a77e0623c98a1955d785cb1f6'),\n",
       "  'logIndex': 303,\n",
       "  'removed': False}),\n",
       " AttributeDict({'address': '0xE29A55A6AEFf5C8B1beedE5bCF2F0Cb3AF8F91f5',\n",
       "  'topics': [HexBytes('0xc6a898309e823ee50bac64e45ca8adba6690e99e7841c45d754e2a38e9019d9b'),\n",
       "   HexBytes('0x0000000000000000000000008ac76a51cc950d9822d68b83fe1ad97b32cd580d'),\n",
       "   HexBytes('0x0000000000000000000000009321d5ba18a9cad47e72ddc0a9c8f59c196644a4'),\n",
       "   HexBytes('0x0000000000000000000000000000000000000000000000000000000000000000')],\n",
       "  'data': '0x0000000000000000000000009321d5ba18a9cad47e72ddc0a9c8f59c196644a400000000000000000000000000000000000000000000005150ae84a8cdf0000000000000000000000000000000000000000000000000000000000000000000020000000000000000000000000000000000000000000501421581d033d4d54dd7',\n",
       "  'blockNumber': 21043618,\n",
       "  'transactionHash': HexBytes('0xd15a93675c17a05edfbb40b7a7fd8258f761b82b533fddb3315a778ef7e2b463'),\n",
       "  'transactionIndex': 33,\n",
       "  'blockHash': HexBytes('0x0f21a45357fb355928cfb4c25b2639d819477e0adb916b66a547dceddf7b6da2'),\n",
       "  'logIndex': 134,\n",
       "  'removed': False}),\n",
       " AttributeDict({'address': '0xE29A55A6AEFf5C8B1beedE5bCF2F0Cb3AF8F91f5',\n",
       "  'topics': [HexBytes('0xde6857219544bb5b7746f48ed30be6386fefc61b2f864cacf559893bf50fd951'),\n",
       "   HexBytes('0x0000000000000000000000000e09fabb73bd3ade0a17ecc321fd13a19e81ce82'),\n",
       "   HexBytes('0x0000000000000000000000009321d5ba18a9cad47e72ddc0a9c8f59c196644a4'),\n",
       "   HexBytes('0x0000000000000000000000000000000000000000000000000000000000000000')],\n",
       "  'data': '0x0000000000000000000000009321d5ba18a9cad47e72ddc0a9c8f59c196644a4000000000000000000000000000000000000000000000013c9265746580d33e7',\n",
       "  'blockNumber': 21043646,\n",
       "  'transactionHash': HexBytes('0x81299ecc60cbcff15f0d81d28c3e3403fa205ebb4543338122b0780725ab0868'),\n",
       "  'transactionIndex': 80,\n",
       "  'blockHash': HexBytes('0x3d4410a5f868f6bad0a8335b0ba50a0d91595a1b2bcb685782a5cfc6a8f6357e'),\n",
       "  'logIndex': 228,\n",
       "  'removed': False})]"
      ]
     },
     "execution_count": 17,
     "metadata": {},
     "output_type": "execute_result"
    }
   ],
   "source": [
    "event_logs"
   ]
  },
  {
   "cell_type": "markdown",
   "metadata": {},
   "source": [
    "*Đây là dữ liệu sau cuối cùng trả về . Quá trình giải mã dữ liệu khá phức tạp nhưng mình sẽ giải thích đơn giản như sau:*\n",
    "\n",
    "*Dựa vào cấu trúc event trong ABI, mình phân loại các trường dữ liệu theo hai loại có thuộc tính **`index`** là `true` và `false`:*\n",
    "- *Với những trường dữ liệu có **`index`** là `true`, theo thứ tự của chúng trong event ABI sẽ tương ứng là các giá trị theo thứ tự trong **`topics`** (trừ `topics[0]` là event hash nhé).* \n",
    "- *Các trường dữ liệu có **index** là `false` theo thứ tự tương ứng với mỗi 32 bytes trong **`data`***\n",
    "\n",
    "*Sau khi đã xác định vị trí các trường dữ liệu, mình dựa vào thuộc tính **`type`** của chúng trong ABI để giải mã:*\n",
    "- *Nếu **`type`** là `address` mình sẽ lấy 20 bytes cuối rồi ghép với `0x`*\n",
    "- *Còn **`type`** là `uint` mình sẽ quy đổi giá trị từ thập lục phân sang thập phân.*\n",
    "\n",
    "(Bạn nào chưa hiểu thì đọc code mình để dễ hiểu hơn nhé, hoặc đọc [document về Event Log Filter](https://web3py.readthedocs.io/en/stable/filters.html?highlight=get_transaction#event-log-filters)).\n",
    "\n",
    "*Dưới đây là dữ liệu cuối cùng thu được.*"
   ]
  },
  {
   "cell_type": "code",
   "execution_count": 18,
   "metadata": {},
   "outputs": [
    {
     "data": {
      "text/plain": [
       "[{'type': 'event',\n",
       "  'event_type': 'DEPOSIT',\n",
       "  'contract_address': '0xe29a55a6aeff5c8b1beede5bcf2f0cb3af8f91f5',\n",
       "  'transaction_hash': '0x4452f763a53dad9fb3a9784a2133a4a960379685d194932155fa6a7217980ad9',\n",
       "  'log_index': 409,\n",
       "  'block_number': 21043181,\n",
       "  'reserve': '0x0e09fabb73bd3ade0a17ecc321fd13a19e81ce82',\n",
       "  'onBehalfOf': '0x7c6defb490b8ffe9379839914b4073c35ea7468a',\n",
       "  'referral': '0',\n",
       "  'user': '0x7c6defb490b8ffe9379839914b4073c35ea7468a',\n",
       "  'amount': '101638034135582611956'},\n",
       " {'type': 'event',\n",
       "  'event_type': 'DEPOSIT',\n",
       "  'contract_address': '0xe29a55a6aeff5c8b1beede5bcf2f0cb3af8f91f5',\n",
       "  'transaction_hash': '0xbddb09a7f95e47bcf469b26f621cb62fa050cf1f4f0cb9678352acf815a15e89',\n",
       "  'log_index': 169,\n",
       "  'block_number': 21043427,\n",
       "  'reserve': '0xe9e7cea3dedca5984780bafc599bd69add087d56',\n",
       "  'onBehalfOf': '0x19ec9e3f7b21dd27598e7ad5aae7dc0db00a806d',\n",
       "  'referral': '0',\n",
       "  'user': '0x19ec9e3f7b21dd27598e7ad5aae7dc0db00a806d',\n",
       "  'amount': '256058331951835542063'},\n",
       " {'type': 'event',\n",
       "  'event_type': 'DEPOSIT',\n",
       "  'contract_address': '0xe29a55a6aeff5c8b1beede5bcf2f0cb3af8f91f5',\n",
       "  'transaction_hash': '0xe1f4c0b8c315089c719d7bb55246a76228ef7eff61f4d76ce4d62303bfb7b7f4',\n",
       "  'log_index': 145,\n",
       "  'block_number': 21043541,\n",
       "  'reserve': '0x0e09fabb73bd3ade0a17ecc321fd13a19e81ce82',\n",
       "  'onBehalfOf': '0x9321d5ba18a9cad47e72ddc0a9c8f59c196644a4',\n",
       "  'referral': '0',\n",
       "  'user': '0x9321d5ba18a9cad47e72ddc0a9c8f59c196644a4',\n",
       "  'amount': '2439186211938395582984'},\n",
       " {'type': 'event',\n",
       "  'event_type': 'BORROW',\n",
       "  'contract_address': '0xe29a55a6aeff5c8b1beede5bcf2f0cb3af8f91f5',\n",
       "  'transaction_hash': '0x41c77a9f7060e4223071646e0fe27635d0588fdd0143aff16ff21f87b5eec435',\n",
       "  'log_index': 183,\n",
       "  'block_number': 21043560,\n",
       "  'reserve': '0x8ac76a51cc950d9822d68b83fe1ad97b32cd580d',\n",
       "  'onBehalfOf': '0x9321d5ba18a9cad47e72ddc0a9c8f59c196644a4',\n",
       "  'referral': '0',\n",
       "  'user': '0x9321d5ba18a9cad47e72ddc0a9c8f59c196644a4',\n",
       "  'amount': '7420135217277553083366',\n",
       "  'borrowRateMode': '2',\n",
       "  'borrowRate': '6042388404096194749408579'},\n",
       " {'type': 'event',\n",
       "  'event_type': 'DEPOSIT',\n",
       "  'contract_address': '0xe29a55a6aeff5c8b1beede5bcf2f0cb3af8f91f5',\n",
       "  'transaction_hash': '0x694e8ae6a14cb404db237212bf064be549ca346f13b5126eded0363d6d9d38e9',\n",
       "  'log_index': 303,\n",
       "  'block_number': 21043593,\n",
       "  'reserve': '0x0e09fabb73bd3ade0a17ecc321fd13a19e81ce82',\n",
       "  'onBehalfOf': '0x9321d5ba18a9cad47e72ddc0a9c8f59c196644a4',\n",
       "  'referral': '0',\n",
       "  'user': '0x9321d5ba18a9cad47e72ddc0a9c8f59c196644a4',\n",
       "  'amount': '1806657860809938247313'},\n",
       " {'type': 'event',\n",
       "  'event_type': 'BORROW',\n",
       "  'contract_address': '0xe29a55a6aeff5c8b1beede5bcf2f0cb3af8f91f5',\n",
       "  'transaction_hash': '0xd15a93675c17a05edfbb40b7a7fd8258f761b82b533fddb3315a778ef7e2b463',\n",
       "  'log_index': 134,\n",
       "  'block_number': 21043618,\n",
       "  'reserve': '0x8ac76a51cc950d9822d68b83fe1ad97b32cd580d',\n",
       "  'onBehalfOf': '0x9321d5ba18a9cad47e72ddc0a9c8f59c196644a4',\n",
       "  'referral': '0',\n",
       "  'user': '0x9321d5ba18a9cad47e72ddc0a9c8f59c196644a4',\n",
       "  'amount': '1500000000000000000000',\n",
       "  'borrowRateMode': '2',\n",
       "  'borrowRate': '6050570499413548173970903'},\n",
       " {'type': 'event',\n",
       "  'event_type': 'DEPOSIT',\n",
       "  'contract_address': '0xe29a55a6aeff5c8b1beede5bcf2f0cb3af8f91f5',\n",
       "  'transaction_hash': '0x81299ecc60cbcff15f0d81d28c3e3403fa205ebb4543338122b0780725ab0868',\n",
       "  'log_index': 228,\n",
       "  'block_number': 21043646,\n",
       "  'reserve': '0x0e09fabb73bd3ade0a17ecc321fd13a19e81ce82',\n",
       "  'onBehalfOf': '0x9321d5ba18a9cad47e72ddc0a9c8f59c196644a4',\n",
       "  'referral': '0',\n",
       "  'user': '0x9321d5ba18a9cad47e72ddc0a9c8f59c196644a4',\n",
       "  'amount': '364982505810856588263'}]"
      ]
     },
     "execution_count": 18,
     "metadata": {},
     "output_type": "execute_result"
    }
   ],
   "source": [
    "event_list"
   ]
  },
  {
   "cell_type": "markdown",
   "metadata": {},
   "source": [
    "#### Thu thập transaction sinh ra deposit event\n",
    "*Mọi người có thể thấy trong dữ liệu block và dữ liệu event đều có một trường `transaction_hash`. Dựa vào nó ta có thể thu thập dữ liệu transaction mình mong muốn. Dưới đây là dữ liệu từ transaction hash của deposit event của block 21031205.*"
   ]
  },
  {
   "cell_type": "code",
   "execution_count": 13,
   "metadata": {},
   "outputs": [
    {
     "data": {
      "text/plain": [
       "AttributeDict({'blockHash': HexBytes('0x68dee16ed601595adeb352f2072879d04f288506e5dcdd44f064b4f862e6bfe4'),\n",
       " 'blockNumber': 21031205,\n",
       " 'from': '0x26417D19dc19a73274B4c97615b310b39017FA57',\n",
       " 'gas': 752442,\n",
       " 'gasPrice': 5000000000,\n",
       " 'hash': HexBytes('0x0ee0f8ee33047ba977e3afd0b0995885b8d304b1aa1f1c6d307099c9ef9206e9'),\n",
       " 'input': '0xe8eda9df0000000000000000000000000e09fabb73bd3ade0a17ecc321fd13a19e81ce8200000000000000000000000000000000000000000000000011746c27769529db00000000000000000000000026417d19dc19a73274b4c97615b310b39017fa570000000000000000000000000000000000000000000000000000000000000000',\n",
       " 'nonce': 476,\n",
       " 'to': '0xE29A55A6AEFf5C8B1beedE5bCF2F0Cb3AF8F91f5',\n",
       " 'transactionIndex': 71,\n",
       " 'value': 0,\n",
       " 'type': '0x0',\n",
       " 'v': 148,\n",
       " 'r': HexBytes('0xedf56947061ff71ad62dfded9fb7ba19fc271d6f52d8df2a207d405ca473da87'),\n",
       " 's': HexBytes('0x34ce34ec26f2a48cc85ba8a759333dd59b6d106597c32039ddc2e9aa942773c8')})"
      ]
     },
     "execution_count": 13,
     "metadata": {},
     "output_type": "execute_result"
    }
   ],
   "source": [
    "web3.eth.get_transaction(\"0x0ee0f8ee33047ba977e3afd0b0995885b8d304b1aa1f1c6d307099c9ef9206e9\")"
   ]
  },
  {
   "cell_type": "markdown",
   "metadata": {},
   "source": [
    "> Note: Đến đây mọi người có thể thắc mắc là thế với một list các transaction hash thì sao? Rất tiếc hiện tại mình chưa thấy hàm nào của web3 py hỗ trợ hoặc có thể do mình tìm chưa kỹ. Tuy nhiên ta có thể cải tiến quá trình bằng cách lấy dữ liệu theo lô (batch) với đa luồng (multi-processing). Kiến thức này hơi nâng cao, mình sẽ hướng dẫn ở một bài thực hành khác phức tạp hơn."
   ]
  },
  {
   "cell_type": "markdown",
   "metadata": {},
   "source": [
    "## Xây dựng thu thập dữ liệu một luồng liên tục\n",
    "*Phần này bonus cho mọi người. Mọi người có thể đọc tiếp hoặc bỏ qua. Nói chung, nó chỉ tổng hợp lại những kiến thức ở trên để xây dựng một con crawler thu thập dữ liệu event liên tục.*"
   ]
  },
  {
   "cell_type": "code",
   "execution_count": 14,
   "metadata": {},
   "outputs": [],
   "source": [
    "from receipt_log_handler import EthReceiptLogHandler\n",
    "\n",
    "def craw_events(\n",
    "    web3, \n",
    "    from_block=0, \n",
    "    to_block=None, \n",
    "    event_abi_file=\"../abi/event_abi.json\", \n",
    "    contract_addresses=[\"0xE29A55A6AEFf5C8B1beedE5bCF2F0Cb3AF8F91f5\"],\n",
    "    block_size=100,\n",
    "    stop = False\n",
    "):\n",
    "    latest_block = web3.eth.blockNumber\n",
    "    if to_block and to_block > latest_block:\n",
    "        to_block=latest_block\n",
    "        print(f\"To_block > latest_block, set to_block = {latest_block}\")\n",
    "    with open(event_abi_file, \"r\") as f:\n",
    "        event_abi = json.loads(f.read())\n",
    "\n",
    "    handler = EthReceiptLogHandler()\n",
    "    # xây dựng thông tin event từ ABI.\n",
    "    event_abi_info = handler.build_list_info_event(event_abi)\n",
    "    # lấy event hash\n",
    "    event_hash = [event_info[1] for event_info in event_abi_info]\n",
    "    # tách lấy event subscriber\n",
    "    event_subscriber = {}\n",
    "    for info in event_abi_info:\n",
    "        event_subscriber[info[1]] = info[0]\n",
    "    \n",
    "    if not to_block:\n",
    "        to_block = web3.eth.blockNumber\n",
    "    \n",
    "    _from = from_block\n",
    "    _to = from_block + block_size\n",
    "    \n",
    "    while True:\n",
    "        if _to > to_block:\n",
    "            _to = to_block\n",
    "                \n",
    "        print(f\"Start crawling data from {_from} to {_to}\")\n",
    "        #create filter\n",
    "        filter_params = {\n",
    "            \"fromBlock\":_from,\n",
    "            \"toBlock\":_to,\n",
    "            \"topics\": [event_hash],\n",
    "            \"address\":contract_addresses\n",
    "        }\n",
    "\n",
    "        event_filter = web3.eth.filter(filter_params)\n",
    "        events = event_filter.get_all_entries()\n",
    "        event_list = []\n",
    "        for event in events:\n",
    "            log = handler.web3_dict_to_receipt_log(event)\n",
    "            eth_event = handler.extract_event_from_log(log, event_subscriber[log.topics[0]])\n",
    "            if eth_event is not None:\n",
    "                eth_event_dict = handler.eth_event_to_dict(eth_event)\n",
    "                print(\"Event data:\\n\", eth_event_dict)\n",
    "\n",
    "        web3.eth.uninstallFilter(event_filter.filter_id)\n",
    "        if _to == to_block:\n",
    "            if stop:\n",
    "                print(\"Stop crawling data...\")\n",
    "                break\n",
    "            else:\n",
    "                to_block = web3.eth.blockNumber\n",
    "                print(f\"Get latest block {to_block}\")\n",
    "        \n",
    "        \n",
    "        _from = _to\n",
    "        _to += block_size"
   ]
  },
  {
   "cell_type": "markdown",
   "metadata": {},
   "source": [
    "*Mọi người có thể đặt biến `stop = False` để cho chạy liên tục. Có thể sửa hàm để xuất dữ liệu ra file*"
   ]
  },
  {
   "cell_type": "code",
   "execution_count": 15,
   "metadata": {},
   "outputs": [
    {
     "name": "stdout",
     "output_type": "stream",
     "text": [
      "Start crawling data from 21042695 to 21042795\n",
      "Start crawling data from 21042795 to 21042895\n",
      "Start crawling data from 21042895 to 21042995\n",
      "Event data:\n",
      " {'type': 'event', 'event_type': 'DEPOSIT', 'contract_address': '0xe29a55a6aeff5c8b1beede5bcf2f0cb3af8f91f5', 'transaction_hash': '0x9d7f541831a499d00815147057d593cb4894cb3c74cd1c267714378dd808fe96', 'log_index': 148, 'block_number': 21042985, 'reserve': '0x8ac76a51cc950d9822d68b83fe1ad97b32cd580d', 'onBehalfOf': '0x19ec9e3f7b21dd27598e7ad5aae7dc0db00a806d', 'referral': '0', 'user': '0x19ec9e3f7b21dd27598e7ad5aae7dc0db00a806d', 'amount': '1736000000000000000000'}\n",
      "Start crawling data from 21042995 to 21043095\n",
      "Start crawling data from 21043095 to 21043195\n",
      "Event data:\n",
      " {'type': 'event', 'event_type': 'DEPOSIT', 'contract_address': '0xe29a55a6aeff5c8b1beede5bcf2f0cb3af8f91f5', 'transaction_hash': '0x4452f763a53dad9fb3a9784a2133a4a960379685d194932155fa6a7217980ad9', 'log_index': 409, 'block_number': 21043181, 'reserve': '0x0e09fabb73bd3ade0a17ecc321fd13a19e81ce82', 'onBehalfOf': '0x7c6defb490b8ffe9379839914b4073c35ea7468a', 'referral': '0', 'user': '0x7c6defb490b8ffe9379839914b4073c35ea7468a', 'amount': '101638034135582611956'}\n",
      "Start crawling data from 21043195 to 21043295\n",
      "Start crawling data from 21043295 to 21043395\n",
      "Start crawling data from 21043395 to 21043495\n",
      "Event data:\n",
      " {'type': 'event', 'event_type': 'DEPOSIT', 'contract_address': '0xe29a55a6aeff5c8b1beede5bcf2f0cb3af8f91f5', 'transaction_hash': '0xbddb09a7f95e47bcf469b26f621cb62fa050cf1f4f0cb9678352acf815a15e89', 'log_index': 169, 'block_number': 21043427, 'reserve': '0xe9e7cea3dedca5984780bafc599bd69add087d56', 'onBehalfOf': '0x19ec9e3f7b21dd27598e7ad5aae7dc0db00a806d', 'referral': '0', 'user': '0x19ec9e3f7b21dd27598e7ad5aae7dc0db00a806d', 'amount': '256058331951835542063'}\n",
      "Start crawling data from 21043495 to 21043595\n",
      "Event data:\n",
      " {'type': 'event', 'event_type': 'DEPOSIT', 'contract_address': '0xe29a55a6aeff5c8b1beede5bcf2f0cb3af8f91f5', 'transaction_hash': '0xe1f4c0b8c315089c719d7bb55246a76228ef7eff61f4d76ce4d62303bfb7b7f4', 'log_index': 145, 'block_number': 21043541, 'reserve': '0x0e09fabb73bd3ade0a17ecc321fd13a19e81ce82', 'onBehalfOf': '0x9321d5ba18a9cad47e72ddc0a9c8f59c196644a4', 'referral': '0', 'user': '0x9321d5ba18a9cad47e72ddc0a9c8f59c196644a4', 'amount': '2439186211938395582984'}\n",
      "Event data:\n",
      " {'type': 'event', 'event_type': 'BORROW', 'contract_address': '0xe29a55a6aeff5c8b1beede5bcf2f0cb3af8f91f5', 'transaction_hash': '0x41c77a9f7060e4223071646e0fe27635d0588fdd0143aff16ff21f87b5eec435', 'log_index': 183, 'block_number': 21043560, 'reserve': '0x8ac76a51cc950d9822d68b83fe1ad97b32cd580d', 'onBehalfOf': '0x9321d5ba18a9cad47e72ddc0a9c8f59c196644a4', 'referral': '0', 'user': '0x9321d5ba18a9cad47e72ddc0a9c8f59c196644a4', 'amount': '7420135217277553083366', 'borrowRateMode': '2', 'borrowRate': '6042388404096194749408579'}\n",
      "Event data:\n",
      " {'type': 'event', 'event_type': 'DEPOSIT', 'contract_address': '0xe29a55a6aeff5c8b1beede5bcf2f0cb3af8f91f5', 'transaction_hash': '0x694e8ae6a14cb404db237212bf064be549ca346f13b5126eded0363d6d9d38e9', 'log_index': 303, 'block_number': 21043593, 'reserve': '0x0e09fabb73bd3ade0a17ecc321fd13a19e81ce82', 'onBehalfOf': '0x9321d5ba18a9cad47e72ddc0a9c8f59c196644a4', 'referral': '0', 'user': '0x9321d5ba18a9cad47e72ddc0a9c8f59c196644a4', 'amount': '1806657860809938247313'}\n",
      "Start crawling data from 21043595 to 21043695\n",
      "Event data:\n",
      " {'type': 'event', 'event_type': 'BORROW', 'contract_address': '0xe29a55a6aeff5c8b1beede5bcf2f0cb3af8f91f5', 'transaction_hash': '0xd15a93675c17a05edfbb40b7a7fd8258f761b82b533fddb3315a778ef7e2b463', 'log_index': 134, 'block_number': 21043618, 'reserve': '0x8ac76a51cc950d9822d68b83fe1ad97b32cd580d', 'onBehalfOf': '0x9321d5ba18a9cad47e72ddc0a9c8f59c196644a4', 'referral': '0', 'user': '0x9321d5ba18a9cad47e72ddc0a9c8f59c196644a4', 'amount': '1500000000000000000000', 'borrowRateMode': '2', 'borrowRate': '6050570499413548173970903'}\n",
      "Event data:\n",
      " {'type': 'event', 'event_type': 'DEPOSIT', 'contract_address': '0xe29a55a6aeff5c8b1beede5bcf2f0cb3af8f91f5', 'transaction_hash': '0x81299ecc60cbcff15f0d81d28c3e3403fa205ebb4543338122b0780725ab0868', 'log_index': 228, 'block_number': 21043646, 'reserve': '0x0e09fabb73bd3ade0a17ecc321fd13a19e81ce82', 'onBehalfOf': '0x9321d5ba18a9cad47e72ddc0a9c8f59c196644a4', 'referral': '0', 'user': '0x9321d5ba18a9cad47e72ddc0a9c8f59c196644a4', 'amount': '364982505810856588263'}\n",
      "Stop crawling data...\n"
     ]
    }
   ],
   "source": [
    "craw_events(\n",
    "    web3, \n",
    "    from_block=21042695, \n",
    "    to_block=21043695,\n",
    "    event_abi_file=\"../abi/event_abi.json\", \n",
    "    contract_addresses=[\"0xE29A55A6AEFf5C8B1beedE5bCF2F0Cb3AF8F91f5\"],\n",
    "    block_size=100,\n",
    "    stop = True\n",
    ")"
   ]
  },
  {
   "cell_type": "markdown",
   "metadata": {},
   "source": [
    "# BTVN\n",
    "\n",
    "Chú ý: Tất cả dữ liệu crawl được lưu vào file json, theo format trong thư mục ```btvn_examples```\n",
    "\n",
    "## Chung\n",
    "1. Tính số transaction trung bình mỗi block của 100 blocks mới nhất.\n",
    "2. Cho địa chỉ token `0x7083609fCE4d1d8Dc0C979AAb8c869Ea2C873402`, dựa vào địa chỉ token và ERC_20 abi trong `abi/erc_20.json` thực hiện các nhiệm vụ sau:<br>\n",
    "    a. Thu thập Transfer event của token đó trong 1000 blocks gần nhất. <br>\n",
    "    b. Tìm decimals của token.<br>\n",
    "    c. Tính lượng cung (supply) của token đó. <br>\n",
    "    d. Tính số dư (balance) token mới nhất của một địa chỉ ví thực hiện nhiều Transfer event nhất trong tập dữ liệu Transfer event đã crawl (gợi ý: địa chỉ này nằm trong trường `_from` của event). <br>\n",
    "    e. Tính số dư token mới nhất trong địa chỉ ví là địa chỉ ví nhận trong nhiều Transfer event nhất trong tập dữ liệu Transfer event đã crawl (gợi ý: địa chỉ này nằm trong trường `_to` của event). <br>\n",
    "    f. Tìm ký hiệu (symbol) và tên (name) của token.\n",
    "\n",
    "Chú ý: Ngoài thông tin trả lời, cần ghi rõ lại start - end block mà mình thu thập dữ liệu, địa chỉ token và ví thu thập. Các giá trị lượng cung và số dư phải chia cho decimals của token.\n",
    "\n",
    "## AAVE Team\n",
    "Làm lại các bước trong bài thực hành trên với [Geist protocol](https://docs.geist.finance/useful-info/deployments-addresses) là một lending pool tương tự như Valas trên mạng Fantom. Ngoài ra, thực hiện thêm một số bước sau. (Đọc chú ý phía dưới trước khi làm)\n",
    "1. Crawl dữ liệu event theo 5 loại: Deposit, Borrow, Withdraw, Repay và Liquidate trong 100.000 blocks gần nhất.\n",
    "2. Crawl dữ liệu transaction của những event đã crawl. \n",
    "3. Lấy thông tin địa chỉ token được thực hiện giao dịch Deposit và Borrow nhiều nhất (gợi ý: địa chỉ token nằm trong trường `reserve` trong event, nếu số event của các token bằng nhau thì lấy token bất kỳ)\n",
    "4. Lấy thông tin địa chỉ thực hiện transaction nhiều nhất trong lending pool (gợi ý: địa chỉ ví nằm trong trường `from` của dữ liệu transaction, nếu số transaction của các địa chỉ bằng nhau thì lấy địa chỉ bất kỳ).\n",
    "5. Dựa vào địa chỉ Oracle ([Aave oracle](https://docs.geist.finance/useful-info/deployments-addresses)) và `abi/oracle_abi.json` tìm giá (asset price) của token ở câu 3.\n",
    "\n",
    "Chú ý: Các hàm lấy dữ liệu đã có trong `abi/lending_pool_aave_v2.json`. Dựa vào cấu trúc dữ liệu trả về trong abi, chỉ ra ý nghĩa của từng trường dữ liệu crawl về trong câu 3,4.\n",
    "\n",
    "## Uniswap Team\n",
    "Dựa vào masterchef V2 [address](https://docs.pancakeswap.finance/code/smart-contracts/main-staking-masterchef-contract), `abi/masterchef_abi.json` và pid = 3 của pancakeswap (tương tự như uniswap) trên bsc. Thực hiện các nhiệm vụ sau. (Đọc chú ý trước khi làm)\n",
    "\n",
    "1. Lâý thông tin của lp_token từ id (gợi ý: một lp_token cũng tương tự như một pool, vậy nên lấy thông tin lp_token có thể thay bằng lấy thông tin của pool).\n",
    "2. Tìm địa chỉ lp_token.\n",
    "3. Dựa vào `abi/lp_token_abi.json` và địa chỉ lp_token tìm được lấy địa chỉ cặp swap và thông tin về reserves của cặp swap, từ địa chỉ lp_token và abi `abi/lp_token_abi.json`.\n",
    "4. Crawl dữ liệu event Swap, Approval, Burn, Mint và Transfer của lp_token trong 1000 blocks gần nhất với ABI `abi/lp_token_abi.json`.\n",
    "5. Crawl dữ liệu transaction tương ứng với dữ liệu events.\n",
    "6. Tìm user giao dịch nhiều nhất (gợi ý: địa chỉ user là trường `from` trong transaction)\n",
    "7. Tìm thông tin của user ở câu 6 dựa trên địa chỉ masterchef và abi `abi/masterchef_abi.json`.\n",
    "\n",
    "Chú ý: Dựa vào cấu trúc dữ liệu trả về trong abi, chỉ ra ý nghĩa của từng trường dữ liệu crawl về trong câu 1,7."
   ]
  }
 ],
 "metadata": {
  "kernelspec": {
   "display_name": "venv",
   "language": "python",
   "name": "venv"
  },
  "language_info": {
   "codemirror_mode": {
    "name": "ipython",
    "version": 3
   },
   "file_extension": ".py",
   "mimetype": "text/x-python",
   "name": "python",
   "nbconvert_exporter": "python",
   "pygments_lexer": "ipython3",
   "version": "3.9.2"
  }
 },
 "nbformat": 4,
 "nbformat_minor": 4
}
